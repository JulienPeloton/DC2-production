{
 "cells": [
  {
   "cell_type": "markdown",
   "metadata": {},
   "source": [
    "# Performance Tests of Apache Spark-Based DC2 Run 1.1 Object Catalog Access\n",
    "Author: **Julien Peloton [@JulienPeloton](https://github.com/JulienPeloton)**  \n",
    "Last Run: **2018-10-17**  \n",
    "See also: [issue/249](https://github.com/LSSTDESC/DC2-production/issues/249)\n",
    "\n",
    "Introduce Apache Spark and test performance of data manipulations of the static coadd catalogs.\n"
   ]
  },
  {
   "cell_type": "markdown",
   "metadata": {},
   "source": [
    "## Before starting...\n",
    "\n",
    "**What is Apache Spark?**\n",
    "\n",
    "I'm glad you asked! [Apache Spark](http://spark.apache.org/) is a cluster computing framework, that is a set of tools to perform computation on a network of many machines. Spark started in 2009 as a research project, and it had a huge success so far in the industry. It is based on the so-called MapReduce cluster computing paradigm, popularized by the Hadoop framework using implicit data parallelism and fault tolerance. \n",
    "\n",
    "**Where to find information on running Spark at NERSC?**\n",
    "\n",
    "Most of what you need for interactive and batch jobs is at [spark-distributed-analytic-framework](https://www.nersc.gov/users/data-analytics/data-analytics-2/spark-distributed-analytic-framework/).\n",
    "\n",
    "For JupyterLab use, see below.\n",
    "\n",
    "**Where this Notebook is intended to be run?**\n",
    "\n",
    "These tests were conducted on NERSC through the https://jupyter-dev.nersc.gov interface.\n",
    "\n",
    "**What is needed to run this Notebook at NERSC?**\n",
    "\n",
    "1. You need an account at NERSC, and access to the DESC allocation.\n",
    "\n",
    "2. This Notebook requires a pyspark kernel. The easiest way to get one, \n",
    "is to generate one using the [spark-kernel-nersc](https://github.com/astrolabsoftware/spark-kernel-nersc) repository. \n",
    "The simplest kernel to play with this Notebook would be generated using:\n",
    "\n",
    "```bash\n",
    "# Clone the repo\n",
    "git clone https://github.com/astrolabsoftware/spark-kernel-nersc.git\n",
    "cd spark-kernel-nersc\n",
    "\n",
    "# Where the Spark logs will be stored\n",
    "# Logs can be then be browsed from the Spark UI\n",
    "LOGDIR=${SCRATCH}/spark/event_logs\n",
    "mkdir -p ${LOGDIR}\n",
    "\n",
    "# Resource to use. Here we will use 4 CPUs.\n",
    "RESOURCE=local[4]\n",
    "\n",
    "# Extra libraries (comma separated if many) to use.\n",
    "SPARKFITS=com.github.astrolabsoftware:spark-fits_2.11:0.7.0\n",
    "\n",
    "# Create the kernel - will be stored under\n",
    "# \\$HOME/.ipython/kernels/<kernelname>\n",
    "python makekernel.py \\\n",
    "  -kernelname pyspark_2.3.0 -spark_version 2.3.0 \\ \n",
    "  -pyspark_args \"--master ${RESOURCE} \n",
    "  --conf spark.eventLog.enabled=true \n",
    "  --conf spark.eventLog.dir=file://${LOGDIR} \n",
    "  --conf spark.history.fs.logDirectory=file://${LOGDIR} \n",
    "  --packages ${SPARKFITS}\"\n",
    "```\n",
    "\n",
    "Finally log on https://jupyter-dev.nersc.gov, open this Notebook and choose the kernel you just created.\n",
    "If you encounter problem with this kernel (I do have sometimes problems after NERSC updates), switch to another one. Two possibilities:\n",
    "\n",
    "- Choose another shifter image containing Spark.\n",
    "- Choose a Spark version not using Shifter: `python makekernel.py -kernelname pyspark_2.1.0 -spark_version 2.1.0 ...`\n",
    "\n",
    "**Where is the data used in this Notebook?**\n",
    "\n",
    "Data used can be found at \n",
    "\n",
    "```\n",
    "/global/projecta/projectdirs/lsst/global/in2p3/Run1.1/summary/\n",
    "```\n",
    "\n",
    "Apache Spark can read a large number of data formats (Parquet, Avro, text) but officially neither FITS nor HDF5 are supported. We developed a solution for FITS files ([spark-fits](https://github.com/astrolabsoftware/spark-fits), Scala/Java/Python/R API), but as far as I know there is no Python-friendly connector for HDF5. Therefore we will focus only on Parquet and FITS in this Notebook.\n",
    "\n",
    "**Note concerning resources**\n",
    "\n",
    "```\n",
    "The large-memory login node used by https://jupyter-dev.nersc.gov/\n",
    "is a shared resource, so please be careful not to use too many CPUs\n",
    "or too much memory.\n",
    "\n",
    "That means avoid using `--master local[*]` in your kernel, but limit\n",
    "the resources to a few core. Typically `--master local[4]` is enough for\n",
    "prototyping a program.\n",
    "\n",
    "Then to scale the analysis, the best is to switch to batch mode! \n",
    "Here, no limit!\n",
    "```"
   ]
  },
  {
   "cell_type": "markdown",
   "metadata": {},
   "source": [
    "## Loading the data\n",
    "\n",
    "We will follow what is done on the Dask Notebook (put link).\n",
    "We will first focus on one `patch` (4850) with all `tracts`.\n",
    "\n",
    "### Disclaimer\n",
    "\n",
    "Apache Spark, is meant to be primarily used in a context of _big data_.\n",
    "One of its strength is its scalability, namely its capability of using the same\n",
    "piece of code regardless the underlying data volume. The performance of the code will\n",
    "then only depend on the resource used. \n",
    "E.g. for tasks without communications, execution time will be linear with data or resource.\n",
    "\n",
    "Keep in mind:\n",
    "- For small volume of data (< 10 GB), you will hit Spark noise and burning time.\n",
    "- Spark is written in Scala, which is certainly not as specialised as C++ could be. Therefore for small volume of data, there is a chance an algorithm in Scala (Spark) would be slower than its C++ counterpart. But the Spark one is meant to run on TB of data _as it was written_ for MB of data - which is probably not the case for the C++.\n",
    "- Once the data loaded, you can decide to keep it in memory (distributed among the executors). The next iterations will then go super fast (typically disk I/O throughput is o(100) MB/s while RAM is o(10) GB/s).\n",
    "\n",
    "So in this example, the one patch test is likely to lessen Spark performance (volume is just few GB here), and these tests must also be ran on hundreds of GB of data."
   ]
  },
  {
   "cell_type": "code",
   "execution_count": 1,
   "metadata": {},
   "outputs": [
    {
     "name": "stdout",
     "output_type": "stream",
     "text": [
      "Data will be read from: \n",
      " /global/projecta/projectdirs/lsst/global/in2p3/Run1.1/summary/dpdd_object.parquet\n"
     ]
    }
   ],
   "source": [
    "import os\n",
    "\n",
    "base_dir = '/global/projecta/projectdirs/lsst/global/in2p3/Run1.1/summary'\n",
    "\n",
    "# Load one patch, all tracts\n",
    "datafile = os.path.join(base_dir, 'dpdd_object.parquet')\n",
    "print(\"Data will be read from: \\n\", datafile)"
   ]
  },
  {
   "cell_type": "markdown",
   "metadata": {},
   "source": [
    "## Loading data into a DataFrame\n",
    "\n",
    "Let's initialise Spark and load the data into a DataFrame. We will first focus on the `parquet` data format."
   ]
  },
  {
   "cell_type": "code",
   "execution_count": 2,
   "metadata": {},
   "outputs": [
    {
     "name": "stdout",
     "output_type": "stream",
     "text": [
      "root\n",
      " |-- magerr_i: double (nullable = true)\n",
      " |-- psFlux_i: double (nullable = true)\n",
      " |-- Ixx_r: double (nullable = true)\n",
      " |-- mag_i_cModel: double (nullable = true)\n",
      " |-- IxxPSF_u: double (nullable = true)\n",
      " |-- magerr_r: double (nullable = true)\n",
      " |-- psf_fwhm_i: double (nullable = true)\n",
      " |-- psf_fwhm_r: double (nullable = true)\n",
      " |-- Ixx: double (nullable = true)\n",
      " |-- magerr_g_cModel: double (nullable = true)\n",
      " |-- I_flag_y: boolean (nullable = true)\n",
      " |-- Iyy_z: double (nullable = true)\n",
      " |-- IxyPSF_i: double (nullable = true)\n",
      " |-- Ixx_z: double (nullable = true)\n",
      " |-- magerr_u_cModel: double (nullable = true)\n",
      " |-- IxyPSF: double (nullable = true)\n",
      " |-- snr_u_cModel: double (nullable = true)\n",
      " |-- IxxPSF_y: double (nullable = true)\n",
      " |-- psFlux_flag_i: boolean (nullable = true)\n",
      " |-- IyyPSF_g: double (nullable = true)\n",
      " |-- Ixy: double (nullable = true)\n",
      " |-- magerr_y: double (nullable = true)\n",
      " |-- psFlux_g: double (nullable = true)\n",
      " |-- snr_y_cModel: double (nullable = true)\n",
      " |-- Ixy_z: double (nullable = true)\n",
      " |-- psFlux_flag_r: boolean (nullable = true)\n",
      " |-- Iyy_g: double (nullable = true)\n",
      " |-- psFluxErr_r: double (nullable = true)\n",
      " |-- Ixx_i: double (nullable = true)\n",
      " |-- snr_z_cModel: double (nullable = true)\n",
      " |-- psf_fwhm_g: double (nullable = true)\n",
      " |-- Ixx_y: double (nullable = true)\n",
      " |-- I_flag: boolean (nullable = true)\n",
      " |-- magerr_z: double (nullable = true)\n",
      " |-- I_flag_i: boolean (nullable = true)\n",
      " |-- IyyPSF_i: double (nullable = true)\n",
      " |-- yErr: float (nullable = true)\n",
      " |-- magerr_r_cModel: double (nullable = true)\n",
      " |-- magerr_i_cModel: double (nullable = true)\n",
      " |-- clean: boolean (nullable = true)\n",
      " |-- IxyPSF_y: double (nullable = true)\n",
      " |-- mag_g: double (nullable = true)\n",
      " |-- mag_r: double (nullable = true)\n",
      " |-- psf_fwhm_y: double (nullable = true)\n",
      " |-- IxyPSF_g: double (nullable = true)\n",
      " |-- ra: double (nullable = true)\n",
      " |-- extendedness: double (nullable = true)\n",
      " |-- IxxPSF: double (nullable = true)\n",
      " |-- x: double (nullable = true)\n",
      " |-- Ixx_u: double (nullable = true)\n",
      " |-- mag_g_cModel: double (nullable = true)\n",
      " |-- psFluxErr_u: double (nullable = true)\n",
      " |-- I_flag_r: boolean (nullable = true)\n",
      " |-- IyyPSF_r: double (nullable = true)\n",
      " |-- psFluxErr_y: double (nullable = true)\n",
      " |-- psNdata: float (nullable = true)\n",
      " |-- psFlux_y: double (nullable = true)\n",
      " |-- psFlux_u: double (nullable = true)\n",
      " |-- Iyy: double (nullable = true)\n",
      " |-- IxxPSF_r: double (nullable = true)\n",
      " |-- mag_u: double (nullable = true)\n",
      " |-- dec: double (nullable = true)\n",
      " |-- IxyPSF_z: double (nullable = true)\n",
      " |-- mag_y: double (nullable = true)\n",
      " |-- Ixx_g: double (nullable = true)\n",
      " |-- Ixy_y: double (nullable = true)\n",
      " |-- IxxPSF_i: double (nullable = true)\n",
      " |-- blendedness: double (nullable = true)\n",
      " |-- Iyy_y: double (nullable = true)\n",
      " |-- IxxPSF_g: double (nullable = true)\n",
      " |-- psFlux_flag_u: boolean (nullable = true)\n",
      " |-- psFluxErr_g: double (nullable = true)\n",
      " |-- Iyy_r: double (nullable = true)\n",
      " |-- magerr_u: double (nullable = true)\n",
      " |-- I_flag_g: boolean (nullable = true)\n",
      " |-- snr_i_cModel: double (nullable = true)\n",
      " |-- psFluxErr_i: double (nullable = true)\n",
      " |-- IxxPSF_z: double (nullable = true)\n",
      " |-- IyyPSF_y: double (nullable = true)\n",
      " |-- I_flag_z: boolean (nullable = true)\n",
      " |-- snr_r_cModel: double (nullable = true)\n",
      " |-- Ixy_g: double (nullable = true)\n",
      " |-- mag_z: double (nullable = true)\n",
      " |-- IyyPSF_z: double (nullable = true)\n",
      " |-- psFlux_r: double (nullable = true)\n",
      " |-- IxyPSF_r: double (nullable = true)\n",
      " |-- psFlux_flag_g: boolean (nullable = true)\n",
      " |-- Iyy_u: double (nullable = true)\n",
      " |-- psf_fwhm_u: double (nullable = true)\n",
      " |-- objectId: long (nullable = true)\n",
      " |-- magerr_z_cModel: double (nullable = true)\n",
      " |-- snr_g_cModel: double (nullable = true)\n",
      " |-- psFlux_flag_y: boolean (nullable = true)\n",
      " |-- I_flag_u: boolean (nullable = true)\n",
      " |-- Ixy_u: double (nullable = true)\n",
      " |-- mag_i: double (nullable = true)\n",
      " |-- psFluxErr_z: double (nullable = true)\n",
      " |-- good: boolean (nullable = true)\n",
      " |-- Ixy_r: double (nullable = true)\n",
      " |-- parentObjectId: long (nullable = true)\n",
      " |-- Ixy_i: double (nullable = true)\n",
      " |-- IyyPSF: double (nullable = true)\n",
      " |-- xErr: float (nullable = true)\n",
      " |-- mag_u_cModel: double (nullable = true)\n",
      " |-- xy_flag: boolean (nullable = true)\n",
      " |-- IyyPSF_u: double (nullable = true)\n",
      " |-- mag_r_cModel: double (nullable = true)\n",
      " |-- mag_y_cModel: double (nullable = true)\n",
      " |-- magerr_g: double (nullable = true)\n",
      " |-- mag_z_cModel: double (nullable = true)\n",
      " |-- psf_fwhm_z: double (nullable = true)\n",
      " |-- psFlux_flag_z: boolean (nullable = true)\n",
      " |-- IxyPSF_u: double (nullable = true)\n",
      " |-- Iyy_i: double (nullable = true)\n",
      " |-- psFlux_z: double (nullable = true)\n",
      " |-- y: double (nullable = true)\n",
      " |-- magerr_y_cModel: double (nullable = true)\n",
      " |-- tract: integer (nullable = true)\n",
      " |-- patch: string (nullable = true)\n",
      "\n"
     ]
    }
   ],
   "source": [
    "from pyspark.sql import SparkSession\n",
    "\n",
    "# Initialise our Spark session\n",
    "spark = SparkSession.builder.getOrCreate()\n",
    "\n",
    "# Read the data as DataFrame\n",
    "df = spark.read.format(\"parquet\").load(datafile)\n",
    "\n",
    "# Check what we have in the file\n",
    "df.printSchema()"
   ]
  },
  {
   "cell_type": "code",
   "execution_count": 3,
   "metadata": {},
   "outputs": [
    {
     "name": "stdout",
     "output_type": "stream",
     "text": [
      "One tract DataFrame has length: 6892380\n",
      "961 ms ± 89.5 ms per loop (mean ± std. dev. of 7 runs, 1 loop each)\n"
     ]
    }
   ],
   "source": [
    "# Get number of elements\n",
    "print(\"One tract DataFrame has length:\", df.count())\n",
    "%timeit c = df.count()"
   ]
  },
  {
   "cell_type": "markdown",
   "metadata": {},
   "source": [
    "## Some statistics about the data\n",
    "\n",
    "Let's play with the data. We will see how to compute statistics (mean, std, etc...) and ..."
   ]
  },
  {
   "cell_type": "code",
   "execution_count": 4,
   "metadata": {},
   "outputs": [],
   "source": [
    "from pyspark.sql import DataFrame\n",
    "from pyspark.sql.functions import col\n",
    "\n",
    "def stat_one_col(df: DataFrame, colname: str) -> DataFrame:\n",
    "    \"\"\" Return some statistics about one DataFrame Column.\n",
    "    Statistics include: count, mean, stddev, min, max.\n",
    "    \n",
    "    Parameters\n",
    "    ----------\n",
    "    df : DataFrame\n",
    "        Spark DataFrame\n",
    "    colname : str\n",
    "        Name of the Column for which we want the statistics\n",
    "        \n",
    "    Returns\n",
    "    ----------\n",
    "    out : DataFrame\n",
    "        DataFrame containing statistics about the Column.\n",
    "    \"\"\"\n",
    "    return df.select(colname).describe()\n",
    "\n",
    "def stat_diff_col(df: DataFrame, colname_1: str, colname_2: str) -> DataFrame:\n",
    "    \"\"\" Return some statistics about the difference of \n",
    "    two DataFrame Columns.\n",
    "    Statistics include: count, mean, stddev, min, max.\n",
    "    \n",
    "    Parameters\n",
    "    ----------\n",
    "    df : DataFrame\n",
    "        Spark DataFrame\n",
    "    colname_1 : str\n",
    "        Name of the first Column\n",
    "    colname_2 : str\n",
    "        Name of the second Column\n",
    "        \n",
    "    Returns\n",
    "    ----------\n",
    "    out : DataFrame\n",
    "        DataFrame containing statistics about the Columns difference.\n",
    "    \"\"\"\n",
    "    return df.select(col(colname_1) - col(colname_2)).describe()"
   ]
  },
  {
   "cell_type": "code",
   "execution_count": 5,
   "metadata": {},
   "outputs": [
    {
     "name": "stdout",
     "output_type": "stream",
     "text": [
      "+-------+------------------+\n",
      "|summary|             mag_g|\n",
      "+-------+------------------+\n",
      "|  count|           5698019|\n",
      "|   mean|25.721391706804777|\n",
      "| stddev|  2.16444185648169|\n",
      "|    min|14.431595512576623|\n",
      "|    max| 52.39393263760668|\n",
      "+-------+------------------+\n",
      "\n",
      "764 ms ± 31.6 ms per loop (mean ± std. dev. of 7 runs, 1 loop each)\n",
      "+-------+------------------+\n",
      "|summary|   (mag_g - mag_r)|\n",
      "+-------+------------------+\n",
      "|  count|           4172439|\n",
      "|   mean|0.5274674368917402|\n",
      "| stddev|1.6067276263035577|\n",
      "|    min|-28.13517076318348|\n",
      "|    max|33.316740496333026|\n",
      "+-------+------------------+\n",
      "\n",
      "The slowest run took 4.78 times longer than the fastest. This could mean that an intermediate result is being cached.\n",
      "1.83 s ± 1.09 s per loop (mean ± std. dev. of 7 runs, 1 loop each)\n"
     ]
    }
   ],
   "source": [
    "# Get statistics about one column\n",
    "stat_one_col(df, 'mag_g').show()\n",
    "%timeit c = stat_one_col(df, 'mag_g').collect()\n",
    "\n",
    "# Get statistics for the difference of two columns\n",
    "stat_diff_col(df, 'mag_g', 'mag_r').show()\n",
    "%timeit d = stat_diff_col(df, 'mag_g', 'mag_r').collect()"
   ]
  },
  {
   "cell_type": "markdown",
   "metadata": {},
   "source": [
    "It takes roughly 1 second to produce statistics on the full dataset (6 million rows, 4.5 GB). This has to be compared to the 52 seconds for Dask to compute the `mean` using the same resource (4 CPU). Note that we didn't explicitly asked to put the data in cache (would be much faster). Note also that the number of elements for each column used to produce statistics varies (`count`). This is due to the fact that `NaN` are discarded.\n",
    "\n",
    "I also ran this test with more resource (i.e. more CPUs), and the execution time gets smaller. Not linearly, as we hit Spark burning time (not enough data), but e.g. a few hundred of millisecond with 32 CPU."
   ]
  },
  {
   "cell_type": "markdown",
   "metadata": {},
   "source": [
    "## Reducing, playing, plotting\n",
    "\n",
    "You can always go back to pandas world by using the `toPandas()` method. But be careful, if you do that on the full dataframe you will destroy your driver for sure! Spark DataFrames are abstractions of arbitrary amount of data. Invoking `toPandas()` triggers an action, and objects to transfer will be materialised. Imagine TB of data suddenly flowing to your driver...\n",
    "\n",
    "So transfer only subset of the full Spark DataFrame to pandas. In pyspark there are several ways of selecting only subset of data: via SQL expression or DataFrame methods (which are somewhat related to each other...): "
   ]
  },
  {
   "cell_type": "code",
   "execution_count": 6,
   "metadata": {},
   "outputs": [
    {
     "name": "stdout",
     "output_type": "stream",
     "text": [
      "Number of elements selected:  3105\n",
      "+------------------+-----+-----+--------------------+--------+--------+------------+\n",
      "|             mag_g|mag_r|mag_i|            magerr_g|magerr_r|magerr_i|extendedness|\n",
      "+------------------+-----+-----+--------------------+--------+--------+------------+\n",
      "|24.429113805033165| null| null| 0.17433681481976254|    null|    null|         1.0|\n",
      "|22.024261324698585| null| null| 0.02161721387034351|    null|    null|         1.0|\n",
      "| 24.69324400740963| null| null| 0.22305382062532272|    null|    null|         0.0|\n",
      "| 21.68204596875437| null| null|0.016841725270571026|    null|    null|         1.0|\n",
      "|24.403918127051437| null| null| 0.17112604766847697|    null|    null|         0.0|\n",
      "|24.457580040244093| null| null|   0.179198462359786|    null|    null|         0.0|\n",
      "| 24.72899074947989| null| null| 0.22589982922168664|    null|    null|         0.0|\n",
      "|24.990358570506444| null| null| 0.29540873684830055|    null|    null|         0.0|\n",
      "|22.895663357632433| null| null| 0.04462583365374396|    null|    null|         1.0|\n",
      "|23.751330998058297| null| null| 0.09677557327812285|    null|    null|         0.0|\n",
      "|24.688751196509557| null| null| 0.22534059371557505|    null|    null|         0.0|\n",
      "|23.226318668640438| null| null| 0.06023823285371079|    null|    null|         1.0|\n",
      "|21.519264346321222| null| null|0.015026523987262919|    null|    null|         0.0|\n",
      "|24.308021274667947| null| null| 0.15727267680286364|    null|    null|         1.0|\n",
      "| 23.65496733403082| null| null| 0.08844799141007484|    null|    null|         0.0|\n",
      "|24.492355054221182| null| null|  0.1842760625715596|    null|    null|         1.0|\n",
      "| 24.59503296626906| null| null| 0.20065180370259092|    null|    null|         1.0|\n",
      "| 24.00671614746092| null| null|  0.1184832240577442|    null|    null|         1.0|\n",
      "|24.973581167590112| null| null|  0.2906572852456943|    null|    null|         1.0|\n",
      "|24.767162824325915| null| null| 0.23439688724953636|    null|    null|         1.0|\n",
      "+------------------+-----+-----+--------------------+--------+--------+------------+\n",
      "only showing top 20 rows\n",
      "\n"
     ]
    },
    {
     "data": {
      "text/plain": [
       "DataFrame[mag_g: double, mag_r: double, mag_i: double, magerr_g: double, magerr_r: double, magerr_i: double, extendedness: double]"
      ]
     },
     "execution_count": 6,
     "metadata": {},
     "output_type": "execute_result"
    }
   ],
   "source": [
    "# Subset of columns of interest\n",
    "cols = \"mag_g, mag_r, mag_i, magerr_g, magerr_r, magerr_i, extendedness\"\n",
    "\n",
    "# SQL - register first the DataFrame\n",
    "df.createOrReplaceTempView(\"full_tract\")\n",
    "\n",
    "# Keeps only columns with 0.0 < magerr_g < 0.3\n",
    "sql_command = \"\"\"\n",
    "    SELECT {}\n",
    "    FROM full_tract \n",
    "    WHERE \n",
    "        magerr_g > 0 AND magerr_g < 0.3\n",
    "\"\"\".format(cols)\n",
    "\n",
    "# Execute the expression - return a DataFrame\n",
    "df_sub = spark.sql(sql_command)\n",
    "print(\"Number of elements selected: \", df_sub.count())\n",
    "df_sub.show()\n",
    "\n",
    "# Note that we could have done otherwise:\n",
    "# Example with select.where\n",
    "df.select(cols.split(\", \")).where(\"magerr_g > 0 AND magerr_g < 0.3\")\n",
    "# Example with select.filter\n",
    "df.select(cols.split(\", \")).filter(\"magerr_g > 0 AND magerr_g < 0.3\")"
   ]
  },
  {
   "cell_type": "markdown",
   "metadata": {},
   "source": [
    "3000 objects, 7 columns - that's more reasonnable than the million ones! We can go to Pandas and play with our favourite plotting library such as seaborn:"
   ]
  },
  {
   "cell_type": "code",
   "execution_count": 7,
   "metadata": {},
   "outputs": [],
   "source": [
    "df_pandas = df_sub.toPandas()"
   ]
  },
  {
   "cell_type": "code",
   "execution_count": 9,
   "metadata": {},
   "outputs": [
    {
     "data": {
      "image/png": "[encoded data removed]",
      "text/plain": [
       "<matplotlib.figure.Figure at 0x2b4451a8cba8>"
      ]
     },
     "metadata": {},
     "output_type": "display_data"
    }
   ],
   "source": [
    "import seaborn as sns\n",
    "import matplotlib.pyplot as pl\n",
    "\n",
    "sns.distplot(df_pandas['mag_g'], label='g', color='blue', hist_kws={'histtype': 'step'})\n",
    "pl.xlabel('mag')\n",
    "pl.legend();"
   ]
  },
  {
   "cell_type": "markdown",
   "metadata": {},
   "source": [
    "Following BigQuery notebook by wmwv, let's plot stars vs. galaxies:"
   ]
  },
  {
   "cell_type": "code",
   "execution_count": 12,
   "metadata": {},
   "outputs": [
    {
     "data": {
      "image/png": "[encoded data removed]",
      "text/plain": [
       "<matplotlib.figure.Figure at 0x2b4451ec4940>"
      ]
     },
     "metadata": {},
     "output_type": "display_data"
    }
   ],
   "source": [
    "star = df_pandas[df_pandas['extendedness'] < 0.95]\n",
    "gal = df_pandas[df_pandas['extendedness'] > 0.95]\n",
    "sns.jointplot(\n",
    "    star['mag_g'], star['magerr_g'], \n",
    "    label='\"Stars\"', kind='hexbin',\n",
    "    gridsize=200);"
   ]
  },
  {
   "cell_type": "markdown",
   "metadata": {},
   "source": [
    "## Data quality\n",
    "\n",
    "**88% valid entries, 12% NaN**"
   ]
  },
  {
   "cell_type": "code",
   "execution_count": 13,
   "metadata": {},
   "outputs": [],
   "source": [
    "from pyspark.sql.functions import col,sum\n",
    "\n",
    "# Show the number of valid entries\n",
    "entries = df.select(*(sum(col(c).isNotNull().cast(\"int\")).alias(c) for c in df.columns)).collect()"
   ]
  },
  {
   "cell_type": "code",
   "execution_count": 16,
   "metadata": {},
   "outputs": [
    {
     "name": "stdout",
     "output_type": "stream",
     "text": [
      "Input number of entries: 6892380\n",
      "Total yield: 87.42589520552244%\n",
      "magerr_i: 5272546 (76.5%)\n",
      "psFlux_i: 6142802 (89.1%)\n",
      "Ixx_r: 4997285 (72.5%)\n",
      "mag_i_cModel: 5196764 (75.4%)\n",
      "IxxPSF_u: 6791749 (98.5%)\n",
      "magerr_r: 4819340 (69.9%)\n",
      "psf_fwhm_i: 6295438 (91.3%)\n",
      "psf_fwhm_r: 5781874 (83.9%)\n",
      "Ixx: 4252164 (61.7%)\n",
      "magerr_g_cModel: 6568933 (95.3%)\n",
      "I_flag_y: 6892380 (100.0%)\n",
      "Iyy_z: 5209439 (75.6%)\n",
      "IxyPSF_i: 6295438 (91.3%)\n",
      "Ixx_z: 5209439 (75.6%)\n",
      "magerr_u_cModel: 6510048 (94.5%)\n",
      "IxyPSF: 6892038 (100.0%)\n",
      "snr_u_cModel: 6510048 (94.5%)\n",
      "IxxPSF_y: 6342770 (92.0%)\n",
      "psFlux_flag_i: 6892380 (100.0%)\n",
      "IyyPSF_g: 6776910 (98.3%)\n",
      "Ixy: 4252164 (61.7%)\n",
      "magerr_y: 5040748 (73.1%)\n",
      "psFlux_g: 6740025 (97.8%)\n",
      "snr_y_cModel: 6045334 (87.7%)\n",
      "Ixy_z: 5209439 (75.6%)\n",
      "psFlux_flag_r: 6892380 (100.0%)\n",
      "Iyy_g: 5556470 (80.6%)\n",
      "psFluxErr_r: 5600369 (81.3%)\n",
      "Ixx_i: 5306107 (77.0%)\n",
      "snr_z_cModel: 5804192 (84.2%)\n",
      "psf_fwhm_g: 6776910 (98.3%)\n",
      "Ixx_y: 5036312 (73.1%)\n",
      "I_flag: 6892380 (100.0%)\n",
      "magerr_z: 5113937 (74.2%)\n",
      "I_flag_i: 6892380 (100.0%)\n",
      "IyyPSF_i: 6295438 (91.3%)\n",
      "yErr: 6803985 (98.7%)\n",
      "magerr_r_cModel: 5464759 (79.3%)\n",
      "magerr_i_cModel: 6002709 (87.1%)\n",
      "clean: 6892380 (100.0%)\n",
      "IxyPSF_y: 6342770 (92.0%)\n",
      "mag_g: 5698019 (82.7%)\n",
      "mag_r: 4819340 (69.9%)\n",
      "psf_fwhm_y: 6342770 (92.0%)\n",
      "IxyPSF_g: 6776910 (98.3%)\n",
      "ra: 6892380 (100.0%)\n",
      "extendedness: 6719923 (97.5%)\n",
      "IxxPSF: 6892038 (100.0%)\n",
      "x: 6892380 (100.0%)\n",
      "Ixx_u: 5131331 (74.4%)\n",
      "mag_g_cModel: 5607622 (81.4%)\n",
      "psFluxErr_u: 6722384 (97.5%)\n",
      "I_flag_r: 6892380 (100.0%)\n",
      "IyyPSF_r: 5781874 (83.9%)\n",
      "psFluxErr_y: 6253456 (90.7%)\n",
      "psNdata: 6892378 (100.0%)\n",
      "psFlux_y: 6253456 (90.7%)\n",
      "psFlux_u: 6722384 (97.5%)\n",
      "Iyy: 4252164 (61.7%)\n",
      "IxxPSF_r: 5781874 (83.9%)\n",
      "mag_u: 5296342 (76.8%)\n",
      "dec: 6892380 (100.0%)\n",
      "IxyPSF_z: 6057719 (87.9%)\n",
      "mag_y: 5040748 (73.1%)\n",
      "Ixx_g: 5556470 (80.6%)\n",
      "Ixy_y: 5036312 (73.1%)\n",
      "IxxPSF_i: 6295438 (91.3%)\n",
      "blendedness: 4252001 (61.7%)\n",
      "Iyy_y: 5036312 (73.1%)\n",
      "IxxPSF_g: 6776910 (98.3%)\n",
      "psFlux_flag_u: 6892380 (100.0%)\n",
      "psFluxErr_g: 6740025 (97.8%)\n",
      "Iyy_r: 4997285 (72.5%)\n",
      "magerr_u: 5296342 (76.8%)\n",
      "I_flag_g: 6892380 (100.0%)\n",
      "snr_i_cModel: 6002709 (87.1%)\n",
      "psFluxErr_i: 6142802 (89.1%)\n",
      "IxxPSF_z: 6057719 (87.9%)\n",
      "IyyPSF_y: 6342770 (92.0%)\n",
      "I_flag_z: 6892380 (100.0%)\n",
      "snr_r_cModel: 5464759 (79.3%)\n",
      "Ixy_g: 5556470 (80.6%)\n",
      "mag_z: 5113937 (74.2%)\n",
      "IyyPSF_z: 6057719 (87.9%)\n",
      "psFlux_r: 5600369 (81.3%)\n",
      "IxyPSF_r: 5781874 (83.9%)\n",
      "psFlux_flag_g: 6892380 (100.0%)\n",
      "Iyy_u: 5131331 (74.4%)\n",
      "psf_fwhm_u: 6791749 (98.5%)\n",
      "objectId: 6892380 (100.0%)\n",
      "magerr_z_cModel: 5804192 (84.2%)\n",
      "snr_g_cModel: 6568933 (95.3%)\n",
      "psFlux_flag_y: 6892380 (100.0%)\n",
      "I_flag_u: 6892380 (100.0%)\n",
      "Ixy_u: 5131331 (74.4%)\n",
      "mag_i: 5272546 (76.5%)\n",
      "psFluxErr_z: 5955153 (86.4%)\n",
      "good: 6892380 (100.0%)\n",
      "Ixy_r: 4997285 (72.5%)\n",
      "parentObjectId: 6892380 (100.0%)\n",
      "Ixy_i: 5306107 (77.0%)\n",
      "IyyPSF: 6892038 (100.0%)\n",
      "xErr: 6803985 (98.7%)\n",
      "mag_u_cModel: 5193418 (75.4%)\n",
      "xy_flag: 6892380 (100.0%)\n",
      "IyyPSF_u: 6791749 (98.5%)\n",
      "mag_r_cModel: 4742689 (68.8%)\n",
      "mag_y_cModel: 4961908 (72.0%)\n",
      "magerr_g: 5698019 (82.7%)\n",
      "mag_z_cModel: 5038002 (73.1%)\n",
      "psf_fwhm_z: 6057719 (87.9%)\n",
      "psFlux_flag_z: 6892380 (100.0%)\n",
      "IxyPSF_u: 6791749 (98.5%)\n",
      "Iyy_i: 5306107 (77.0%)\n",
      "psFlux_z: 5955153 (86.4%)\n",
      "y: 6892380 (100.0%)\n",
      "magerr_y_cModel: 6045334 (87.7%)\n",
      "tract: 6892380 (100.0%)\n",
      "patch: 6892380 (100.0%)\n"
     ]
    }
   ],
   "source": [
    "import numpy as np\n",
    "\n",
    "ini_len = df.count()\n",
    "print(\"Input number of entries: {}\".format(ini_len))\n",
    "print(\"Total yield: {}%\".format(np.sum(entries) / (ini_len * len(df.columns)) * 100))\n",
    "for col, entry in zip(df.columns, entries[0]):\n",
    "    print(\"{}: {} ({:.1f}%)\".format(col, entry, entry/ini_len*100))"
   ]
  },
  {
   "cell_type": "markdown",
   "metadata": {},
   "source": [
    "## Future\n",
    "\n",
    "- FITS?\n",
    "- More data?\n",
    "- More action?"
   ]
  },
  {
   "cell_type": "markdown",
   "metadata": {},
   "source": [
    "## Garbage collection"
   ]
  },
  {
   "cell_type": "code",
   "execution_count": 58,
   "metadata": {},
   "outputs": [],
   "source": [
    "# base_dir = 'file:///global/cscratch1/sd/peloton/dpdd/new_fits/*.fits'\n",
    "# df = spark.read.format(\"fits\").option(\"hdu\", 1).load(base_dir)\n",
    "# print(df.rdd.getNumPartitions())\n",
    "# # df.count()"
   ]
  },
  {
   "cell_type": "code",
   "execution_count": 59,
   "metadata": {},
   "outputs": [],
   "source": [
    "# df = df.coalesce(20).cache()\n",
    "# print(df.count())\n",
    "# %timeit df.count()"
   ]
  },
  {
   "cell_type": "code",
   "execution_count": 60,
   "metadata": {},
   "outputs": [],
   "source": [
    "# fn = \"file:///global/cscratch1/sd/peloton/LSST10Y_striped_small/out_srcs_s1_0.fits\"\n",
    "# df2 = spark.read.format(\"fits\").option(\"hdu\", 1).load(fn)\n",
    "# print(df2.count())"
   ]
  },
  {
   "cell_type": "code",
   "execution_count": 61,
   "metadata": {},
   "outputs": [],
   "source": [
    "# %timeit df2.count()"
   ]
  },
  {
   "cell_type": "code",
   "execution_count": 17,
   "metadata": {},
   "outputs": [],
   "source": [
    "# from pyspark.sql.functions import col,sum\n",
    "# df.select(*(sum(col(c).isNull().cast(\"int\")).alias(c) for c in df.columns)).show()\n",
    "# import glob\n",
    "# base_dir = 'file:///global/cscratch1/sd/peloton/dpdd/new_fits/dpdd_object_tract_4639_patch_*.fits'\n",
    "# df = spark.read.format(\"fits\").option(\"hdu\", 1).load(base_dir)\n",
    "# df.count()\n",
    "# for file in base_dir:\n",
    "#     df = spark.read.format(\"fits\").option(\"hdu\", 1).load(file)\n",
    "#     print(file, df.count())\n",
    "# import warnings\n",
    "# warnings.filterwarnings(action='once')\n",
    "\n",
    "# Put the data in cache for the following\n",
    "# df_cached = df.cache()\n",
    "\n",
    "# # Trigger an action, to actually put data in cache\n",
    "# # (Spark is lazy, and cache is a transformation!)\n",
    "# with warnings.catch_warnings():\n",
    "#     warnings.filterwarnings(action='once')\n",
    "#     df_cached.count()"
   ]
  }
 ],
 "metadata": {
  "kernelspec": {
   "display_name": "pyspark_2.3.0 (2.3.0)",
   "language": "python",
   "name": "pyspark_2.3.0"
  },
  "language_info": {
   "codemirror_mode": {
    "name": "ipython",
    "version": 3
   },
   "file_extension": ".py",
   "mimetype": "text/x-python",
   "name": "python",
   "nbconvert_exporter": "python",
   "pygments_lexer": "ipython3",
   "version": "3.6.4"
  }
 },
 "nbformat": 4,
 "nbformat_minor": 2
}
