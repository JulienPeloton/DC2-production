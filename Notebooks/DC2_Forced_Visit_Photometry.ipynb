{
 "cells": [
  {
   "cell_type": "markdown",
   "metadata": {},
   "source": [
    "## DC2 Retrieve Forced Src catalogs of visit-level forced photoemtry from coadd Object catalog.  \n",
    "Michael Wood-Vasey\n",
    "\n",
    "This Notebook shows how to retrieve the list of forced sources from a given tract, patch, filter.  \n",
    "The forced-source dataIds contain sufficient information to look up the calexp IDs to retrieve postage stamps."
   ]
  },
  {
   "cell_type": "code",
   "execution_count": null,
   "metadata": {},
   "outputs": [],
   "source": [
    "import numpy as np\n",
    "\n",
    "import lsst.daf.persistence as dafPersist\n",
    "import lsst.afw.geom as afwGeom\n",
    "import lsst.afw.coord as afwCoord\n",
    "import lsst.afw.image as afwImage"
   ]
  },
  {
   "cell_type": "code",
   "execution_count": null,
   "metadata": {},
   "outputs": [],
   "source": [
    "repo = '/global/projecta/projectdirs/lsst/global/in2p3/Run1.1/output'\n",
    "butler = dafPersist.Butler(repo)"
   ]
  },
  {
   "cell_type": "code",
   "execution_count": null,
   "metadata": {},
   "outputs": [],
   "source": [
    "tract = 4850\n",
    "patch = '5,6'\n",
    "\n",
    "filt = 'r'\n",
    "partial_data_id = {'tract': tract, 'patch': patch, 'filter': filt}"
   ]
  },
  {
   "cell_type": "code",
   "execution_count": null,
   "metadata": {},
   "outputs": [],
   "source": [
    "dataset_type = 'forced_src'\n",
    "subset = butler.subset(datasetType=dataset_type, dataId=partial_data_id)\n",
    "data_ids = [dr.dataId for dr in subset\n",
    "           if butler.datasetExists(datasetType=dataset_type,\n",
    "                                   dataId=dr.dataId)]"
   ]
  },
  {
   "cell_type": "code",
   "execution_count": null,
   "metadata": {},
   "outputs": [],
   "source": [
    "print(data_ids[0:3])"
   ]
  },
  {
   "cell_type": "code",
   "execution_count": null,
   "metadata": {},
   "outputs": [],
   "source": [
    "dId = {'tract': 4848, 'patch': '5,6', 'filter': 'r', 'visit': 193861, 'raft': '1,4', 'sensor': '0,0'}\n",
    "\n",
    "calibrated_exposure = butler.get(datasetType='calexp', dataId=dId)\n",
    "forced_src = butler.get(datasetType=dataset_type, dataId=dId)"
   ]
  },
  {
   "cell_type": "code",
   "execution_count": null,
   "metadata": {},
   "outputs": [],
   "source": [
    "cat = forced_src.asAstropy()"
   ]
  },
  {
   "cell_type": "code",
   "execution_count": null,
   "metadata": {},
   "outputs": [],
   "source": [
    "calib = calibrated_exposure.getCalib()\n",
    "calib.setThrowOnNegativeFlux(False)\n",
    "\n",
    "mag, mag_err = calib.getMagnitude(forced_src['base_PsfFlux_flux'],\n",
    "                                  forced_src['base_PsfFlux_fluxSigma'])\n",
    "cat['mag'] = mag\n",
    "cat['mag_err'] = mag_err\n",
    "cat['snr'] = np.abs(cat['base_PsfFlux_flux'])/cat['base_PsfFlux_fluxSigma']"
   ]
  },
  {
   "cell_type": "code",
   "execution_count": null,
   "metadata": {},
   "outputs": [],
   "source": [
    "print(cat)"
   ]
  },
  {
   "cell_type": "markdown",
   "metadata": {},
   "source": [
    "This is per tract, so 22,062 sources seems potentially reasonble.\n",
    "\n",
    "The `id` is the same `id` as in the coadd \"reference\" catalog (the result of merged detections from the individ"
   ]
  },
  {
   "cell_type": "code",
   "execution_count": null,
   "metadata": {},
   "outputs": [],
   "source": [
    "%matplotlib inline\n",
    "import matplotlib.pyplot as plt\n",
    "\n",
    "import numpy as np"
   ]
  },
  {
   "cell_type": "code",
   "execution_count": null,
   "metadata": {},
   "outputs": [],
   "source": [
    "plt.scatter(np.rad2deg(cat['coord_ra']),\n",
    "            np.rad2deg(cat['coord_dec']))\n",
    "plt.xlabel('RA [deg]')\n",
    "plt.ylabel('Dec [deg]')"
   ]
  },
  {
   "cell_type": "code",
   "execution_count": null,
   "metadata": {},
   "outputs": [],
   "source": [
    "plt.scatter(cat['mag'], cat['snr'])\n",
    "plt.xlabel('%s mag' % dId['filter'])\n",
    "plt.ylabel('S/N')"
   ]
  },
  {
   "cell_type": "markdown",
   "metadata": {},
   "source": [
    "Looks like a reasonable set of magnitudes and uncertainties."
   ]
  },
  {
   "cell_type": "markdown",
   "metadata": {},
   "source": [
    "## From one image to many\n",
    "Let's pick one of the Objects and go through all of the data IDs in that filter for the tract, patch."
   ]
  },
  {
   "cell_type": "code",
   "execution_count": null,
   "metadata": {},
   "outputs": [],
   "source": [
    "object_id = cat[0]['id']"
   ]
  },
  {
   "cell_type": "code",
   "execution_count": null,
   "metadata": {},
   "outputs": [],
   "source": [
    "def get_all_images_for_object_id_from_data_ids(object_id, data_refs, dataset_type='forced_src'):\n",
    "    \"\"\"Take an Object ID and data_ref list and return matching data_refs that contain that object and exist\n",
    "    \n",
    "    Note:  This perhaps isn't quite the function you wanted.\n",
    "    You may have wanted a function that just took an object_id and filter.\n",
    "    But we'll get there.\n",
    "    \"\"\"\n",
    "    matching_data_refs = []\n",
    "    for data_ref in data_refs:\n",
    "        # Shoudl add check to make sure it exists\n",
    "        cat = data_ref.get(datasetType=dataset_type)\n",
    "        if object_id in cat['id']:\n",
    "            matching_data_refs.append(data_ref)\n",
    "\n",
    "    return matching_data_refs"
   ]
  },
  {
   "cell_type": "code",
   "execution_count": null,
   "metadata": {},
   "outputs": [],
   "source": []
  },
  {
   "cell_type": "code",
   "execution_count": null,
   "metadata": {},
   "outputs": [],
   "source": []
  },
  {
   "cell_type": "markdown",
   "metadata": {},
   "source": [
    "But the above wasn't quite what you likely wanted.  You probably wanted to start with a given ObjectID from the Object (coadd) catalog and then get all of the images that include that object."
   ]
  },
  {
   "cell_type": "code",
   "execution_count": null,
   "metadata": {},
   "outputs": [],
   "source": []
  }
 ],
 "metadata": {
  "kernelspec": {
   "display_name": "Python(DC2)",
   "language": "python",
   "name": "dc2_stack"
  },
  "language_info": {
   "codemirror_mode": {
    "name": "ipython",
    "version": 3
   },
   "file_extension": ".py",
   "mimetype": "text/x-python",
   "name": "python",
   "nbconvert_exporter": "python",
   "pygments_lexer": "ipython3",
   "version": "3.6.2"
  }
 },
 "nbformat": 4,
 "nbformat_minor": 2
}
