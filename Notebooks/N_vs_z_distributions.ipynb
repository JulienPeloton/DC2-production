{
 "cells": [
  {
   "cell_type": "markdown",
   "metadata": {},
   "source": [
    "#### Plot N versus z Distributions\n",
    "This notebook demonstrates how to make number-density versus redshift plots for a set of magnitude ranges.\n",
    "Features that are demonstrated:\n",
    "* selection of data quantities to plot\n",
    "* definition of filters to be applied to the data selection\n",
    "* use of the GCRCatalogs iterator for large catalogs\n",
    "* aggregation of histograms on the fly\n",
    "* looping over sub-plots"
   ]
  },
  {
   "cell_type": "code",
   "execution_count": 5,
   "metadata": {},
   "outputs": [
    {
     "name": "stdout",
     "output_type": "stream",
     "text": [
      "Populating the interactive namespace from numpy and matplotlib\n"
     ]
    }
   ],
   "source": [
    "#set up the environment\n",
    "import sys\n",
    "import os\n",
    "import numpy as np\n",
    "sys.path.insert(0, '/global/common/software/lsst/common/miniconda/current/lib/python3.6/site-packages')\n",
    "sys.path.insert(0, '/global/u1/k/kovacs/gcr-catalogs_v4x')\n",
    "import GCRCatalogs\n",
    "import math                                                                                                                                               \n",
    "try:                                                                                                                                                      \n",
    "    from itertools import zip_longest                                                                                                                     \n",
    "except ImportError:                                                                                                                                       \n",
    "    from itertools import izip_longest as zip_longest                                                                                                     \n",
    "from GCR import GCRQuery\n",
    "%pylab inline"
   ]
  },
  {
   "cell_type": "code",
   "execution_count": 4,
   "metadata": {},
   "outputs": [
    {
     "name": "stderr",
     "output_type": "stream",
     "text": [
      "/global//u1/k/kovacs/gcr-catalogs_v4x/GCRCatalogs/alphaq.py:114: UserWarning: No md5 sum specified in the config file\n",
      "  warnings.warn('No md5 sum specified in the config file')\n"
     ]
    }
   ],
   "source": [
    "gc = GCRCatalogs.load_catalog('proto-dc2_v4.15_test')\n"
   ]
  },
  {
   "cell_type": "code",
   "execution_count": 26,
   "metadata": {},
   "outputs": [],
   "source": [
    "def get_mags_and_redshift(gc, mag_lo, mag_hi, band='r', z='redshift_true', zlo=0., zhi=1.1, \n",
    "                          nrows=3, ncolumns=2, Nzbins=20):\n",
    "    #setup quantities to fetch\n",
    "    possible_mag_fields = ('mag_true_{}_lsst', 'mag_true_{}_sdss', 'mag_true_{}_des')\n",
    "    mag_fields = [f.format(band) for f in possible_mag_fields]\n",
    "    mag_field = gc.first_available(*mag_fields)\n",
    "    required_quantities = [mag_field, z]\n",
    "    zbins = np.linspace(zlo, zhi, Nzbins+1)\n",
    "    filters = [(lambda z: (z > zlo) & (z < zhi), z)]  #filter on selected redshift range\n",
    "    \n",
    "    #initialize arrays for storing histogram sums\n",
    "    N_array = np.zeros((nrows, ncolumns, len(zbins)-1), dtype=np.int)\n",
    "    sumz_array = np.zeros((nrows, ncolumns, len(zbins)-1))\n",
    "    #get catalog data by looping over data iterator (needed for large catalogs) and aggregate histograms\n",
    "    for catalog_data in gc.get_quantities(required_quantities, filters=filters, return_iterator=True):\n",
    "        catalog_data = GCRQuery(*((np.isfinite, col) for col in catalog_data)).filter(catalog_data)\n",
    "        for n, (cut_lo, cut_hi, N, sumz) in enumerate(zip_longest(\n",
    "                mag_lo,\n",
    "                mag_hi,\n",
    "                N_array.reshape(-1, N_array.shape[-1]), #flatten all but last dimension of array\n",
    "                sumz_array.reshape(-1, sumz_array.shape[-1]),\n",
    "        )):\n",
    "            if cut_lo:\n",
    "                mask = (catalog_data[mag_field] < cut_lo)\n",
    "                if cut_hi:\n",
    "                    mask &= (catalog_data[mag_field] >= cut_hi)\n",
    "                    z_this = catalog_data[z][mask]\n",
    "                    \n",
    "                del mask\n",
    "\n",
    "                #bin catalog_data and accumulate subplot histograms\n",
    "                N += np.histogram(z_this, bins=zbins)[0]\n",
    "                sumz += np.histogram(z_this, bins=zbins, weights=z_this)[0]\n",
    "        \n",
    "    return zbins, N_array, sumz_array"
   ]
  },
  {
   "cell_type": "code",
   "execution_count": 34,
   "metadata": {},
   "outputs": [],
   "source": [
    "#select some magnitude cuts and fill the histogram arrays for 2-column plots\n",
    "mlo = 25\n",
    "mhi = 19\n",
    "mag_lo = [float(m) for m in range(int(mhi+1), int(mlo+1))]\n",
    "mag_hi = [float(mhi) for m in range(len(mag_lo))]\n",
    "ncolumns = 2\n",
    "nrows = (len(mag_lo) + ncolumns - 1)//ncolumns\n",
    "#print(mag_lo, mag_hi, nrows)\n",
    "zbins, N_array, sumz_array = get_mags_and_redshift(gc, mag_lo, mag_hi, nrows=nrows, ncolumns=ncolumns)\n",
    "#print(zbins, N_array[0, 0], sumz_array[0, 0])"
   ]
  },
  {
   "cell_type": "code",
   "execution_count": 61,
   "metadata": {},
   "outputs": [],
   "source": [
    "#make plots\n",
    "def plot_N_vs_z(mag_lo, mag_hi, N_array, sumz_array, zbins, band='r', normed=True,\n",
    "                nrows=3, ncolumns=2, figx_p=9, figy_p=11):\n",
    "    fig, ax = plt.subplots(nrows, ncolumns, figsize=(figx_p, figy_p), sharex='col')\n",
    "    for n, (ax_this, cut_lo, cut_hi, N, sumz) in enumerate(zip_longest(\n",
    "            ax.flat,                                                                                                                                      \n",
    "            mag_lo,                                                                           \n",
    "            mag_hi,                                                                           \n",
    "            N_array.reshape(-1, N_array.shape[-1]),                                                \n",
    "            sumz_array.reshape(-1, sumz_array.shape[-1]),                                                                                 \n",
    "    )):                                                                                            \n",
    "        if cut_lo is None:  #cut_lo is None if mag_lo is exhausted                            \n",
    "            ax_this.set_visible(False)                                                             \n",
    "        else:\n",
    "            cut_label = '{} $< {}$'.format(band, cut_lo)\n",
    "            if cut_hi:\n",
    "                cut_label = '${} <=$ {}'.format(cut_hi, cut_label)\n",
    "                meanz = sumz / N\n",
    "                sumN = N.sum()\n",
    "                covariance = np.diag(N)\n",
    "                \n",
    "                if normed:\n",
    "                    scale = sumN * (zbins[1:] - zbins[:-1])\n",
    "                    N = N/scale\n",
    "                    covariance = covariance/np.outer(scale, scale)\n",
    "\n",
    "                Nerrors = np.sqrt(np.diag(covariance))\n",
    "                #print(meanz, N, Nerrors)\n",
    "                ax_this.errorbar(meanz, N, yerr=Nerrors, label=cut_label, color='blue', fmt='o', ms=4)\n",
    "                decorate_subplot(ax_this, n, nrows, ncolumns, 'p(z|m)', 'z')\n",
    "    \n",
    "                \n",
    "def decorate_subplot(ax, nplot, nrows, ncolumns, ylabel, xlabel):\n",
    "    #add axes and legend              \n",
    "    if nplot % ncolumns == 0:  #1st column\n",
    "        ax.set_ylabel('$'+ylabel+'$', size=16)\n",
    "\n",
    "    if nplot+1 <= nplot - ncolumns:  #x scales for last ncol plots only\n",
    "        #print \"noticks\",nplot                                                  \n",
    "        for axlabel in ax.get_xticklabels():                                    \n",
    "            axlabel.set_visible(False)                                          \n",
    "            #prevent overlapping yaxis labels                                   \n",
    "            ax.yaxis.get_major_ticks()[0].label1.set_visible(False)             \n",
    "    else:                                                                       \n",
    "        ax.set_xlabel('$'+xlabel+'$', size=16)                                   \n",
    "        for axlabel in ax.get_xticklabels():                                    \n",
    "            axlabel.set_visible(True)                                           \n",
    "        ax.legend(loc='best', fancybox=True, framealpha=0.5, fontsize=10, numpoints=1)\n",
    "         \n"
   ]
  },
  {
   "cell_type": "code",
   "execution_count": 62,
   "metadata": {},
   "outputs": [
    {
     "name": "stderr",
     "output_type": "stream",
     "text": [
      "/global/common/software/lsst/common/miniconda/current/lib/python3.6/site-packages/ipykernel/__main__.py:18: RuntimeWarning: invalid value encountered in true_divide\n"
     ]
    },
    {
     "data": {
      "image/png": "[encoded data removed]",
      "text/plain": [
       "<matplotlib.figure.Figure at 0x2aca1398f710>"
      ]
     },
     "metadata": {},
     "output_type": "display_data"
    }
   ],
   "source": [
    "#call the plotting function\n",
    "plot_N_vs_z(mag_lo, mag_hi, N_array, sumz_array, zbins, nrows=nrows, ncolumns=ncolumns, normed=True)\n"
   ]
  },
  {
   "cell_type": "code",
   "execution_count": null,
   "metadata": {},
   "outputs": [],
   "source": []
  }
 ],
 "metadata": {
  "kernelspec": {
   "display_name": "desc-python",
   "language": "python",
   "name": "desc-python"
  },
  "language_info": {
   "codemirror_mode": {
    "name": "ipython",
    "version": 3
   },
   "file_extension": ".py",
   "mimetype": "text/x-python",
   "name": "python",
   "nbconvert_exporter": "python",
   "pygments_lexer": "ipython3",
   "version": "3.6.2"
  }
 },
 "nbformat": 4,
 "nbformat_minor": 2
}
