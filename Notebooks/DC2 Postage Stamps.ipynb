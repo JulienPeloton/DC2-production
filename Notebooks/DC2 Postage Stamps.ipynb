{
 "cells": [
  {
   "cell_type": "markdown",
   "metadata": {},
   "source": [
    "## DC2: Generate Postage Stamps for set of RA, Dec coordinates\n",
    "\n",
    "This Notebook demonstrates taking a list of RA, Dec positions and generating postage-stamp cutout images from the coadded images.\n",
    "\n",
    "This is intended to be runnable at NERSC through the jupyter-dev.nersc.gov interface from a local git clone of the repo in your NERSC directory.   You can run it wherever, with appropriate adjustment of the 'repo' location to point to a place where you have a Butler repo will all of the images.\n",
    "\n",
    "Based in part on https://github.com/lsst-com/notebooks/blob/master/postage_stamp.ipynb"
   ]
  },
  {
   "cell_type": "code",
   "execution_count": null,
   "metadata": {},
   "outputs": [],
   "source": [
    "import numpy as np\n",
    "\n",
    "from astropy.table import Table\n",
    "\n",
    "import lsst.daf.persistence as dafPersist\n",
    "import lsst.afw.geom as afwGeom\n",
    "import lsst.afw.coord as afwCoord\n",
    "import lsst.afw.image as afwImage\n",
    "\n",
    "from astropy.visualization import ZScaleInterval"
   ]
  },
  {
   "cell_type": "code",
   "execution_count": null,
   "metadata": {},
   "outputs": [],
   "source": [
    "# Set plotting defaults\n",
    "%matplotlib inline\n",
    "import matplotlib.pyplot as plt\n",
    "plt.rcParams['figure.figsize'] = (8, 8)\n",
    "zscale = ZScaleInterval()"
   ]
  },
  {
   "cell_type": "code",
   "execution_count": null,
   "metadata": {},
   "outputs": [],
   "source": [
    "def cutout_coadd_ra_dec(butler, ra, dec, filt='r', datasetType='deepCoadd', **kwargs):\n",
    "    \"\"\"Produce a cutout from coadd from the given butler at the given RA, Dec in decimal degrees\n",
    "    \n",
    "    Trivial wrapper around 'cutout_from_coadd_spherepoint'\n",
    "    \"\"\"\n",
    "    radec = afwGeom.SpherePoint(ra, dec, afwGeom.degrees)\n",
    "    return cutout_coadd_spherepoint(butler, radec, filter=filt, datasetType=datasetType)\n",
    "    \n",
    "def cutout_coadd_spherepoint(butler, radec, filt='r', datasetType='deepCoadd',\n",
    "                                  skymap=None, cutoutSideLength=50, **kwargs):\n",
    "    \"\"\"Produce a cutout from a coadd at the given afw SpherePoint radec\n",
    "    \n",
    "\n",
    "    Parameters\n",
    "    --\n",
    "    butler - lsst.daf.persistence.Butler of the data repository\n",
    "    radec - lsst.afw.geom.SpherePoint coordinates of the center of the cutout.\n",
    "    filter - Filter of the image to load\n",
    "    datasetType - 'deepCoadd'  Which type of coadd to load.  Doesn't support 'calexp'\n",
    "    \n",
    "    skymap - [optional] Pass in to avoid the Butler read.  Useful if you have lots of them.\n",
    "    cutoutSideLength - [optional] Side of the cutout region in pixels.\n",
    "    \n",
    "    Returns\n",
    "    --\n",
    "    MaskedImage\n",
    "    \"\"\"\n",
    "    cutoutSideLength = 50  # pixels\n",
    "    cutoutSize = afwGeom.ExtentI(cutoutSideLength, cutoutSideLength)\n",
    "\n",
    "    if skymap is None:\n",
    "        skymap = butler.get(\"deepCoadd_skyMap\")\n",
    "    \n",
    "    tractInfo = skymap.findTract(radec)\n",
    "    patchInfo = tractInfo.findPatch(radec)\n",
    "    xy = afwGeom.PointI(tractInfo.getWcs().skyToPixel(radec))\n",
    "    bbox = afwGeom.BoxI(xy - cutoutSize//2, cutoutSize)\n",
    "\n",
    "    coaddId = {'tract': tractInfo.getId(), 'patch': \"%d,%d\" % patchInfo.getIndex(), 'filter': filt}\n",
    "    \n",
    "    cutout_image = butler.get(datasetType+'_sub', bbox=bbox, immediate=True, dataId=coaddId)\n",
    "    \n",
    "    return cutout_image"
   ]
  },
  {
   "cell_type": "code",
   "execution_count": null,
   "metadata": {},
   "outputs": [],
   "source": [
    "def plot_cutout_image(butler, ra, dec, vmin=None, vmax=None, label=None, show=True, savefig=False,\n",
    "                      datasetType='deepCoadd'):\n",
    "    cutout_image = cutout_coadd_ra_dec(butler, ra, dec, filter='r', datasetType='deepCoadd')\n",
    "\n",
    "    radec = afwGeom.SpherePoint(ra, dec, afwGeom.degrees)\n",
    "    xy = cutout_image.getWcs().skyToPixel(radec)\n",
    "    if vmin is None or vmax is None:\n",
    "        vmin, vmax = zscale.get_limits(cutout_image.image.array)\n",
    "\n",
    "    plt.imshow(cutout_image.image.array, vmin=vmin, vmax=vmax, cmap='binary')\n",
    "    plt.colorbar()\n",
    "    plt.scatter(xy.getX() - cutout_image.getX0(), xy.getY() - cutout_image.getY0(),\n",
    "                color='none', edgecolor='red', marker='o', s=200)\n",
    "    if label is not None:\n",
    "        plt.title(label)\n",
    "    if savefig:\n",
    "        if isinstance(savefig, str):\n",
    "            filename = savefig\n",
    "        else:\n",
    "            filename = 'postage-stamp.png'\n",
    "        plt.savefig(filename)\n",
    "    if show:\n",
    "        plt.show()\n"
   ]
  },
  {
   "cell_type": "code",
   "execution_count": null,
   "metadata": {
    "scrolled": true
   },
   "outputs": [],
   "source": [
    "repo = '/global/projecta/projectdirs/lsst/global/in2p3/Run1.1/output'\n",
    "butler = dafPersist.Butler(repo)"
   ]
  },
  {
   "cell_type": "code",
   "execution_count": null,
   "metadata": {},
   "outputs": [],
   "source": [
    "filt = 'r'\n",
    "coord_file = 'id_ra_dec_mid_mag_%s.txt' % filt\n",
    "id_ra_dec = Table.read(coord_file, format='ascii')"
   ]
  },
  {
   "cell_type": "code",
   "execution_count": null,
   "metadata": {},
   "outputs": [],
   "source": [
    "# Plot just one\n",
    "first = id_ra_dec[0]\n",
    "ra, dec = first['RA'], first['DEC']\n",
    "plot_cutout_image(butler, ra, dec, label=\"Object ID: %d\" % id_ra_dec[0]['ID'])"
   ]
  },
  {
   "cell_type": "code",
   "execution_count": null,
   "metadata": {
    "scrolled": false
   },
   "outputs": [],
   "source": [
    "show = True\n",
    "datasetType = 'deepCoadd'\n",
    "vmin, vmax = -0.75, +1.5  # Fix the vmin, vmax to make it easier to compare across postage stamps.\n",
    "for objectId, ra, dec in id_ra_dec:\n",
    "    savefig = \"%s_%s_%s.png\" % (datasetType, objectId, filt)\n",
    "    plot_cutout_image(butler, ra, dec, vmin=vmin, vmax=vmax,\n",
    "                      datasetType=datasetType,\n",
    "                      label=\"Object ID: %d\" % objectId,\n",
    "                      show=show, savefig=savefig)"
   ]
  },
  {
   "cell_type": "code",
   "execution_count": null,
   "metadata": {},
   "outputs": [],
   "source": []
  }
 ],
 "metadata": {
  "kernelspec": {
   "display_name": "Python(DC2)",
   "language": "python",
   "name": "dc2_stack"
  },
  "language_info": {
   "codemirror_mode": {
    "name": "ipython",
    "version": 3
   },
   "file_extension": ".py",
   "mimetype": "text/x-python",
   "name": "python",
   "nbconvert_exporter": "python",
   "pygments_lexer": "ipython3",
   "version": "3.6.2"
  }
 },
 "nbformat": 4,
 "nbformat_minor": 2
}
