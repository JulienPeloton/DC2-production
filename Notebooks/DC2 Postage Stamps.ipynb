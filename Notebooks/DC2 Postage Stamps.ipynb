{
 "cells": [
  {
   "cell_type": "markdown",
   "metadata": {},
   "source": [
    "## DC2: Generate Postage Stamps for set of RA, Dec coordinates\n",
    "\n",
    "This Notebook demonstrates taking a list of RA, Dec positions and generating postage-stamp cutout images from the coadded images.\n",
    "\n",
    "This is intended to be runnable at NERSC through the jupyter-dev.nersc.gov interface from a local git clone of the repo in your NERSC directory.   You can run it wherever, with appropriate adjustment of the 'repo' location to point to a place where you have a Butler repo will all of the images.\n",
    "\n",
    "Based in part on https://github.com/lsst-com/notebooks/blob/master/postage_stamp.ipynb"
   ]
  },
  {
   "cell_type": "code",
   "execution_count": null,
   "metadata": {},
   "outputs": [],
   "source": [
    "import numpy as np\n",
    "\n",
    "from astropy.table import Table\n",
    "\n",
    "import lsst.daf.persistence as dafPersist\n",
    "import lsst.afw.geom as afwGeom\n",
    "import lsst.afw.coord as afwCoord\n",
    "import lsst.afw.image as afwImage\n",
    "\n",
    "from astropy.visualization import ZScaleInterval"
   ]
  },
  {
   "cell_type": "code",
   "execution_count": null,
   "metadata": {},
   "outputs": [],
   "source": [
    "# Set plotting defaults\n",
    "%matplotlib inline\n",
    "import matplotlib.pyplot as plt\n",
    "plt.rcParams['figure.figsize'] = (8, 8)\n",
    "zscale = ZScaleInterval()"
   ]
  },
  {
   "cell_type": "code",
   "execution_count": null,
   "metadata": {},
   "outputs": [],
   "source": [
    "repo = '/global/projecta/projectdirs/lsst/global/in2p3/Run1.1/output'\n",
    "butler = dafPersist.Butler(repo)"
   ]
  },
  {
   "cell_type": "code",
   "execution_count": null,
   "metadata": {},
   "outputs": [],
   "source": [
    "filt = 'r'\n",
    "coord_file = 'id_ra_dec_mid_mag_%s.txt' % filt\n",
    "id_ra_dec = Table.read(coord_file, format='ascii')\n",
    "\n",
    "# Reformat into afw Geometry sphere points for lookup\n",
    "coord_list = [afwGeom.SpherePoint(r, d, afwGeom.degrees) for r, d in zip(id_ra_dec['RA'], id_ra_dec['DEC'])]"
   ]
  },
  {
   "cell_type": "code",
   "execution_count": null,
   "metadata": {},
   "outputs": [],
   "source": [
    "def cutout_coadd_ra_dec(butler, ra, dec, filt='r', datasetType='deepCoadd', **kwargs):\n",
    "    \"\"\"Produce a cutout from coadd from the given butler at the given RA, Dec in decimal degrees\n",
    "    \n",
    "    Trivial wrapper around 'cutout_from_coadd_spherepoint'\n",
    "    \"\"\"\n",
    "    radec = afwGeom.SpherePoint(ra, dec, afwGeom.degrees)\n",
    "    return cutout_from_coadd_spherepoint(butler, radec, filter=filt, datasetType=datasetType)\n",
    "    \n",
    "def cutout_from_coadd_spherepoint(butler, radec, filt='r', datasetType='deepCoadd',\n",
    "                                  skymap=None, cutoutSideLength=50, **kwargs):\n",
    "    \"\"\"Produce a cutout from a coadd at the given afw SpherePoint radec\n",
    "    \n",
    "\n",
    "    Parameters\n",
    "    --\n",
    "    butler - lsst.daf.persistence.Butler of the data repository\n",
    "    radec - lsst.afw.geom.SpherePoint coordinates of the center of the cutout.\n",
    "    filter - Filter of the image to load\n",
    "    datasetType - 'deepCoadd'  Which type of coadd to load.  Doesn't support 'calexp'\n",
    "    \n",
    "    skymap - [optional] Pass in to avoid the Butler read.  Useful if you have lots of them.\n",
    "    cutoutSideLength - [optional] Side of the cutout region in pixels.\n",
    "    \n",
    "    Returns\n",
    "    --\n",
    "    MaskedImage\n",
    "    \"\"\"\n",
    "    cutoutSideLength = 50  # pixels\n",
    "    cutoutSize = afwGeom.ExtentI(cutoutSideLength, cutoutSideLength)\n",
    "\n",
    "    if skymap is None:\n",
    "        skymap = butler.get(\"deepCoadd_skyMap\")\n",
    "    \n",
    "    tractInfo = skymap.findTract(radec)\n",
    "    patchInfo = tractInfo.findPatch(radec)\n",
    "    xy = afwGeom.PointI(tractInfo.getWcs().skyToPixel(radec))\n",
    "    bbox = afwGeom.BoxI(xy - cutoutSize//2, cutoutSize)\n",
    "\n",
    "    coaddId = {'tract': tractInfo.getId(), 'patch': \"%d,%d\" % patchInfo.getIndex(), 'filter': filt}\n",
    "    \n",
    "    cutout_image = butler.get(datasetType+'_sub', bbox=bbox, immediate=True, dataId=coaddId)\n",
    "    \n",
    "    return cutout_image"
   ]
  },
  {
   "cell_type": "code",
   "execution_count": null,
   "metadata": {},
   "outputs": [],
   "source": [
    "def show_cutout_image(butler, radec, vmin=None, vmax=None):\n",
    "    cutout_image = cutout_from_coadd_spherepoint(butler, radec, filter='r', datasetType='deepCoadd')\n",
    "\n",
    "    xy = cutout_image.getWcs().skyToPixel(radec)\n",
    "    if vmin is None or vmax is None:\n",
    "        vmin, vmax = zscale.get_limits(cutout_image.image.array)\n",
    "\n",
    "    plt.imshow(cutout_image.image.array, vmin=vmin, vmax=vmax, cmap='binary')\n",
    "    plt.colorbar()\n",
    "    plt.scatter(xy.getX() - cutout_image.getX0(), xy.getY() - cutout_image.getY0(), color='none', edgecolor='red', marker='o', \n",
    "        s=200)\n",
    "    plt.show()"
   ]
  },
  {
   "cell_type": "code",
   "execution_count": null,
   "metadata": {},
   "outputs": [],
   "source": [
    "# Plot just one\n",
    "show_cutout_image(butler, coord_list[0])"
   ]
  },
  {
   "cell_type": "code",
   "execution_count": null,
   "metadata": {
    "scrolled": false
   },
   "outputs": [],
   "source": [
    "vmin, vmax = -0.75, +1.5  # Fix the vmin, vmax to make it easier to compare across postage stamps.\n",
    "for radec in coord_list:\n",
    "    show_cutout_image(butler, radec, vmin=vmin, vmax=vmax)"
   ]
  },
  {
   "cell_type": "code",
   "execution_count": null,
   "metadata": {},
   "outputs": [],
   "source": []
  }
 ],
 "metadata": {
  "kernelspec": {
   "display_name": "Python(DC2)",
   "language": "python",
   "name": "dc2_stack"
  },
  "language_info": {
   "codemirror_mode": {
    "name": "ipython",
    "version": 3
   },
   "file_extension": ".py",
   "mimetype": "text/x-python",
   "name": "python",
   "nbconvert_exporter": "python",
   "pygments_lexer": "ipython3",
   "version": "3.6.2"
  }
 },
 "nbformat": 4,
 "nbformat_minor": 2
}
