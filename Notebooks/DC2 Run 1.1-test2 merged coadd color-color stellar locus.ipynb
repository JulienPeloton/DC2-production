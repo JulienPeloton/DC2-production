{
 "cells": [
  {
   "cell_type": "markdown",
   "metadata": {
    "nbpresent": {
     "id": "0789d321-e15e-44b8-b96e-34b4e993cf16"
    }
   },
   "source": [
    "# Looking at merged tract-patch catalogs in Run 1.1 leading up to DC2\n",
    "Michael Wood-Vasey"
   ]
  },
  {
   "cell_type": "code",
   "execution_count": null,
   "metadata": {
    "nbpresent": {
     "id": "69694b18-dcc8-463d-8e86-e4fcd572f680"
    }
   },
   "outputs": [],
   "source": [
    "import os\n",
    "\n",
    "import numpy as np\n",
    "\n",
    "%matplotlib inline \n",
    "import matplotlib.pyplot as plt\n",
    "\n",
    "import pandas as pd"
   ]
  },
  {
   "cell_type": "code",
   "execution_count": null,
   "metadata": {},
   "outputs": [],
   "source": [
    "# Some plotting choices\n",
    "plt.rcParams['figure.figsize'] = (8, 8)\n",
    "\n",
    "# cmap = 'Oranges'\n",
    "cmap = 'viridis_r'"
   ]
  },
  {
   "cell_type": "code",
   "execution_count": null,
   "metadata": {
    "nbpresent": {
     "id": "00c38da4-1a09-46e2-a3dc-b63886072989"
    }
   },
   "outputs": [],
   "source": [
    "merged_tract_data_dir = '/global/projecta/projectdirs/lsst/global/in2p3/Run1.1-test2/summary/'"
   ]
  },
  {
   "cell_type": "code",
   "execution_count": null,
   "metadata": {
    "nbpresent": {
     "id": "1d68d81a-790f-460d-900c-3f447c8309a9"
    }
   },
   "outputs": [],
   "source": [
    "tract, patch = 4849, 16\n",
    "basename = 'merged_tract_%d.hdf5' % tract\n",
    "key = 'coadd_%d_%2d' % (tract, patch)"
   ]
  },
  {
   "cell_type": "code",
   "execution_count": null,
   "metadata": {
    "nbpresent": {
     "id": "ee575d25-f444-4410-9b18-9d263b4d43fd"
    }
   },
   "outputs": [],
   "source": [
    "merged_tract_file = os.path.join(merged_tract_data_dir, basename)"
   ]
  },
  {
   "cell_type": "code",
   "execution_count": null,
   "metadata": {
    "nbpresent": {
     "id": "a37e0a04-e349-4229-ba8a-bb96f857d68e"
    }
   },
   "outputs": [],
   "source": [
    "df = pd.read_hdf(merged_tract_file, key=key)"
   ]
  },
  {
   "cell_type": "code",
   "execution_count": null,
   "metadata": {
    "nbpresent": {
     "id": "f27a27c2-5123-420c-8cce-a0242b0b9966"
    }
   },
   "outputs": [],
   "source": [
    "print(len(df), \"coadd objects\")"
   ]
  },
  {
   "cell_type": "code",
   "execution_count": null,
   "metadata": {
    "nbpresent": {
     "id": "e1b3faf8-518f-4162-853e-7da255b2d7bd"
    }
   },
   "outputs": [],
   "source": [
    "plt.figure(figsize=(8,8))\n",
    "plt.scatter(df['g_mag'] - df['r_mag'], df['r_mag'] - df['i_mag'], marker='.')\n",
    "plt.xlim(-1, +2)\n",
    "plt.ylim(-1, +2)\n",
    "plt.xlabel('g-r')\n",
    "plt.ylabel('r-i')"
   ]
  },
  {
   "cell_type": "markdown",
   "metadata": {
    "nbpresent": {
     "id": "4527a23f-081f-4b46-88cf-407d5935fd2d"
    }
   },
   "source": [
    "That's a bit of a mess, but maybe we're starting to see a bit of some structure resolving.  Let's do the traditional simple 2D histogram version:"
   ]
  },
  {
   "cell_type": "markdown",
   "metadata": {},
   "source": [
    "Let's overplot a rough stellar locus.  This is just a simple approximation with two lines.  See, e.g., Ivezic+2007, AJ, 134, 973. Fig. 3 (http://iopscience.iop.org/article/10.1086/519976/pdf)"
   ]
  },
  {
   "cell_type": "code",
   "execution_count": null,
   "metadata": {
    "scrolled": false
   },
   "outputs": [],
   "source": [
    "def simple_stellar_locus_gmr_rmi(color='red', linestyle='--', linewidth=2.5):\n",
    "    m_stars_gmr = [+1.4, +1.4]\n",
    "    m_stars_rmi = [+0.5, +1.5]\n",
    "\n",
    "    other_stars_gmr = [-0.5, +1.4]\n",
    "    other_stars_rmi = [-0.4, +0.5]\n",
    "\n",
    "    model_gmr = other_stars_gmr + m_stars_gmr\n",
    "    model_rmi = other_stars_rmi + m_stars_rmi\n",
    "    \n",
    "    return model_gmr, model_rmi\n",
    "\n",
    "    \n",
    "def get_stellar_locus_davenport(color1='gmr', color2='rmi',\n",
    "                                datafile='Davenport_2014_MNRAS_440_3430_table1.txt'):\n",
    "    data = pd.read_table(datafile, sep='\\s+', header=1)\n",
    "    return data[color1], data[color2]\n",
    "    \n",
    "    \n",
    "def plot_stellar_locus(color1='gmr', color2='rmi',\n",
    "                       color='red', linestyle='--', linewidth=2.5):\n",
    "    model_gmr, model_rmi = get_stellar_locus_davenport(color1, color2)\n",
    "    plot_kwargs = {'linestyle': linestyle, 'linewidth': linewidth, 'color': color,\n",
    "                   'scalex': False, 'scaley': False}\n",
    "    plt.plot(model_gmr, model_rmi, **plot_kwargs)"
   ]
  },
  {
   "cell_type": "code",
   "execution_count": null,
   "metadata": {
    "scrolled": false
   },
   "outputs": [],
   "source": [
    "def plot_color_color(z, color1, color2, range1=(-1, +2), range2=(-1, +2), bins=31):\n",
    "    \"\"\"Plot a color-color diagram.  Overlay stellar locus\"\"\"\n",
    "    band1, band2 = color1[0], color1[-1]\n",
    "    band3, band4 = color2[0], color2[-1]\n",
    "    H, xedges, yedges = np.histogram2d(\n",
    "        z['%s_mag' % band1] - z['%s_mag' % band2],\n",
    "        z['%s_mag' % band3] - z['%s_mag' % band4],\n",
    "        range=(range1, range2), bins=bins)\n",
    "        \n",
    "    zi = H.T\n",
    "    xi = (xedges[1:] + xedges[:-1])/2\n",
    "    yi = (yedges[1:] + yedges[:-1])/2\n",
    "\n",
    "    plt.figure(figsize=(8, 8))\n",
    "    plt.pcolormesh(xi, yi, zi, cmap=cmap)\n",
    "    plt.contour(xi, yi, zi)\n",
    "    plt.xlabel('%s-%s' % (band1, band2))\n",
    "    plt.ylabel('%s-%s' % (band3, band4))\n",
    "\n",
    "    plot_stellar_locus(color1, color2)"
   ]
  },
  {
   "cell_type": "code",
   "execution_count": null,
   "metadata": {
    "nbpresent": {
     "id": "3a89fe4d-718f-4748-9ca7-28e0b805e04d"
    },
    "scrolled": false
   },
   "outputs": [],
   "source": [
    "plt.figure(figsize=(8,6.5))\n",
    "plt.hist2d(df['g_mag']-df['r_mag'], df['r_mag']-df['i_mag'],\n",
    "           cmap=cmap, range=((-1, +2), (-1, +2)), bins=51)\n",
    "plt.colorbar()\n",
    "plt.xlabel('g-r')\n",
    "plt.ylabel('r-i')\n",
    "\n",
    "plot_stellar_locus('gmr', 'rmi')"
   ]
  },
  {
   "cell_type": "markdown",
   "metadata": {},
   "source": [
    "Clean this up a bit to only include stars with SNR > 3 in g and r"
   ]
  },
  {
   "cell_type": "code",
   "execution_count": null,
   "metadata": {},
   "outputs": [],
   "source": [
    "snr_threshold = 25\n",
    "mag_err_threshold = 1/snr_threshold\n",
    "good_snr = df[(df['g_mag_err'] < mag_err_threshold) & (df['r_mag_err'] < mag_err_threshold)]"
   ]
  },
  {
   "cell_type": "code",
   "execution_count": null,
   "metadata": {},
   "outputs": [],
   "source": [
    "bright_snr_threshold = 100\n",
    "mag_err_threshold = 1/bright_snr_threshold\n",
    "bright_stars = df[(df['g_mag_err'] < mag_err_threshold) & (df['r_mag_err'] < mag_err_threshold)]"
   ]
  },
  {
   "cell_type": "code",
   "execution_count": null,
   "metadata": {
    "nbpresent": {
     "id": "3a0b17cb-981e-49a3-a872-1f5ef2ab59cd"
    }
   },
   "outputs": [],
   "source": [
    "safe_max_extended = 1.0\n",
    "stars = good_snr[good_snr['base_ClassificationExtendedness_value'] < safe_max_extended]\n",
    "galaxies = good_snr[good_snr['base_ClassificationExtendedness_value'] >= safe_max_extended]"
   ]
  },
  {
   "cell_type": "code",
   "execution_count": null,
   "metadata": {},
   "outputs": [],
   "source": [
    "print(\"%d stars (SNR > %.0f)\" % (len(stars), snr_threshold))\n",
    "print(\"%d bright stars (SNR > %.0f)\" % (len(bright_stars), bright_snr_threshold))"
   ]
  },
  {
   "cell_type": "code",
   "execution_count": null,
   "metadata": {
    "nbpresent": {
     "id": "663149ff-4774-43d3-be5a-0a3bf8ed8952"
    },
    "scrolled": false
   },
   "outputs": [],
   "source": [
    "hist_kwargs = {'bins': np.linspace(-2, 3, 51),\n",
    "               'range': (-2, +3),\n",
    "               'linewidth': 4,\n",
    "               'histtype': 'step'}\n",
    "          \n",
    "plt.hist(df['g_mag'] - df['r_mag'], label='all', color='grey', **hist_kwargs)\n",
    "plt.hist(good_snr['g_mag'] - good_snr['r_mag'], label='SNR > %.0f' % snr_threshold, color='black',\n",
    "         **hist_kwargs)\n",
    "plt.hist(galaxies['g_mag'] - galaxies['r_mag'], label='galaxies', **hist_kwargs)\n",
    "plt.hist(stars['g_mag'] - stars['r_mag'], label='stars', **hist_kwargs)\n",
    "plt.xlabel('g-r')\n",
    "plt.ylabel('# / 0.5 mag bin')\n",
    "plt.legend()"
   ]
  },
  {
   "cell_type": "code",
   "execution_count": null,
   "metadata": {
    "nbpresent": {
     "id": "dacd2cd2-204b-43b9-9f68-447b52b581fd"
    },
    "scrolled": false
   },
   "outputs": [],
   "source": [
    "plot_color_color(galaxies, 'gmr', 'rmi')"
   ]
  },
  {
   "cell_type": "code",
   "execution_count": null,
   "metadata": {},
   "outputs": [],
   "source": [
    "plot_color_color(stars, 'gmr', 'rmi')"
   ]
  },
  {
   "cell_type": "code",
   "execution_count": null,
   "metadata": {},
   "outputs": [],
   "source": [
    "plt.scatter(df['r_mag'], 1/df['r_mag_err'], label='1/r_mag_err')\n",
    "plt.xlabel('r')\n",
    "plt.ylabel('1/r_err')\n",
    "plt.axhline(bright_snr_threshold, linestyle='--', color='red', label='Bright star')\n",
    "plt.axhline(snr_threshold, linestyle='--', color='orange', label='Good SNR')\n",
    "plt.legend()\n",
    "plt.xlim(15, 28)\n",
    "# plt.ylim(0, 1.0)"
   ]
  },
  {
   "cell_type": "code",
   "execution_count": null,
   "metadata": {},
   "outputs": [],
   "source": [
    "plot_color_color(stars, 'rmi', 'imz')"
   ]
  },
  {
   "cell_type": "markdown",
   "metadata": {},
   "source": [
    "See, e.g., http://www.astroml.org/examples/datasets/plot_sdss_imaging.html"
   ]
  },
  {
   "cell_type": "code",
   "execution_count": null,
   "metadata": {},
   "outputs": [],
   "source": [
    "z = galaxies\n",
    "plt.scatter(z['g_mag'] - z['r_mag'], z['g_mag'], marker='.')\n",
    "plt.xlim(-1, +2)\n",
    "plt.ylim(25, 15)"
   ]
  },
  {
   "cell_type": "code",
   "execution_count": null,
   "metadata": {},
   "outputs": [],
   "source": [
    "z = stars\n",
    "H, xedges, yedges = np.histogram2d(z['g_mag']-z['r_mag'], z['g_mag'],\n",
    "                                    range=((-1, +2), (15, 25)), bins=31)\n",
    "zi = H.T\n",
    "xi = (xedges[1:] + xedges[:-1])/2\n",
    "yi = (yedges[1:] + yedges[:-1])/2\n",
    "\n",
    "plt.pcolormesh(xi, yi, zi, cmap=cmap)\n",
    "plt.contour(xi, yi, zi)\n",
    "plt.xlabel('g-r')\n",
    "plt.ylabel('g')\n",
    "plt.ylim(25, 15)"
   ]
  },
  {
   "cell_type": "markdown",
   "metadata": {
    "nbpresent": {
     "id": "4791c937-9435-405d-8490-a4f9f6d80aa6"
    }
   },
   "source": [
    "## Appendix"
   ]
  },
  {
   "cell_type": "markdown",
   "metadata": {},
   "source": [
    "## Generic Catalog Reader (GCR)\n",
    "\n",
    "After a little bit you'll find yourself wanting to ask interesting questions, like how well does the DC2 analysis recover the input sources?  Or easily loading in all of the patches of a tract.  A convenient framework for generalizing analyses of DESC-DC related catalogs is the Generic Catalog Reader:\n",
    "\n",
    "* GCR is a general utility\n",
    "https://github.com/yymao/generic-catalog-reader\n",
    "* The catalogs supporting DC2 are in:\n",
    "https://github.com/LSSTDESC/gcr-catalogs\n",
    "\n",
    "See 'DC2_Static_Coadd_Catalog_reader.ipynb' notebook by Yao-Yuan Mao\n",
    "\n",
    "https://github.com/LSSTDESC/DC2_Repo/blob/master/Notebooks/DC2%20Static%20Coadd%20Catalog%20reader.ipynb\n",
    "\n",
    "We don't have a package management set up for our DESC+DC2 products, so that notebook starts with a bit of explicit insertion of DC2 scripts into the path."
   ]
  },
  {
   "cell_type": "markdown",
   "metadata": {
    "nbpresent": {
     "id": "b69e7f78-0c2d-486b-871b-58aef4ce28f3"
    }
   },
   "source": [
    "## Density Estimation\n",
    "We could entertain ourselves by doing a somewhat better density estimation\n",
    "E.g., a Gaussian kernel density estimation."
   ]
  },
  {
   "cell_type": "code",
   "execution_count": null,
   "metadata": {
    "nbpresent": {
     "id": "3ace31b4-c038-42a0-a60e-0e06f2eb9653"
    },
    "scrolled": false
   },
   "outputs": [],
   "source": [
    "# https://stackoverflow.com/questions/19390320/scatterplot-contours-in-matplotlib\n",
    "def bin_kde(x, y, nbins=20, **kwargs):\n",
    "    from scipy.stats import kde\n",
    "    k = kde.gaussian_kde(x, y)\n",
    "    xi, yi = np.mgrid[x.min():x.max():nbins*1j, y.min():y.max():nbis*1j]\n",
    "    zi = k(np.vstack([xi.flatten(), yi.flatten()]))\n",
    "\n",
    "# This doesn't exactly work, I've done something wrong here.\n",
    "xi, yi, zi = bin_kde(stars['g_mag']-stars['r_mag'], stars['r_mag']-stars['i_mag'])"
   ]
  },
  {
   "cell_type": "code",
   "execution_count": null,
   "metadata": {
    "nbpresent": {
     "id": "e4408a56-5ee5-42e3-ae7a-6f2110ea463e"
    }
   },
   "outputs": [],
   "source": []
  }
 ],
 "metadata": {
  "kernelspec": {
   "display_name": "Python [default]",
   "language": "python",
   "name": "python3"
  },
  "language_info": {
   "codemirror_mode": {
    "name": "ipython",
    "version": 3
   },
   "file_extension": ".py",
   "mimetype": "text/x-python",
   "name": "python",
   "nbconvert_exporter": "python",
   "pygments_lexer": "ipython3",
   "version": "3.6.1"
  }
 },
 "nbformat": 4,
 "nbformat_minor": 2
}
