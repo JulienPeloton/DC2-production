{
 "cells": [
  {
   "cell_type": "code",
   "execution_count": null,
   "metadata": {},
   "outputs": [],
   "source": [
    "#import sys\n",
    "#sys.path.insert(0, '/global/common/software/lsst/common/miniconda/current/lib/python3.6/site-packages')\n",
    "#sys.path.insert(0, '/path/to/your/cloned/gcr-catalogs')"
   ]
  },
  {
   "cell_type": "code",
   "execution_count": null,
   "metadata": {},
   "outputs": [],
   "source": [
    "import numpy as np\n",
    "from GCR import GCRQuery\n",
    "import GCRCatalogs"
   ]
  },
  {
   "cell_type": "code",
   "execution_count": null,
   "metadata": {},
   "outputs": [],
   "source": [
    "import matplotlib.pyplot as plt\n",
    "%matplotlib inline"
   ]
  },
  {
   "cell_type": "code",
   "execution_count": null,
   "metadata": {},
   "outputs": [],
   "source": [
    "catalog = GCRCatalogs.load_catalog('dc2_coadd_run1.1p')"
   ]
  },
  {
   "cell_type": "code",
   "execution_count": null,
   "metadata": {},
   "outputs": [],
   "source": [
    "sorted(catalog.list_all_quantities())"
   ]
  },
  {
   "cell_type": "code",
   "execution_count": null,
   "metadata": {},
   "outputs": [],
   "source": [
    "catalog.available_tracts_and_patches[:20]"
   ]
  },
  {
   "cell_type": "code",
   "execution_count": null,
   "metadata": {},
   "outputs": [],
   "source": [
    "catalog.available_tracts"
   ]
  },
  {
   "cell_type": "code",
   "execution_count": null,
   "metadata": {},
   "outputs": [],
   "source": [
    "tract_number = 4850\n",
    "for d in catalog.get_quantities(['ra', 'dec'], native_filters=[(lambda x: x==tract_number, 'tract')], return_iterator=True):\n",
    "    plt.scatter(d['ra'], d['dec'], s=2);\n",
    "plt.xlabel('RA');\n",
    "plt.ylabel('Dec');\n",
    "plt.title('Tract {}'.format(tract_number));"
   ]
  },
  {
   "cell_type": "code",
   "execution_count": null,
   "metadata": {},
   "outputs": [],
   "source": [
    "tract_number = 4850\n",
    "mags = ['mag_g_cModel', 'mag_r_cModel', 'mag_i_cModel']\n",
    "d = catalog.get_quantities(mags, \n",
    "                           filters=[GCRQuery((np.isfinite, key)) for key in mags] + ['mag_r_cModel < 25'], \n",
    "                           native_filters=[(lambda x: x==tract_number, 'tract')])\n",
    "c = plt.scatter(d['mag_g_cModel'] - d['mag_r_cModel'], d['mag_r_cModel'] - d['mag_i_cModel'], s=2, c=d['mag_r_cModel']);\n",
    "plt.colorbar(c, label='$r$')\n",
    "plt.xlabel('$g-r$');\n",
    "plt.ylabel('$r-i$');"
   ]
  },
  {
   "cell_type": "markdown",
   "metadata": {},
   "source": [
    "\n",
    "Here's an example from https://github.com/LSSTDESC/DC2_Repo/blob/issues/155/Validation/lensing_distributions.ipynb"
   ]
  },
  {
   "cell_type": "code",
   "execution_count": null,
   "metadata": {},
   "outputs": [],
   "source": [
    "catalog.add_quantity_modifier('HSM_res', \n",
    "                              'ext_shapeHSM_HsmShapeRegauss_resolution', \n",
    "                              overwrite=True)\n",
    "catalog.add_quantity_modifier('HSM_ell', \n",
    "                              (np.hypot, 'ext_shapeHSM_HsmShapeRegauss_e1', 'ext_shapeHSM_HsmShapeRegauss_e2'), \n",
    "                              overwrite=True)"
   ]
  },
  {
   "cell_type": "code",
   "execution_count": null,
   "metadata": {},
   "outputs": [],
   "source": [
    "# Lensing cuts based on Mandelbaum 2017 (arxiv 1705.06745)\n",
    "\n",
    "lensing_cuts = [\n",
    "    ~GCRQuery((np.isnan, 'mag_i_cModel')), # (from this and below) remove nan entries\n",
    "    ~GCRQuery((np.isnan, 'ext_shapeHSM_HsmShapeRegauss_resolution')),\n",
    "    ~GCRQuery((np.isnan, 'ext_shapeHSM_HsmShapeRegauss_e1')),\n",
    "    ~GCRQuery((np.isnan, 'ext_shapeHSM_HsmShapeRegauss_e2')),\n",
    "    GCRQuery('good'), \n",
    "    GCRQuery('snr_i_cModel >= 10'), # (from this and below) cut on object properties\n",
    "    GCRQuery('HSM_res >= 0.3'),\n",
    "    GCRQuery('HSM_ell < 2.0'),\n",
    "    GCRQuery('ext_shapeHSM_HsmShapeRegauss_sigma <= 0.4'),\n",
    "    GCRQuery('mag_i_cModel < 24.5'), # FIXME: Doesnt have exinction correction\n",
    "    GCRQuery('blendedness < 10**(-0.375)'),\n",
    "]"
   ]
  },
  {
   "cell_type": "code",
   "execution_count": null,
   "metadata": {},
   "outputs": [],
   "source": [
    "tract_number = 4850\n",
    "quantities = ['mag_i_cModel', 'snr_i_cModel', 'HSM_res', 'HSM_ell', 'psf_fwhm_i']\n",
    "d = catalog.get_quantities(quantities, \n",
    "                           filters=lensing_cuts, \n",
    "                           native_filters=[(lambda x: x==tract_number, 'tract')])"
   ]
  },
  {
   "cell_type": "code",
   "execution_count": null,
   "metadata": {},
   "outputs": [],
   "source": [
    "fig, ax = plt.subplots(2, 2, figsize=(8,8))\n",
    "for ax_this, quantity in zip(ax.flat, quantities):\n",
    "    ax_this.hist(d[quantity], 100, range=([0,100] if quantity=='snr_i_cModel' else None))\n",
    "    ax_this.set_xlabel(quantity)\n",
    "fig.tight_layout()"
   ]
  },
  {
   "cell_type": "code",
   "execution_count": null,
   "metadata": {},
   "outputs": [],
   "source": [
    "fig, ax = plt.subplots()\n",
    "ax.hist(d['psf_fwhm_i'], 100);\n",
    "mean = d['psf_fwhm_i'].mean()\n",
    "ax.axvline(mean, c='C1');\n",
    "ax.text(mean*1.01, ax.get_ylim()[1]*0.95, 'mean = {:.4g}'.format(mean));\n",
    "ax.set_xlabel('PSF FWHM [arcsec]');"
   ]
  }
 ],
 "metadata": {
  "kernelspec": {
   "display_name": "desc-python",
   "language": "python",
   "name": "desc-python"
  },
  "language_info": {
   "codemirror_mode": {
    "name": "ipython",
    "version": 3
   },
   "file_extension": ".py",
   "mimetype": "text/x-python",
   "name": "python",
   "nbconvert_exporter": "python",
   "pygments_lexer": "ipython3",
   "version": "3.6.2"
  }
 },
 "nbformat": 4,
 "nbformat_minor": 2
}
