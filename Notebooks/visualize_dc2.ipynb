{
 "cells": [
  {
   "cell_type": "code",
   "execution_count": null,
   "metadata": {},
   "outputs": [],
   "source": [
    "import glob\n",
    "import os\n",
    "\n",
    "import dask\n",
    "\n",
    "import dask as da\n",
    "import dask.dataframe as dd\n",
    "import datashader as ds\n",
    "import holoviews as hv\n",
    "from holoviews.operation.datashader import datashade, shade, dynspread, rasterize\n",
    "\n",
    "\n",
    "from bokeh.models.ranges import DataRange1d, Range1d\n",
    "\n",
    "import pandas as pd"
   ]
  },
  {
   "cell_type": "code",
   "execution_count": null,
   "metadata": {},
   "outputs": [],
   "source": [
    "hv.extension('bokeh')"
   ]
  },
  {
   "cell_type": "code",
   "execution_count": null,
   "metadata": {},
   "outputs": [],
   "source": [
    "tract = 4850\n",
    "patch = '34'\n",
    "\n",
    "data_dir = '/global/projecta/projectdirs/lsst/global/in2p3/Run1.1/summary'\n",
    "\n",
    "datafile_tract_patch_pattern = os.path.join(data_dir, 'dpdd_object_tract_%d_patch_%s.parquet' % (tract, patch))\n",
    "datafile_tract_pattern = os.path.join(data_dir, 'dpdd_object_tract_%d.parquet' % tract)\n",
    "datafile_all_pattern = os.path.join(data_dir, 'dpdd_object_tract_????.parquet')\n",
    "\n",
    "datafile_tract = os.path.join(data_dir, 'dpdd_object_tract_%d.parquet' % tract)\n",
    "datafile_all = os.path.join(data_dir, 'dpdd_object.parquet')"
   ]
  },
  {
   "cell_type": "code",
   "execution_count": null,
   "metadata": {},
   "outputs": [],
   "source": [
    "#dask read_parquet doesn't glob the same way glob does\n",
    "# So we global here to get our file list and then pass that to dask.read_parquet\n",
    "datafile_all_list = glob.glob(datafile_all_pattern)"
   ]
  },
  {
   "cell_type": "code",
   "execution_count": null,
   "metadata": {},
   "outputs": [],
   "source": [
    "datafile = datafile_tract\n",
    "# datafile = datafile_all_list\n",
    "\n",
    "df = dd.read_parquet(datafile, columns=['ra', 'dec', 'mag_g', 'mag_r', 'mag_i', 'magerr_g', 'magerr_r', 'magerr_i'])"
   ]
  },
  {
   "cell_type": "code",
   "execution_count": null,
   "metadata": {},
   "outputs": [],
   "source": [
    "print(df.columns)"
   ]
  },
  {
   "cell_type": "code",
   "execution_count": null,
   "metadata": {},
   "outputs": [],
   "source": [
    "# Clean\n",
    "snr_magerr_threshold = 0.3  # mag\n",
    "df = df[(df.magerr_g < snr_magerr_threshold) & (df.magerr_r < snr_magerr_threshold) & (df.magerr_i < snr_magerr_threshold)]"
   ]
  },
  {
   "cell_type": "code",
   "execution_count": null,
   "metadata": {},
   "outputs": [],
   "source": [
    "df['g-r'] = df['mag_g'] - df['mag_r']\n",
    "df['r-i'] = df['mag_r'] - df['mag_i']"
   ]
  },
  {
   "cell_type": "code",
   "execution_count": null,
   "metadata": {},
   "outputs": [],
   "source": [
    "points_ra_dec = hv.Points(df, kdims=['ra', 'dec'], vdims=['g-r'])\n",
    "ra_dec = datashade(points_ra_dec, aggregator=ds.mean('g-r'))"
   ]
  },
  {
   "cell_type": "code",
   "execution_count": null,
   "metadata": {},
   "outputs": [],
   "source": [
    "points_mag_magerr = hv.Points(df, kdims=[hv.Dimension('mag_g', soft_range=(14, 28)),\n",
    "                                         'magerr_g'])\n",
    "mag_magerr = datashade(points_mag_magerr)"
   ]
  },
  {
   "cell_type": "code",
   "execution_count": null,
   "metadata": {},
   "outputs": [],
   "source": [
    "points_color_mag = hv.Points(df, kdims=[hv.Dimension('g-r', soft_range=(-2, 3)),\n",
    "                                        hv.Dimension('mag_g', soft_range=(28, 14))])\n",
    "color_mag = datashade(points_color_mag)"
   ]
  },
  {
   "cell_type": "code",
   "execution_count": null,
   "metadata": {},
   "outputs": [],
   "source": [
    "points_color_color = hv.Points(df, kdims=[hv.Dimension('g-r', soft_range=(-2, 3)),\n",
    "                                          hv.Dimension('r-i', soft_range=(-2, 3))])\n",
    "# color_color = datashade(points_color_color.hist(dimension=['g-r', 'r-i']))\n",
    "color_color = datashade(points_color_color)"
   ]
  },
  {
   "cell_type": "code",
   "execution_count": null,
   "metadata": {},
   "outputs": [],
   "source": [
    "ra_dec + color_mag + color_color"
   ]
  },
  {
   "cell_type": "code",
   "execution_count": null,
   "metadata": {},
   "outputs": [],
   "source": [
    "%%opts QuadMesh [tools=['hover']] (alpha=0 hover_alpha=0.2)\n",
    "from holoviews.streams import RangeXY\n",
    "\n",
    "dynamic_mag_magerr = datashade(points_mag_magerr, width=400, height=400) * \\\n",
    "    hv.util.Dynamic(rasterize(points_mag_magerr, width=10, height=10, streams=[RangeXY]), operation=hv.QuadMesh)\n",
    "\n",
    "dynamic_color_mag = datashade(points_color_mag, width=400, height=400) * \\\n",
    "    hv.util.Dynamic(rasterize(points_color_mag, width=10, height=10, streams=[RangeXY]), operation=hv.QuadMesh)\n",
    "\n",
    "dynamic_color_color = datashade(points_color_color, width=400, height=400) * \\\n",
    "    hv.util.Dynamic(rasterize(points_color_color, width=10, height=10, streams=[RangeXY]), operation=hv.QuadMesh)"
   ]
  },
  {
   "cell_type": "code",
   "execution_count": null,
   "metadata": {},
   "outputs": [],
   "source": [
    "dynamic_mag_magerr + dynamic_color_mag + dynamic_color_color"
   ]
  },
  {
   "cell_type": "code",
   "execution_count": null,
   "metadata": {},
   "outputs": [],
   "source": [
    "len(df)"
   ]
  },
  {
   "cell_type": "code",
   "execution_count": null,
   "metadata": {},
   "outputs": [],
   "source": [
    "hv.help(color_mag)"
   ]
  },
  {
   "cell_type": "code",
   "execution_count": null,
   "metadata": {},
   "outputs": [],
   "source": []
  }
 ],
 "metadata": {
  "kernelspec": {
   "display_name": "desc-python-dask",
   "language": "python",
   "name": "desc-python-dask"
  },
  "language_info": {
   "codemirror_mode": {
    "name": "ipython",
    "version": 3
   },
   "file_extension": ".py",
   "mimetype": "text/x-python",
   "name": "python",
   "nbconvert_exporter": "python",
   "pygments_lexer": "ipython3",
   "version": "3.6.2"
  }
 },
 "nbformat": 4,
 "nbformat_minor": 2
}
