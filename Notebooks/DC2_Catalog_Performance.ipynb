{
 "cells": [
  {
   "cell_type": "markdown",
   "metadata": {},
   "source": [
    "## Performance Tests of Coadd Catalog Access\n",
    "Michael Wood-Vasey\n",
    "Notebook last run: 2018-07-30\n",
    "\n",
    "Test the performance of data manipulations of the static coadd catalogs.\n",
    "\n",
    "### Summary\n",
    "1. Using a trimmed file consistent only of the columns exposed through the DPDD is 10 times smaller than the full file.\n",
    "2. Analyses using GCRCatalogs are 10-30 faster with the trimmed files than with the full files.\n",
    "3. Analyses with the HDF5 `format='table'` are 1-2 times slower than HDF5 `format='fixed'` files.\n",
    "4. Directly accessing vs. using the GCR iterator had no significant performance impact.\n",
    "5. A simple Pandas analysis is listed here.\n",
    "6. A preliminary Dask analyses is conducted here, but a fuller development of Dask will be done in issues #237.\n",
    "\n",
    "### Discusion\n",
    "1, 2. We should create trimed file versions for future releases.\n",
    "3. The `format='table'` was initially mildly surprising.  However, after a more careful reading of the `pytables` documentation this was already predicted:\n",
    "```\n",
    "format : {‘fixed’, ‘table’}, default ‘fixed’\n",
    "\n",
    "    Possible values:\n",
    "\n",
    "        ‘fixed’: Fixed format. Fast writing/reading. Not-appendable, nor searchable.\n",
    "        ‘table’: Table format. Write as a PyTables Table structure which may perform worse but allow more flexible operations like searching / selecting subsets of the data.\n",
    "```\n",
    "\n",
    "The `format='fixed'` is designed for fast writing/reading.  It's the performance when selecting subsets of data that's potentially faster with the `format='table'`.\n",
    "\n",
    "The `table` format is also required to use Dask.\n",
    "\n",
    "### Original Charge\n",
    "1. Identify trivial, moderate, and worst-case use case examples.\n",
    "2. Measure performance on\n",
    "    1. single patch\n",
    "    2. a single tract\n",
    "    3. the full dataset\n",
    "3. Record data sizes of each of the above A, B, C\n",
    "4. Determine if performance considerations mean we should generate a static file that contains a restricted set in columns.\n",
    "5. Look into again using full tables functionality to write HDF5 files so that they can be read by column efficiently. This was previously not possible because of an error trying to write the thousands of columns in our full coadd catalogs. This is #158\n"
   ]
  },
  {
   "cell_type": "code",
   "execution_count": null,
   "metadata": {},
   "outputs": [],
   "source": [
    "import os\n",
    "\n",
    "import numpy as np"
   ]
  },
  {
   "cell_type": "markdown",
   "metadata": {},
   "source": [
    "## How fast is GCRCatalogs?"
   ]
  },
  {
   "cell_type": "code",
   "execution_count": 2,
   "metadata": {},
   "outputs": [],
   "source": [
    "import GCRCatalogs"
   ]
  },
  {
   "cell_type": "markdown",
   "metadata": {},
   "source": [
    "If you want to use the GCR reader outside of NERSC environment, you can override the `base_dir`."
   ]
  },
  {
   "cell_type": "code",
   "execution_count": 3,
   "metadata": {},
   "outputs": [],
   "source": [
    "config = {}\n",
    "\n",
    "trim_config = config.copy()\n",
    "trim_config['filename_pattern'] = r'trim_merged_tract_\\d+\\.hdf5'\n",
    "table_trim_config = config.copy()\n",
    "table_trim_config['filename_pattern'] = r'table_trim_merged_tract_\\d+\\.hdf5'\n",
    "\n",
    "trim_onetract_config = config.copy()\n",
    "trim_onetract_config['filename_pattern'] = 'trim_merged_tract_4850.hdf5'\n",
    "table_trim_onetract_config = config.copy()\n",
    "table_trim_onetract_config['filename_pattern'] = 'table_trim_merged_tract_4850.hdf5'"
   ]
  },
  {
   "cell_type": "markdown",
   "metadata": {},
   "source": [
    "### Time loading of GCRCatalogs "
   ]
  },
  {
   "cell_type": "markdown",
   "metadata": {},
   "source": [
    "Loading the GCR Catalog is, in principle, just the initialization of the catalog.  In practice the GCRCatalog reader does need to read through all of the metadata in the HDF5 files to figure out what's in there and available.  The onetract version is reading a 7.4 GB file that should fit in memory.  The full Run 1.1p is 78 GB, which does not fit in the average desktop memory.  This size could pontentially fit in the memory of various high-memory shared nodes.  This difference in size is conveniently roughly a factor of 10.  We should naively expect that operations will take 10x longer when all of the data fits in memory, and potentially 10-100x longer when the data do not.  The range is estimated across a variety of usage patterns."
   ]
  },
  {
   "cell_type": "markdown",
   "metadata": {},
   "source": [
    "The trim files are 1/10 of the size of the full files due to the removal of 90% of the columns.  The `load_catalog` doesn't load the data, but does need to open and touch each file to read the metadata.  This metadata reading step is only about 2 times faster for the trim files than for the full files."
   ]
  },
  {
   "cell_type": "code",
   "execution_count": 4,
   "metadata": {
    "scrolled": true
   },
   "outputs": [
    {
     "name": "stdout",
     "output_type": "stream",
     "text": [
      "988 ms ± 32.5 ms per loop (mean ± std. dev. of 7 runs, 1 loop each)\n"
     ]
    }
   ],
   "source": [
    "%%timeit\n",
    "gc_onetract = GCRCatalogs.load_catalog('dc2_coadd_run1.1p_tract4850', config)"
   ]
  },
  {
   "cell_type": "code",
   "execution_count": 5,
   "metadata": {},
   "outputs": [
    {
     "name": "stdout",
     "output_type": "stream",
     "text": [
      "560 ms ± 12.9 ms per loop (mean ± std. dev. of 7 runs, 1 loop each)\n"
     ]
    }
   ],
   "source": [
    "%%timeit\n",
    "gc_onetract_trim = GCRCatalogs.load_catalog('dc2_coadd_run1.1p_tract4850', trim_onetract_config)"
   ]
  },
  {
   "cell_type": "code",
   "execution_count": 6,
   "metadata": {},
   "outputs": [],
   "source": [
    "gc_onetract = GCRCatalogs.load_catalog('dc2_coadd_run1.1p_tract4850', config)\n",
    "gc_onetract_trim = GCRCatalogs.load_catalog('dc2_coadd_run1.1p_tract4850', trim_onetract_config)\n",
    "gc_onetract_table_trim = GCRCatalogs.load_catalog('dc2_coadd_run1.1p_tract4850', table_trim_onetract_config)"
   ]
  },
  {
   "cell_type": "code",
   "execution_count": 7,
   "metadata": {},
   "outputs": [
    {
     "name": "stdout",
     "output_type": "stream",
     "text": [
      "14 s ± 1.78 s per loop (mean ± std. dev. of 7 runs, 1 loop each)\n"
     ]
    }
   ],
   "source": [
    "%%timeit\n",
    "gc = GCRCatalogs.load_catalog('dc2_coadd_run1.1p', config)"
   ]
  },
  {
   "cell_type": "code",
   "execution_count": 8,
   "metadata": {},
   "outputs": [
    {
     "name": "stdout",
     "output_type": "stream",
     "text": [
      "7.52 s ± 346 ms per loop (mean ± std. dev. of 7 runs, 1 loop each)\n"
     ]
    }
   ],
   "source": [
    "%%timeit\n",
    "gc_trim = GCRCatalogs.load_catalog('dc2_coadd_run1.1p', trim_config)"
   ]
  },
  {
   "cell_type": "code",
   "execution_count": 9,
   "metadata": {},
   "outputs": [
    {
     "name": "stdout",
     "output_type": "stream",
     "text": [
      "14.7 s ± 1.82 s per loop (mean ± std. dev. of 7 runs, 1 loop each)\n"
     ]
    }
   ],
   "source": [
    "%%timeit\n",
    "gc_table_trim = GCRCatalogs.load_catalog('dc2_coadd_run1.1p', table_trim_config)"
   ]
  },
  {
   "cell_type": "markdown",
   "metadata": {},
   "source": [
    "Note above that the table version of the trim catalogs takes the same amount of time as the full file."
   ]
  },
  {
   "cell_type": "code",
   "execution_count": 10,
   "metadata": {},
   "outputs": [],
   "source": [
    "# Here we actually run and save the objects for later use.\n",
    "# In the %%timeit runs above, the resulting bound names and objects are discarded.\n",
    "gc = GCRCatalogs.load_catalog('dc2_coadd_run1.1p', config)\n",
    "gc_trim = GCRCatalogs.load_catalog('dc2_coadd_run1.1p', trim_config)\n",
    "gc_table_trim = GCRCatalogs.load_catalog('dc2_coadd_run1.1p', table_trim_config)"
   ]
  },
  {
   "cell_type": "markdown",
   "metadata": {},
   "source": [
    "### Time calculation using loaded GCRCatalogs objects"
   ]
  },
  {
   "cell_type": "markdown",
   "metadata": {},
   "source": [
    "Summary:\n",
    "  * The trim catalog files are 10-30 faster to process than the full catalog files.\n",
    "  * The 'table' format trim catalog files take 1-2 as long to process as the trim catalog files.\n",
    "  * The full catalog files take 330 seconds to compute the average."
   ]
  },
  {
   "cell_type": "code",
   "execution_count": 11,
   "metadata": {},
   "outputs": [],
   "source": [
    "def compute_mean_color_slow(catalog):\n",
    "    \"\"\"Compute the mean g-r color of all objects in the 'catalog'.\n",
    "    \n",
    "    This is a trivial performance case.\n",
    "    This isn't particularly immediately interesting, but it's a simple arithmetic operation between two columns.\n",
    "    \"\"\"\n",
    "    average_gmr = np.mean(catalog['mag_g'] - catalog['mag_r'])\n",
    "    return average_gmr"
   ]
  },
  {
   "cell_type": "code",
   "execution_count": 12,
   "metadata": {},
   "outputs": [],
   "source": [
    "def compute_mean_color_faster(catalog):\n",
    "    \"\"\"Compute the mean g-r color of all objects in the 'catalog'.\n",
    "    \n",
    "    This is a trivial performance case.\n",
    "    This isn't particularly immediately interesting, but it's a simple arithmetic operation between two columns.\n",
    "    \"\"\"\n",
    "    data = catalog.get_quantities(['mag_g', 'mag_r'])\n",
    "    average_gmr = np.mean(data['mag_g'] - data['mag_r'])\n",
    "    return average_gmr"
   ]
  },
  {
   "cell_type": "code",
   "execution_count": 13,
   "metadata": {},
   "outputs": [],
   "source": [
    "def compute_mean_color_faster_iter(catalog):\n",
    "    \"\"\"Compute the mean g-r color of all objects in the 'catalog' using iterator.\n",
    "    \n",
    "    This is a trivial performance case.\n",
    "    This isn't particularly immediately interesting, but it's a simple arithmetic operation between two columns.\n",
    "    \"\"\"\n",
    "    sum_gmr = count = 0\n",
    "    for data in catalog.get_quantities(['mag_g', 'mag_r'], return_iterator=True):\n",
    "        sum_gmr += np.sum(data['mag_g'] - data['mag_r'])\n",
    "        count += len(data['mag_g'])\n",
    "    return sum_gmr / count"
   ]
  },
  {
   "cell_type": "code",
   "execution_count": 14,
   "metadata": {},
   "outputs": [],
   "source": [
    "# def compute_stellar_locus():"
   ]
  },
  {
   "cell_type": "markdown",
   "metadata": {},
   "source": [
    "We below clear the memory cache with `GCRCatalogs` with `clear_cache()` method on the load object to reset for performance tests.  It's harder to control the underlying caching of the GPFS and kernel filesystem memory."
   ]
  },
  {
   "cell_type": "markdown",
   "metadata": {},
   "source": [
    "The average color calculation is 18 times faster with the trim files for one tract.  It's only 2 times faster for the full set of files.\n",
    "\n",
    "There's no particular difference in elapsed time between the `compute_mean_slow`, `compute_mean_fast` and `compute_mean_fast_iter` function."
   ]
  },
  {
   "cell_type": "code",
   "execution_count": 15,
   "metadata": {},
   "outputs": [
    {
     "name": "stdout",
     "output_type": "stream",
     "text": [
      "18.4 s ± 2.44 s per loop (mean ± std. dev. of 7 runs, 1 loop each)\n"
     ]
    }
   ],
   "source": [
    "%%timeit\n",
    "gc_onetract.clear_cache()\n",
    "compute_mean_color_slow(gc_onetract)"
   ]
  },
  {
   "cell_type": "code",
   "execution_count": 16,
   "metadata": {},
   "outputs": [
    {
     "name": "stdout",
     "output_type": "stream",
     "text": [
      "853 ms ± 53.7 ms per loop (mean ± std. dev. of 7 runs, 1 loop each)\n"
     ]
    }
   ],
   "source": [
    "%%timeit\n",
    "gc_onetract_trim.clear_cache()\n",
    "compute_mean_color_slow(gc_onetract_trim)"
   ]
  },
  {
   "cell_type": "code",
   "execution_count": 16,
   "metadata": {},
   "outputs": [
    {
     "name": "stdout",
     "output_type": "stream",
     "text": [
      "853 ms ± 53.7 ms per loop (mean ± std. dev. of 7 runs, 1 loop each)\n"
     ]
    }
   ],
   "source": [
    "%%timeit\n",
    "gc_onetract_table_trim.clear_cache()\n",
    "compute_mean_color_slow(gc_onetract_table_trim)"
   ]
  },
  {
   "cell_type": "code",
   "execution_count": 17,
   "metadata": {},
   "outputs": [
    {
     "name": "stdout",
     "output_type": "stream",
     "text": [
      "5min 33s ± 5.75 s per loop (mean ± std. dev. of 7 runs, 1 loop each)\n"
     ]
    }
   ],
   "source": [
    "%%timeit\n",
    "gc.clear_cache()\n",
    "compute_mean_color_slow(gc)"
   ]
  },
  {
   "cell_type": "code",
   "execution_count": 18,
   "metadata": {},
   "outputs": [
    {
     "name": "stdout",
     "output_type": "stream",
     "text": [
      "18.9 s ± 1.85 s per loop (mean ± std. dev. of 7 runs, 1 loop each)\n"
     ]
    }
   ],
   "source": [
    "%%timeit\n",
    "gc_onetract.clear_cache()\n",
    "compute_mean_color_faster(gc_onetract)"
   ]
  },
  {
   "cell_type": "code",
   "execution_count": 22,
   "metadata": {},
   "outputs": [
    {
     "name": "stdout",
     "output_type": "stream",
     "text": [
      "10.4 s ± 409 ms per loop (mean ± std. dev. of 7 runs, 1 loop each)\n"
     ]
    }
   ],
   "source": [
    "%%timeit\n",
    "gc_trim.clear_cache()\n",
    "compute_mean_color_faster(gc_trim)"
   ]
  },
  {
   "cell_type": "code",
   "execution_count": 47,
   "metadata": {},
   "outputs": [
    {
     "name": "stdout",
     "output_type": "stream",
     "text": [
      "The slowest run took 5.54 times longer than the fastest. This could mean that an intermediate result is being cached.\n",
      "1min ± 45 s per loop (mean ± std. dev. of 7 runs, 1 loop each)\n"
     ]
    }
   ],
   "source": [
    "%%timeit\n",
    "gc_table_trim.clear_cache()\n",
    "compute_mean_color_faster(gc_table_trim)"
   ]
  },
  {
   "cell_type": "code",
   "execution_count": 20,
   "metadata": {},
   "outputs": [
    {
     "name": "stdout",
     "output_type": "stream",
     "text": [
      "5min 42s ± 26 s per loop (mean ± std. dev. of 7 runs, 1 loop each)\n"
     ]
    }
   ],
   "source": [
    "%%timeit\n",
    "gc.clear_cache()\n",
    "compute_mean_color_faster(gc)"
   ]
  },
  {
   "cell_type": "code",
   "execution_count": 19,
   "metadata": {},
   "outputs": [
    {
     "name": "stdout",
     "output_type": "stream",
     "text": [
      "15.4 s ± 1.36 s per loop (mean ± std. dev. of 7 runs, 1 loop each)\n"
     ]
    }
   ],
   "source": [
    "%%timeit\n",
    "gc_onetract.clear_cache()\n",
    "compute_mean_color_faster_iter(gc_onetract)"
   ]
  },
  {
   "cell_type": "code",
   "execution_count": 23,
   "metadata": {},
   "outputs": [
    {
     "name": "stdout",
     "output_type": "stream",
     "text": [
      "11.3 s ± 1.19 s per loop (mean ± std. dev. of 7 runs, 1 loop each)\n"
     ]
    }
   ],
   "source": [
    "%%timeit\n",
    "gc_trim.clear_cache()\n",
    "compute_mean_color_faster_iter(gc_trim)"
   ]
  },
  {
   "cell_type": "code",
   "execution_count": 48,
   "metadata": {},
   "outputs": [
    {
     "name": "stdout",
     "output_type": "stream",
     "text": [
      "26.3 s ± 2.04 s per loop (mean ± std. dev. of 7 runs, 1 loop each)\n"
     ]
    }
   ],
   "source": [
    "%%timeit\n",
    "gc_table_trim.clear_cache()\n",
    "compute_mean_color_faster_iter(gc_table_trim)"
   ]
  },
  {
   "cell_type": "code",
   "execution_count": 21,
   "metadata": {},
   "outputs": [
    {
     "name": "stdout",
     "output_type": "stream",
     "text": [
      "5min 28s ± 8.33 s per loop (mean ± std. dev. of 7 runs, 1 loop each)\n"
     ]
    }
   ],
   "source": [
    "%%timeit\n",
    "gc.clear_cache()\n",
    "compute_mean_color_faster_iter(gc)"
   ]
  },
  {
   "cell_type": "markdown",
   "metadata": {},
   "source": [
    "## How fast is Pandas?"
   ]
  },
  {
   "cell_type": "code",
   "execution_count": 3,
   "metadata": {},
   "outputs": [],
   "source": [
    "import os\n",
    "import pandas as pd\n",
    "\n",
    "tract = 4850\n",
    "datafile_basename = 'merged_tract_%d.hdf5' % tract\n",
    "datafile_basename_trim = 'trim_' + datafile_basename\n",
    "datafile_basename_table_trim = 'table_trim_' + datafile_basename\n",
    "\n",
    "base_dir = '/global/projecta/projectdirs/lsst/global/in2p3/Run1.1/summary'\n",
    "\n",
    "datafile = os.path.join(base_dir, datafile_basename)\n",
    "datafile_trim = os.path.join(base_dir, datafile_basename_trim)\n",
    "datafile_table_trim = os.path.join(base_dir, datafile_basename_table_trim)\n",
    "\n",
    "key_prefix = 'coadd'\n",
    "nx, ny = 8, 8\n",
    "patches = ['%d%d' % (i, j) for i in range(nx) for j in range (ny)]  # Note '%d%d' instead of '%d,%d'\n",
    "patch = patches[0]\n",
    "key = '%s_%d_%s' % (key_prefix, tract, patch)"
   ]
  },
  {
   "cell_type": "markdown",
   "metadata": {},
   "source": [
    "### Time loading of catalog using Pandas"
   ]
  },
  {
   "cell_type": "markdown",
   "metadata": {},
   "source": [
    "Reading just one patch of the tract."
   ]
  },
  {
   "cell_type": "code",
   "execution_count": 4,
   "metadata": {},
   "outputs": [
    {
     "name": "stdout",
     "output_type": "stream",
     "text": [
      "42.5 ms ± 1.83 ms per loop (mean ± std. dev. of 7 runs, 1 loop each)\n"
     ]
    }
   ],
   "source": [
    "%%timeit\n",
    "df = pd.read_hdf(datafile, key=key)"
   ]
  },
  {
   "cell_type": "code",
   "execution_count": 5,
   "metadata": {},
   "outputs": [
    {
     "name": "stdout",
     "output_type": "stream",
     "text": [
      "10.3 ms ± 605 µs per loop (mean ± std. dev. of 7 runs, 100 loops each)\n"
     ]
    }
   ],
   "source": [
    "%%timeit\n",
    "df_trim = pd.read_hdf(datafile_trim, key=key)"
   ]
  },
  {
   "cell_type": "code",
   "execution_count": 6,
   "metadata": {
    "scrolled": true
   },
   "outputs": [
    {
     "name": "stdout",
     "output_type": "stream",
     "text": [
      "16.5 ms ± 619 µs per loop (mean ± std. dev. of 7 runs, 100 loops each)\n"
     ]
    }
   ],
   "source": [
    "%%timeit\n",
    "df_table_trim = pd.read_hdf(datafile_table_trim, key=key)"
   ]
  },
  {
   "cell_type": "markdown",
   "metadata": {},
   "source": [
    "Now we'll load all of the patches in the tract"
   ]
  },
  {
   "cell_type": "code",
   "execution_count": 7,
   "metadata": {},
   "outputs": [],
   "source": [
    "def load_tract_into_pandas(datafile, tract, key_prefix='coadd'):\n",
    "    nx, ny = 8, 8\n",
    "    patches = ['%d%d' % (i, j) for i in range(nx) for j in range (ny)]  # Note '%d%d' instead of '%d,%d'\n",
    "\n",
    "    dfs = []\n",
    "    for patch in patches:\n",
    "        key = '%s_%d_%s' % (key_prefix, tract, patch)\n",
    "        try:\n",
    "            df = pd.read_hdf(datafile, key=key)\n",
    "        except:\n",
    "            continue\n",
    "        dfs.append(df)\n",
    "\n",
    "    df = pd.concat(dfs)\n",
    "    return df"
   ]
  },
  {
   "cell_type": "code",
   "execution_count": 8,
   "metadata": {},
   "outputs": [
    {
     "name": "stdout",
     "output_type": "stream",
     "text": [
      "1.61 s ± 24.1 ms per loop (mean ± std. dev. of 7 runs, 1 loop each)\n"
     ]
    }
   ],
   "source": [
    "%%timeit\n",
    "df_trim = load_tract_into_pandas(datafile_trim, tract=tract)"
   ]
  },
  {
   "cell_type": "code",
   "execution_count": 9,
   "metadata": {},
   "outputs": [
    {
     "name": "stdout",
     "output_type": "stream",
     "text": [
      "2.27 s ± 180 ms per loop (mean ± std. dev. of 7 runs, 1 loop each)\n"
     ]
    }
   ],
   "source": [
    "%%timeit\n",
    "df_table_trim = load_tract_into_pandas(datafile_table_trim, tract=tract)"
   ]
  },
  {
   "cell_type": "code",
   "execution_count": 10,
   "metadata": {},
   "outputs": [],
   "source": [
    "df_trim = load_tract_into_pandas(datafile_trim, tract=tract)\n",
    "df_table_trim = load_tract_into_pandas(datafile_table_trim, tract=tract)"
   ]
  },
  {
   "cell_type": "code",
   "execution_count": 12,
   "metadata": {},
   "outputs": [
    {
     "name": "stdout",
     "output_type": "stream",
     "text": [
      "1.71 ms ± 244 µs per loop (mean ± std. dev. of 7 runs, 100 loops each)\n"
     ]
    }
   ],
   "source": [
    "%%timeit\n",
    "df_trim['g_mag'] - df_trim['r_mag']"
   ]
  },
  {
   "cell_type": "code",
   "execution_count": 13,
   "metadata": {},
   "outputs": [
    {
     "name": "stdout",
     "output_type": "stream",
     "text": [
      "347 µs ± 10.2 µs per loop (mean ± std. dev. of 7 runs, 1000 loops each)\n"
     ]
    }
   ],
   "source": [
    "%%timeit\n",
    "df_table_trim['g_mag'] - df_table_trim['r_mag']"
   ]
  },
  {
   "cell_type": "markdown",
   "metadata": {},
   "source": [
    "## How fast is Dask?"
   ]
  },
  {
   "cell_type": "code",
   "execution_count": 31,
   "metadata": {},
   "outputs": [],
   "source": [
    "import dask as da\n",
    "import dask.dataframe as dd\n",
    "\n",
    "from dask.distributed import Client\n",
    "client = Client(processes=False)"
   ]
  },
  {
   "cell_type": "code",
   "execution_count": 32,
   "metadata": {},
   "outputs": [],
   "source": [
    "tract = 4850\n",
    "\n",
    "base_dir = '/global/projecta/projectdirs/lsst/global/in2p3/Run1.1/summary'\n",
    "\n",
    "datafile = os.path.join(base_dir, 'table_trim_merged_tract_%d.hdf5' % tract)\n",
    "datafile_pattern = os.path.join(base_dir, 'table_trim_merged_tract_*.hdf5')"
   ]
  },
  {
   "cell_type": "markdown",
   "metadata": {},
   "source": [
    "### Time loading of catalog using Dask"
   ]
  },
  {
   "cell_type": "code",
   "execution_count": 33,
   "metadata": {},
   "outputs": [],
   "source": [
    "da_df = dd.read_hdf(datafile, key='coadd_*', mode='r')\n",
    "da_df_all = dd.read_hdf(datafile_pattern, key='coadd_*', mode='r')"
   ]
  },
  {
   "cell_type": "code",
   "execution_count": 34,
   "metadata": {},
   "outputs": [],
   "source": [
    "df2 = np.mean(da_df['g_mag'] - da_df['r_mag'])\n",
    "df2_all = np.mean(da_df_all['g_mag'] - da_df_all['r_mag'])"
   ]
  },
  {
   "cell_type": "markdown",
   "metadata": {},
   "source": [
    "### Time computation using Dask"
   ]
  },
  {
   "cell_type": "code",
   "execution_count": 35,
   "metadata": {
    "scrolled": true
   },
   "outputs": [
    {
     "name": "stdout",
     "output_type": "stream",
     "text": [
      "2.91 s ± 87.9 ms per loop (mean ± std. dev. of 7 runs, 1 loop each)\n"
     ]
    }
   ],
   "source": [
    "%%timeit\n",
    "df2.compute()"
   ]
  },
  {
   "cell_type": "code",
   "execution_count": 36,
   "metadata": {},
   "outputs": [
    {
     "name": "stdout",
     "output_type": "stream",
     "text": [
      "1min 3s ± 1.76 s per loop (mean ± std. dev. of 7 runs, 1 loop each)\n"
     ]
    }
   ],
   "source": [
    "%%timeit\n",
    "df2_all.compute()"
   ]
  },
  {
   "cell_type": "markdown",
   "metadata": {},
   "source": [
    "Note that the full DASK calculation takes 20 times longer than the onetract calculation for a data volume only 10-times larger.  We're potentially hitting memory limits, but there also might be some ineficiencies.\n",
    "\n",
    "DASK takes ~38 seconds to do the color average using the `table_trim_` file, while GCRCatalogs takes ~12 seconds using the `trim_` file."
   ]
  },
  {
   "cell_type": "code",
   "execution_count": 37,
   "metadata": {},
   "outputs": [
    {
     "name": "stdout",
     "output_type": "stream",
     "text": [
      "4\n"
     ]
    }
   ],
   "source": [
    "import os\n",
    "print(os.getenv('OMP_NUM_THREADS'))"
   ]
  },
  {
   "cell_type": "markdown",
   "metadata": {},
   "source": [
    "### Does it matter if we're on Lustre (SCRATCH)\n",
    "\n",
    "No."
   ]
  },
  {
   "cell_type": "code",
   "execution_count": 38,
   "metadata": {},
   "outputs": [],
   "source": [
    "base_dir = '/global/cscratch1/sd/wmwv/DC2/Run1.1p/summary'\n",
    "\n",
    "datafile_lustre = os.path.join(base_dir, 'table_trim_merged_tract_%d.hdf5' % tract)\n",
    "datafile_pattern_lustre = os.path.join(base_dir, 'table_trim_merged_tract_*.hdf5')"
   ]
  },
  {
   "cell_type": "code",
   "execution_count": 39,
   "metadata": {},
   "outputs": [],
   "source": [
    "da_df_lustre = dd.read_hdf(datafile_lustre, key='coadd_*', mode='r')\n",
    "da_df_all_lustre = dd.read_hdf(datafile_pattern_lustre, key='coadd_*', mode='r')"
   ]
  },
  {
   "cell_type": "code",
   "execution_count": 40,
   "metadata": {},
   "outputs": [],
   "source": [
    "df2_lustre = np.mean(da_df_lustre['g_mag'] - da_df_lustre['r_mag'])\n",
    "df2_all_lustre = np.mean(da_df_all_lustre['g_mag'] - da_df_all_lustre['r_mag'])"
   ]
  },
  {
   "cell_type": "code",
   "execution_count": 41,
   "metadata": {},
   "outputs": [
    {
     "name": "stdout",
     "output_type": "stream",
     "text": [
      "The slowest run took 5.24 times longer than the fastest. This could mean that an intermediate result is being cached.\n",
      "5.43 s ± 4.82 s per loop (mean ± std. dev. of 7 runs, 1 loop each)\n"
     ]
    }
   ],
   "source": [
    "%%timeit\n",
    "df2_lustre.compute()"
   ]
  },
  {
   "cell_type": "code",
   "execution_count": 42,
   "metadata": {},
   "outputs": [
    {
     "name": "stdout",
     "output_type": "stream",
     "text": [
      "1min 28s ± 12.5 s per loop (mean ± std. dev. of 7 runs, 1 loop each)\n"
     ]
    }
   ],
   "source": [
    "%%timeit\n",
    "df2_all_lustre.compute()"
   ]
  },
  {
   "cell_type": "markdown",
   "metadata": {},
   "source": [
    "Time on the Luster file system (2, 42) sec seems about the same as the GPFS (2, 50) sec."
   ]
  },
  {
   "cell_type": "code",
   "execution_count": 43,
   "metadata": {},
   "outputs": [
    {
     "name": "stdout",
     "output_type": "stream",
     "text": [
      "{'distributed': {'worker': {'memory': {'target': False, 'spill': False, 'pause': 0.8, 'terminate': 0.95}, 'multiprocessing-method': 'forkserver', 'use-file-locking': True, 'profile': {'interval': '10ms', 'cycle': '1000ms'}}, 'version': 2, 'scheduler': {'allowed-failures': 3, 'bandwidth': 100000000, 'default-data-size': 1000, 'transition-log-length': 100000, 'work-stealing': True, 'worker-ttl': None}, 'client': {'heartbeat': '5s'}, 'comm': {'compression': 'auto', 'default-scheme': 'tcp', 'socket-backlog': 2048, 'recent-messages-log-length': 0, 'timeouts': {'connect': '10s', 'tcp': '30s'}}, 'dashboard': {'link': 'http://{host}:{port}/status', 'export-tool': False}, 'admin': {'tick': {'interval': '20ms', 'limit': '3s'}, 'log-length': 10000, 'log-format': '%(name)s - %(levelname)s - %(message)s', 'pdb-on-err': False}}, 'jobqueue': {'slurm': {'cores': 64, 'memory': '128GB', 'processes': 2, 'queue': 'debug', 'walltime': '00:10:00', 'job-extra': ['-C haswell', '-L SCRATCH, cscratch1']}}, 'array': {'chunk-size': '128MiB', 'rechunk-threshold': 4}, 'scheduler': 'threads', 'shuffle': 'tasks'}\n"
     ]
    }
   ],
   "source": [
    "import dask\n",
    "dask.config.set(scheduler='threads')\n",
    "print(dask.config.config)"
   ]
  },
  {
   "cell_type": "code",
   "execution_count": 44,
   "metadata": {},
   "outputs": [
    {
     "name": "stdout",
     "output_type": "stream",
     "text": [
      "3.09 s ± 662 ms per loop (mean ± std. dev. of 7 runs, 1 loop each)\n"
     ]
    }
   ],
   "source": [
    "%%timeit\n",
    "df2_lustre.compute()"
   ]
  },
  {
   "cell_type": "markdown",
   "metadata": {},
   "source": [
    "### Does it matter if we're on the burst buffer?"
   ]
  },
  {
   "cell_type": "code",
   "execution_count": null,
   "metadata": {},
   "outputs": [],
   "source": []
  }
 ],
 "metadata": {
  "kernelspec": {
   "display_name": "desc-python-dask",
   "language": "python",
   "name": "desc-python-dask"
  },
  "language_info": {
   "codemirror_mode": {
    "name": "ipython",
    "version": 3
   },
   "file_extension": ".py",
   "mimetype": "text/x-python",
   "name": "python",
   "nbconvert_exporter": "python",
   "pygments_lexer": "ipython3",
   "version": "3.6.2"
  }
 },
 "nbformat": 4,
 "nbformat_minor": 2
}
