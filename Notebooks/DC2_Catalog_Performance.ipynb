{
 "cells": [
  {
   "cell_type": "markdown",
   "metadata": {},
   "source": [
    "## Performance Tests of Object Catalog Access\n",
    "Owners: **Michael Wood-Vasey [@wmwv](https://github.com/LSSTDESC/DC2_Repo/issues/new?body=@wmwv)**  \n",
    "Last Run: **2018-08-01**\n",
    "\n",
    "Assess the performance of data manipulations of the Object catalogs using GCRCatalogs and Pandas.\n",
    "\n",
    "Many thanks to Yao-Yuan Mao [@yymao] for key feedback and GCRCatalogs improvements.\n",
    "\n",
    "### Summary\n",
    "\n",
    "This was a useful exploratory exercise to develop some thoughts and explore performance of different data storage formats and improve some performance of reading them.\n",
    "\n",
    "1. GCRCatalogs initializes+loads and Pandas loads the full Run 1.1 object catalog in the same amount of time: ~300 seconds.\n",
    "2. A set of trimmed files consisting only of the columns exposed through the DPDD is 10 times smaller than the full files.\n",
    "3. [Init+]Load times for both GCRCatalogs and Pandas are 20 times faster using these trim files.\n",
    "4. Once data are loaded/cached, the difference between using the GCRCatalogs and Pandas interfaces are mostly the difference between `numpy` (the code written below to use GCRCatalogs) and `numexpr` (what Pandas uses internally).  This difference results in Pandas being about 2x faster.\n",
    "5. Using the GCR iterator to chunk through the data is 30-100% faster when data are cached than asking for all of a column without using the iterator.  Without caching, there's no significant difference.\n",
    "6. Using the HDF5 `fixed='table'` format instead of `format='fixed'` is 50-80% slower when loading the data.\n",
    "7. Explore using the Cori Burst Buffer.\n",
    "\n",
    "### Conclusions\n",
    "1. We should create trimmed-file object catalog versions for future releases.\n",
    "\n",
    "### Further work \n",
    "1. Should the flat files should store NaNs for columns for missing filters to make the data model identical across all tracts+patch?\n",
    "2. Try using GCR through numexpr to fully match what Pandas is doing?\n",
    "3. Provide the GCRCatalogs reader the schema up front so it doesn't have to open all of the files on initialization:\n",
    "[gcr-catalogs/#169](https://github.com/LSSTDESC/gcr-catalogs/issues/169)  \n",
    "[DC2-production/#167](https://github.com/LSSTDESC/DC2-production/issues/243)\n",
    "3. Dask work here is preliminary and should continue.  The full Pandas data frame test fail here on Cori when other users are on the Jupyter dev node due to exceeding memory.  Dask may prove particularly useful in these situations where the Pandas data frames no longer fit in memory.  See Dask work (#237).\n",
    "4. Performance of batch jobs that get an entire node or multiple nodes.  The testing reported here was done on the Jupyter-dev execution node, which has some contention for resources.\n",
    "\n",
    "### Original Charge\n",
    "1. Identify trivial, moderate, and worst-case use case examples.\n",
    "2. Measure performance on\n",
    "    1. single patch\n",
    "    2. a single tract\n",
    "    3. the full dataset\n",
    "3. Record data sizes of each of the above A, B, C\n",
    "4. Determine if performance considerations mean we should generate a static file that contains a restricted set in columns.\n",
    "5. Look into again using full tables functionality to write HDF5 files so that they can be read by column efficiently. This was previously not possible because of an error trying to write the thousands of columns in our full coadd catalogs. This is #158\n",
    "\n",
    "### Logistics:\n",
    "\n",
    "1. This notebook was run through the JupyterHub NERSC interface available here: https://jupyter-dev.nersc.gov. To setup your NERSC environment, please follow the instructions available here: https://confluence.slac.stanford.edu/display/LSSTDESC/Using+Jupyter-dev+at+NERSC\n",
    "2. The full notebook takes several hours to run.  Thus we save the outputs here to document the performance.\n",
    "3. The full Pandas load tends to get killed on the Cori Jupyter node due to memory usage.\n"
   ]
  },
  {
   "cell_type": "code",
   "execution_count": 1,
   "metadata": {},
   "outputs": [],
   "source": [
    "## To use user's gcr-catalogs, uncomment the following\n",
    "## These were useful in testing improvements to GCRCatalogs in the performance testing here.\n",
    "#import sys\n",
    "#sys.path.insert(0, '../../gcr-catalogs/')"
   ]
  },
  {
   "cell_type": "code",
   "execution_count": 2,
   "metadata": {},
   "outputs": [],
   "source": [
    "import os\n",
    "\n",
    "import numpy as np"
   ]
  },
  {
   "cell_type": "markdown",
   "metadata": {},
   "source": [
    "## How fast is GCRCatalogs?"
   ]
  },
  {
   "cell_type": "code",
   "execution_count": 3,
   "metadata": {},
   "outputs": [],
   "source": [
    "import GCRCatalogs"
   ]
  },
  {
   "cell_type": "markdown",
   "metadata": {},
   "source": [
    "If you want to use the GCR reader outside of NERSC environment, you can override the `base_dir`."
   ]
  },
  {
   "cell_type": "code",
   "execution_count": 4,
   "metadata": {},
   "outputs": [],
   "source": [
    "config = {}\n",
    "\n",
    "trim_config = config.copy()\n",
    "trim_config['filename_pattern'] = r'trim_merged_tract_\\d+\\.hdf5$'\n",
    "table_trim_config = config.copy()\n",
    "table_trim_config['filename_pattern'] = r'table_trim_merged_tract_\\d+\\.hdf5$'\n",
    "\n",
    "trim_onetract_config = config.copy()\n",
    "trim_onetract_config['filename_pattern'] = 'trim_merged_tract_4850\\.hdf5$'\n",
    "table_trim_onetract_config = config.copy()\n",
    "table_trim_onetract_config['filename_pattern'] = 'table_trim_merged_tract_4850\\.hdf5$'"
   ]
  },
  {
   "cell_type": "markdown",
   "metadata": {},
   "source": [
    "### Time loading of GCRCatalogs "
   ]
  },
  {
   "cell_type": "markdown",
   "metadata": {},
   "source": [
    "Loading the GCR Catalog is, in principle, just the initialization of the catalog.  In practice the GCRCatalog reader does need to read through all of the metadata in the HDF5 files to figure out what's in there and available (see Future Work above).  The onetract version is reading a 7.4 GB file that should fit in memory.  The full Run 1.1p is 78 GB, which does not fit in the average desktop memory.  This size could pontentially fit in the memory of various high-memory shared nodes, but is too large to fit in the available memory of the shared Jupyter execution node on NERSC.  This difference in size is conveniently roughly a factor of 10.  We should naively expect that operations will take 10x longer when all of the data fits in memory, and potentially 10-100x longer when the data do not."
   ]
  },
  {
   "cell_type": "markdown",
   "metadata": {},
   "source": [
    "The trim files are 1/10 of the size of the full files due to the removal of 90% of the columns.  The `load_catalog` doesn't load the data, but does need to open and touch each file to read the metadata.  This metadata reading step is only about 2 times faster for the trim files than for the full files."
   ]
  },
  {
   "cell_type": "code",
   "execution_count": 5,
   "metadata": {
    "scrolled": true
   },
   "outputs": [
    {
     "name": "stderr",
     "output_type": "stream",
     "text": [
      "Exception ignored in: <object repr() failed>\n",
      "Traceback (most recent call last):\n",
      "  File \"/global/common/software/lsst/common/miniconda/current/lib/python3.6/site-packages/tables/group.py\", line 273, in __del__\n",
      "    self._v_pathname in self._v_file._node_manager.registry and\n",
      "AttributeError: 'File' object has no attribute '_node_manager'\n",
      "Exception ignored in: <object repr() failed>\n",
      "Traceback (most recent call last):\n",
      "  File \"/global/common/software/lsst/common/miniconda/current/lib/python3.6/site-packages/tables/group.py\", line 273, in __del__\n",
      "    self._v_pathname in self._v_file._node_manager.registry and\n",
      "AttributeError: 'File' object has no attribute '_node_manager'\n",
      "Exception ignored in: <object repr() failed>\n",
      "Traceback (most recent call last):\n",
      "  File \"/global/common/software/lsst/common/miniconda/current/lib/python3.6/site-packages/tables/group.py\", line 273, in __del__\n",
      "    self._v_pathname in self._v_file._node_manager.registry and\n",
      "AttributeError: 'File' object has no attribute '_node_manager'\n",
      "Exception ignored in: <object repr() failed>\n",
      "Traceback (most recent call last):\n",
      "  File \"/global/common/software/lsst/common/miniconda/current/lib/python3.6/site-packages/tables/group.py\", line 273, in __del__\n",
      "    self._v_pathname in self._v_file._node_manager.registry and\n",
      "AttributeError: 'File' object has no attribute '_node_manager'\n",
      "Exception ignored in: <object repr() failed>\n",
      "Traceback (most recent call last):\n",
      "  File \"/global/common/software/lsst/common/miniconda/current/lib/python3.6/site-packages/tables/group.py\", line 273, in __del__\n",
      "    self._v_pathname in self._v_file._node_manager.registry and\n",
      "AttributeError: 'File' object has no attribute '_node_manager'\n",
      "Exception ignored in: <object repr() failed>\n",
      "Traceback (most recent call last):\n",
      "  File \"/global/common/software/lsst/common/miniconda/current/lib/python3.6/site-packages/tables/group.py\", line 273, in __del__\n",
      "    self._v_pathname in self._v_file._node_manager.registry and\n",
      "AttributeError: 'File' object has no attribute '_node_manager'\n",
      "Exception ignored in: <object repr() failed>\n",
      "Traceback (most recent call last):\n",
      "  File \"/global/common/software/lsst/common/miniconda/current/lib/python3.6/site-packages/tables/group.py\", line 273, in __del__\n",
      "    self._v_pathname in self._v_file._node_manager.registry and\n",
      "AttributeError: 'File' object has no attribute '_node_manager'\n",
      "Exception ignored in: <object repr() failed>\n",
      "Traceback (most recent call last):\n",
      "  File \"/global/common/software/lsst/common/miniconda/current/lib/python3.6/site-packages/tables/group.py\", line 273, in __del__\n",
      "    self._v_pathname in self._v_file._node_manager.registry and\n",
      "AttributeError: 'File' object has no attribute '_node_manager'\n",
      "Exception ignored in: <object repr() failed>\n",
      "Traceback (most recent call last):\n",
      "  File \"/global/common/software/lsst/common/miniconda/current/lib/python3.6/site-packages/tables/group.py\", line 273, in __del__\n",
      "    self._v_pathname in self._v_file._node_manager.registry and\n",
      "AttributeError: 'File' object has no attribute '_node_manager'\n",
      "Exception ignored in: <object repr() failed>\n",
      "Traceback (most recent call last):\n",
      "  File \"/global/common/software/lsst/common/miniconda/current/lib/python3.6/site-packages/tables/group.py\", line 273, in __del__\n",
      "    self._v_pathname in self._v_file._node_manager.registry and\n",
      "AttributeError: 'File' object has no attribute '_node_manager'\n",
      "Exception ignored in: <object repr() failed>\n",
      "Traceback (most recent call last):\n",
      "  File \"/global/common/software/lsst/common/miniconda/current/lib/python3.6/site-packages/tables/group.py\", line 273, in __del__\n",
      "    self._v_pathname in self._v_file._node_manager.registry and\n",
      "AttributeError: 'File' object has no attribute '_node_manager'\n",
      "Exception ignored in: <object repr() failed>\n",
      "Traceback (most recent call last):\n",
      "  File \"/global/common/software/lsst/common/miniconda/current/lib/python3.6/site-packages/tables/group.py\", line 273, in __del__\n",
      "    self._v_pathname in self._v_file._node_manager.registry and\n",
      "AttributeError: 'File' object has no attribute '_node_manager'\n",
      "Exception ignored in: <object repr() failed>\n",
      "Traceback (most recent call last):\n",
      "  File \"/global/common/software/lsst/common/miniconda/current/lib/python3.6/site-packages/tables/group.py\", line 273, in __del__\n",
      "    self._v_pathname in self._v_file._node_manager.registry and\n",
      "AttributeError: 'File' object has no attribute '_node_manager'\n",
      "Exception ignored in: <object repr() failed>\n",
      "Traceback (most recent call last):\n",
      "  File \"/global/common/software/lsst/common/miniconda/current/lib/python3.6/site-packages/tables/group.py\", line 273, in __del__\n",
      "    self._v_pathname in self._v_file._node_manager.registry and\n",
      "AttributeError: 'File' object has no attribute '_node_manager'\n",
      "Exception ignored in: <object repr() failed>\n",
      "Traceback (most recent call last):\n",
      "  File \"/global/common/software/lsst/common/miniconda/current/lib/python3.6/site-packages/tables/group.py\", line 273, in __del__\n",
      "    self._v_pathname in self._v_file._node_manager.registry and\n",
      "AttributeError: 'File' object has no attribute '_node_manager'\n",
      "Exception ignored in: <object repr() failed>\n",
      "Traceback (most recent call last):\n",
      "  File \"/global/common/software/lsst/common/miniconda/current/lib/python3.6/site-packages/tables/group.py\", line 273, in __del__\n",
      "    self._v_pathname in self._v_file._node_manager.registry and\n",
      "AttributeError: 'File' object has no attribute '_node_manager'\n",
      "Exception ignored in: <object repr() failed>\n",
      "Traceback (most recent call last):\n",
      "  File \"/global/common/software/lsst/common/miniconda/current/lib/python3.6/site-packages/tables/group.py\", line 273, in __del__\n",
      "    self._v_pathname in self._v_file._node_manager.registry and\n",
      "AttributeError: 'File' object has no attribute '_node_manager'\n",
      "Exception ignored in: <object repr() failed>\n",
      "Traceback (most recent call last):\n",
      "  File \"/global/common/software/lsst/common/miniconda/current/lib/python3.6/site-packages/tables/group.py\", line 273, in __del__\n",
      "    self._v_pathname in self._v_file._node_manager.registry and\n",
      "AttributeError: 'File' object has no attribute '_node_manager'\n",
      "Exception ignored in: <object repr() failed>\n",
      "Traceback (most recent call last):\n",
      "  File \"/global/common/software/lsst/common/miniconda/current/lib/python3.6/site-packages/tables/group.py\", line 273, in __del__\n",
      "    self._v_pathname in self._v_file._node_manager.registry and\n",
      "AttributeError: 'File' object has no attribute '_node_manager'\n",
      "Exception ignored in: <object repr() failed>\n",
      "Traceback (most recent call last):\n",
      "  File \"/global/common/software/lsst/common/miniconda/current/lib/python3.6/site-packages/tables/group.py\", line 273, in __del__\n",
      "    self._v_pathname in self._v_file._node_manager.registry and\n",
      "AttributeError: 'File' object has no attribute '_node_manager'\n",
      "Exception ignored in: <object repr() failed>\n",
      "Traceback (most recent call last):\n",
      "  File \"/global/common/software/lsst/common/miniconda/current/lib/python3.6/site-packages/tables/group.py\", line 273, in __del__\n",
      "    self._v_pathname in self._v_file._node_manager.registry and\n",
      "AttributeError: 'File' object has no attribute '_node_manager'\n",
      "Exception ignored in: <object repr() failed>\n",
      "Traceback (most recent call last):\n",
      "  File \"/global/common/software/lsst/common/miniconda/current/lib/python3.6/site-packages/tables/group.py\", line 273, in __del__\n",
      "    self._v_pathname in self._v_file._node_manager.registry and\n",
      "AttributeError: 'File' object has no attribute '_node_manager'\n",
      "Exception ignored in: <object repr() failed>\n",
      "Traceback (most recent call last):\n",
      "  File \"/global/common/software/lsst/common/miniconda/current/lib/python3.6/site-packages/tables/group.py\", line 273, in __del__\n",
      "    self._v_pathname in self._v_file._node_manager.registry and\n",
      "AttributeError: 'File' object has no attribute '_node_manager'\n",
      "Exception ignored in: <object repr() failed>\n",
      "Traceback (most recent call last):\n",
      "  File \"/global/common/software/lsst/common/miniconda/current/lib/python3.6/site-packages/tables/group.py\", line 273, in __del__\n",
      "    self._v_pathname in self._v_file._node_manager.registry and\n",
      "AttributeError: 'File' object has no attribute '_node_manager'\n",
      "Exception ignored in: <object repr() failed>\n",
      "Traceback (most recent call last):\n",
      "  File \"/global/common/software/lsst/common/miniconda/current/lib/python3.6/site-packages/tables/group.py\", line 273, in __del__\n",
      "    self._v_pathname in self._v_file._node_manager.registry and\n",
      "AttributeError: 'File' object has no attribute '_node_manager'\n",
      "Exception ignored in: <object repr() failed>\n",
      "Traceback (most recent call last):\n",
      "  File \"/global/common/software/lsst/common/miniconda/current/lib/python3.6/site-packages/tables/group.py\", line 273, in __del__\n",
      "    self._v_pathname in self._v_file._node_manager.registry and\n",
      "AttributeError: 'File' object has no attribute '_node_manager'\n",
      "Exception ignored in: <object repr() failed>\n",
      "Traceback (most recent call last):\n",
      "  File \"/global/common/software/lsst/common/miniconda/current/lib/python3.6/site-packages/tables/group.py\", line 273, in __del__\n",
      "    self._v_pathname in self._v_file._node_manager.registry and\n",
      "AttributeError: 'File' object has no attribute '_node_manager'\n",
      "Exception ignored in: <object repr() failed>\n",
      "Traceback (most recent call last):\n",
      "  File \"/global/common/software/lsst/common/miniconda/current/lib/python3.6/site-packages/tables/group.py\", line 273, in __del__\n",
      "    self._v_pathname in self._v_file._node_manager.registry and\n",
      "AttributeError: 'File' object has no attribute '_node_manager'\n",
      "Exception ignored in: <object repr() failed>\n",
      "Traceback (most recent call last):\n",
      "  File \"/global/common/software/lsst/common/miniconda/current/lib/python3.6/site-packages/tables/group.py\", line 273, in __del__\n",
      "    self._v_pathname in self._v_file._node_manager.registry and\n",
      "AttributeError: 'File' object has no attribute '_node_manager'\n",
      "Exception ignored in: <object repr() failed>\n",
      "Traceback (most recent call last):\n",
      "  File \"/global/common/software/lsst/common/miniconda/current/lib/python3.6/site-packages/tables/group.py\", line 273, in __del__\n",
      "    self._v_pathname in self._v_file._node_manager.registry and\n",
      "AttributeError: 'File' object has no attribute '_node_manager'\n",
      "Exception ignored in: <object repr() failed>\n",
      "Traceback (most recent call last):\n",
      "  File \"/global/common/software/lsst/common/miniconda/current/lib/python3.6/site-packages/tables/group.py\", line 273, in __del__\n",
      "    self._v_pathname in self._v_file._node_manager.registry and\n",
      "AttributeError: 'File' object has no attribute '_node_manager'\n",
      "Exception ignored in: <object repr() failed>\n",
      "Traceback (most recent call last):\n",
      "  File \"/global/common/software/lsst/common/miniconda/current/lib/python3.6/site-packages/tables/group.py\", line 273, in __del__\n",
      "    self._v_pathname in self._v_file._node_manager.registry and\n",
      "AttributeError: 'File' object has no attribute '_node_manager'\n",
      "Exception ignored in: <object repr() failed>\n",
      "Traceback (most recent call last):\n",
      "  File \"/global/common/software/lsst/common/miniconda/current/lib/python3.6/site-packages/tables/group.py\", line 273, in __del__\n",
      "    self._v_pathname in self._v_file._node_manager.registry and\n",
      "AttributeError: 'File' object has no attribute '_node_manager'\n",
      "Exception ignored in: <object repr() failed>\n",
      "Traceback (most recent call last):\n",
      "  File \"/global/common/software/lsst/common/miniconda/current/lib/python3.6/site-packages/tables/group.py\", line 273, in __del__\n",
      "    self._v_pathname in self._v_file._node_manager.registry and\n",
      "AttributeError: 'File' object has no attribute '_node_manager'\n",
      "Exception ignored in: <object repr() failed>\n",
      "Traceback (most recent call last):\n",
      "  File \"/global/common/software/lsst/common/miniconda/current/lib/python3.6/site-packages/tables/group.py\", line 273, in __del__\n",
      "    self._v_pathname in self._v_file._node_manager.registry and\n",
      "AttributeError: 'File' object has no attribute '_node_manager'\n",
      "Exception ignored in: <object repr() failed>\n",
      "Traceback (most recent call last):\n",
      "  File \"/global/common/software/lsst/common/miniconda/current/lib/python3.6/site-packages/tables/group.py\", line 273, in __del__\n",
      "    self._v_pathname in self._v_file._node_manager.registry and\n",
      "AttributeError: 'File' object has no attribute '_node_manager'\n",
      "Exception ignored in: <object repr() failed>\n",
      "Traceback (most recent call last):\n",
      "  File \"/global/common/software/lsst/common/miniconda/current/lib/python3.6/site-packages/tables/group.py\", line 273, in __del__\n",
      "    self._v_pathname in self._v_file._node_manager.registry and\n",
      "AttributeError: 'File' object has no attribute '_node_manager'\n",
      "Exception ignored in: <object repr() failed>\n",
      "Traceback (most recent call last):\n",
      "  File \"/global/common/software/lsst/common/miniconda/current/lib/python3.6/site-packages/tables/group.py\", line 273, in __del__\n",
      "    self._v_pathname in self._v_file._node_manager.registry and\n",
      "AttributeError: 'File' object has no attribute '_node_manager'\n",
      "Exception ignored in: <object repr() failed>\n",
      "Traceback (most recent call last):\n",
      "  File \"/global/common/software/lsst/common/miniconda/current/lib/python3.6/site-packages/tables/group.py\", line 273, in __del__\n",
      "    self._v_pathname in self._v_file._node_manager.registry and\n",
      "AttributeError: 'File' object has no attribute '_node_manager'\n",
      "Exception ignored in: <object repr() failed>\n",
      "Traceback (most recent call last):\n",
      "  File \"/global/common/software/lsst/common/miniconda/current/lib/python3.6/site-packages/tables/group.py\", line 273, in __del__\n",
      "    self._v_pathname in self._v_file._node_manager.registry and\n",
      "AttributeError: 'File' object has no attribute '_node_manager'\n",
      "Exception ignored in: <object repr() failed>\n",
      "Traceback (most recent call last):\n",
      "  File \"/global/common/software/lsst/common/miniconda/current/lib/python3.6/site-packages/tables/group.py\", line 273, in __del__\n",
      "    self._v_pathname in self._v_file._node_manager.registry and\n",
      "AttributeError: 'File' object has no attribute '_node_manager'\n",
      "Exception ignored in: <object repr() failed>\n",
      "Traceback (most recent call last):\n",
      "  File \"/global/common/software/lsst/common/miniconda/current/lib/python3.6/site-packages/tables/group.py\", line 273, in __del__\n",
      "    self._v_pathname in self._v_file._node_manager.registry and\n",
      "AttributeError: 'File' object has no attribute '_node_manager'\n",
      "Exception ignored in: <object repr() failed>\n",
      "Traceback (most recent call last):\n",
      "  File \"/global/common/software/lsst/common/miniconda/current/lib/python3.6/site-packages/tables/group.py\", line 273, in __del__\n",
      "    self._v_pathname in self._v_file._node_manager.registry and\n",
      "AttributeError: 'File' object has no attribute '_node_manager'\n",
      "Exception ignored in: <object repr() failed>\n",
      "Traceback (most recent call last):\n",
      "  File \"/global/common/software/lsst/common/miniconda/current/lib/python3.6/site-packages/tables/group.py\", line 273, in __del__\n",
      "    self._v_pathname in self._v_file._node_manager.registry and\n",
      "AttributeError: 'File' object has no attribute '_node_manager'\n",
      "Exception ignored in: <object repr() failed>\n",
      "Traceback (most recent call last):\n",
      "  File \"/global/common/software/lsst/common/miniconda/current/lib/python3.6/site-packages/tables/group.py\", line 273, in __del__\n",
      "    self._v_pathname in self._v_file._node_manager.registry and\n",
      "AttributeError: 'File' object has no attribute '_node_manager'\n",
      "Exception ignored in: <object repr() failed>\n",
      "Traceback (most recent call last):\n",
      "  File \"/global/common/software/lsst/common/miniconda/current/lib/python3.6/site-packages/tables/group.py\", line 273, in __del__\n",
      "    self._v_pathname in self._v_file._node_manager.registry and\n",
      "AttributeError: 'File' object has no attribute '_node_manager'\n",
      "Exception ignored in: <object repr() failed>\n",
      "Traceback (most recent call last):\n",
      "  File \"/global/common/software/lsst/common/miniconda/current/lib/python3.6/site-packages/tables/group.py\", line 273, in __del__\n",
      "    self._v_pathname in self._v_file._node_manager.registry and\n",
      "AttributeError: 'File' object has no attribute '_node_manager'\n",
      "Exception ignored in: <object repr() failed>\n",
      "Traceback (most recent call last):\n",
      "  File \"/global/common/software/lsst/common/miniconda/current/lib/python3.6/site-packages/tables/group.py\", line 273, in __del__\n",
      "    self._v_pathname in self._v_file._node_manager.registry and\n",
      "AttributeError: 'File' object has no attribute '_node_manager'\n",
      "Exception ignored in: <object repr() failed>\n",
      "Traceback (most recent call last):\n",
      "  File \"/global/common/software/lsst/common/miniconda/current/lib/python3.6/site-packages/tables/group.py\", line 273, in __del__\n",
      "    self._v_pathname in self._v_file._node_manager.registry and\n",
      "AttributeError: 'File' object has no attribute '_node_manager'\n",
      "Exception ignored in: <object repr() failed>\n",
      "Traceback (most recent call last):\n",
      "  File \"/global/common/software/lsst/common/miniconda/current/lib/python3.6/site-packages/tables/group.py\", line 273, in __del__\n",
      "    self._v_pathname in self._v_file._node_manager.registry and\n",
      "AttributeError: 'File' object has no attribute '_node_manager'\n",
      "Exception ignored in: <object repr() failed>\n",
      "Traceback (most recent call last):\n",
      "  File \"/global/common/software/lsst/common/miniconda/current/lib/python3.6/site-packages/tables/group.py\", line 273, in __del__\n",
      "    self._v_pathname in self._v_file._node_manager.registry and\n",
      "AttributeError: 'File' object has no attribute '_node_manager'\n",
      "Exception ignored in: <object repr() failed>\n",
      "Traceback (most recent call last):\n",
      "  File \"/global/common/software/lsst/common/miniconda/current/lib/python3.6/site-packages/tables/group.py\", line 273, in __del__\n",
      "    self._v_pathname in self._v_file._node_manager.registry and\n",
      "AttributeError: 'File' object has no attribute '_node_manager'\n",
      "Exception ignored in: <object repr() failed>\n",
      "Traceback (most recent call last):\n",
      "  File \"/global/common/software/lsst/common/miniconda/current/lib/python3.6/site-packages/tables/group.py\", line 273, in __del__\n",
      "    self._v_pathname in self._v_file._node_manager.registry and\n",
      "AttributeError: 'File' object has no attribute '_node_manager'\n",
      "Exception ignored in: <object repr() failed>\n",
      "Traceback (most recent call last):\n",
      "  File \"/global/common/software/lsst/common/miniconda/current/lib/python3.6/site-packages/tables/group.py\", line 273, in __del__\n",
      "    self._v_pathname in self._v_file._node_manager.registry and\n",
      "AttributeError: 'File' object has no attribute '_node_manager'\n",
      "Exception ignored in: <object repr() failed>\n",
      "Traceback (most recent call last):\n",
      "  File \"/global/common/software/lsst/common/miniconda/current/lib/python3.6/site-packages/tables/group.py\", line 273, in __del__\n",
      "    self._v_pathname in self._v_file._node_manager.registry and\n",
      "AttributeError: 'File' object has no attribute '_node_manager'\n",
      "Exception ignored in: <object repr() failed>\n",
      "Traceback (most recent call last):\n",
      "  File \"/global/common/software/lsst/common/miniconda/current/lib/python3.6/site-packages/tables/group.py\", line 273, in __del__\n",
      "    self._v_pathname in self._v_file._node_manager.registry and\n",
      "AttributeError: 'File' object has no attribute '_node_manager'\n",
      "Exception ignored in: <object repr() failed>\n",
      "Traceback (most recent call last):\n",
      "  File \"/global/common/software/lsst/common/miniconda/current/lib/python3.6/site-packages/tables/group.py\", line 273, in __del__\n",
      "    self._v_pathname in self._v_file._node_manager.registry and\n",
      "AttributeError: 'File' object has no attribute '_node_manager'\n",
      "Exception ignored in: <object repr() failed>\n",
      "Traceback (most recent call last):\n",
      "  File \"/global/common/software/lsst/common/miniconda/current/lib/python3.6/site-packages/tables/group.py\", line 273, in __del__\n",
      "    self._v_pathname in self._v_file._node_manager.registry and\n",
      "AttributeError: 'File' object has no attribute '_node_manager'\n",
      "Exception ignored in: <object repr() failed>\n",
      "Traceback (most recent call last):\n",
      "  File \"/global/common/software/lsst/common/miniconda/current/lib/python3.6/site-packages/tables/group.py\", line 273, in __del__\n",
      "    self._v_pathname in self._v_file._node_manager.registry and\n",
      "AttributeError: 'File' object has no attribute '_node_manager'\n",
      "Exception ignored in: <object repr() failed>\n",
      "Traceback (most recent call last):\n",
      "  File \"/global/common/software/lsst/common/miniconda/current/lib/python3.6/site-packages/tables/group.py\", line 273, in __del__\n",
      "    self._v_pathname in self._v_file._node_manager.registry and\n",
      "AttributeError: 'File' object has no attribute '_node_manager'\n"
     ]
    },
    {
     "name": "stdout",
     "output_type": "stream",
     "text": [
      "1.34 s ± 17.5 ms per loop (mean ± std. dev. of 7 runs, 1 loop each)\n"
     ]
    }
   ],
   "source": [
    "%%timeit\n",
    "gc_onetract = GCRCatalogs.load_catalog('dc2_coadd_run1.1p_tract4850', config)"
   ]
  },
  {
   "cell_type": "markdown",
   "metadata": {},
   "source": [
    "Note that the above generates a lot of exceptions in the file reading the first time.  These are fine for the integrity of the data and the reading but do suggest that we should clean something up about the reading."
   ]
  },
  {
   "cell_type": "code",
   "execution_count": 6,
   "metadata": {},
   "outputs": [
    {
     "name": "stdout",
     "output_type": "stream",
     "text": [
      "899 ms ± 13 ms per loop (mean ± std. dev. of 7 runs, 1 loop each)\n"
     ]
    }
   ],
   "source": [
    "%%timeit\n",
    "gc_onetract_trim = GCRCatalogs.load_catalog('dc2_coadd_run1.1p_tract4850', trim_onetract_config)"
   ]
  },
  {
   "cell_type": "code",
   "execution_count": 7,
   "metadata": {},
   "outputs": [],
   "source": [
    "gc_onetract = GCRCatalogs.load_catalog('dc2_coadd_run1.1p_tract4850', config)\n",
    "gc_onetract_trim = GCRCatalogs.load_catalog('dc2_coadd_run1.1p_tract4850', trim_onetract_config)\n",
    "gc_onetract_table_trim = GCRCatalogs.load_catalog('dc2_coadd_run1.1p_tract4850', table_trim_onetract_config)"
   ]
  },
  {
   "cell_type": "code",
   "execution_count": 8,
   "metadata": {},
   "outputs": [
    {
     "name": "stdout",
     "output_type": "stream",
     "text": [
      "14.2 s ± 138 ms per loop (mean ± std. dev. of 7 runs, 1 loop each)\n"
     ]
    }
   ],
   "source": [
    "%%timeit\n",
    "gc = GCRCatalogs.load_catalog('dc2_coadd_run1.1p', config)"
   ]
  },
  {
   "cell_type": "code",
   "execution_count": 9,
   "metadata": {},
   "outputs": [
    {
     "name": "stdout",
     "output_type": "stream",
     "text": [
      "8.75 s ± 190 ms per loop (mean ± std. dev. of 7 runs, 1 loop each)\n"
     ]
    }
   ],
   "source": [
    "%%timeit\n",
    "gc_trim = GCRCatalogs.load_catalog('dc2_coadd_run1.1p', trim_config)"
   ]
  },
  {
   "cell_type": "code",
   "execution_count": 10,
   "metadata": {},
   "outputs": [
    {
     "name": "stdout",
     "output_type": "stream",
     "text": [
      "16.2 s ± 520 ms per loop (mean ± std. dev. of 7 runs, 1 loop each)\n"
     ]
    }
   ],
   "source": [
    "%%timeit\n",
    "gc_table_trim = GCRCatalogs.load_catalog('dc2_coadd_run1.1p', table_trim_config)"
   ]
  },
  {
   "cell_type": "markdown",
   "metadata": {},
   "source": [
    "Note above that the table version of the trim catalogs takes slight **more** time than reading the full file."
   ]
  },
  {
   "cell_type": "code",
   "execution_count": 11,
   "metadata": {},
   "outputs": [],
   "source": [
    "# Here we actually run and save the objects for later use.\n",
    "# In the %%timeit runs above, the resulting bound names and objects are discarded.\n",
    "gc = GCRCatalogs.load_catalog('dc2_coadd_run1.1p', config)\n",
    "gc_trim = GCRCatalogs.load_catalog('dc2_coadd_run1.1p', trim_config)\n",
    "gc_table_trim = GCRCatalogs.load_catalog('dc2_coadd_run1.1p', table_trim_config)"
   ]
  },
  {
   "cell_type": "markdown",
   "metadata": {},
   "source": [
    "### Time calculation using loaded GCRCatalogs objects"
   ]
  },
  {
   "cell_type": "markdown",
   "metadata": {},
   "source": [
    "Summary:\n",
    "  * The trim catalog files are 10-30 faster to process than the full catalog files.\n",
    "  * The 'table' format trim catalog files take 1-2 as long to process as the trim catalog files.\n",
    "  * The full catalog files take 330 seconds to compute the average."
   ]
  },
  {
   "cell_type": "code",
   "execution_count": 12,
   "metadata": {},
   "outputs": [],
   "source": [
    "def compute_mean_color_slow(catalog):\n",
    "    \"\"\"Compute the mean g-r color of all objects in the 'catalog'.\n",
    "    \n",
    "    This is a trivial performance case.\n",
    "    This isn't particularly immediately interesting, but it's a simple arithmetic operation between two columns.\n",
    "    \"\"\"\n",
    "    average_gmr = (catalog['mag_g'] - catalog['mag_r']).mean()\n",
    "    return average_gmr"
   ]
  },
  {
   "cell_type": "code",
   "execution_count": 13,
   "metadata": {},
   "outputs": [],
   "source": [
    "def compute_mean_color_slow_native(catalog):\n",
    "    \"\"\"Compute the mean g-r color of all objects in the 'catalog' using native g_mag.\n",
    "    \n",
    "    This is a trivial performance case.\n",
    "    This isn't particularly immediately interesting, but it's a simple arithmetic operation between two columns.\n",
    "    \"\"\"\n",
    "    average_gmr = (catalog['g_mag'] - catalog['r_mag']).mean()\n",
    "    return average_gmr"
   ]
  },
  {
   "cell_type": "code",
   "execution_count": 14,
   "metadata": {},
   "outputs": [],
   "source": [
    "def compute_mean_color_faster(catalog):\n",
    "    \"\"\"Compute the mean g-r color of all objects in the 'catalog'.\n",
    "    \n",
    "    This is a trivial performance case.\n",
    "    This isn't particularly immediately interesting, but it's a simple arithmetic operation between two columns.\n",
    "    \"\"\"\n",
    "    data = catalog.get_quantities(['mag_g', 'mag_r'])\n",
    "    average_gmr = (data['mag_g'] - data['mag_r']).mean()\n",
    "    return average_gmr"
   ]
  },
  {
   "cell_type": "code",
   "execution_count": 15,
   "metadata": {},
   "outputs": [],
   "source": [
    "def compute_mean_color_faster_iter(catalog):\n",
    "    \"\"\"Compute the mean g-r color of all objects in the 'catalog' using iterator.\n",
    "    \n",
    "    This is a trivial performance case.\n",
    "    This isn't particularly immediately interesting, but it's a simple arithmetic operation between two columns.\n",
    "    \"\"\"\n",
    "    sum_gmr = count = 0\n",
    "    for data in catalog.get_quantities(['mag_g', 'mag_r'], return_iterator=True):\n",
    "        sum_gmr += (data['mag_g'] - data['mag_r']).sum()\n",
    "        count += len(data['mag_g'])\n",
    "    return sum_gmr / count"
   ]
  },
  {
   "cell_type": "markdown",
   "metadata": {},
   "source": [
    "We below clear the memory cache with `GCRCatalogs` with `clear_cache()` method on the load object to reset for performance tests.  But it's harder to control the underlying caching of the GPFS and kernel filesystem memory and we are not doing that here in this Notebook."
   ]
  },
  {
   "cell_type": "code",
   "execution_count": 16,
   "metadata": {},
   "outputs": [
    {
     "name": "stdout",
     "output_type": "stream",
     "text": [
      "22.5 s ± 3.97 s per loop (mean ± std. dev. of 7 runs, 1 loop each)\n"
     ]
    }
   ],
   "source": [
    "%%timeit\n",
    "gc_onetract.clear_cache()\n",
    "compute_mean_color_slow(gc_onetract)"
   ]
  },
  {
   "cell_type": "code",
   "execution_count": 17,
   "metadata": {},
   "outputs": [
    {
     "name": "stdout",
     "output_type": "stream",
     "text": [
      "17.2 s ± 1.85 s per loop (mean ± std. dev. of 7 runs, 1 loop each)\n"
     ]
    }
   ],
   "source": [
    "%%timeit\n",
    "gc_onetract.clear_cache()\n",
    "compute_mean_color_slow_native(gc_onetract)"
   ]
  },
  {
   "cell_type": "code",
   "execution_count": 18,
   "metadata": {},
   "outputs": [
    {
     "name": "stdout",
     "output_type": "stream",
     "text": [
      "1.12 s ± 25.8 ms per loop (mean ± std. dev. of 7 runs, 1 loop each)\n"
     ]
    }
   ],
   "source": [
    "%%timeit\n",
    "gc_onetract_trim.clear_cache()\n",
    "compute_mean_color_slow(gc_onetract_trim)"
   ]
  },
  {
   "cell_type": "code",
   "execution_count": 19,
   "metadata": {},
   "outputs": [
    {
     "name": "stdout",
     "output_type": "stream",
     "text": [
      "1.39 s ± 131 ms per loop (mean ± std. dev. of 7 runs, 1 loop each)\n"
     ]
    }
   ],
   "source": [
    "%%timeit\n",
    "gc_onetract_table_trim.clear_cache()\n",
    "compute_mean_color_slow(gc_onetract_table_trim)"
   ]
  },
  {
   "cell_type": "code",
   "execution_count": 20,
   "metadata": {},
   "outputs": [
    {
     "name": "stdout",
     "output_type": "stream",
     "text": [
      "5min 33s ± 20.7 s per loop (mean ± std. dev. of 7 runs, 1 loop each)\n"
     ]
    }
   ],
   "source": [
    "%%timeit\n",
    "gc.clear_cache()\n",
    "compute_mean_color_slow(gc)"
   ]
  },
  {
   "cell_type": "code",
   "execution_count": 21,
   "metadata": {},
   "outputs": [
    {
     "name": "stdout",
     "output_type": "stream",
     "text": [
      "18.2 s ± 1.7 s per loop (mean ± std. dev. of 7 runs, 1 loop each)\n"
     ]
    }
   ],
   "source": [
    "%%timeit\n",
    "gc_onetract.clear_cache()\n",
    "compute_mean_color_faster(gc_onetract)"
   ]
  },
  {
   "cell_type": "code",
   "execution_count": 22,
   "metadata": {},
   "outputs": [
    {
     "name": "stdout",
     "output_type": "stream",
     "text": [
      "11.3 s ± 329 ms per loop (mean ± std. dev. of 7 runs, 1 loop each)\n"
     ]
    }
   ],
   "source": [
    "%%timeit\n",
    "gc_trim.clear_cache()\n",
    "compute_mean_color_faster(gc_trim)"
   ]
  },
  {
   "cell_type": "code",
   "execution_count": 23,
   "metadata": {},
   "outputs": [
    {
     "name": "stdout",
     "output_type": "stream",
     "text": [
      "20.8 s ± 3.31 s per loop (mean ± std. dev. of 7 runs, 1 loop each)\n"
     ]
    }
   ],
   "source": [
    "%%timeit\n",
    "gc_table_trim.clear_cache()\n",
    "compute_mean_color_faster(gc_table_trim)"
   ]
  },
  {
   "cell_type": "code",
   "execution_count": 24,
   "metadata": {},
   "outputs": [
    {
     "name": "stdout",
     "output_type": "stream",
     "text": [
      "5min 40s ± 3.42 s per loop (mean ± std. dev. of 7 runs, 1 loop each)\n"
     ]
    }
   ],
   "source": [
    "%%timeit\n",
    "gc.clear_cache()\n",
    "compute_mean_color_faster(gc)"
   ]
  },
  {
   "cell_type": "code",
   "execution_count": 25,
   "metadata": {},
   "outputs": [
    {
     "name": "stdout",
     "output_type": "stream",
     "text": [
      "18.6 s ± 1.3 s per loop (mean ± std. dev. of 7 runs, 1 loop each)\n"
     ]
    }
   ],
   "source": [
    "%%timeit\n",
    "gc_onetract.clear_cache()\n",
    "compute_mean_color_faster_iter(gc_onetract)"
   ]
  },
  {
   "cell_type": "code",
   "execution_count": 26,
   "metadata": {},
   "outputs": [
    {
     "name": "stdout",
     "output_type": "stream",
     "text": [
      "11.4 s ± 364 ms per loop (mean ± std. dev. of 7 runs, 1 loop each)\n"
     ]
    }
   ],
   "source": [
    "%%timeit\n",
    "gc_trim.clear_cache()\n",
    "compute_mean_color_faster_iter(gc_trim)"
   ]
  },
  {
   "cell_type": "code",
   "execution_count": 27,
   "metadata": {},
   "outputs": [
    {
     "name": "stdout",
     "output_type": "stream",
     "text": [
      "19 s ± 3.1 s per loop (mean ± std. dev. of 7 runs, 1 loop each)\n"
     ]
    }
   ],
   "source": [
    "%%timeit\n",
    "gc_table_trim.clear_cache()\n",
    "compute_mean_color_faster_iter(gc_table_trim)"
   ]
  },
  {
   "cell_type": "code",
   "execution_count": 28,
   "metadata": {},
   "outputs": [
    {
     "name": "stdout",
     "output_type": "stream",
     "text": [
      "5min 12s ± 32.2 s per loop (mean ± std. dev. of 7 runs, 1 loop each)\n"
     ]
    }
   ],
   "source": [
    "%%timeit\n",
    "gc.clear_cache()\n",
    "compute_mean_color_faster_iter(gc)"
   ]
  },
  {
   "cell_type": "markdown",
   "metadata": {},
   "source": [
    "### Time subsequent access to other columns after caching\n",
    "\n",
    "Next we will look at the performance of GCRCatalogs after having read through the data once for some other column, and then computing the performance on reading another column.\n",
    "\n",
    "While the user does care about the first experience timing (the tests above), they really care about repeated access time which is what we will proceed to test here."
   ]
  },
  {
   "cell_type": "code",
   "execution_count": 29,
   "metadata": {},
   "outputs": [],
   "source": [
    "# Give chance to fill cache\n",
    "_ = gc.get_quantities(['ra', 'dec'])"
   ]
  },
  {
   "cell_type": "code",
   "execution_count": 30,
   "metadata": {},
   "outputs": [
    {
     "name": "stdout",
     "output_type": "stream",
     "text": [
      "609 ms ± 129 ms per loop (mean ± std. dev. of 7 runs, 1 loop each)\n"
     ]
    }
   ],
   "source": [
    "%%timeit\n",
    "compute_mean_color_faster(gc)"
   ]
  },
  {
   "cell_type": "code",
   "execution_count": 31,
   "metadata": {},
   "outputs": [
    {
     "name": "stdout",
     "output_type": "stream",
     "text": [
      "409 ms ± 113 ms per loop (mean ± std. dev. of 7 runs, 1 loop each)\n"
     ]
    }
   ],
   "source": [
    "%%timeit\n",
    "compute_mean_color_faster_iter(gc)"
   ]
  },
  {
   "cell_type": "code",
   "execution_count": 32,
   "metadata": {},
   "outputs": [],
   "source": [
    "# Give chance to fill cache\n",
    "_ = gc_trim.get_quantities(['ra', 'dec'])"
   ]
  },
  {
   "cell_type": "code",
   "execution_count": 33,
   "metadata": {},
   "outputs": [
    {
     "name": "stdout",
     "output_type": "stream",
     "text": [
      "348 ms ± 3.18 ms per loop (mean ± std. dev. of 7 runs, 1 loop each)\n"
     ]
    }
   ],
   "source": [
    "%%timeit\n",
    "compute_mean_color_faster(gc_trim)"
   ]
  },
  {
   "cell_type": "code",
   "execution_count": 34,
   "metadata": {},
   "outputs": [
    {
     "name": "stdout",
     "output_type": "stream",
     "text": [
      "287 ms ± 21.9 ms per loop (mean ± std. dev. of 7 runs, 1 loop each)\n"
     ]
    }
   ],
   "source": [
    "%%timeit\n",
    "compute_mean_color_faster_iter(gc_trim)"
   ]
  },
  {
   "cell_type": "code",
   "execution_count": 35,
   "metadata": {},
   "outputs": [],
   "source": [
    "# Give chance to fill cache\n",
    "_ = gc_table_trim.get_quantities(['ra', 'dec'])"
   ]
  },
  {
   "cell_type": "code",
   "execution_count": 36,
   "metadata": {},
   "outputs": [
    {
     "name": "stdout",
     "output_type": "stream",
     "text": [
      "183 ms ± 3.56 ms per loop (mean ± std. dev. of 7 runs, 1 loop each)\n"
     ]
    }
   ],
   "source": [
    "%%timeit\n",
    "compute_mean_color_faster(gc_table_trim)"
   ]
  },
  {
   "cell_type": "code",
   "execution_count": 37,
   "metadata": {},
   "outputs": [
    {
     "name": "stdout",
     "output_type": "stream",
     "text": [
      "89.9 ms ± 14 ms per loop (mean ± std. dev. of 7 runs, 10 loops each)\n"
     ]
    }
   ],
   "source": [
    "%%timeit\n",
    "compute_mean_color_faster_iter(gc_table_trim)"
   ]
  },
  {
   "cell_type": "code",
   "execution_count": 38,
   "metadata": {},
   "outputs": [
    {
     "name": "stdout",
     "output_type": "stream",
     "text": [
      " "
     ]
    }
   ],
   "source": [
    "%%prun\n",
    "compute_mean_color_faster_iter(gc_table_trim)"
   ]
  },
  {
   "cell_type": "markdown",
   "metadata": {},
   "source": [
    "# How fast is Pandas?"
   ]
  },
  {
   "cell_type": "code",
   "execution_count": 2,
   "metadata": {},
   "outputs": [],
   "source": [
    "import os\n",
    "import pandas as pd\n",
    "\n",
    "tract = 4850\n",
    "\n",
    "datafile_pattern = 'merged_tract_{:d}.hdf5'\n",
    "datafile_pattern_trim = 'trim_' + datafile_pattern\n",
    "datafile_pattern_table_trim = 'table_trim_' + datafile_pattern\n",
    "\n",
    "datafile_basename = datafile_pattern.format(tract)\n",
    "datafile_basename_trim = datafile_pattern_trim.format(tract)\n",
    "datafile_basename_table_trim = datafile_pattern_table_trim.format(tract)\n",
    "\n",
    "base_dir = '/global/projecta/projectdirs/lsst/global/in2p3/Run1.1/object_catalog'\n",
    "\n",
    "datafile = os.path.join(base_dir, datafile_basename)\n",
    "datafile_trim = os.path.join(base_dir, datafile_basename_trim)\n",
    "datafile_table_trim = os.path.join(base_dir, datafile_basename_table_trim)\n",
    "\n",
    "key_prefix = 'coadd'\n",
    "nx, ny = 8, 8\n",
    "patches = ['%d%d' % (i, j) for i in range(nx) for j in range (ny)]  # Note '%d%d' instead of '%d,%d'\n",
    "patch = patches[0]\n",
    "key = '%s_%d_%s' % (key_prefix, tract, patch)"
   ]
  },
  {
   "cell_type": "markdown",
   "metadata": {},
   "source": [
    "### Time loading of catalog using Pandas"
   ]
  },
  {
   "cell_type": "markdown",
   "metadata": {},
   "source": [
    "Reading just one patch of the tract."
   ]
  },
  {
   "cell_type": "code",
   "execution_count": 2,
   "metadata": {},
   "outputs": [
    {
     "name": "stdout",
     "output_type": "stream",
     "text": [
      "50.4 ms ± 856 µs per loop (mean ± std. dev. of 7 runs, 1 loop each)\n"
     ]
    }
   ],
   "source": [
    "%%timeit\n",
    "df_onepatch = pd.read_hdf(datafile, key=key)"
   ]
  },
  {
   "cell_type": "code",
   "execution_count": 3,
   "metadata": {},
   "outputs": [
    {
     "name": "stdout",
     "output_type": "stream",
     "text": [
      "13.6 ms ± 796 µs per loop (mean ± std. dev. of 7 runs, 100 loops each)\n"
     ]
    }
   ],
   "source": [
    "%%timeit\n",
    "df_onepatch_trim = pd.read_hdf(datafile_trim, key=key)"
   ]
  },
  {
   "cell_type": "code",
   "execution_count": 4,
   "metadata": {
    "scrolled": true
   },
   "outputs": [
    {
     "name": "stdout",
     "output_type": "stream",
     "text": [
      "25.3 ms ± 1.38 ms per loop (mean ± std. dev. of 7 runs, 10 loops each)\n"
     ]
    }
   ],
   "source": [
    "%%timeit\n",
    "df_onepatch_table_trim = pd.read_hdf(datafile_table_trim, key=key)"
   ]
  },
  {
   "cell_type": "markdown",
   "metadata": {},
   "source": [
    "Now we'll load all of the patches in the tract"
   ]
  },
  {
   "cell_type": "code",
   "execution_count": 3,
   "metadata": {},
   "outputs": [],
   "source": [
    "def load_tract_into_pandas(datafile, tract, key_prefix='coadd'):\n",
    "    \"\"\"Load all of the patches in one tract into Pandas\n",
    "    \n",
    "    Returns None if no data was successfully loaded.\n",
    "    \"\"\"\n",
    "    nx, ny = 8, 8\n",
    "    patches = ['%d%d' % (i, j) for i in range(nx) for j in range (ny)]  # Note '%d%d' instead of '%d,%d'\n",
    "\n",
    "    dfs = []\n",
    "    for patch in patches:\n",
    "        key = '%s_%d_%s' % (key_prefix, tract, patch)\n",
    "        try:\n",
    "            df = pd.read_hdf(datafile, key=key)\n",
    "        except:\n",
    "            continue\n",
    "        dfs.append(df)\n",
    "\n",
    "    if dfs:\n",
    "        df = pd.concat(dfs, ignore_index=True)\n",
    "    else:\n",
    "        df = None\n",
    "\n",
    "    return df"
   ]
  },
  {
   "cell_type": "code",
   "execution_count": 6,
   "metadata": {},
   "outputs": [
    {
     "name": "stdout",
     "output_type": "stream",
     "text": [
      "52.1 s ± 3.67 s per loop (mean ± std. dev. of 7 runs, 1 loop each)\n"
     ]
    }
   ],
   "source": [
    "%%timeit\n",
    "df_onetract = load_tract_into_pandas(datafile, tract)"
   ]
  },
  {
   "cell_type": "code",
   "execution_count": 7,
   "metadata": {},
   "outputs": [
    {
     "name": "stdout",
     "output_type": "stream",
     "text": [
      "1.74 s ± 112 ms per loop (mean ± std. dev. of 7 runs, 1 loop each)\n"
     ]
    }
   ],
   "source": [
    "%%timeit\n",
    "df_onetract_trim = load_tract_into_pandas(datafile_trim, tract)"
   ]
  },
  {
   "cell_type": "code",
   "execution_count": 8,
   "metadata": {},
   "outputs": [
    {
     "name": "stdout",
     "output_type": "stream",
     "text": [
      "2.6 s ± 136 ms per loop (mean ± std. dev. of 7 runs, 1 loop each)\n"
     ]
    }
   ],
   "source": [
    "%%timeit\n",
    "df_onetract_table_trim = load_tract_into_pandas(datafile_table_trim, tract)"
   ]
  },
  {
   "cell_type": "code",
   "execution_count": 6,
   "metadata": {},
   "outputs": [],
   "source": [
    "df_onetract = load_tract_into_pandas(datafile, tract)\n",
    "df_onetract_trim = load_tract_into_pandas(datafile_trim, tract)\n",
    "df_onetract_table_trim = load_tract_into_pandas(datafile_table_trim, tract)"
   ]
  },
  {
   "cell_type": "code",
   "execution_count": 7,
   "metadata": {},
   "outputs": [
    {
     "name": "stdout",
     "output_type": "stream",
     "text": [
      "3.63 ms ± 44.8 µs per loop (mean ± std. dev. of 7 runs, 100 loops each)\n"
     ]
    }
   ],
   "source": [
    "%%timeit\n",
    "df_onetract['g_mag'] - df_onetract['r_mag']"
   ]
  },
  {
   "cell_type": "code",
   "execution_count": 8,
   "metadata": {},
   "outputs": [
    {
     "name": "stdout",
     "output_type": "stream",
     "text": [
      "6.14 ms ± 116 µs per loop (mean ± std. dev. of 7 runs, 100 loops each)\n"
     ]
    }
   ],
   "source": [
    "%%timeit\n",
    "(df_onetract['g_mag'] - df_onetract['r_mag']).mean()"
   ]
  },
  {
   "cell_type": "code",
   "execution_count": 9,
   "metadata": {},
   "outputs": [
    {
     "name": "stdout",
     "output_type": "stream",
     "text": [
      "2.7 ms ± 185 µs per loop (mean ± std. dev. of 7 runs, 100 loops each)\n"
     ]
    }
   ],
   "source": [
    "%%timeit\n",
    "df_onetract_trim['g_mag'] - df_onetract_trim['r_mag']"
   ]
  },
  {
   "cell_type": "code",
   "execution_count": 10,
   "metadata": {},
   "outputs": [
    {
     "name": "stdout",
     "output_type": "stream",
     "text": [
      "5.02 ms ± 55.5 µs per loop (mean ± std. dev. of 7 runs, 100 loops each)\n"
     ]
    }
   ],
   "source": [
    "%%timeit\n",
    "(df_onetract_trim['g_mag'] - df_onetract_trim['r_mag']).mean()"
   ]
  },
  {
   "cell_type": "code",
   "execution_count": 11,
   "metadata": {},
   "outputs": [
    {
     "name": "stdout",
     "output_type": "stream",
     "text": [
      "750 µs ± 42.2 µs per loop (mean ± std. dev. of 7 runs, 1000 loops each)\n"
     ]
    }
   ],
   "source": [
    "%%timeit\n",
    "df_onetract_table_trim['g_mag'] - df_onetract_table_trim['r_mag']"
   ]
  },
  {
   "cell_type": "code",
   "execution_count": 12,
   "metadata": {},
   "outputs": [
    {
     "name": "stdout",
     "output_type": "stream",
     "text": [
      "3.27 ms ± 142 µs per loop (mean ± std. dev. of 7 runs, 100 loops each)\n"
     ]
    }
   ],
   "source": [
    "%%timeit\n",
    "(df_onetract_table_trim['g_mag'] - df_onetract_table_trim['r_mag']).mean()"
   ]
  },
  {
   "cell_type": "markdown",
   "metadata": {},
   "source": [
    "Now load all 20 tracts (many are only partially complete)"
   ]
  },
  {
   "cell_type": "code",
   "execution_count": 4,
   "metadata": {},
   "outputs": [],
   "source": [
    "fullpath_datafile_pattern = os.path.join(base_dir, datafile_pattern)\n",
    "fullpath_datafile_pattern_trim = os.path.join(base_dir, datafile_pattern_trim)\n",
    "fullpath_datafile_pattern_table_trim = os.path.join(base_dir, datafile_pattern_table_trim)"
   ]
  },
  {
   "cell_type": "code",
   "execution_count": 5,
   "metadata": {},
   "outputs": [],
   "source": [
    "def load_all_tracts_into_pandas(\n",
    "    datafile_pattern,\n",
    "    tracts=(5066, 5065, 5064, 5063, 5062,\n",
    "            4852, 4851, 4850, 4849, 4848,\n",
    "            4640, 4639, 4638, 4637, 4636,\n",
    "            4433, 4432, 4431, 4430, 4429),\n",
    "    verbose=False,\n",
    "    **kwargs):\n",
    "    dfs = []\n",
    "    for t in tracts:\n",
    "        datafile = datafile_pattern.format(t)\n",
    "        if verbose:\n",
    "            print(datafile)\n",
    "        df = load_tract_into_pandas(datafile, t, **kwargs)\n",
    "        if df is not None:\n",
    "            dfs.append(df)\n",
    "    \n",
    "    return pd.concat(dfs, ignore_index=True)"
   ]
  },
  {
   "cell_type": "markdown",
   "metadata": {},
   "source": [
    "Actually loading the full set into Pandas tends to get killed for exceeding memory when there's high memory pressure on cori19.nersc.gov (the current node running Jupyter).  \n",
    "Thus the following cell tends to never run:"
   ]
  },
  {
   "cell_type": "code",
   "execution_count": null,
   "metadata": {
    "scrolled": true
   },
   "outputs": [],
   "source": [
    "%%timeit -n 1 -r 1\n",
    "df = load_all_tracts_into_pandas(fullpath_datafile_pattern)"
   ]
  },
  {
   "cell_type": "code",
   "execution_count": 16,
   "metadata": {
    "scrolled": true
   },
   "outputs": [
    {
     "name": "stdout",
     "output_type": "stream",
     "text": [
      "1min 39s ± 0 ns per loop (mean ± std. dev. of 1 run, 1 loop each)\n"
     ]
    }
   ],
   "source": [
    "%%timeit -n 1 -r 1\n",
    "df_trim = load_all_tracts_into_pandas(fullpath_datafile_pattern_trim)"
   ]
  },
  {
   "cell_type": "code",
   "execution_count": 15,
   "metadata": {},
   "outputs": [
    {
     "name": "stdout",
     "output_type": "stream",
     "text": [
      "1min 26s ± 8.62 s per loop (mean ± std. dev. of 7 runs, 1 loop each)\n"
     ]
    }
   ],
   "source": [
    "%%timeit -n 1\n",
    "df_table_trim = load_all_tracts_into_pandas(fullpath_datafile_pattern_table_trim)"
   ]
  },
  {
   "cell_type": "code",
   "execution_count": null,
   "metadata": {},
   "outputs": [],
   "source": [
    "df = load_all_tracts_into_pandas(fullpath_datafile_pattern)"
   ]
  },
  {
   "cell_type": "code",
   "execution_count": 6,
   "metadata": {},
   "outputs": [],
   "source": [
    "df_trim = load_all_tracts_into_pandas(fullpath_datafile_pattern_trim)"
   ]
  },
  {
   "cell_type": "code",
   "execution_count": 7,
   "metadata": {
    "scrolled": true
   },
   "outputs": [],
   "source": [
    "df_table_trim = load_all_tracts_into_pandas(fullpath_datafile_pattern_table_trim)"
   ]
  },
  {
   "cell_type": "code",
   "execution_count": null,
   "metadata": {},
   "outputs": [],
   "source": [
    "%%timeit\n",
    "df['g_mag'] - df['r_mag']"
   ]
  },
  {
   "cell_type": "code",
   "execution_count": null,
   "metadata": {},
   "outputs": [],
   "source": [
    "%%timeit\n",
    "(df['g_mag'] - df['r_mag']).mean()"
   ]
  },
  {
   "cell_type": "code",
   "execution_count": 8,
   "metadata": {},
   "outputs": [
    {
     "name": "stdout",
     "output_type": "stream",
     "text": [
      "9.36 ms ± 317 µs per loop (mean ± std. dev. of 7 runs, 100 loops each)\n"
     ]
    }
   ],
   "source": [
    "%%timeit\n",
    "df_trim['g_mag'] - df_trim['r_mag']"
   ]
  },
  {
   "cell_type": "code",
   "execution_count": 9,
   "metadata": {},
   "outputs": [
    {
     "name": "stdout",
     "output_type": "stream",
     "text": [
      "36.1 ms ± 796 µs per loop (mean ± std. dev. of 7 runs, 10 loops each)\n"
     ]
    }
   ],
   "source": [
    "%%timeit\n",
    "(df_trim['g_mag'] - df_trim['r_mag']).mean()"
   ]
  },
  {
   "cell_type": "code",
   "execution_count": 10,
   "metadata": {},
   "outputs": [
    {
     "name": "stdout",
     "output_type": "stream",
     "text": [
      "8.45 ms ± 166 µs per loop (mean ± std. dev. of 7 runs, 100 loops each)\n"
     ]
    }
   ],
   "source": [
    "%%timeit\n",
    "df_table_trim['g_mag'] - df_table_trim['r_mag']"
   ]
  },
  {
   "cell_type": "code",
   "execution_count": 11,
   "metadata": {},
   "outputs": [
    {
     "name": "stdout",
     "output_type": "stream",
     "text": [
      "35.5 ms ± 310 µs per loop (mean ± std. dev. of 7 runs, 10 loops each)\n"
     ]
    }
   ],
   "source": [
    "%%timeit\n",
    "(df_table_trim['g_mag'] - df_table_trim['r_mag']).mean()"
   ]
  },
  {
   "cell_type": "code",
   "execution_count": 12,
   "metadata": {},
   "outputs": [
    {
     "name": "stdout",
     "output_type": "stream",
     "text": [
      " "
     ]
    }
   ],
   "source": [
    "%%prun\n",
    "(df_table_trim['g_mag'] - df_table_trim['r_mag']).mean()"
   ]
  },
  {
   "cell_type": "markdown",
   "metadata": {},
   "source": [
    "These calculation times are identical for the three different catalogs.  This is consistent with the logical need; each operation is reading two columns and subtracting them.\n",
    "\n",
    "Note that subtracting the arrays takes only ten milliseconds.  Aggregating the result takes 3-4 times longer, although we're still only at tens of milliseconds."
   ]
  },
  {
   "cell_type": "code",
   "execution_count": null,
   "metadata": {},
   "outputs": [],
   "source": [
    "df.info()"
   ]
  },
  {
   "cell_type": "code",
   "execution_count": 13,
   "metadata": {},
   "outputs": [
    {
     "name": "stdout",
     "output_type": "stream",
     "text": [
      "<class 'pandas.core.frame.DataFrame'>\n",
      "RangeIndex: 6892380 entries, 0 to 6892379\n",
      "Columns: 111 entries, base_Blendedness_abs_flux to z_modelfit_CModel_fluxSigma\n",
      "dtypes: bool(10), float32(3), float64(84), int64(2), object(12)\n",
      "memory usage: 5.2+ GB\n"
     ]
    }
   ],
   "source": [
    "df_trim.info()"
   ]
  },
  {
   "cell_type": "code",
   "execution_count": 14,
   "metadata": {},
   "outputs": [
    {
     "name": "stdout",
     "output_type": "stream",
     "text": [
      "<class 'pandas.core.frame.DataFrame'>\n",
      "RangeIndex: 6892380 entries, 0 to 6892379\n",
      "Columns: 111 entries, base_Blendedness_abs_flux to z_modelfit_CModel_fluxSigma\n",
      "dtypes: bool(10), float32(3), float64(84), int64(2), object(12)\n",
      "memory usage: 5.2+ GB\n"
     ]
    }
   ],
   "source": [
    "df_table_trim.info()"
   ]
  },
  {
   "cell_type": "markdown",
   "metadata": {},
   "source": [
    "## How fast is Dask?"
   ]
  },
  {
   "cell_type": "markdown",
   "metadata": {},
   "source": [
    "This section on Dask is very preliminary and will be improved upon in future work."
   ]
  },
  {
   "cell_type": "code",
   "execution_count": 38,
   "metadata": {},
   "outputs": [],
   "source": [
    "import numpy as np\n",
    "\n",
    "import dask as da\n",
    "import dask.dataframe as dd\n",
    "\n",
    "from dask.distributed import Client\n",
    "client = Client(processes=False)"
   ]
  },
  {
   "cell_type": "code",
   "execution_count": 39,
   "metadata": {},
   "outputs": [],
   "source": [
    "tract = 4850\n",
    "\n",
    "base_dir = '/global/projecta/projectdirs/lsst/global/in2p3/Run1.1/summary'\n",
    "\n",
    "datafile = os.path.join(base_dir, 'table_trim_merged_tract_%d.hdf5' % tract)\n",
    "datafile_pattern = os.path.join(base_dir, 'table_trim_merged_tract_*.hdf5')"
   ]
  },
  {
   "cell_type": "markdown",
   "metadata": {},
   "source": [
    "### Time loading of catalog using Dask"
   ]
  },
  {
   "cell_type": "code",
   "execution_count": 51,
   "metadata": {},
   "outputs": [],
   "source": [
    "da_df_onetract = dd.read_hdf(datafile, key='coadd_*', mode='r')\n",
    "da_df = dd.read_hdf(datafile_pattern, key='coadd_*', mode='r')"
   ]
  },
  {
   "cell_type": "code",
   "execution_count": 52,
   "metadata": {},
   "outputs": [],
   "source": [
    "df2_onetract = (da_df_onetract['g_mag'] - da_df_onetract['r_mag']).mean()\n",
    "df2 = (da_df_all['g_mag'] - da_df_all['r_mag']).mean()"
   ]
  },
  {
   "cell_type": "markdown",
   "metadata": {},
   "source": [
    "### Time computation using Dask"
   ]
  },
  {
   "cell_type": "code",
   "execution_count": 53,
   "metadata": {
    "scrolled": true
   },
   "outputs": [
    {
     "name": "stdout",
     "output_type": "stream",
     "text": [
      "2.77 s ± 129 ms per loop (mean ± std. dev. of 7 runs, 1 loop each)\n"
     ]
    }
   ],
   "source": [
    "%%timeit\n",
    "df2_onetract.compute()"
   ]
  },
  {
   "cell_type": "code",
   "execution_count": 54,
   "metadata": {},
   "outputs": [
    {
     "name": "stdout",
     "output_type": "stream",
     "text": [
      "54.6 s ± 1.05 s per loop (mean ± std. dev. of 7 runs, 1 loop each)\n"
     ]
    }
   ],
   "source": [
    "%%timeit\n",
    "df2.compute()"
   ]
  },
  {
   "cell_type": "markdown",
   "metadata": {},
   "source": [
    "Note that the full DASK calculations take 20 times longer than the onetract version.  This is consistent with the respetive time Pandas took to load the `table_trim_` files in our Pandas run above.\n",
    "\n",
    "Dask takes 55 seconds to do the color average using the `table_trim_` files, while GCRCatalogs takes ~12 seconds using the `trim_` files and ~19 seconds using the `table_trim_` files.\n",
    "\n",
    "This was a naive default configuration with two threads.  Further work is called for."
   ]
  },
  {
   "cell_type": "code",
   "execution_count": 45,
   "metadata": {},
   "outputs": [
    {
     "name": "stdout",
     "output_type": "stream",
     "text": [
      "2\n"
     ]
    }
   ],
   "source": [
    "import os\n",
    "print(os.getenv('OMP_NUM_THREADS'))"
   ]
  },
  {
   "cell_type": "markdown",
   "metadata": {},
   "source": [
    "### Does it matter if we're on Lustre (SCRATCH)\n",
    "\n",
    "No."
   ]
  },
  {
   "cell_type": "code",
   "execution_count": 46,
   "metadata": {},
   "outputs": [],
   "source": [
    "base_dir = '/global/cscratch1/sd/wmwv/DC2/Run1.1p/summary'\n",
    "\n",
    "datafile_onetract_lustre = os.path.join(base_dir, 'table_trim_merged_tract_%d.hdf5' % tract)\n",
    "datafile_pattern_lustre = os.path.join(base_dir, 'table_trim_merged_tract_*.hdf5')"
   ]
  },
  {
   "cell_type": "code",
   "execution_count": 47,
   "metadata": {},
   "outputs": [],
   "source": [
    "da_df_onetract_lustre = dd.read_hdf(datafile_onetract_lustre, key='coadd_*', mode='r')\n",
    "da_df_lustre = dd.read_hdf(datafile_pattern_lustre, key='coadd_*', mode='r')"
   ]
  },
  {
   "cell_type": "code",
   "execution_count": 48,
   "metadata": {},
   "outputs": [],
   "source": [
    "df2_onetract_lustre = np.mean(da_df_onetract_lustre['g_mag'] - da_df_onetract_lustre['r_mag'])\n",
    "df2_lustre = np.mean(da_df_lustre['g_mag'] - da_df_lustre['r_mag'])"
   ]
  },
  {
   "cell_type": "code",
   "execution_count": 49,
   "metadata": {},
   "outputs": [
    {
     "name": "stdout",
     "output_type": "stream",
     "text": [
      "3.52 s ± 1.32 s per loop (mean ± std. dev. of 7 runs, 1 loop each)\n"
     ]
    }
   ],
   "source": [
    "%%timeit\n",
    "df2_onetract_lustre.compute()"
   ]
  },
  {
   "cell_type": "code",
   "execution_count": 50,
   "metadata": {},
   "outputs": [
    {
     "name": "stdout",
     "output_type": "stream",
     "text": [
      "1min 6s ± 6.97 s per loop (mean ± std. dev. of 7 runs, 1 loop each)\n"
     ]
    }
   ],
   "source": [
    "%%timeit\n",
    "df2_lustre.compute()"
   ]
  },
  {
   "cell_type": "markdown",
   "metadata": {},
   "source": [
    "Time on the Luster file system for the (onetract, all) data set of (3.5, 76) sec seems about the same as the GPFS (2.8, 54.6) sec."
   ]
  },
  {
   "cell_type": "code",
   "execution_count": null,
   "metadata": {},
   "outputs": [],
   "source": []
  }
 ],
 "metadata": {
  "kernelspec": {
   "display_name": "desc-python",
   "language": "python",
   "name": "desc-python"
  },
  "language_info": {
   "codemirror_mode": {
    "name": "ipython",
    "version": 3
   },
   "file_extension": ".py",
   "mimetype": "text/x-python",
   "name": "python",
   "nbconvert_exporter": "python",
   "pygments_lexer": "ipython3",
   "version": "3.6.2"
  }
 },
 "nbformat": 4,
 "nbformat_minor": 2
}
