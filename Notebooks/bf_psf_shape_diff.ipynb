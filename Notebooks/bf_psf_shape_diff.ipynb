{
 "cells": [
  {
   "cell_type": "markdown",
   "metadata": {},
   "source": [
    "### Plot shape difference between XX, YY measured moments and PSF XX, YY moments\n",
    "\n",
    "Adpated by Michael Wood-Vasey from Merlin Fisher-Levine on 2018-08-21.\n",
    "\n"
   ]
  },
  {
   "cell_type": "code",
   "execution_count": 8,
   "metadata": {
    "collapsed": true
   },
   "outputs": [],
   "source": [
    "import os\n",
    "import sys\n",
    "\n",
    "import numpy as np\n",
    "import matplotlib.pyplot as plt\n",
    "\n",
    "import lsst.daf.persistence as dafPersist\n",
    "import lsst.afw.image as afwImage\n",
    "%matplotlib inline"
   ]
  },
  {
   "cell_type": "code",
   "execution_count": 9,
   "metadata": {},
   "outputs": [],
   "source": [
    "def plot(mags, diffs, title='', saveFilename=''):\n",
    "    maxDiff = 12\n",
    "    nStdev = 3.0\n",
    "\n",
    "    ptSize = 25\n",
    "    fontsize = 20\n",
    "    color = 'b'\n",
    "\n",
    "    left, width = 0.12, 0.62\n",
    "    bottom, height = 0.10, 0.85 # had to change height to make it save correctly\n",
    "    left_h = left + width + 0.03\n",
    "    bottom_h = bottom + width + 0.02\n",
    "    rect_scatter = [left, bottom, width, height]\n",
    "    rect_histy = [left_h, bottom, 0.20, height]\n",
    "\n",
    "    deltaMin = 0.0\n",
    "\n",
    "    fig = plt.figure(figsize=(15,10))\n",
    "    axScatter = plt.axes(rect_scatter)\n",
    "    if title: plt.title(title, fontsize=25)\n",
    "    axHisty = plt.axes(rect_histy)\n",
    "\n",
    "    _ = axScatter.scatter(mags, diffs, s=1.3*ptSize, marker=\"o\", facecolors=\"b\", edgecolors=color, alpha = 0.15)\n",
    "    _ = axScatter.axhline(0, ls='--', color=\"0.4\")\n",
    "\n",
    "    axScatterY1 = axScatter.get_ylim()[0]\n",
    "    axScatterY2 = axScatter.get_ylim()[1]\n",
    "    nyDecimal = int(-1.0*np.around(np.log10(0.05*abs(axScatterY2 - (axScatterY1 - deltaMin))) - 0.5))\n",
    "    yBinwidth = max(0.5/10**nyDecimal, np.around(0.02*abs(axScatterY2 - (axScatterY1 - deltaMin)), nyDecimal))\n",
    "\n",
    "    yBins = np.arange((axScatterY1 - deltaMin) - 0.5*yBinwidth, axScatterY2 + 0.55*yBinwidth, yBinwidth)\n",
    "    _ = axHisty.hist(diffs, bins=yBins, color='b', alpha=0.6, orientation=\"horizontal\", label='test')\n",
    "\n",
    "    _ = axScatter.set_ylim(-1.*maxDiff,maxDiff)\n",
    "    _ = axHisty.set_ylim(-1.*maxDiff,maxDiff)\n",
    "    axHisty.set_xscale(\"log\", nonposy=\"clip\")\n",
    "    \n",
    "    axScatter.set_xlabel('mag')\n",
    "    axScatter.set_ylabel('Percentage difference star - model size (sqrt(<xx+yy>/2)')\n",
    "    \n",
    "    mean = np.mean(diffs)\n",
    "    std = np.std(diffs)\n",
    "    std_clip = np.std( np.clip(diffs, mean-nStdev*std, mean+nStdev*std))\n",
    "    mean_clip = np.mean ( np.clip(diffs, mean-nStdev*std, mean+nStdev*std))\n",
    "    \n",
    "    spc = 0.04\n",
    "    _ = plt.text(0.05, 0.95-0*spc, \"Star N       = %s\"  %len(diffs), ha=\"left\", va=\"center\", fontsize=fontsize, transform=axScatter.transAxes, color='k')\n",
    "    _ = plt.text(0.05, 0.95-1*spc, \"stddev      = %.4f\" %std,        ha=\"left\", va=\"center\", fontsize=fontsize, transform=axScatter.transAxes, color='k')\n",
    "    _ = plt.text(0.05, 0.95-2*spc, \"std_clip     = %.4f\"%std_clip,   ha=\"left\", va=\"center\", fontsize=fontsize, transform=axScatter.transAxes, color='k')\n",
    "    _ = plt.text(0.05, 0.95-3*spc, \"mean        = %.4f\" %mean,       ha=\"left\", va=\"center\", fontsize=fontsize, transform=axScatter.transAxes, color='k')\n",
    "    _ = plt.text(0.05, 0.95-4*spc, \"mean_clip = %.4f\"   %mean_clip,  ha=\"left\", va=\"center\", fontsize=fontsize, transform=axScatter.transAxes, color='k')\n",
    "\n",
    "    if saveFilename:\n",
    "        plt.savefig(saveFilename)\n"
   ]
  },
  {
   "cell_type": "code",
   "execution_count": 35,
   "metadata": {},
   "outputs": [],
   "source": [
    "repo = '/global/projecta/projectdirs/lsst/global/in2p3/Run1.1/output'\n",
    "outdir = './plots'\n",
    "\n",
    "try:\n",
    "    os.makedirs(outdir)\n",
    "except:\n",
    "    pass"
   ]
  },
  {
   "cell_type": "code",
   "execution_count": 28,
   "metadata": {},
   "outputs": [
    {
     "name": "stdout",
     "output_type": "stream",
     "text": [
      "Run1.1\n"
     ]
    }
   ],
   "source": [
    "butler = dafPersist.Butler(repo)\n",
    "run = os.path.basename(os.path.dirname(repo))\n",
    "print(run)"
   ]
  },
  {
   "cell_type": "code",
   "execution_count": 37,
   "metadata": {
    "collapsed": true
   },
   "outputs": [],
   "source": [
    "visits = [204560, 204661, 211181, 211182, 211240, 211274, 263508, 269133, 428497, 428530, 437349]\n",
    "rafts = ['{:1d},{:1d}'.format(x, y) for x in range(5) for y in range(5)]\n",
    "sensors = ['{:1d},{:1d}'.format(x, y) for x in range(3) for y in range(3)]\n",
    "\n",
    "corners = ['0,0', '0,4', '4,4', '4,0']\n",
    "for corner in corners:\n",
    "    rafts.remove(corner)"
   ]
  },
  {
   "cell_type": "code",
   "execution_count": null,
   "metadata": {},
   "outputs": [],
   "source": [
    "print(rafts)"
   ]
  },
  {
   "cell_type": "code",
   "execution_count": 38,
   "metadata": {},
   "outputs": [],
   "source": [
    "from copy import copy\n",
    "\n",
    "def get_shape_mag_diff(visits, partial_data_id):\n",
    "    star_sizes = []\n",
    "    model_sizes = []\n",
    "    mags = []\n",
    "    for visit in visits:\n",
    "        data_id = copy(partial_data_id)\n",
    "        data_id['visit'] = visit\n",
    "        try:\n",
    "            cat = butler.get('src', dataId=data_id)  \n",
    "            calib = butler.get('calexp_calib', dataId=data_id)\n",
    "        except dafPersist.NoResults as e:\n",
    "            print(e)\n",
    "            continue\n",
    "\n",
    "        calib.setThrowOnNegativeFlux(False)\n",
    "\n",
    "        mask = (cat['calib_psfUsed'] == 1) #& (cat['base_PixelFlags_flag_interpolated'] == 0)\n",
    "        cat = cat[mask]\n",
    "        star_sizes.extend([_ for _ in np.sqrt( 0.5*(cat['base_SdssShape_xx'] + cat['base_SdssShape_yy']))])\n",
    "        model_sizes.extend([_ for _ in np.sqrt( 0.5*(cat['base_SdssShape_psf_xx'] + cat['base_SdssShape_psf_yy']))])\n",
    "        mags.extend([_ for _ in calib.getMagnitude(cat['base_PsfFlux_flux'])])\n",
    "        \n",
    "    diffs = [100*(a - b)/b for a,b in zip(star_sizes, model_sizes)]\n",
    "    diffs = np.asarray(diffs)\n",
    "\n",
    "    return mags, diffs\n",
    "\n"
   ]
  },
  {
   "cell_type": "code",
   "execution_count": null,
   "metadata": {
    "scrolled": false
   },
   "outputs": [],
   "source": [
    "for raft in rafts:\n",
    "    for sensor in sensors:\n",
    "        partial_data_id = {'raft': raft, 'sensor': sensor}\n",
    "        mags, diffs = get_shape_mag_diff(visits, partial_data_id)\n",
    "\n",
    "        if len(mags) < 1:\n",
    "            print('No results for {}'.format(partial_data_id))\n",
    "            continue\n",
    "    \n",
    "        title = '{}_raft_{}_sensor_{}'.format(run, raft, sensor)\n",
    "        saveName = os.path.join(outdir, title + '.png')\n",
    "        plot(mags, diffs, title, saveName)  \n",
    "        print('Finished raft, sensor: {}, {}'.format(raft, sensor))\n",
    "        sys.stdout.flush()    "
   ]
  },
  {
   "cell_type": "code",
   "execution_count": 22,
   "metadata": {
    "collapsed": true
   },
   "outputs": [],
   "source": [
    "fails = []\n",
    "for raft in rafts:\n",
    "    for sensor in sensors:\n",
    "        for visit in visits:\n",
    "            try:\n",
    "                cat = butler.get('src', dataId={'raft': raft, 'sensor': sensor, 'visit': visit})\n",
    "            except:\n",
    "                fails.append((raft, sensor, visit))"
   ]
  },
  {
   "cell_type": "code",
   "execution_count": 23,
   "metadata": {},
   "outputs": [
    {
     "data": {
      "text/plain": [
       "[('1,1', '2,0', 263508)]"
      ]
     },
     "execution_count": 23,
     "metadata": {},
     "output_type": "execute_result"
    }
   ],
   "source": [
    "fails"
   ]
  },
  {
   "cell_type": "code",
   "execution_count": null,
   "metadata": {
    "collapsed": true
   },
   "outputs": [],
   "source": []
  },
  {
   "cell_type": "code",
   "execution_count": null,
   "metadata": {
    "collapsed": true
   },
   "outputs": [],
   "source": []
  },
  {
   "cell_type": "code",
   "execution_count": null,
   "metadata": {
    "collapsed": true
   },
   "outputs": [],
   "source": []
  },
  {
   "cell_type": "code",
   "execution_count": null,
   "metadata": {
    "collapsed": true
   },
   "outputs": [],
   "source": []
  },
  {
   "cell_type": "code",
   "execution_count": null,
   "metadata": {
    "collapsed": true
   },
   "outputs": [],
   "source": []
  },
  {
   "cell_type": "code",
   "execution_count": null,
   "metadata": {
    "collapsed": true
   },
   "outputs": [],
   "source": []
  },
  {
   "cell_type": "code",
   "execution_count": null,
   "metadata": {
    "collapsed": true
   },
   "outputs": [],
   "source": []
  },
  {
   "cell_type": "code",
   "execution_count": null,
   "metadata": {
    "collapsed": true
   },
   "outputs": [],
   "source": [
    "vis = '1228..1232:2^1238..1248:2^19658..19662:2^19680..19684:2^19694..19698:2^19708..19712:2^30482..30504:2'\n"
   ]
  },
  {
   "cell_type": "code",
   "execution_count": null,
   "metadata": {
    "collapsed": true
   },
   "outputs": [],
   "source": [
    "# \"\"\"Parse ``--id`` data and append results to ``namespace.<argument>.idList``.\n",
    "# Parameters\n",
    "# ----------\n",
    "# parser : `ArgumentParser`\n",
    "#     Argument parser.\n",
    "# namespace : `argparse.Namespace`\n",
    "#     Parsed command (an instance of argparse.Namespace). The following attributes are updated:\n",
    "#     - ``<idName>.idList``, where ``<idName>`` is the name of the ID argument, for instance ``\"id\"``\n",
    "#       for ID argument ``--id``.\n",
    "# values : `list`\n",
    "#     A list of data IDs; see Notes below.\n",
    "# option_string : `str`\n",
    "#     Option value specified by the user.\n",
    "# Notes\n",
    "# -----\n",
    "# The data format is::\n",
    "#     key1=value1_1[^value1_2[^value1_3...] key2=value2_1[^value2_2[^value2_3...]...\n",
    "# The values (e.g. ``value1_1``) may either be a string, or of the form ``\"int..int\"``\n",
    "# (e.g. ``\"1..3\"``) which is interpreted as ``\"1^2^3\"`` (inclusive, unlike a python range).\n",
    "# So ``\"0^2..4^7..9\"`` is equivalent to ``\"0^2^3^4^7^8^9\"``.  You may also specify a stride:\n",
    "# ``\"1..5:2\"`` is ``\"1^3^5\"``.\n",
    "# The cross product is computed for keys with multiple values. For example::\n",
    "#     --id visit 1^2 ccd 1,1^2,2\n",
    "# results in the following data ID dicts being appended to ``namespace.<argument>.idList``:\n",
    "#     {\"visit\":1, \"ccd\":\"1,1\"}\n",
    "#     {\"visit\":2, \"ccd\":\"1,1\"}\n",
    "#     {\"visit\":1, \"ccd\":\"2,2\"}\n",
    "#     {\"visit\":2, \"ccd\":\"2,2\"}\n",
    "# \"\"\"\n",
    "def parse(input_string):\n",
    "    import collections, re    \n",
    "    \n",
    "    idDict = collections.OrderedDict()\n",
    "    name = 'visit'\n",
    "#     for nameValue in values:\n",
    "#         name, sep, valueStr = nameValue.partition(\"=\")\n",
    "#         if name in idDict:\n",
    "#             parser.error(\"%s appears multiple times in one ID argument: %s\" % (name, option_string))\n",
    "    idDict[name] = []\n",
    "    for v in input_string.split(\"^\"):\n",
    "        mat = re.search(r\"^(\\d+)\\.\\.(\\d+)(?::(\\d+))?$\", v)\n",
    "        if mat:\n",
    "            v1 = int(mat.group(1))\n",
    "            v2 = int(mat.group(2))\n",
    "            v3 = mat.group(3)\n",
    "            v3 = int(v3) if v3 else 1\n",
    "            for v in range(v1, v2 + 1, v3):\n",
    "                idDict[name].append(str(v))\n",
    "        else:\n",
    "            idDict[name].append(v)\n",
    "\n",
    "# iterList = [idDict[key] for key in idDict.keys()]\n",
    "# idDictList = [collections.OrderedDict(zip(idDict.keys(), valList))\n",
    "#               for valList in itertools.product(*iterList)]\n",
    "\n",
    "# argName = option_string.lstrip(\"-\")\n",
    "# ident = getattr(namespace, argName)\n",
    "# ident.idList += idDictList\n",
    "    return idDict"
   ]
  },
  {
   "cell_type": "code",
   "execution_count": null,
   "metadata": {},
   "outputs": [],
   "source": [
    "parse(vis)"
   ]
  },
  {
   "cell_type": "code",
   "execution_count": null,
   "metadata": {
    "collapsed": true
   },
   "outputs": [],
   "source": [
    "ptSize = 25\n",
    "color = 'b'\n",
    "fig = plt.figure(figsize=(15,10))\n",
    "axScatter = plt.axes()\n",
    "\n",
    "axScatter.axhline(0, ls='--', color=\"0.4\")\n",
    "axScatter.scatter(mag, diffs, s=1.3*ptSize, marker=\"o\", facecolors=\"b\", edgecolors=color, alpha = 0.2)\n",
    "# axScatter.axhline(np.mean(diffs), ls='--', color=\"0.4\")\n",
    "plt.ylim(-8,8)"
   ]
  }
 ],
 "metadata": {
  "kernelspec": {
   "display_name": "desc-stack",
   "language": "python",
   "name": "desc-stack"
  },
  "language_info": {
   "codemirror_mode": {
    "name": "ipython",
    "version": 3
   },
   "file_extension": ".py",
   "mimetype": "text/x-python",
   "name": "python",
   "nbconvert_exporter": "python",
   "pygments_lexer": "ipython3",
   "version": "3.6.2"
  }
 },
 "nbformat": 4,
 "nbformat_minor": 2
}
