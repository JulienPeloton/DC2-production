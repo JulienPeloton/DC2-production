{
 "cells": [
  {
   "cell_type": "markdown",
   "metadata": {},
   "source": [
    "## Use ip_isr Task to make brighter-fatter kernel from a set of high-intensity flats.\n",
    "Michael Wood-Vasey  (2018-08-21)\n",
    "\n",
    "With substantial help from Merlin Fisher-Levine."
   ]
  },
  {
   "cell_type": "markdown",
   "metadata": {},
   "source": [
    "Jim Chiang kindly created a set of Phosim and ImSim flats at NERSC:\n",
    "\n",
    "* ImSim flat pairs are `/global/cscratch1/sd/jchiang8/desc/imsim_tests/bf_flats/lsst_a_*r.fits`\n",
    "  - ImSim visits are 161899, 161900\n",
    "  - Gains are set to 1.7\n",
    "* PhoSim flat pairs are `/global/cscratch1/sd/jchiang8/desc/calibration_products/bf_flats/lsst_a*.fits`.  \n",
    "  - The visit numbers for these PhoSim flat pairs are 0..11.\n",
    "  - Gains are set to 1.0.\n",
    "  - There are three pairs in u at 70k, 80k, and 90k e-/pixel, and three pairs in i for the same signal levels.   Note that these are in the _ImSim_ `raw` format since the original PhoSim runs didn't generate the amplifier files, so it's not trivially easy to make PhoSim `raw` format images.  \n",
    "\n",
    "Use `lsst.obs.lsstCam.ImsimMapper` for both on ingest.\n",
    "\n",
    "Jim also made a set of ImSim flat pairs for R22_S11 for a sequence of signal levels, from 10k to 80k e-/pixel, in steps of 10k.  One might use these in the future to look at the full photon transfer curve (\"non-linearity\").  \n",
    "`/global/cscratch1/sd/jchiang8/desc/imsim_tests/bf_flats/ptc_dataset/lsst_a*.fits`  \n",
    "These pairs can be identified by looking for the shorter `EXPTIME` values."
   ]
  },
  {
   "cell_type": "markdown",
   "metadata": {},
   "source": [
    "### Logistics\n",
    "\n",
    "* Versions  \n",
    "This was run through the JupyterLab environment at NERSC (https://jupyter-dev.nersc.gov) based on `w_2018_26`\n",
    "but with a custom kernelspec that loaded a set of local checkouts of\n",
    "\n",
    "```\n",
    "obs_base tickets/DM-13293\n",
    "obs_lsstCam tickets/DM-15509\n",
    "cp_pipe tickets/DM-13293\n",
    "```\n",
    "\n",
    "file:///global/homes/w/wmwv/.local/share/jupyter/kernels/desc-stack-obs-lsstCam  \n",
    "file:/global/homes/w/wmwv/.local/share/jupyter/kernels/desc-stack-obs-lsstCam/kernel.json  \n",
    "file:/global/homes/w/wmwv/.local/share/jupyter/kernels/desc-stack-obs-lsstCam/desc-stack-obs-lsstCam.sh\n",
    "\n",
    "* Hacks\n",
    "  - Because I was basing this off of `w_2018_26`, I additionally had to\n",
    "    * comment-out the `exposure.setWcs` command in the raw assembly in `obs_lsstCam`.\n",
    "    * Define a warpper `run` method in `makeBrighterFatterTask.py` that calls `runDataRef`.\n",
    "  - The `cp_pipe` tickets/DM-13293 is still under review and currently has a dependency on `eotest` in the default set of things that get loaded when loading the `cp_pipe` module.  I manually commented out\n",
    "  ```\n",
    "  #     from .cpTask import *\n",
    "  ```\n",
    "  in the `cp_pipe/python/lsst/cp/pipe/__init__.py` file.\n",
    "\n",
    "## References\n",
    "* For an introduction to the brighter-fatter effect, see \n",
    "  - http://adsabs.harvard.edu/abs/2014JInst...9C3048A  Antilogous, Astier, Guyonnet, Regnault. 2014. JInst, 9, C3048.\n",
    "* For a starting place for DESC thinking about brighter-fatter, see \n",
    "  - https://confluence.slac.stanford.edu/display/LSSTDESC/Brighter+Fatter+Effect   (DESC private page)\n",
    "* See Andrew Bradshaw's [StackClub](https://github.com/LSSTScienceCollaborations/StackClub) notebook studying the brighter-fatter effect on stars and galaxies projected from the lab-based beam simulator.\n",
    "  - [Rendered] http://nbviewer.jupyter.org/url/andrewnomy.com/sync/BrighterFatterCorrection.ipynb?flush_cache=true\n",
    "  - [Raw] https://github.com/LSSTScienceCollaborations/StackClub/blob/project/beamsim/andrewkbradshaw/ImageProcessing/BrighterFatterCorrection.ipynb\n",
    "* Analysis of Brighter-Fatter in DECam\n",
    "  - http://adsabs.harvard.edu/abs/2015JInst..10C5032G  Gruen, Berstein, JArvis, Rowe, Vikram, Plazas, Seitz.  2015.  JInst, 10, C5032."
   ]
  },
  {
   "cell_type": "code",
   "execution_count": 145,
   "metadata": {},
   "outputs": [],
   "source": [
    "import numpy as np\n",
    "import matplotlib.pyplot as plt"
   ]
  },
  {
   "cell_type": "code",
   "execution_count": 146,
   "metadata": {},
   "outputs": [],
   "source": [
    "# Test to make sure that we can import obs_lsstCam\n",
    "import lsst.obs.base\n",
    "import lsst.obs.lsstCam"
   ]
  },
  {
   "cell_type": "code",
   "execution_count": 147,
   "metadata": {},
   "outputs": [],
   "source": [
    "from lsst.cp.pipe.makeBrighterFatterKernel import MakeBrighterFatterKernelTask\n",
    "from lsst.daf.persistence import Butler\n",
    "from lsst.pipe.tasks.ingest import IngestTask"
   ]
  },
  {
   "cell_type": "markdown",
   "metadata": {},
   "source": [
    "## Make PhoSim Brighter-Fatter Kernel"
   ]
  },
  {
   "cell_type": "code",
   "execution_count": 148,
   "metadata": {},
   "outputs": [
    {
     "name": "stdout",
     "output_type": "stream",
     "text": [
      "root INFO: Loading config overrride file '/global/homes/w/wmwv/local/lsst/obs_lsstCam/config/ingest.py'\n",
      "LsstCamMapper WARN: Unable to find calib root directory\n",
      "CameraMapper INFO: Loading Posix exposure registry from /global/u1/w/wmwv/local/lsst/DC2-production/Notebooks/phosim_repo\n",
      "ingest INFO: /global/cscratch1/sd/jchiang8/desc/calibration_products/bf_flats/lsst_a_000000_R22_S11.fits --<link>--> /global/u1/w/wmwv/local/lsst/DC2-production/Notebooks/phosim_repo/raw/0/R22/00000000-R22-S11-det094-000.fits\n",
      "ingest INFO: /global/cscratch1/sd/jchiang8/desc/calibration_products/bf_flats/lsst_a_000001_R22_S11.fits --<link>--> /global/u1/w/wmwv/local/lsst/DC2-production/Notebooks/phosim_repo/raw/1/R22/00000001-R22-S11-det094-000.fits\n",
      "ingest INFO: /global/cscratch1/sd/jchiang8/desc/calibration_products/bf_flats/lsst_a_000002_R22_S11.fits --<link>--> /global/u1/w/wmwv/local/lsst/DC2-production/Notebooks/phosim_repo/raw/2/R22/00000002-R22-S11-det094-000.fits\n",
      "ingest INFO: /global/cscratch1/sd/jchiang8/desc/calibration_products/bf_flats/lsst_a_000003_R22_S11.fits --<link>--> /global/u1/w/wmwv/local/lsst/DC2-production/Notebooks/phosim_repo/raw/3/R22/00000003-R22-S11-det094-000.fits\n",
      "ingest INFO: /global/cscratch1/sd/jchiang8/desc/calibration_products/bf_flats/lsst_a_000004_R22_S11.fits --<link>--> /global/u1/w/wmwv/local/lsst/DC2-production/Notebooks/phosim_repo/raw/4/R22/00000004-R22-S11-det094-000.fits\n",
      "ingest INFO: /global/cscratch1/sd/jchiang8/desc/calibration_products/bf_flats/lsst_a_000005_R22_S11.fits --<link>--> /global/u1/w/wmwv/local/lsst/DC2-production/Notebooks/phosim_repo/raw/5/R22/00000005-R22-S11-det094-000.fits\n",
      "ingest INFO: /global/cscratch1/sd/jchiang8/desc/calibration_products/bf_flats/lsst_a_000006_R22_S11.fits --<link>--> /global/u1/w/wmwv/local/lsst/DC2-production/Notebooks/phosim_repo/raw/6/R22/00000006-R22-S11-det094-000.fits\n",
      "ingest INFO: /global/cscratch1/sd/jchiang8/desc/calibration_products/bf_flats/lsst_a_000007_R22_S11.fits --<link>--> /global/u1/w/wmwv/local/lsst/DC2-production/Notebooks/phosim_repo/raw/7/R22/00000007-R22-S11-det094-000.fits\n",
      "ingest INFO: /global/cscratch1/sd/jchiang8/desc/calibration_products/bf_flats/lsst_a_000008_R22_S11.fits --<link>--> /global/u1/w/wmwv/local/lsst/DC2-production/Notebooks/phosim_repo/raw/8/R22/00000008-R22-S11-det094-000.fits\n",
      "ingest INFO: /global/cscratch1/sd/jchiang8/desc/calibration_products/bf_flats/lsst_a_000009_R22_S11.fits --<link>--> /global/u1/w/wmwv/local/lsst/DC2-production/Notebooks/phosim_repo/raw/9/R22/00000009-R22-S11-det094-000.fits\n",
      "ingest INFO: /global/cscratch1/sd/jchiang8/desc/calibration_products/bf_flats/lsst_a_000010_R22_S11.fits --<link>--> /global/u1/w/wmwv/local/lsst/DC2-production/Notebooks/phosim_repo/raw/10/R22/00000010-R22-S11-det094-000.fits\n",
      "ingest INFO: /global/cscratch1/sd/jchiang8/desc/calibration_products/bf_flats/lsst_a_000011_R22_S11.fits --<link>--> /global/u1/w/wmwv/local/lsst/DC2-production/Notebooks/phosim_repo/raw/11/R22/00000011-R22-S11-det094-000.fits\n"
     ]
    }
   ],
   "source": [
    "# Uncomment this `rm` command when you really mean to reingest, reprocess, and delete repo\n",
    "! rm -rf phosim_repo\n",
    "\n",
    "! mkdir phosim_repo\n",
    "! echo \"lsst.obs.lsstCam.LsstCamMapper\" > phosim_repo/_mapper\n",
    "\n",
    "# Ingest the PhoSim flats\n",
    "! ingestImages.py phosim_repo /global/cscratch1/sd/jchiang8/desc/calibration_products/bf_flats/lsst_a*.fits --mode link"
   ]
  },
  {
   "cell_type": "code",
   "execution_count": 152,
   "metadata": {},
   "outputs": [],
   "source": [
    "# Make up some gain values\n",
    "# This is clearly wrong.\n",
    "amp_names = ['C{:02d}'.format(i) for i in range(18)]\n",
    "phosim_gain = 1.0\n",
    "nominalGain = {a: phosim_gain for a in amp_names}"
   ]
  },
  {
   "cell_type": "code",
   "execution_count": 153,
   "metadata": {},
   "outputs": [],
   "source": [
    "butler = Butler('phosim_repo')\n",
    "\n",
    "gain = nominalGain\n",
    "dataRef = butler.dataRef('brighterFatterGain', dataId={'detector': phosim_detector}) \n",
    "dataRef.put(gain, 'brighterFatterGain')   "
   ]
  },
  {
   "cell_type": "markdown",
   "metadata": {},
   "source": [
    "Calculate the brighter-fatter kernel using `MakeBrighterFatterKernelTask`.  This will take ~10 minutes."
   ]
  },
  {
   "cell_type": "code",
   "execution_count": 151,
   "metadata": {},
   "outputs": [
    {
     "name": "stdout",
     "output_type": "stream",
     "text": [
      "makeBrighterFatterKernel.py phosim_repo --rerun test --id detector=94 --visit-pairs 1,5 3,9 4,8 10,2 0,11 6,7 -c xcorrCheckRejectLevel=2 doCalcGains=False --clobber-config --clobber-versions\n"
     ]
    },
    {
     "name": "stderr",
     "output_type": "stream",
     "text": [
      "WARNING: ErfaWarning: ERFA function \"dtf2d\" yielded 1 of \"dubious year (Note 6)\" [astropy._erfa.core]\n",
      "WARNING: ErfaWarning: ERFA function \"utctai\" yielded 1 of \"dubious year (Note 3)\" [astropy._erfa.core]\n"
     ]
    }
   ],
   "source": [
    "args = ['phosim_repo', '--rerun', 'test',\n",
    "        '--id', 'detector={}'.format(phosim_detector),\n",
    "        '--visit-pairs', '3,9', '4,8', '6,7',\n",
    "        '-c',\n",
    "        'xcorrCheckRejectLevel=2', 'doCalcGains=False',\n",
    "        '--clobber-config', '--clobber-versions'\n",
    "       ]\n",
    "\n",
    "# In case you want to compare with running in terminal.\n",
    "# Or perhaps you have access more easily to the stack version in a terminal than in a Jupyter kernel:\n",
    "command_line = 'makeBrighterFatterKernel.py ' + ' '.join(args)\n",
    "print(command_line)\n",
    "\n",
    "phosim_pb_struct = MakeBrighterFatterKernelTask.parseAndRun(args=args)"
   ]
  },
  {
   "cell_type": "markdown",
   "metadata": {},
   "source": [
    "Ignore warnings."
   ]
  },
  {
   "cell_type": "markdown",
   "metadata": {},
   "source": [
    "It worked.  let's load in the kernel and look at it!"
   ]
  },
  {
   "cell_type": "code",
   "execution_count": 154,
   "metadata": {},
   "outputs": [],
   "source": [
    "phosim_detector = 94\n",
    "test_butler = Butler('calib_repo/rerun/test')\n",
    "phosim_bf_kernel = test_butler.get('brighterFatterKernelNew', dataId={'raftName': 'R22', 'detectorName': 'S11', 'detector': phosim_detector})"
   ]
  },
  {
   "cell_type": "code",
   "execution_count": 155,
   "metadata": {},
   "outputs": [
    {
     "data": {
      "text/plain": [
       "<matplotlib.image.AxesImage at 0x2b3b630a1e10>"
      ]
     },
     "execution_count": 155,
     "metadata": {},
     "output_type": "execute_result"
    },
    {
     "data": {
      "image/png": "[encoded data removed]",
      "text/plain": [
       "<matplotlib.figure.Figure at 0x2b3b62e44320>"
      ]
     },
     "metadata": {},
     "output_type": "display_data"
    }
   ],
   "source": [
    "plt.imshow(phosim_bf_kernel[phosim_detector])"
   ]
  },
  {
   "cell_type": "code",
   "execution_count": 158,
   "metadata": {},
   "outputs": [
    {
     "data": {
      "text/plain": [
       "[<matplotlib.lines.Line2D at 0x2b3b62e1bf60>]"
      ]
     },
     "execution_count": 158,
     "metadata": {},
     "output_type": "execute_result"
    },
    {
     "data": {
      "image/png": "[encoded data removed]",
      "text/plain": [
       "<matplotlib.figure.Figure at 0x2b3b62e1b588>"
      ]
     },
     "metadata": {},
     "output_type": "display_data"
    }
   ],
   "source": [
    "plt.plot(phosim_bf_kernel[phosim_detector][:,8], color='blue', drawstyle='steps-mid')\n",
    "plt.plot(phosim_bf_kernel[phosim_detector][8,:], linestyle='--', color='red', drawstyle='steps-mid')"
   ]
  },
  {
   "cell_type": "markdown",
   "metadata": {},
   "source": [
    "## Make ImSim Brighter-Fatter Kernel"
   ]
  },
  {
   "cell_type": "code",
   "execution_count": 159,
   "metadata": {},
   "outputs": [
    {
     "name": "stdout",
     "output_type": "stream",
     "text": [
      "root INFO: Loading config overrride file '/global/homes/w/wmwv/local/lsst/obs_lsstCam/config/ingest.py'\n",
      "LsstCamMapper WARN: Unable to find calib root directory\n",
      "CameraMapper INFO: Loading Posix exposure registry from /global/u1/w/wmwv/local/lsst/DC2-production/Notebooks/imsim_repo\n",
      "ingest INFO: /global/cscratch1/sd/jchiang8/desc/imsim_tests/bf_flats/lsst_a_161899_R01_S00_r.fits --<link>--> /global/u1/w/wmwv/local/lsst/DC2-production/Notebooks/imsim_repo/raw/161899/R01/00161899-R01-S00-det000-000.fits\n",
      "ingest INFO: /global/cscratch1/sd/jchiang8/desc/imsim_tests/bf_flats/lsst_a_161899_R01_S01_r.fits --<link>--> /global/u1/w/wmwv/local/lsst/DC2-production/Notebooks/imsim_repo/raw/161899/R01/00161899-R01-S01-det001-000.fits\n",
      "ingest INFO: /global/cscratch1/sd/jchiang8/desc/imsim_tests/bf_flats/lsst_a_161899_R01_S02_r.fits --<link>--> /global/u1/w/wmwv/local/lsst/DC2-production/Notebooks/imsim_repo/raw/161899/R01/00161899-R01-S02-det002-000.fits\n",
      "ingest INFO: /global/cscratch1/sd/jchiang8/desc/imsim_tests/bf_flats/lsst_a_161899_R01_S10_r.fits --<link>--> /global/u1/w/wmwv/local/lsst/DC2-production/Notebooks/imsim_repo/raw/161899/R01/00161899-R01-S10-det003-000.fits\n",
      "ingest INFO: /global/cscratch1/sd/jchiang8/desc/imsim_tests/bf_flats/lsst_a_161900_R01_S00_r.fits --<link>--> /global/u1/w/wmwv/local/lsst/DC2-production/Notebooks/imsim_repo/raw/161900/R01/00161900-R01-S00-det000-000.fits\n",
      "ingest INFO: /global/cscratch1/sd/jchiang8/desc/imsim_tests/bf_flats/lsst_a_161900_R01_S01_r.fits --<link>--> /global/u1/w/wmwv/local/lsst/DC2-production/Notebooks/imsim_repo/raw/161900/R01/00161900-R01-S01-det001-000.fits\n",
      "ingest INFO: /global/cscratch1/sd/jchiang8/desc/imsim_tests/bf_flats/lsst_a_161900_R01_S02_r.fits --<link>--> /global/u1/w/wmwv/local/lsst/DC2-production/Notebooks/imsim_repo/raw/161900/R01/00161900-R01-S02-det002-000.fits\n",
      "ingest INFO: /global/cscratch1/sd/jchiang8/desc/imsim_tests/bf_flats/lsst_a_161900_R01_S10_r.fits --<link>--> /global/u1/w/wmwv/local/lsst/DC2-production/Notebooks/imsim_repo/raw/161900/R01/00161900-R01-S10-det003-000.fits\n"
     ]
    }
   ],
   "source": [
    "# Uncomment this `rm` command when you really mean to reingest, reprocess, and delete repo\n",
    "! rm -rf imsim_repo\n",
    "\n",
    "! mkdir imsim_repo\n",
    "! echo \"lsst.obs.lsstCam.LsstCamMapper\" > imsim_repo/_mapper\n",
    "\n",
    "# Ingest the PhoSim flats\n",
    "! ingestImages.py imsim_repo /global/cscratch1/sd/jchiang8/desc/imsim_tests/bf_flats/lsst_a_*r.fits --mode link"
   ]
  },
  {
   "cell_type": "code",
   "execution_count": 160,
   "metadata": {},
   "outputs": [],
   "source": [
    "# Explicitly set the gain values.\n",
    "amp_names = ['C{:02d}'.format(i) for i in range(18)]\n",
    "imsim_gain = 1.7\n",
    "nominalGain = {a: imsim_gain for a in amp_names}"
   ]
  },
  {
   "cell_type": "code",
   "execution_count": 161,
   "metadata": {},
   "outputs": [],
   "source": [
    "butler = Butler('imsim_repo')\n",
    "\n",
    "imsim_detectors = (0, 1, 2, 3)\n",
    "\n",
    "gain = nominalGain\n",
    "for det in imsim_detectors:\n",
    "    dataRef = butler.dataRef('brighterFatterGain', dataId={'detector': det}) \n",
    "    dataRef.put(gain, 'brighterFatterGain')   "
   ]
  },
  {
   "cell_type": "code",
   "execution_count": 125,
   "metadata": {},
   "outputs": [
    {
     "name": "stdout",
     "output_type": "stream",
     "text": [
      "makeBrighterFatterKernel.py imsim_repo --rerun test --id detector=0..3 --visit-pairs 161899,161900 -c xcorrCheckRejectLevel=2 doCalcGains=False --clobber-config --clobber-versions\n"
     ]
    },
    {
     "name": "stderr",
     "output_type": "stream",
     "text": [
      "WARNING: ErfaWarning: ERFA function \"dtf2d\" yielded 1 of \"dubious year (Note 6)\" [astropy._erfa.core]\n",
      "WARNING: ErfaWarning: ERFA function \"utctai\" yielded 1 of \"dubious year (Note 3)\" [astropy._erfa.core]\n"
     ]
    }
   ],
   "source": [
    "args = ['imsim_repo', '--rerun', 'test',\n",
    "        '--id', 'detector=0..3',\n",
    "        '--visit-pairs', '161899,161900',\n",
    "        '-c',\n",
    "        'xcorrCheckRejectLevel=2', 'doCalcGains=False',\n",
    "        '--clobber-config', '--clobber-versions'\n",
    "       ]\n",
    "\n",
    "# In case you want to compare with running in terminal.\n",
    "# Or perhaps you have access more easily to the stack version in a terminal than in a Jupyter kernel:\n",
    "command_line = 'makeBrighterFatterKernel.py ' + ' '.join(args)\n",
    "print(command_line)\n",
    "\n",
    "imsim_pb_struct = MakeBrighterFatterKernelTask.parseAndRun(args=args)"
   ]
  },
  {
   "cell_type": "code",
   "execution_count": 126,
   "metadata": {},
   "outputs": [],
   "source": [
    "test_butler = Butler('imsim_repo/rerun/test')\n",
    "\n",
    "imsim_detectors = (0, 1, 2, 3)\n",
    "\n",
    "imsim_bf_kernel = {}\n",
    "for det in imsim_detectors:\n",
    "    this_bf_kernel = test_butler.get('brighterFatterKernelNew', dataId={'detector': det})\n",
    "    imsim_bf_kernel.update(this_bf_kernel)"
   ]
  },
  {
   "cell_type": "code",
   "execution_count": 127,
   "metadata": {},
   "outputs": [
    {
     "name": "stdout",
     "output_type": "stream",
     "text": [
      "dict_keys([0, 1, 2, 3])\n"
     ]
    }
   ],
   "source": [
    "print(imsim_bf_kernel.keys())"
   ]
  },
  {
   "cell_type": "code",
   "execution_count": 162,
   "metadata": {},
   "outputs": [
    {
     "data": {
      "text/plain": [
       "<matplotlib.image.AxesImage at 0x2b3b61bafb38>"
      ]
     },
     "execution_count": 162,
     "metadata": {},
     "output_type": "execute_result"
    },
    {
     "data": {
      "image/png": "[encoded data removed]",
      "text/plain": [
       "<matplotlib.figure.Figure at 0x2b3b61286ac8>"
      ]
     },
     "metadata": {},
     "output_type": "display_data"
    }
   ],
   "source": [
    "plt.imshow(imsim_bf_kernel[0])\n",
    "plt.imshow(imsim_bf_kernel[1])\n",
    "plt.imshow(imsim_bf_kernel[2])\n",
    "plt.imshow(imsim_bf_kernel[3])"
   ]
  },
  {
   "cell_type": "code",
   "execution_count": 129,
   "metadata": {},
   "outputs": [
    {
     "data": {
      "text/plain": [
       "[<matplotlib.lines.Line2D at 0x2b3b61bb2278>]"
      ]
     },
     "execution_count": 129,
     "metadata": {},
     "output_type": "execute_result"
    },
    {
     "data": {
      "image/png": "[encoded data removed]",
      "text/plain": [
       "<matplotlib.figure.Figure at 0x2b3b60b4c438>"
      ]
     },
     "metadata": {},
     "output_type": "display_data"
    }
   ],
   "source": [
    "plt.plot(imsim_bf_kernel[0][:,8], color='green', drawstyle='steps-mid')\n",
    "plt.plot(imsim_bf_kernel[0][8,:], color='green', linestyle='--', drawstyle='steps-mid')\n",
    "\n",
    "plt.plot(imsim_bf_kernel[1][:,8], color='red', drawstyle='steps-mid')\n",
    "plt.plot(imsim_bf_kernel[1][:,8], color='red', linestyle='--', drawstyle='steps-mid')\n",
    "\n",
    "plt.plot(imsim_bf_kernel[2][:,8], color='orange', drawstyle='steps-mid')\n",
    "plt.plot(imsim_bf_kernel[2][:,8], color='orange', linestyle='--', drawstyle='steps-mid')\n",
    "\n",
    "plt.plot(imsim_bf_kernel[3][:,8], color='blue', drawstyle='steps-mid')\n",
    "plt.plot(imsim_bf_kernel[3][:,8], color='blue', linestyle='--', drawstyle='steps-mid')"
   ]
  },
  {
   "cell_type": "code",
   "execution_count": 129,
   "metadata": {},
   "outputs": [
    {
     "data": {
      "text/plain": [
       "[<matplotlib.lines.Line2D at 0x2b3b61bb2278>]"
      ]
     },
     "execution_count": 129,
     "metadata": {},
     "output_type": "execute_result"
    },
    {
     "data": {
      "image/png": "[encoded data removed]",
      "text/plain": [
       "<matplotlib.figure.Figure at 0x2b3b60b4c438>"
      ]
     },
     "metadata": {},
     "output_type": "display_data"
    }
   ],
   "source": [
    "plt.plot(imsim_bf_kernel[0][:,8], color='green', drawstyle='steps-mid')\n",
    "plt.plot(imsim_bf_kernel[0][8,:], color='green', linestyle='--', drawstyle='steps-mid')\n",
    "\n",
    "plt.plot(imsim_bf_kernel[1][:,8], color='red', drawstyle='steps-mid')\n",
    "plt.plot(imsim_bf_kernel[1][:,8], color='red', linestyle='--', drawstyle='steps-mid')\n",
    "\n",
    "plt.plot(imsim_bf_kernel[2][:,8], color='orange', drawstyle='steps-mid')\n",
    "plt.plot(imsim_bf_kernel[2][:,8], color='orange', linestyle='--', drawstyle='steps-mid')\n",
    "\n",
    "plt.plot(imsim_bf_kernel[3][:,8], color='blue', drawstyle='steps-mid')\n",
    "plt.plot(imsim_bf_kernel[3][:,8], color='blue', linestyle='--', drawstyle='steps-mid')"
   ]
  },
  {
   "cell_type": "code",
   "execution_count": 312,
   "metadata": {},
   "outputs": [],
   "source": [
    "imsim_detector = 0  # We have 4.  Let's use this one when comparing below."
   ]
  },
  {
   "cell_type": "markdown",
   "metadata": {},
   "source": [
    "## HSC Brighter-Fatter Kernel\n",
    "Calculated by Merlin Fisher-Levine\n",
    "\n",
    "This is the brighter-fatter kernel for CCD 41.  The HSC BF corrections were done based purely on the results from this CCD."
   ]
  },
  {
   "cell_type": "code",
   "execution_count": 296,
   "metadata": {},
   "outputs": [],
   "source": [
    "hsc_detector = 41\n",
    "# hsc_bf_kernel_file = 'hsc_bfKernel-{:03d}.pkl'.format(hsc_detector)\n",
    "hsc_bf_kernel_file = 'hsc_brighter_fatter_kernel.pkl'\n",
    "import pickle\n",
    "with open(hsc_bf_kernel_file, 'rb') as f:\n",
    "    hsc_bf_kernel = pickle.load(f, encoding='bytes')\n",
    "\n",
    "# For the generic HSC BF kernel, stuff it into a dictionary so it looks like the other ones\n",
    "hsc_bf_kernel = {hsc_detector: hsc_bf_kernel}"
   ]
  },
  {
   "cell_type": "code",
   "execution_count": 297,
   "metadata": {},
   "outputs": [
    {
     "data": {
      "text/plain": [
       "<matplotlib.text.Text at 0x2b3b620b2ba8>"
      ]
     },
     "execution_count": 297,
     "metadata": {},
     "output_type": "execute_result"
    },
    {
     "data": {
      "image/png": "[encoded data removed]",
      "text/plain": [
       "<matplotlib.figure.Figure at 0x2b3b627b0908>"
      ]
     },
     "metadata": {},
     "output_type": "display_data"
    }
   ],
   "source": [
    "hsc_bf_radius = len(hsc_bf_kernel[hsc_detector])//2\n",
    "r = np.arange(-hsc_bf_radius, +hsc_bf_radius+1)\n",
    "plt.plot(r, hsc_bf_kernel[hsc_detector][:,hsc_bf_radius], color='red', drawstyle='steps-mid', label='HSC CCD 41 x')\n",
    "plt.plot(r, hsc_bf_kernel[hsc_detector][hsc_bf_radius,:], color='red', linestyle='--', drawstyle='steps-mid', label='HSC CCD 41 y')\n",
    "plt.xlabel('Distance from pixel')\n",
    "plt.ylabel('Brighter-Fatter Kernel')"
   ]
  },
  {
   "cell_type": "markdown",
   "metadata": {},
   "source": [
    "## Lab-based BF measurements"
   ]
  },
  {
   "cell_type": "markdown",
   "metadata": {},
   "source": [
    "Let's compare this to lab-based ITL data from Craige Lage and Andrew Bradshaw.  I've taken the liberty of copying into this `DC2-production` repo the BF kernel they calculated from flats in the lab."
   ]
  },
  {
   "cell_type": "code",
   "execution_count": 316,
   "metadata": {},
   "outputs": [],
   "source": [
    "from astropy.io import fits\n",
    "lab_bf_kernel = fits.getdata('BF_kernel-ITL_3800C_002.fits')\n",
    "# Make it look like the other ones\n",
    "lab_detector = 2\n",
    "lab_bf_kernel = {lab_detector: lab_bf_kernel}"
   ]
  },
  {
   "cell_type": "code",
   "execution_count": 332,
   "metadata": {},
   "outputs": [],
   "source": [
    "# Create some dicts to simplify code below\n",
    "ref_detectors = {'PhoSim': phosim_detector, 'ImSim': imsim_detector, 'HSC': hsc_detector, 'ITL': lab_detector}\n",
    "bf_kernels = {'PhoSim': phosim_bf_kernel, 'ImSim': imsim_bf_kernel, 'HSC': hsc_bf_kernel, 'ITL': lab_bf_kernel}\n",
    "colors = {'PhoSim': 'blue', 'ImSim': 'green', 'HSC': 'red', 'ITL': 'orange'}"
   ]
  },
  {
   "cell_type": "code",
   "execution_count": 333,
   "metadata": {},
   "outputs": [],
   "source": [
    "bf_centers = {k: len(bf_kernel[k][ref_detector[k]])//2 for k in bf_kernel}"
   ]
  },
  {
   "cell_type": "code",
   "execution_count": 340,
   "metadata": {},
   "outputs": [
    {
     "data": {
      "text/plain": [
       "<matplotlib.legend.Legend at 0x2b3b640d2cf8>"
      ]
     },
     "execution_count": 340,
     "metadata": {},
     "output_type": "execute_result"
    },
    {
     "data": {
      "image/png": "[encoded data removed]",
      "text/plain": [
       "<matplotlib.figure.Figure at 0x2b3b640d2be0>"
      ]
     },
     "metadata": {},
     "output_type": "display_data"
    }
   ],
   "source": [
    "for k, bf in bf_kernel.items():\n",
    "    r = np.arange(-bf_centers[k], +bf_centers[k]+1)\n",
    "    kernel_row = bf_kernels[k][ref_detectors[k]][:, bf_centers[k]]\n",
    "    plt.plot(r, kernel_row,\n",
    "             drawstyle='steps-mid', color=colors[k], label='{}'.format(k))\n",
    "\n",
    "plt.legend()"
   ]
  },
  {
   "cell_type": "markdown",
   "metadata": {},
   "source": [
    "Hmmmm... are these just multiplicatively scaled versions?\n",
    "\n",
    "Let's normalize to the central pixel."
   ]
  },
  {
   "cell_type": "code",
   "execution_count": 337,
   "metadata": {},
   "outputs": [],
   "source": [
    "central_values = {k: bf_kernel[k][ref_detector[k]][bf_center[k], bf_center[k]] for k in bf_kernel}\n",
    "ref_scale = 'ITL'\n",
    "scale = {k: central_values[ref_scale]/central_values[k] for k in central_values}\n",
    "\n",
    "# phosim_scale, imsim_scale, hsc_scale, lab_scale = 0.055, 1.6, 0.92, 1"
   ]
  },
  {
   "cell_type": "code",
   "execution_count": 351,
   "metadata": {},
   "outputs": [
    {
     "name": "stdout",
     "output_type": "stream",
     "text": [
      "{'PhoSim': -7.8050967195314527e-06, 'ImSim': -2.6468218297577638e-07, 'HSC': -4.6531742334076819e-07, 'ITL': -4.2391528333512312e-07}\n",
      "{'PhoSim': 0.05431262399020869, 'ImSim': 1.6016011299631743, 'HSC': 0.91102387761800008, 'ITL': 1.0}\n"
     ]
    }
   ],
   "source": [
    "print(central_values)\n",
    "print(scale)"
   ]
  },
  {
   "cell_type": "code",
   "execution_count": 344,
   "metadata": {},
   "outputs": [
    {
     "data": {
      "text/plain": [
       "<matplotlib.legend.Legend at 0x2b3b64238b00>"
      ]
     },
     "execution_count": 344,
     "metadata": {},
     "output_type": "execute_result"
    },
    {
     "data": {
      "image/png": "[encoded data removed]",
      "text/plain": [
       "<matplotlib.figure.Figure at 0x2b3b642382b0>"
      ]
     },
     "metadata": {},
     "output_type": "display_data"
    }
   ],
   "source": [
    "for k, bf in bf_kernel.items():\n",
    "    r = np.arange(-bf_centers[k], +bf_centers[k]+1)\n",
    "    kernel_row = bf_kernels[k][ref_detectors[k]][:, bf_centers[k]]\n",
    "    plt.plot(r, scale[k] * kernel_row,\n",
    "             drawstyle='steps-mid', color=colors[k], label='{}'.format(k))\n",
    "\n",
    "plt.legend()"
   ]
  },
  {
   "cell_type": "code",
   "execution_count": 361,
   "metadata": {},
   "outputs": [
    {
     "data": {
      "text/plain": [
       "<matplotlib.legend.Legend at 0x2b3b64baa4e0>"
      ]
     },
     "execution_count": 361,
     "metadata": {},
     "output_type": "execute_result"
    },
    {
     "data": {
      "image/png": "[encoded data removed]",
      "text/plain": [
       "<matplotlib.figure.Figure at 0x2b3b64baa320>"
      ]
     },
     "metadata": {},
     "output_type": "display_data"
    }
   ],
   "source": [
    "for k, bf in bf_kernel.items():\n",
    "    r = np.arange(-bf_centers[k], +bf_centers[k]+1)\n",
    "    kernel_row = bf_kernels[k][ref_detectors[k]][:, bf_centers[k]]\n",
    "    plt.plot(r, - scale[k] * kernel_row,\n",
    "             drawstyle='steps-mid', color=colors[k], label='{}'.format(k))\n",
    "\n",
    "A = -central_values[ref_scale]\n",
    "r0 = {'PhoSim': -6.5, 'ImSim': -1.8, 'HSC': -2.8, 'ITL': -2.8}\n",
    "distance = np.linspace(-bf_centers[ref_scale], +bf_centers[ref_scale], 100)\n",
    "for k, r in r0.items():\n",
    "    plt.plot(distance, A*10**(-np.abs(distance/r)),\n",
    "             color=colors[k], linestyle=':',\n",
    "             label='{} r0={:.1f}'.format(k, r))\n",
    "\n",
    "plt.ylim(1e-8, 1e-6)\n",
    "plt.yscale('log')\n",
    "\n",
    "plt.xlabel('Distance from pixel')\n",
    "plt.ylabel('BF kernel value')\n",
    "\n",
    "plt.legend()"
   ]
  },
  {
   "cell_type": "markdown",
   "metadata": {},
   "source": [
    "------\n",
    "### Things to think about running sometime in the future"
   ]
  },
  {
   "cell_type": "code",
   "execution_count": null,
   "metadata": {},
   "outputs": [],
   "source": [
    "from lsst.pipe.drivers.constructCalibs import BiasTask\n",
    "args_line = 'phosim_repo --rerun wmwv/calib --longlog --id visit=9999 --batch-type none --cores 4'\n",
    "args = args_line.split(' ')\n",
    "print(args)\n",
    "\n",
    "### We're not actually going ton construct master bias or darks yet.\n",
    "# BiasTask.parseAndSubmit(args=args)"
   ]
  },
  {
   "cell_type": "code",
   "execution_count": null,
   "metadata": {},
   "outputs": [
    {
     "name": "stdout",
     "output_type": "stream",
     "text": [
      "root INFO: Loading config overrride file '/global/homes/w/wmwv/local/lsst/obs_lsstCam/config/bias.py'\n",
      "LsstCamMapper WARN: Unable to find calib root directory\n",
      "CameraMapper INFO: Loading exposure registry from /global/u1/w/wmwv/local/lsst/DC2-production/Notebooks/calib_repo/registry.sqlite3\n",
      "LsstCamMapper WARN: Unable to find calib root directory\n",
      "root INFO: Loading config overrride file '/global/homes/w/wmwv/local/lsst/obs_lsstCam/config/bias.py'\n",
      "LsstCamMapper WARN: Unable to find calib root directory\n",
      "CameraMapper INFO: Loading exposure registry from /global/u1/w/wmwv/local/lsst/DC2-production/Notebooks/calib_repo/registry.sqlite3\n",
      "LsstCamMapper WARN: Unable to find calib root directory\n",
      "INFO  2018-08-22T11:13:07.007 root ()(cmdLineTask.py:572)- Running: /global/common/software/lsst/cori-haswell-gcc/stack/w.2018.26_sim2.9.0/stack/miniconda3-4.3.21-10a4fa6/Linux64/pipe_drivers/16.0+4/bin/constructBias.py calib_repo --rerun wmwv/calib --longlog --id visit=9999\n",
      "WARN  2018-08-22T11:13:09.009 LsstCamMapper ()(lsstCamMapper.py:274)- Unable to find calib root directory\n",
      "INFO  2018-08-22T11:13:09.009 CameraMapper ()(cameraMapper.py:900)- Loading exposure registry from /global/u1/w/wmwv/local/lsst/DC2-production/Notebooks/calib_repo/registry.sqlite3\n",
      "WARN  2018-08-22T11:13:12.012 LsstCamMapper ()(lsstCamMapper.py:274)- Unable to find calib root directory\n",
      "INFO  2018-08-22T11:13:15.015 bias ()(constructCalibs.py:593)- Scatter processing\n",
      "INFO  2018-08-22T11:13:15.015 bias ()(constructCalibs.py:617)- Processing DataId(initialdata={'visit': 9999, 'run': '9999', 'raft': 'R01', 'ccd': 'S00', 'snap': 0}, tag=set()) on cori19:63768\n",
      "INFO  2018-08-22T11:13:15.015 bias.isr ()(isrTask.py:641)- Performing ISR on sensor DataId(initialdata={'visit': 9999, 'run': '9999', 'raft': 'R01', 'ccd': 'S00', 'snap': 0}, tag=set())\n",
      "WARN  2018-08-22T11:13:17.017 LsstCamMapper ()(lsstCamMapper.py:116)- amp.getRawBBox() != data.getBBox(); patching. ((minimum=(0, 0), maximum=(543, 2047)) v. (minimum=(0, 0), maximum=(521, 2009)))\n",
      "INFO  2018-08-22T11:13:20.020 CameraMapper ()(cameraMapper.py:905)- Loading Posix exposure registry from .\n",
      "INFO  2018-08-22T11:13:27.027 bias ()(constructCalibs.py:617)- Processing DataId(initialdata={'visit': 9999, 'run': '9999', 'raft': 'R01', 'ccd': 'S01', 'snap': 0}, tag=set()) on cori19:63768\n",
      "INFO  2018-08-22T11:13:27.027 bias.isr ()(isrTask.py:641)- Performing ISR on sensor DataId(initialdata={'visit': 9999, 'run': '9999', 'raft': 'R01', 'ccd': 'S01', 'snap': 0}, tag=set())\n",
      "WARN  2018-08-22T11:13:28.028 LsstCamMapper ()(lsstCamMapper.py:116)- amp.getRawBBox() != data.getBBox(); patching. ((minimum=(0, 0), maximum=(543, 2047)) v. (minimum=(0, 0), maximum=(521, 2009)))\n",
      "INFO  2018-08-22T11:13:32.032 bias ()(constructCalibs.py:617)- Processing DataId(initialdata={'visit': 9999, 'run': '9999', 'raft': 'R01', 'ccd': 'S02', 'snap': 0}, tag=set()) on cori19:63768\n",
      "INFO  2018-08-22T11:13:32.032 bias.isr ()(isrTask.py:641)- Performing ISR on sensor DataId(initialdata={'visit': 9999, 'run': '9999', 'raft': 'R01', 'ccd': 'S02', 'snap': 0}, tag=set())\n",
      "WARN  2018-08-22T11:13:33.033 LsstCamMapper ()(lsstCamMapper.py:116)- amp.getRawBBox() != data.getBBox(); patching. ((minimum=(0, 0), maximum=(543, 2047)) v. (minimum=(0, 0), maximum=(521, 2009)))\n",
      "INFO  2018-08-22T11:13:37.037 bias ()(constructCalibs.py:617)- Processing DataId(initialdata={'visit': 9999, 'run': '9999', 'raft': 'R01', 'ccd': 'S10', 'snap': 0}, tag=set()) on cori19:63768\n",
      "INFO  2018-08-22T11:13:37.037 bias.isr ()(isrTask.py:641)- Performing ISR on sensor DataId(initialdata={'visit': 9999, 'run': '9999', 'raft': 'R01', 'ccd': 'S10', 'snap': 0}, tag=set())\n",
      "WARN  2018-08-22T11:13:38.038 LsstCamMapper ()(lsstCamMapper.py:116)- amp.getRawBBox() != data.getBBox(); patching. ((minimum=(0, 0), maximum=(543, 2047)) v. (minimum=(0, 0), maximum=(521, 2009)))\n",
      "INFO  2018-08-22T11:13:41.041 bias ()(constructCalibs.py:617)- Processing DataId(initialdata={'visit': 9999, 'run': '9999', 'raft': 'R01', 'ccd': 'S11', 'snap': 0}, tag=set()) on cori19:63768\n",
      "INFO  2018-08-22T11:13:41.041 bias.isr ()(isrTask.py:641)- Performing ISR on sensor DataId(initialdata={'visit': 9999, 'run': '9999', 'raft': 'R01', 'ccd': 'S11', 'snap': 0}, tag=set())\n",
      "WARN  2018-08-22T11:13:43.043 LsstCamMapper ()(lsstCamMapper.py:116)- amp.getRawBBox() != data.getBBox(); patching. ((minimum=(0, 0), maximum=(543, 2047)) v. (minimum=(0, 0), maximum=(521, 2009)))\n",
      "INFO  2018-08-22T11:13:46.046 bias ()(constructCalibs.py:617)- Processing DataId(initialdata={'visit': 9999, 'run': '9999', 'raft': 'R01', 'ccd': 'S12', 'snap': 0}, tag=set()) on cori19:63768\n",
      "INFO  2018-08-22T11:13:46.046 bias.isr ()(isrTask.py:641)- Performing ISR on sensor DataId(initialdata={'visit': 9999, 'run': '9999', 'raft': 'R01', 'ccd': 'S12', 'snap': 0}, tag=set())\n",
      "WARN  2018-08-22T11:13:47.047 LsstCamMapper ()(lsstCamMapper.py:116)- amp.getRawBBox() != data.getBBox(); patching. ((minimum=(0, 0), maximum=(543, 2047)) v. (minimum=(0, 0), maximum=(521, 2009)))\n",
      "INFO  2018-08-22T11:13:51.051 bias ()(constructCalibs.py:617)- Processing DataId(initialdata={'visit': 9999, 'run': '9999', 'raft': 'R01', 'ccd': 'S20', 'snap': 0}, tag=set()) on cori19:63768\n",
      "INFO  2018-08-22T11:13:51.051 bias.isr ()(isrTask.py:641)- Performing ISR on sensor DataId(initialdata={'visit': 9999, 'run': '9999', 'raft': 'R01', 'ccd': 'S20', 'snap': 0}, tag=set())\n",
      "WARN  2018-08-22T11:13:52.052 LsstCamMapper ()(lsstCamMapper.py:116)- amp.getRawBBox() != data.getBBox(); patching. ((minimum=(0, 0), maximum=(543, 2047)) v. (minimum=(0, 0), maximum=(521, 2009)))\n",
      "INFO  2018-08-22T11:13:56.056 bias ()(constructCalibs.py:617)- Processing DataId(initialdata={'visit': 9999, 'run': '9999', 'raft': 'R01', 'ccd': 'S21', 'snap': 0}, tag=set()) on cori19:63768\n",
      "INFO  2018-08-22T11:13:56.056 bias.isr ()(isrTask.py:641)- Performing ISR on sensor DataId(initialdata={'visit': 9999, 'run': '9999', 'raft': 'R01', 'ccd': 'S21', 'snap': 0}, tag=set())\n",
      "WARN  2018-08-22T11:13:57.057 LsstCamMapper ()(lsstCamMapper.py:116)- amp.getRawBBox() != data.getBBox(); patching. ((minimum=(0, 0), maximum=(543, 2047)) v. (minimum=(0, 0), maximum=(521, 2009)))\n",
      "INFO  2018-08-22T11:14:00.000 bias ()(constructCalibs.py:617)- Processing DataId(initialdata={'visit': 9999, 'run': '9999', 'raft': 'R01', 'ccd': 'S22', 'snap': 0}, tag=set()) on cori19:63768\n",
      "INFO  2018-08-22T11:14:00.000 bias.isr ()(isrTask.py:641)- Performing ISR on sensor DataId(initialdata={'visit': 9999, 'run': '9999', 'raft': 'R01', 'ccd': 'S22', 'snap': 0}, tag=set())\n",
      "WARN  2018-08-22T11:14:02.002 LsstCamMapper ()(lsstCamMapper.py:116)- amp.getRawBBox() != data.getBBox(); patching. ((minimum=(0, 0), maximum=(543, 2047)) v. (minimum=(0, 0), maximum=(521, 2009)))\n",
      "INFO  2018-08-22T11:14:05.005 bias ()(constructCalibs.py:617)- Processing DataId(initialdata={'visit': 9999, 'run': '9999', 'raft': 'R02', 'ccd': 'S00', 'snap': 0}, tag=set()) on cori19:63768\n",
      "INFO  2018-08-22T11:14:05.005 bias.isr ()(isrTask.py:641)- Performing ISR on sensor DataId(initialdata={'visit': 9999, 'run': '9999', 'raft': 'R02', 'ccd': 'S00', 'snap': 0}, tag=set())\n",
      "WARN  2018-08-22T11:14:06.006 LsstCamMapper ()(lsstCamMapper.py:116)- amp.getRawBBox() != data.getBBox(); patching. ((minimum=(0, 0), maximum=(543, 2047)) v. (minimum=(0, 0), maximum=(521, 2009)))\n",
      "INFO  2018-08-22T11:14:10.010 bias ()(constructCalibs.py:617)- Processing DataId(initialdata={'visit': 9999, 'run': '9999', 'raft': 'R02', 'ccd': 'S01', 'snap': 0}, tag=set()) on cori19:63768\n",
      "INFO  2018-08-22T11:14:10.010 bias.isr ()(isrTask.py:641)- Performing ISR on sensor DataId(initialdata={'visit': 9999, 'run': '9999', 'raft': 'R02', 'ccd': 'S01', 'snap': 0}, tag=set())\n",
      "WARN  2018-08-22T11:14:11.011 LsstCamMapper ()(lsstCamMapper.py:116)- amp.getRawBBox() != data.getBBox(); patching. ((minimum=(0, 0), maximum=(543, 2047)) v. (minimum=(0, 0), maximum=(521, 2009)))\n",
      "INFO  2018-08-22T11:14:14.014 bias ()(constructCalibs.py:617)- Processing DataId(initialdata={'visit': 9999, 'run': '9999', 'raft': 'R02', 'ccd': 'S02', 'snap': 0}, tag=set()) on cori19:63768\n",
      "INFO  2018-08-22T11:14:14.014 bias.isr ()(isrTask.py:641)- Performing ISR on sensor DataId(initialdata={'visit': 9999, 'run': '9999', 'raft': 'R02', 'ccd': 'S02', 'snap': 0}, tag=set())\n",
      "WARN  2018-08-22T11:14:15.015 LsstCamMapper ()(lsstCamMapper.py:116)- amp.getRawBBox() != data.getBBox(); patching. ((minimum=(0, 0), maximum=(543, 2047)) v. (minimum=(0, 0), maximum=(521, 2009)))\n",
      "INFO  2018-08-22T11:14:19.019 bias ()(constructCalibs.py:617)- Processing DataId(initialdata={'visit': 9999, 'run': '9999', 'raft': 'R02', 'ccd': 'S10', 'snap': 0}, tag=set()) on cori19:63768\n",
      "INFO  2018-08-22T11:14:19.019 bias.isr ()(isrTask.py:641)- Performing ISR on sensor DataId(initialdata={'visit': 9999, 'run': '9999', 'raft': 'R02', 'ccd': 'S10', 'snap': 0}, tag=set())\n",
      "WARN  2018-08-22T11:14:20.020 LsstCamMapper ()(lsstCamMapper.py:116)- amp.getRawBBox() != data.getBBox(); patching. ((minimum=(0, 0), maximum=(543, 2047)) v. (minimum=(0, 0), maximum=(521, 2009)))\n",
      "INFO  2018-08-22T11:14:24.024 bias ()(constructCalibs.py:617)- Processing DataId(initialdata={'visit': 9999, 'run': '9999', 'raft': 'R02', 'ccd': 'S11', 'snap': 0}, tag=set()) on cori19:63768\n",
      "INFO  2018-08-22T11:14:24.024 bias.isr ()(isrTask.py:641)- Performing ISR on sensor DataId(initialdata={'visit': 9999, 'run': '9999', 'raft': 'R02', 'ccd': 'S11', 'snap': 0}, tag=set())\n",
      "WARN  2018-08-22T11:14:25.025 LsstCamMapper ()(lsstCamMapper.py:116)- amp.getRawBBox() != data.getBBox(); patching. ((minimum=(0, 0), maximum=(543, 2047)) v. (minimum=(0, 0), maximum=(521, 2009)))\n",
      "INFO  2018-08-22T11:14:29.029 bias ()(constructCalibs.py:617)- Processing DataId(initialdata={'visit': 9999, 'run': '9999', 'raft': 'R02', 'ccd': 'S12', 'snap': 0}, tag=set()) on cori19:63768\n",
      "INFO  2018-08-22T11:14:29.029 bias.isr ()(isrTask.py:641)- Performing ISR on sensor DataId(initialdata={'visit': 9999, 'run': '9999', 'raft': 'R02', 'ccd': 'S12', 'snap': 0}, tag=set())\n",
      "WARN  2018-08-22T11:14:30.030 LsstCamMapper ()(lsstCamMapper.py:116)- amp.getRawBBox() != data.getBBox(); patching. ((minimum=(0, 0), maximum=(543, 2047)) v. (minimum=(0, 0), maximum=(521, 2009)))\n",
      "INFO  2018-08-22T11:14:33.033 bias ()(constructCalibs.py:617)- Processing DataId(initialdata={'visit': 9999, 'run': '9999', 'raft': 'R02', 'ccd': 'S20', 'snap': 0}, tag=set()) on cori19:63768\n",
      "INFO  2018-08-22T11:14:33.033 bias.isr ()(isrTask.py:641)- Performing ISR on sensor DataId(initialdata={'visit': 9999, 'run': '9999', 'raft': 'R02', 'ccd': 'S20', 'snap': 0}, tag=set())\n",
      "WARN  2018-08-22T11:14:35.035 LsstCamMapper ()(lsstCamMapper.py:116)- amp.getRawBBox() != data.getBBox(); patching. ((minimum=(0, 0), maximum=(543, 2047)) v. (minimum=(0, 0), maximum=(521, 2009)))\n",
      "INFO  2018-08-22T11:14:38.038 bias ()(constructCalibs.py:617)- Processing DataId(initialdata={'visit': 9999, 'run': '9999', 'raft': 'R02', 'ccd': 'S21', 'snap': 0}, tag=set()) on cori19:63768\n",
      "INFO  2018-08-22T11:14:38.038 bias.isr ()(isrTask.py:641)- Performing ISR on sensor DataId(initialdata={'visit': 9999, 'run': '9999', 'raft': 'R02', 'ccd': 'S21', 'snap': 0}, tag=set())\n",
      "WARN  2018-08-22T11:14:39.039 LsstCamMapper ()(lsstCamMapper.py:116)- amp.getRawBBox() != data.getBBox(); patching. ((minimum=(0, 0), maximum=(543, 2047)) v. (minimum=(0, 0), maximum=(521, 2009)))\n",
      "INFO  2018-08-22T11:14:43.043 bias ()(constructCalibs.py:617)- Processing DataId(initialdata={'visit': 9999, 'run': '9999', 'raft': 'R02', 'ccd': 'S22', 'snap': 0}, tag=set()) on cori19:63768\n",
      "INFO  2018-08-22T11:14:43.043 bias.isr ()(isrTask.py:641)- Performing ISR on sensor DataId(initialdata={'visit': 9999, 'run': '9999', 'raft': 'R02', 'ccd': 'S22', 'snap': 0}, tag=set())\n",
      "WARN  2018-08-22T11:14:44.044 LsstCamMapper ()(lsstCamMapper.py:116)- amp.getRawBBox() != data.getBBox(); patching. ((minimum=(0, 0), maximum=(543, 2047)) v. (minimum=(0, 0), maximum=(521, 2009)))\n",
      "INFO  2018-08-22T11:14:48.048 bias ()(constructCalibs.py:617)- Processing DataId(initialdata={'visit': 9999, 'run': '9999', 'raft': 'R03', 'ccd': 'S00', 'snap': 0}, tag=set()) on cori19:63768\n",
      "INFO  2018-08-22T11:14:48.048 bias.isr ()(isrTask.py:641)- Performing ISR on sensor DataId(initialdata={'visit': 9999, 'run': '9999', 'raft': 'R03', 'ccd': 'S00', 'snap': 0}, tag=set())\n",
      "WARN  2018-08-22T11:14:49.049 LsstCamMapper ()(lsstCamMapper.py:116)- amp.getRawBBox() != data.getBBox(); patching. ((minimum=(0, 0), maximum=(543, 2047)) v. (minimum=(0, 0), maximum=(521, 2009)))\n",
      "INFO  2018-08-22T11:14:53.053 bias ()(constructCalibs.py:617)- Processing DataId(initialdata={'visit': 9999, 'run': '9999', 'raft': 'R03', 'ccd': 'S01', 'snap': 0}, tag=set()) on cori19:63768\n",
      "INFO  2018-08-22T11:14:53.053 bias.isr ()(isrTask.py:641)- Performing ISR on sensor DataId(initialdata={'visit': 9999, 'run': '9999', 'raft': 'R03', 'ccd': 'S01', 'snap': 0}, tag=set())\n",
      "WARN  2018-08-22T11:14:54.054 LsstCamMapper ()(lsstCamMapper.py:116)- amp.getRawBBox() != data.getBBox(); patching. ((minimum=(0, 0), maximum=(543, 2047)) v. (minimum=(0, 0), maximum=(521, 2009)))\n",
      "INFO  2018-08-22T11:14:57.057 bias ()(constructCalibs.py:617)- Processing DataId(initialdata={'visit': 9999, 'run': '9999', 'raft': 'R03', 'ccd': 'S02', 'snap': 0}, tag=set()) on cori19:63768\n",
      "INFO  2018-08-22T11:14:57.057 bias.isr ()(isrTask.py:641)- Performing ISR on sensor DataId(initialdata={'visit': 9999, 'run': '9999', 'raft': 'R03', 'ccd': 'S02', 'snap': 0}, tag=set())\n",
      "WARN  2018-08-22T11:14:58.058 LsstCamMapper ()(lsstCamMapper.py:116)- amp.getRawBBox() != data.getBBox(); patching. ((minimum=(0, 0), maximum=(543, 2047)) v. (minimum=(0, 0), maximum=(521, 2009)))\n",
      "INFO  2018-08-22T11:15:02.002 bias ()(constructCalibs.py:617)- Processing DataId(initialdata={'visit': 9999, 'run': '9999', 'raft': 'R03', 'ccd': 'S10', 'snap': 0}, tag=set()) on cori19:63768\n",
      "INFO  2018-08-22T11:15:02.002 bias.isr ()(isrTask.py:641)- Performing ISR on sensor DataId(initialdata={'visit': 9999, 'run': '9999', 'raft': 'R03', 'ccd': 'S10', 'snap': 0}, tag=set())\n",
      "WARN  2018-08-22T11:15:08.008 LsstCamMapper ()(lsstCamMapper.py:116)- amp.getRawBBox() != data.getBBox(); patching. ((minimum=(0, 0), maximum=(543, 2047)) v. (minimum=(0, 0), maximum=(521, 2009)))\n",
      "INFO  2018-08-22T11:15:12.012 bias ()(constructCalibs.py:617)- Processing DataId(initialdata={'visit': 9999, 'run': '9999', 'raft': 'R03', 'ccd': 'S11', 'snap': 0}, tag=set()) on cori19:63768\n",
      "INFO  2018-08-22T11:15:12.012 bias.isr ()(isrTask.py:641)- Performing ISR on sensor DataId(initialdata={'visit': 9999, 'run': '9999', 'raft': 'R03', 'ccd': 'S11', 'snap': 0}, tag=set())\n",
      "WARN  2018-08-22T11:15:13.013 LsstCamMapper ()(lsstCamMapper.py:116)- amp.getRawBBox() != data.getBBox(); patching. ((minimum=(0, 0), maximum=(543, 2047)) v. (minimum=(0, 0), maximum=(521, 2009)))\n",
      "INFO  2018-08-22T11:15:17.017 bias ()(constructCalibs.py:617)- Processing DataId(initialdata={'visit': 9999, 'run': '9999', 'raft': 'R03', 'ccd': 'S12', 'snap': 0}, tag=set()) on cori19:63768\n",
      "INFO  2018-08-22T11:15:17.017 bias.isr ()(isrTask.py:641)- Performing ISR on sensor DataId(initialdata={'visit': 9999, 'run': '9999', 'raft': 'R03', 'ccd': 'S12', 'snap': 0}, tag=set())\n",
      "WARN  2018-08-22T11:15:18.018 LsstCamMapper ()(lsstCamMapper.py:116)- amp.getRawBBox() != data.getBBox(); patching. ((minimum=(0, 0), maximum=(543, 2047)) v. (minimum=(0, 0), maximum=(521, 2009)))\n",
      "INFO  2018-08-22T11:15:22.022 bias ()(constructCalibs.py:617)- Processing DataId(initialdata={'visit': 9999, 'run': '9999', 'raft': 'R03', 'ccd': 'S20', 'snap': 0}, tag=set()) on cori19:63768\n",
      "INFO  2018-08-22T11:15:22.022 bias.isr ()(isrTask.py:641)- Performing ISR on sensor DataId(initialdata={'visit': 9999, 'run': '9999', 'raft': 'R03', 'ccd': 'S20', 'snap': 0}, tag=set())\n",
      "WARN  2018-08-22T11:15:23.023 LsstCamMapper ()(lsstCamMapper.py:116)- amp.getRawBBox() != data.getBBox(); patching. ((minimum=(0, 0), maximum=(543, 2047)) v. (minimum=(0, 0), maximum=(521, 2009)))\n",
      "INFO  2018-08-22T11:15:27.027 bias ()(constructCalibs.py:617)- Processing DataId(initialdata={'visit': 9999, 'run': '9999', 'raft': 'R03', 'ccd': 'S21', 'snap': 0}, tag=set()) on cori19:63768\n",
      "INFO  2018-08-22T11:15:27.027 bias.isr ()(isrTask.py:641)- Performing ISR on sensor DataId(initialdata={'visit': 9999, 'run': '9999', 'raft': 'R03', 'ccd': 'S21', 'snap': 0}, tag=set())\n",
      "WARN  2018-08-22T11:15:28.028 LsstCamMapper ()(lsstCamMapper.py:116)- amp.getRawBBox() != data.getBBox(); patching. ((minimum=(0, 0), maximum=(543, 2047)) v. (minimum=(0, 0), maximum=(521, 2009)))\n",
      "INFO  2018-08-22T11:15:31.031 bias ()(constructCalibs.py:617)- Processing DataId(initialdata={'visit': 9999, 'run': '9999', 'raft': 'R03', 'ccd': 'S22', 'snap': 0}, tag=set()) on cori19:63768\n",
      "INFO  2018-08-22T11:15:31.031 bias.isr ()(isrTask.py:641)- Performing ISR on sensor DataId(initialdata={'visit': 9999, 'run': '9999', 'raft': 'R03', 'ccd': 'S22', 'snap': 0}, tag=set())\n",
      "WARN  2018-08-22T11:15:32.032 LsstCamMapper ()(lsstCamMapper.py:116)- amp.getRawBBox() != data.getBBox(); patching. ((minimum=(0, 0), maximum=(543, 2047)) v. (minimum=(0, 0), maximum=(521, 2009)))\n",
      "INFO  2018-08-22T11:15:36.036 bias ()(constructCalibs.py:617)- Processing DataId(initialdata={'visit': 9999, 'run': '9999', 'raft': 'R10', 'ccd': 'S00', 'snap': 0}, tag=set()) on cori19:63768\n",
      "INFO  2018-08-22T11:15:36.036 bias.isr ()(isrTask.py:641)- Performing ISR on sensor DataId(initialdata={'visit': 9999, 'run': '9999', 'raft': 'R10', 'ccd': 'S00', 'snap': 0}, tag=set())\n",
      "WARN  2018-08-22T11:15:37.037 LsstCamMapper ()(lsstCamMapper.py:116)- amp.getRawBBox() != data.getBBox(); patching. ((minimum=(0, 0), maximum=(543, 2047)) v. (minimum=(0, 0), maximum=(521, 2009)))\n",
      "INFO  2018-08-22T11:15:41.041 bias ()(constructCalibs.py:617)- Processing DataId(initialdata={'visit': 9999, 'run': '9999', 'raft': 'R10', 'ccd': 'S01', 'snap': 0}, tag=set()) on cori19:63768\n",
      "INFO  2018-08-22T11:15:41.041 bias.isr ()(isrTask.py:641)- Performing ISR on sensor DataId(initialdata={'visit': 9999, 'run': '9999', 'raft': 'R10', 'ccd': 'S01', 'snap': 0}, tag=set())\n",
      "WARN  2018-08-22T11:15:42.042 LsstCamMapper ()(lsstCamMapper.py:116)- amp.getRawBBox() != data.getBBox(); patching. ((minimum=(0, 0), maximum=(543, 2047)) v. (minimum=(0, 0), maximum=(521, 2009)))\n",
      "INFO  2018-08-22T11:15:45.045 bias ()(constructCalibs.py:617)- Processing DataId(initialdata={'visit': 9999, 'run': '9999', 'raft': 'R10', 'ccd': 'S02', 'snap': 0}, tag=set()) on cori19:63768\n",
      "INFO  2018-08-22T11:15:45.045 bias.isr ()(isrTask.py:641)- Performing ISR on sensor DataId(initialdata={'visit': 9999, 'run': '9999', 'raft': 'R10', 'ccd': 'S02', 'snap': 0}, tag=set())\n",
      "WARN  2018-08-22T11:15:46.046 LsstCamMapper ()(lsstCamMapper.py:116)- amp.getRawBBox() != data.getBBox(); patching. ((minimum=(0, 0), maximum=(543, 2047)) v. (minimum=(0, 0), maximum=(521, 2009)))\n",
      "INFO  2018-08-22T11:15:50.050 bias ()(constructCalibs.py:617)- Processing DataId(initialdata={'visit': 9999, 'run': '9999', 'raft': 'R10', 'ccd': 'S10', 'snap': 0}, tag=set()) on cori19:63768\n",
      "INFO  2018-08-22T11:15:50.050 bias.isr ()(isrTask.py:641)- Performing ISR on sensor DataId(initialdata={'visit': 9999, 'run': '9999', 'raft': 'R10', 'ccd': 'S10', 'snap': 0}, tag=set())\n",
      "WARN  2018-08-22T11:15:51.051 LsstCamMapper ()(lsstCamMapper.py:116)- amp.getRawBBox() != data.getBBox(); patching. ((minimum=(0, 0), maximum=(543, 2047)) v. (minimum=(0, 0), maximum=(521, 2009)))\n",
      "INFO  2018-08-22T11:15:55.055 bias ()(constructCalibs.py:617)- Processing DataId(initialdata={'visit': 9999, 'run': '9999', 'raft': 'R10', 'ccd': 'S11', 'snap': 0}, tag=set()) on cori19:63768\n",
      "INFO  2018-08-22T11:15:55.055 bias.isr ()(isrTask.py:641)- Performing ISR on sensor DataId(initialdata={'visit': 9999, 'run': '9999', 'raft': 'R10', 'ccd': 'S11', 'snap': 0}, tag=set())\n",
      "WARN  2018-08-22T11:15:56.056 LsstCamMapper ()(lsstCamMapper.py:116)- amp.getRawBBox() != data.getBBox(); patching. ((minimum=(0, 0), maximum=(543, 2047)) v. (minimum=(0, 0), maximum=(521, 2009)))\n",
      "INFO  2018-08-22T11:15:59.059 bias ()(constructCalibs.py:617)- Processing DataId(initialdata={'visit': 9999, 'run': '9999', 'raft': 'R10', 'ccd': 'S12', 'snap': 0}, tag=set()) on cori19:63768\n",
      "INFO  2018-08-22T11:15:59.059 bias.isr ()(isrTask.py:641)- Performing ISR on sensor DataId(initialdata={'visit': 9999, 'run': '9999', 'raft': 'R10', 'ccd': 'S12', 'snap': 0}, tag=set())\n",
      "WARN  2018-08-22T11:16:01.001 LsstCamMapper ()(lsstCamMapper.py:116)- amp.getRawBBox() != data.getBBox(); patching. ((minimum=(0, 0), maximum=(543, 2047)) v. (minimum=(0, 0), maximum=(521, 2009)))\n",
      "INFO  2018-08-22T11:16:04.004 bias ()(constructCalibs.py:617)- Processing DataId(initialdata={'visit': 9999, 'run': '9999', 'raft': 'R10', 'ccd': 'S20', 'snap': 0}, tag=set()) on cori19:63768\n",
      "INFO  2018-08-22T11:16:04.004 bias.isr ()(isrTask.py:641)- Performing ISR on sensor DataId(initialdata={'visit': 9999, 'run': '9999', 'raft': 'R10', 'ccd': 'S20', 'snap': 0}, tag=set())\n",
      "WARN  2018-08-22T11:16:05.005 LsstCamMapper ()(lsstCamMapper.py:116)- amp.getRawBBox() != data.getBBox(); patching. ((minimum=(0, 0), maximum=(543, 2047)) v. (minimum=(0, 0), maximum=(521, 2009)))\n",
      "INFO  2018-08-22T11:16:09.009 bias ()(constructCalibs.py:617)- Processing DataId(initialdata={'visit': 9999, 'run': '9999', 'raft': 'R10', 'ccd': 'S21', 'snap': 0}, tag=set()) on cori19:63768\n",
      "INFO  2018-08-22T11:16:09.009 bias.isr ()(isrTask.py:641)- Performing ISR on sensor DataId(initialdata={'visit': 9999, 'run': '9999', 'raft': 'R10', 'ccd': 'S21', 'snap': 0}, tag=set())\n",
      "WARN  2018-08-22T11:16:10.010 LsstCamMapper ()(lsstCamMapper.py:116)- amp.getRawBBox() != data.getBBox(); patching. ((minimum=(0, 0), maximum=(543, 2047)) v. (minimum=(0, 0), maximum=(521, 2009)))\n",
      "INFO  2018-08-22T11:16:14.014 bias ()(constructCalibs.py:617)- Processing DataId(initialdata={'visit': 9999, 'run': '9999', 'raft': 'R10', 'ccd': 'S22', 'snap': 0}, tag=set()) on cori19:63768\n",
      "INFO  2018-08-22T11:16:14.014 bias.isr ()(isrTask.py:641)- Performing ISR on sensor DataId(initialdata={'visit': 9999, 'run': '9999', 'raft': 'R10', 'ccd': 'S22', 'snap': 0}, tag=set())\n",
      "WARN  2018-08-22T11:16:15.015 LsstCamMapper ()(lsstCamMapper.py:116)- amp.getRawBBox() != data.getBBox(); patching. ((minimum=(0, 0), maximum=(543, 2047)) v. (minimum=(0, 0), maximum=(521, 2009)))\n",
      "INFO  2018-08-22T11:16:19.019 bias ()(constructCalibs.py:617)- Processing DataId(initialdata={'visit': 9999, 'run': '9999', 'raft': 'R11', 'ccd': 'S00', 'snap': 0}, tag=set()) on cori19:63768\n",
      "INFO  2018-08-22T11:16:19.019 bias.isr ()(isrTask.py:641)- Performing ISR on sensor DataId(initialdata={'visit': 9999, 'run': '9999', 'raft': 'R11', 'ccd': 'S00', 'snap': 0}, tag=set())\n",
      "WARN  2018-08-22T11:16:20.020 LsstCamMapper ()(lsstCamMapper.py:116)- amp.getRawBBox() != data.getBBox(); patching. ((minimum=(0, 0), maximum=(543, 2047)) v. (minimum=(0, 0), maximum=(521, 2009)))\n",
      "INFO  2018-08-22T11:16:23.023 bias ()(constructCalibs.py:617)- Processing DataId(initialdata={'visit': 9999, 'run': '9999', 'raft': 'R11', 'ccd': 'S01', 'snap': 0}, tag=set()) on cori19:63768\n",
      "INFO  2018-08-22T11:16:23.023 bias.isr ()(isrTask.py:641)- Performing ISR on sensor DataId(initialdata={'visit': 9999, 'run': '9999', 'raft': 'R11', 'ccd': 'S01', 'snap': 0}, tag=set())\n",
      "WARN  2018-08-22T11:16:24.024 LsstCamMapper ()(lsstCamMapper.py:116)- amp.getRawBBox() != data.getBBox(); patching. ((minimum=(0, 0), maximum=(543, 2047)) v. (minimum=(0, 0), maximum=(521, 2009)))\n",
      "INFO  2018-08-22T11:16:28.028 bias ()(constructCalibs.py:617)- Processing DataId(initialdata={'visit': 9999, 'run': '9999', 'raft': 'R11', 'ccd': 'S02', 'snap': 0}, tag=set()) on cori19:63768\n",
      "INFO  2018-08-22T11:16:28.028 bias.isr ()(isrTask.py:641)- Performing ISR on sensor DataId(initialdata={'visit': 9999, 'run': '9999', 'raft': 'R11', 'ccd': 'S02', 'snap': 0}, tag=set())\n",
      "WARN  2018-08-22T11:16:29.029 LsstCamMapper ()(lsstCamMapper.py:116)- amp.getRawBBox() != data.getBBox(); patching. ((minimum=(0, 0), maximum=(543, 2047)) v. (minimum=(0, 0), maximum=(521, 2009)))\n",
      "INFO  2018-08-22T11:16:34.034 bias ()(constructCalibs.py:617)- Processing DataId(initialdata={'visit': 9999, 'run': '9999', 'raft': 'R11', 'ccd': 'S10', 'snap': 0}, tag=set()) on cori19:63768\n",
      "INFO  2018-08-22T11:16:34.034 bias.isr ()(isrTask.py:641)- Performing ISR on sensor DataId(initialdata={'visit': 9999, 'run': '9999', 'raft': 'R11', 'ccd': 'S10', 'snap': 0}, tag=set())\n",
      "WARN  2018-08-22T11:16:35.035 LsstCamMapper ()(lsstCamMapper.py:116)- amp.getRawBBox() != data.getBBox(); patching. ((minimum=(0, 0), maximum=(543, 2047)) v. (minimum=(0, 0), maximum=(521, 2009)))\n",
      "INFO  2018-08-22T11:16:39.039 bias ()(constructCalibs.py:617)- Processing DataId(initialdata={'visit': 9999, 'run': '9999', 'raft': 'R11', 'ccd': 'S11', 'snap': 0}, tag=set()) on cori19:63768\n",
      "INFO  2018-08-22T11:16:39.039 bias.isr ()(isrTask.py:641)- Performing ISR on sensor DataId(initialdata={'visit': 9999, 'run': '9999', 'raft': 'R11', 'ccd': 'S11', 'snap': 0}, tag=set())\n",
      "WARN  2018-08-22T11:16:40.040 LsstCamMapper ()(lsstCamMapper.py:116)- amp.getRawBBox() != data.getBBox(); patching. ((minimum=(0, 0), maximum=(543, 2047)) v. (minimum=(0, 0), maximum=(521, 2009)))\n",
      "INFO  2018-08-22T11:16:44.044 bias ()(constructCalibs.py:617)- Processing DataId(initialdata={'visit': 9999, 'run': '9999', 'raft': 'R11', 'ccd': 'S12', 'snap': 0}, tag=set()) on cori19:63768\n",
      "INFO  2018-08-22T11:16:44.044 bias.isr ()(isrTask.py:641)- Performing ISR on sensor DataId(initialdata={'visit': 9999, 'run': '9999', 'raft': 'R11', 'ccd': 'S12', 'snap': 0}, tag=set())\n",
      "WARN  2018-08-22T11:16:45.045 LsstCamMapper ()(lsstCamMapper.py:116)- amp.getRawBBox() != data.getBBox(); patching. ((minimum=(0, 0), maximum=(543, 2047)) v. (minimum=(0, 0), maximum=(521, 2009)))\n",
      "INFO  2018-08-22T11:16:49.049 bias ()(constructCalibs.py:617)- Processing DataId(initialdata={'visit': 9999, 'run': '9999', 'raft': 'R11', 'ccd': 'S20', 'snap': 0}, tag=set()) on cori19:63768\n",
      "INFO  2018-08-22T11:16:49.049 bias.isr ()(isrTask.py:641)- Performing ISR on sensor DataId(initialdata={'visit': 9999, 'run': '9999', 'raft': 'R11', 'ccd': 'S20', 'snap': 0}, tag=set())\n",
      "WARN  2018-08-22T11:16:51.051 LsstCamMapper ()(lsstCamMapper.py:116)- amp.getRawBBox() != data.getBBox(); patching. ((minimum=(0, 0), maximum=(543, 2047)) v. (minimum=(0, 0), maximum=(521, 2009)))\n",
      "INFO  2018-08-22T11:16:55.055 bias ()(constructCalibs.py:617)- Processing DataId(initialdata={'visit': 9999, 'run': '9999', 'raft': 'R11', 'ccd': 'S21', 'snap': 0}, tag=set()) on cori19:63768\n",
      "INFO  2018-08-22T11:16:55.055 bias.isr ()(isrTask.py:641)- Performing ISR on sensor DataId(initialdata={'visit': 9999, 'run': '9999', 'raft': 'R11', 'ccd': 'S21', 'snap': 0}, tag=set())\n",
      "WARN  2018-08-22T11:16:56.056 LsstCamMapper ()(lsstCamMapper.py:116)- amp.getRawBBox() != data.getBBox(); patching. ((minimum=(0, 0), maximum=(543, 2047)) v. (minimum=(0, 0), maximum=(521, 2009)))\n",
      "INFO  2018-08-22T11:17:00.000 bias ()(constructCalibs.py:617)- Processing DataId(initialdata={'visit': 9999, 'run': '9999', 'raft': 'R11', 'ccd': 'S22', 'snap': 0}, tag=set()) on cori19:63768\n",
      "INFO  2018-08-22T11:17:00.000 bias.isr ()(isrTask.py:641)- Performing ISR on sensor DataId(initialdata={'visit': 9999, 'run': '9999', 'raft': 'R11', 'ccd': 'S22', 'snap': 0}, tag=set())\n",
      "WARN  2018-08-22T11:17:09.009 LsstCamMapper ()(lsstCamMapper.py:116)- amp.getRawBBox() != data.getBBox(); patching. ((minimum=(0, 0), maximum=(543, 2047)) v. (minimum=(0, 0), maximum=(521, 2009)))\n",
      "INFO  2018-08-22T11:17:13.013 bias ()(constructCalibs.py:617)- Processing DataId(initialdata={'visit': 9999, 'run': '9999', 'raft': 'R12', 'ccd': 'S00', 'snap': 0}, tag=set()) on cori19:63768\n",
      "INFO  2018-08-22T11:17:13.013 bias.isr ()(isrTask.py:641)- Performing ISR on sensor DataId(initialdata={'visit': 9999, 'run': '9999', 'raft': 'R12', 'ccd': 'S00', 'snap': 0}, tag=set())\n",
      "WARN  2018-08-22T11:17:14.014 LsstCamMapper ()(lsstCamMapper.py:116)- amp.getRawBBox() != data.getBBox(); patching. ((minimum=(0, 0), maximum=(543, 2047)) v. (minimum=(0, 0), maximum=(521, 2009)))\n",
      "INFO  2018-08-22T11:17:18.018 bias ()(constructCalibs.py:617)- Processing DataId(initialdata={'visit': 9999, 'run': '9999', 'raft': 'R12', 'ccd': 'S01', 'snap': 0}, tag=set()) on cori19:63768\n",
      "INFO  2018-08-22T11:17:18.018 bias.isr ()(isrTask.py:641)- Performing ISR on sensor DataId(initialdata={'visit': 9999, 'run': '9999', 'raft': 'R12', 'ccd': 'S01', 'snap': 0}, tag=set())\n",
      "WARN  2018-08-22T11:17:19.019 LsstCamMapper ()(lsstCamMapper.py:116)- amp.getRawBBox() != data.getBBox(); patching. ((minimum=(0, 0), maximum=(543, 2047)) v. (minimum=(0, 0), maximum=(521, 2009)))\n",
      "INFO  2018-08-22T11:17:23.023 bias ()(constructCalibs.py:617)- Processing DataId(initialdata={'visit': 9999, 'run': '9999', 'raft': 'R12', 'ccd': 'S02', 'snap': 0}, tag=set()) on cori19:63768\n",
      "INFO  2018-08-22T11:17:23.023 bias.isr ()(isrTask.py:641)- Performing ISR on sensor DataId(initialdata={'visit': 9999, 'run': '9999', 'raft': 'R12', 'ccd': 'S02', 'snap': 0}, tag=set())\n",
      "WARN  2018-08-22T11:17:25.025 LsstCamMapper ()(lsstCamMapper.py:116)- amp.getRawBBox() != data.getBBox(); patching. ((minimum=(0, 0), maximum=(543, 2047)) v. (minimum=(0, 0), maximum=(521, 2009)))\n",
      "INFO  2018-08-22T11:17:29.029 bias ()(constructCalibs.py:617)- Processing DataId(initialdata={'visit': 9999, 'run': '9999', 'raft': 'R12', 'ccd': 'S10', 'snap': 0}, tag=set()) on cori19:63768\n",
      "INFO  2018-08-22T11:17:29.029 bias.isr ()(isrTask.py:641)- Performing ISR on sensor DataId(initialdata={'visit': 9999, 'run': '9999', 'raft': 'R12', 'ccd': 'S10', 'snap': 0}, tag=set())\n",
      "WARN  2018-08-22T11:17:30.030 LsstCamMapper ()(lsstCamMapper.py:116)- amp.getRawBBox() != data.getBBox(); patching. ((minimum=(0, 0), maximum=(543, 2047)) v. (minimum=(0, 0), maximum=(521, 2009)))\n",
      "INFO  2018-08-22T11:17:34.034 bias ()(constructCalibs.py:617)- Processing DataId(initialdata={'visit': 9999, 'run': '9999', 'raft': 'R12', 'ccd': 'S11', 'snap': 0}, tag=set()) on cori19:63768\n",
      "INFO  2018-08-22T11:17:34.034 bias.isr ()(isrTask.py:641)- Performing ISR on sensor DataId(initialdata={'visit': 9999, 'run': '9999', 'raft': 'R12', 'ccd': 'S11', 'snap': 0}, tag=set())\n",
      "WARN  2018-08-22T11:17:35.035 LsstCamMapper ()(lsstCamMapper.py:116)- amp.getRawBBox() != data.getBBox(); patching. ((minimum=(0, 0), maximum=(543, 2047)) v. (minimum=(0, 0), maximum=(521, 2009)))\n",
      "INFO  2018-08-22T11:17:39.039 bias ()(constructCalibs.py:617)- Processing DataId(initialdata={'visit': 9999, 'run': '9999', 'raft': 'R12', 'ccd': 'S12', 'snap': 0}, tag=set()) on cori19:63768\n",
      "INFO  2018-08-22T11:17:39.039 bias.isr ()(isrTask.py:641)- Performing ISR on sensor DataId(initialdata={'visit': 9999, 'run': '9999', 'raft': 'R12', 'ccd': 'S12', 'snap': 0}, tag=set())\n",
      "WARN  2018-08-22T11:17:41.041 LsstCamMapper ()(lsstCamMapper.py:116)- amp.getRawBBox() != data.getBBox(); patching. ((minimum=(0, 0), maximum=(543, 2047)) v. (minimum=(0, 0), maximum=(521, 2009)))\n",
      "INFO  2018-08-22T11:17:45.045 bias ()(constructCalibs.py:617)- Processing DataId(initialdata={'visit': 9999, 'run': '9999', 'raft': 'R12', 'ccd': 'S20', 'snap': 0}, tag=set()) on cori19:63768\n",
      "INFO  2018-08-22T11:17:45.045 bias.isr ()(isrTask.py:641)- Performing ISR on sensor DataId(initialdata={'visit': 9999, 'run': '9999', 'raft': 'R12', 'ccd': 'S20', 'snap': 0}, tag=set())\n",
      "WARN  2018-08-22T11:17:46.046 LsstCamMapper ()(lsstCamMapper.py:116)- amp.getRawBBox() != data.getBBox(); patching. ((minimum=(0, 0), maximum=(543, 2047)) v. (minimum=(0, 0), maximum=(521, 2009)))\n",
      "INFO  2018-08-22T11:17:50.050 bias ()(constructCalibs.py:617)- Processing DataId(initialdata={'visit': 9999, 'run': '9999', 'raft': 'R12', 'ccd': 'S21', 'snap': 0}, tag=set()) on cori19:63768\n",
      "INFO  2018-08-22T11:17:50.050 bias.isr ()(isrTask.py:641)- Performing ISR on sensor DataId(initialdata={'visit': 9999, 'run': '9999', 'raft': 'R12', 'ccd': 'S21', 'snap': 0}, tag=set())\n",
      "WARN  2018-08-22T11:17:52.052 LsstCamMapper ()(lsstCamMapper.py:116)- amp.getRawBBox() != data.getBBox(); patching. ((minimum=(0, 0), maximum=(543, 2047)) v. (minimum=(0, 0), maximum=(521, 2009)))\n",
      "INFO  2018-08-22T11:17:56.056 bias ()(constructCalibs.py:617)- Processing DataId(initialdata={'visit': 9999, 'run': '9999', 'raft': 'R12', 'ccd': 'S22', 'snap': 0}, tag=set()) on cori19:63768\n",
      "INFO  2018-08-22T11:17:56.056 bias.isr ()(isrTask.py:641)- Performing ISR on sensor DataId(initialdata={'visit': 9999, 'run': '9999', 'raft': 'R12', 'ccd': 'S22', 'snap': 0}, tag=set())\n",
      "WARN  2018-08-22T11:17:57.057 LsstCamMapper ()(lsstCamMapper.py:116)- amp.getRawBBox() != data.getBBox(); patching. ((minimum=(0, 0), maximum=(543, 2047)) v. (minimum=(0, 0), maximum=(521, 2009)))\n",
      "INFO  2018-08-22T11:18:01.001 bias ()(constructCalibs.py:617)- Processing DataId(initialdata={'visit': 9999, 'run': '9999', 'raft': 'R13', 'ccd': 'S00', 'snap': 0}, tag=set()) on cori19:63768\n",
      "INFO  2018-08-22T11:18:01.001 bias.isr ()(isrTask.py:641)- Performing ISR on sensor DataId(initialdata={'visit': 9999, 'run': '9999', 'raft': 'R13', 'ccd': 'S00', 'snap': 0}, tag=set())\n",
      "WARN  2018-08-22T11:18:02.002 LsstCamMapper ()(lsstCamMapper.py:116)- amp.getRawBBox() != data.getBBox(); patching. ((minimum=(0, 0), maximum=(543, 2047)) v. (minimum=(0, 0), maximum=(521, 2009)))\n",
      "INFO  2018-08-22T11:18:06.006 bias ()(constructCalibs.py:617)- Processing DataId(initialdata={'visit': 9999, 'run': '9999', 'raft': 'R13', 'ccd': 'S01', 'snap': 0}, tag=set()) on cori19:63768\n",
      "INFO  2018-08-22T11:18:06.006 bias.isr ()(isrTask.py:641)- Performing ISR on sensor DataId(initialdata={'visit': 9999, 'run': '9999', 'raft': 'R13', 'ccd': 'S01', 'snap': 0}, tag=set())\n",
      "WARN  2018-08-22T11:18:13.013 LsstCamMapper ()(lsstCamMapper.py:116)- amp.getRawBBox() != data.getBBox(); patching. ((minimum=(0, 0), maximum=(543, 2047)) v. (minimum=(0, 0), maximum=(521, 2009)))\n",
      "INFO  2018-08-22T11:18:17.017 bias ()(constructCalibs.py:617)- Processing DataId(initialdata={'visit': 9999, 'run': '9999', 'raft': 'R13', 'ccd': 'S02', 'snap': 0}, tag=set()) on cori19:63768\n",
      "INFO  2018-08-22T11:18:17.017 bias.isr ()(isrTask.py:641)- Performing ISR on sensor DataId(initialdata={'visit': 9999, 'run': '9999', 'raft': 'R13', 'ccd': 'S02', 'snap': 0}, tag=set())\n",
      "WARN  2018-08-22T11:18:18.018 LsstCamMapper ()(lsstCamMapper.py:116)- amp.getRawBBox() != data.getBBox(); patching. ((minimum=(0, 0), maximum=(543, 2047)) v. (minimum=(0, 0), maximum=(521, 2009)))\n",
      "INFO  2018-08-22T11:18:22.022 bias ()(constructCalibs.py:617)- Processing DataId(initialdata={'visit': 9999, 'run': '9999', 'raft': 'R13', 'ccd': 'S10', 'snap': 0}, tag=set()) on cori19:63768\n",
      "INFO  2018-08-22T11:18:22.022 bias.isr ()(isrTask.py:641)- Performing ISR on sensor DataId(initialdata={'visit': 9999, 'run': '9999', 'raft': 'R13', 'ccd': 'S10', 'snap': 0}, tag=set())\n",
      "WARN  2018-08-22T11:18:23.023 LsstCamMapper ()(lsstCamMapper.py:116)- amp.getRawBBox() != data.getBBox(); patching. ((minimum=(0, 0), maximum=(543, 2047)) v. (minimum=(0, 0), maximum=(521, 2009)))\n",
      "INFO  2018-08-22T11:18:26.026 bias ()(constructCalibs.py:617)- Processing DataId(initialdata={'visit': 9999, 'run': '9999', 'raft': 'R13', 'ccd': 'S11', 'snap': 0}, tag=set()) on cori19:63768\n",
      "INFO  2018-08-22T11:18:26.026 bias.isr ()(isrTask.py:641)- Performing ISR on sensor DataId(initialdata={'visit': 9999, 'run': '9999', 'raft': 'R13', 'ccd': 'S11', 'snap': 0}, tag=set())\n",
      "WARN  2018-08-22T11:18:27.027 LsstCamMapper ()(lsstCamMapper.py:116)- amp.getRawBBox() != data.getBBox(); patching. ((minimum=(0, 0), maximum=(543, 2047)) v. (minimum=(0, 0), maximum=(521, 2009)))\n",
      "INFO  2018-08-22T11:18:31.031 bias ()(constructCalibs.py:617)- Processing DataId(initialdata={'visit': 9999, 'run': '9999', 'raft': 'R13', 'ccd': 'S12', 'snap': 0}, tag=set()) on cori19:63768\n",
      "INFO  2018-08-22T11:18:31.031 bias.isr ()(isrTask.py:641)- Performing ISR on sensor DataId(initialdata={'visit': 9999, 'run': '9999', 'raft': 'R13', 'ccd': 'S12', 'snap': 0}, tag=set())\n",
      "WARN  2018-08-22T11:18:32.032 LsstCamMapper ()(lsstCamMapper.py:116)- amp.getRawBBox() != data.getBBox(); patching. ((minimum=(0, 0), maximum=(543, 2047)) v. (minimum=(0, 0), maximum=(521, 2009)))\n",
      "INFO  2018-08-22T11:18:36.036 bias ()(constructCalibs.py:617)- Processing DataId(initialdata={'visit': 9999, 'run': '9999', 'raft': 'R13', 'ccd': 'S20', 'snap': 0}, tag=set()) on cori19:63768\n",
      "INFO  2018-08-22T11:18:36.036 bias.isr ()(isrTask.py:641)- Performing ISR on sensor DataId(initialdata={'visit': 9999, 'run': '9999', 'raft': 'R13', 'ccd': 'S20', 'snap': 0}, tag=set())\n",
      "WARN  2018-08-22T11:18:37.037 LsstCamMapper ()(lsstCamMapper.py:116)- amp.getRawBBox() != data.getBBox(); patching. ((minimum=(0, 0), maximum=(543, 2047)) v. (minimum=(0, 0), maximum=(521, 2009)))\n",
      "INFO  2018-08-22T11:18:40.040 bias ()(constructCalibs.py:617)- Processing DataId(initialdata={'visit': 9999, 'run': '9999', 'raft': 'R13', 'ccd': 'S21', 'snap': 0}, tag=set()) on cori19:63768\n",
      "INFO  2018-08-22T11:18:40.040 bias.isr ()(isrTask.py:641)- Performing ISR on sensor DataId(initialdata={'visit': 9999, 'run': '9999', 'raft': 'R13', 'ccd': 'S21', 'snap': 0}, tag=set())\n",
      "WARN  2018-08-22T11:18:41.041 LsstCamMapper ()(lsstCamMapper.py:116)- amp.getRawBBox() != data.getBBox(); patching. ((minimum=(0, 0), maximum=(543, 2047)) v. (minimum=(0, 0), maximum=(521, 2009)))\n",
      "INFO  2018-08-22T11:18:45.045 bias ()(constructCalibs.py:617)- Processing DataId(initialdata={'visit': 9999, 'run': '9999', 'raft': 'R13', 'ccd': 'S22', 'snap': 0}, tag=set()) on cori19:63768\n",
      "INFO  2018-08-22T11:18:45.045 bias.isr ()(isrTask.py:641)- Performing ISR on sensor DataId(initialdata={'visit': 9999, 'run': '9999', 'raft': 'R13', 'ccd': 'S22', 'snap': 0}, tag=set())\n",
      "WARN  2018-08-22T11:18:46.046 LsstCamMapper ()(lsstCamMapper.py:116)- amp.getRawBBox() != data.getBBox(); patching. ((minimum=(0, 0), maximum=(543, 2047)) v. (minimum=(0, 0), maximum=(521, 2009)))\n",
      "INFO  2018-08-22T11:18:49.049 bias ()(constructCalibs.py:617)- Processing DataId(initialdata={'visit': 9999, 'run': '9999', 'raft': 'R14', 'ccd': 'S00', 'snap': 0}, tag=set()) on cori19:63768\n",
      "INFO  2018-08-22T11:18:49.049 bias.isr ()(isrTask.py:641)- Performing ISR on sensor DataId(initialdata={'visit': 9999, 'run': '9999', 'raft': 'R14', 'ccd': 'S00', 'snap': 0}, tag=set())\n",
      "WARN  2018-08-22T11:18:50.050 LsstCamMapper ()(lsstCamMapper.py:116)- amp.getRawBBox() != data.getBBox(); patching. ((minimum=(0, 0), maximum=(543, 2047)) v. (minimum=(0, 0), maximum=(521, 2009)))\n",
      "INFO  2018-08-22T11:18:54.054 bias ()(constructCalibs.py:617)- Processing DataId(initialdata={'visit': 9999, 'run': '9999', 'raft': 'R14', 'ccd': 'S01', 'snap': 0}, tag=set()) on cori19:63768\n",
      "INFO  2018-08-22T11:18:54.054 bias.isr ()(isrTask.py:641)- Performing ISR on sensor DataId(initialdata={'visit': 9999, 'run': '9999', 'raft': 'R14', 'ccd': 'S01', 'snap': 0}, tag=set())\n",
      "WARN  2018-08-22T11:18:55.055 LsstCamMapper ()(lsstCamMapper.py:116)- amp.getRawBBox() != data.getBBox(); patching. ((minimum=(0, 0), maximum=(543, 2047)) v. (minimum=(0, 0), maximum=(521, 2009)))\n",
      "INFO  2018-08-22T11:18:59.059 bias ()(constructCalibs.py:617)- Processing DataId(initialdata={'visit': 9999, 'run': '9999', 'raft': 'R14', 'ccd': 'S02', 'snap': 0}, tag=set()) on cori19:63768\n",
      "INFO  2018-08-22T11:18:59.059 bias.isr ()(isrTask.py:641)- Performing ISR on sensor DataId(initialdata={'visit': 9999, 'run': '9999', 'raft': 'R14', 'ccd': 'S02', 'snap': 0}, tag=set())\n",
      "WARN  2018-08-22T11:19:00.000 LsstCamMapper ()(lsstCamMapper.py:116)- amp.getRawBBox() != data.getBBox(); patching. ((minimum=(0, 0), maximum=(543, 2047)) v. (minimum=(0, 0), maximum=(521, 2009)))\n",
      "INFO  2018-08-22T11:19:04.004 bias ()(constructCalibs.py:617)- Processing DataId(initialdata={'visit': 9999, 'run': '9999', 'raft': 'R14', 'ccd': 'S10', 'snap': 0}, tag=set()) on cori19:63768\n",
      "INFO  2018-08-22T11:19:04.004 bias.isr ()(isrTask.py:641)- Performing ISR on sensor DataId(initialdata={'visit': 9999, 'run': '9999', 'raft': 'R14', 'ccd': 'S10', 'snap': 0}, tag=set())\n",
      "WARN  2018-08-22T11:19:05.005 LsstCamMapper ()(lsstCamMapper.py:116)- amp.getRawBBox() != data.getBBox(); patching. ((minimum=(0, 0), maximum=(543, 2047)) v. (minimum=(0, 0), maximum=(521, 2009)))\n",
      "INFO  2018-08-22T11:19:09.009 bias ()(constructCalibs.py:617)- Processing DataId(initialdata={'visit': 9999, 'run': '9999', 'raft': 'R14', 'ccd': 'S11', 'snap': 0}, tag=set()) on cori19:63768\n",
      "INFO  2018-08-22T11:19:09.009 bias.isr ()(isrTask.py:641)- Performing ISR on sensor DataId(initialdata={'visit': 9999, 'run': '9999', 'raft': 'R14', 'ccd': 'S11', 'snap': 0}, tag=set())\n",
      "WARN  2018-08-22T11:19:10.010 LsstCamMapper ()(lsstCamMapper.py:116)- amp.getRawBBox() != data.getBBox(); patching. ((minimum=(0, 0), maximum=(543, 2047)) v. (minimum=(0, 0), maximum=(521, 2009)))\n",
      "INFO  2018-08-22T11:19:14.014 bias ()(constructCalibs.py:617)- Processing DataId(initialdata={'visit': 9999, 'run': '9999', 'raft': 'R14', 'ccd': 'S12', 'snap': 0}, tag=set()) on cori19:63768\n",
      "INFO  2018-08-22T11:19:14.014 bias.isr ()(isrTask.py:641)- Performing ISR on sensor DataId(initialdata={'visit': 9999, 'run': '9999', 'raft': 'R14', 'ccd': 'S12', 'snap': 0}, tag=set())\n",
      "WARN  2018-08-22T11:19:15.015 LsstCamMapper ()(lsstCamMapper.py:116)- amp.getRawBBox() != data.getBBox(); patching. ((minimum=(0, 0), maximum=(543, 2047)) v. (minimum=(0, 0), maximum=(521, 2009)))\n",
      "INFO  2018-08-22T11:19:18.018 bias ()(constructCalibs.py:617)- Processing DataId(initialdata={'visit': 9999, 'run': '9999', 'raft': 'R14', 'ccd': 'S20', 'snap': 0}, tag=set()) on cori19:63768\n",
      "INFO  2018-08-22T11:19:18.018 bias.isr ()(isrTask.py:641)- Performing ISR on sensor DataId(initialdata={'visit': 9999, 'run': '9999', 'raft': 'R14', 'ccd': 'S20', 'snap': 0}, tag=set())\n",
      "WARN  2018-08-22T11:19:20.020 LsstCamMapper ()(lsstCamMapper.py:116)- amp.getRawBBox() != data.getBBox(); patching. ((minimum=(0, 0), maximum=(543, 2047)) v. (minimum=(0, 0), maximum=(521, 2009)))\n",
      "INFO  2018-08-22T11:19:23.023 bias ()(constructCalibs.py:617)- Processing DataId(initialdata={'visit': 9999, 'run': '9999', 'raft': 'R14', 'ccd': 'S21', 'snap': 0}, tag=set()) on cori19:63768\n",
      "INFO  2018-08-22T11:19:23.023 bias.isr ()(isrTask.py:641)- Performing ISR on sensor DataId(initialdata={'visit': 9999, 'run': '9999', 'raft': 'R14', 'ccd': 'S21', 'snap': 0}, tag=set())\n",
      "WARN  2018-08-22T11:19:25.025 LsstCamMapper ()(lsstCamMapper.py:116)- amp.getRawBBox() != data.getBBox(); patching. ((minimum=(0, 0), maximum=(543, 2047)) v. (minimum=(0, 0), maximum=(521, 2009)))\n",
      "INFO  2018-08-22T11:19:28.028 bias ()(constructCalibs.py:617)- Processing DataId(initialdata={'visit': 9999, 'run': '9999', 'raft': 'R14', 'ccd': 'S22', 'snap': 0}, tag=set()) on cori19:63768\n",
      "INFO  2018-08-22T11:19:28.028 bias.isr ()(isrTask.py:641)- Performing ISR on sensor DataId(initialdata={'visit': 9999, 'run': '9999', 'raft': 'R14', 'ccd': 'S22', 'snap': 0}, tag=set())\n",
      "WARN  2018-08-22T11:19:29.029 LsstCamMapper ()(lsstCamMapper.py:116)- amp.getRawBBox() != data.getBBox(); patching. ((minimum=(0, 0), maximum=(543, 2047)) v. (minimum=(0, 0), maximum=(521, 2009)))\n",
      "INFO  2018-08-22T11:19:33.033 bias ()(constructCalibs.py:617)- Processing DataId(initialdata={'visit': 9999, 'run': '9999', 'raft': 'R20', 'ccd': 'S00', 'snap': 0}, tag=set()) on cori19:63768\n",
      "INFO  2018-08-22T11:19:33.033 bias.isr ()(isrTask.py:641)- Performing ISR on sensor DataId(initialdata={'visit': 9999, 'run': '9999', 'raft': 'R20', 'ccd': 'S00', 'snap': 0}, tag=set())\n",
      "WARN  2018-08-22T11:19:34.034 LsstCamMapper ()(lsstCamMapper.py:116)- amp.getRawBBox() != data.getBBox(); patching. ((minimum=(0, 0), maximum=(543, 2047)) v. (minimum=(0, 0), maximum=(521, 2009)))\n",
      "INFO  2018-08-22T11:19:38.038 bias ()(constructCalibs.py:617)- Processing DataId(initialdata={'visit': 9999, 'run': '9999', 'raft': 'R20', 'ccd': 'S01', 'snap': 0}, tag=set()) on cori19:63768\n",
      "INFO  2018-08-22T11:19:38.038 bias.isr ()(isrTask.py:641)- Performing ISR on sensor DataId(initialdata={'visit': 9999, 'run': '9999', 'raft': 'R20', 'ccd': 'S01', 'snap': 0}, tag=set())\n",
      "WARN  2018-08-22T11:19:40.040 LsstCamMapper ()(lsstCamMapper.py:116)- amp.getRawBBox() != data.getBBox(); patching. ((minimum=(0, 0), maximum=(543, 2047)) v. (minimum=(0, 0), maximum=(521, 2009)))\n",
      "INFO  2018-08-22T11:19:44.044 bias ()(constructCalibs.py:617)- Processing DataId(initialdata={'visit': 9999, 'run': '9999', 'raft': 'R20', 'ccd': 'S02', 'snap': 0}, tag=set()) on cori19:63768\n",
      "INFO  2018-08-22T11:19:44.044 bias.isr ()(isrTask.py:641)- Performing ISR on sensor DataId(initialdata={'visit': 9999, 'run': '9999', 'raft': 'R20', 'ccd': 'S02', 'snap': 0}, tag=set())\n",
      "WARN  2018-08-22T11:19:45.045 LsstCamMapper ()(lsstCamMapper.py:116)- amp.getRawBBox() != data.getBBox(); patching. ((minimum=(0, 0), maximum=(543, 2047)) v. (minimum=(0, 0), maximum=(521, 2009)))\n",
      "INFO  2018-08-22T11:19:48.048 bias ()(constructCalibs.py:617)- Processing DataId(initialdata={'visit': 9999, 'run': '9999', 'raft': 'R20', 'ccd': 'S10', 'snap': 0}, tag=set()) on cori19:63768\n",
      "INFO  2018-08-22T11:19:48.048 bias.isr ()(isrTask.py:641)- Performing ISR on sensor DataId(initialdata={'visit': 9999, 'run': '9999', 'raft': 'R20', 'ccd': 'S10', 'snap': 0}, tag=set())\n",
      "WARN  2018-08-22T11:19:49.049 LsstCamMapper ()(lsstCamMapper.py:116)- amp.getRawBBox() != data.getBBox(); patching. ((minimum=(0, 0), maximum=(543, 2047)) v. (minimum=(0, 0), maximum=(521, 2009)))\n",
      "INFO  2018-08-22T11:19:53.053 bias ()(constructCalibs.py:617)- Processing DataId(initialdata={'visit': 9999, 'run': '9999', 'raft': 'R20', 'ccd': 'S11', 'snap': 0}, tag=set()) on cori19:63768\n",
      "INFO  2018-08-22T11:19:53.053 bias.isr ()(isrTask.py:641)- Performing ISR on sensor DataId(initialdata={'visit': 9999, 'run': '9999', 'raft': 'R20', 'ccd': 'S11', 'snap': 0}, tag=set())\n",
      "WARN  2018-08-22T11:19:54.054 LsstCamMapper ()(lsstCamMapper.py:116)- amp.getRawBBox() != data.getBBox(); patching. ((minimum=(0, 0), maximum=(543, 2047)) v. (minimum=(0, 0), maximum=(521, 2009)))\n",
      "INFO  2018-08-22T11:19:58.058 bias ()(constructCalibs.py:617)- Processing DataId(initialdata={'visit': 9999, 'run': '9999', 'raft': 'R20', 'ccd': 'S12', 'snap': 0}, tag=set()) on cori19:63768\n",
      "INFO  2018-08-22T11:19:58.058 bias.isr ()(isrTask.py:641)- Performing ISR on sensor DataId(initialdata={'visit': 9999, 'run': '9999', 'raft': 'R20', 'ccd': 'S12', 'snap': 0}, tag=set())\n",
      "WARN  2018-08-22T11:20:03.003 LsstCamMapper ()(lsstCamMapper.py:116)- amp.getRawBBox() != data.getBBox(); patching. ((minimum=(0, 0), maximum=(543, 2047)) v. (minimum=(0, 0), maximum=(521, 2009)))\n",
      "INFO  2018-08-22T11:20:06.006 bias ()(constructCalibs.py:617)- Processing DataId(initialdata={'visit': 9999, 'run': '9999', 'raft': 'R20', 'ccd': 'S20', 'snap': 0}, tag=set()) on cori19:63768\n",
      "INFO  2018-08-22T11:20:06.006 bias.isr ()(isrTask.py:641)- Performing ISR on sensor DataId(initialdata={'visit': 9999, 'run': '9999', 'raft': 'R20', 'ccd': 'S20', 'snap': 0}, tag=set())\n",
      "WARN  2018-08-22T11:20:07.007 LsstCamMapper ()(lsstCamMapper.py:116)- amp.getRawBBox() != data.getBBox(); patching. ((minimum=(0, 0), maximum=(543, 2047)) v. (minimum=(0, 0), maximum=(521, 2009)))\n",
      "INFO  2018-08-22T11:20:11.011 bias ()(constructCalibs.py:617)- Processing DataId(initialdata={'visit': 9999, 'run': '9999', 'raft': 'R20', 'ccd': 'S21', 'snap': 0}, tag=set()) on cori19:63768\n",
      "INFO  2018-08-22T11:20:11.011 bias.isr ()(isrTask.py:641)- Performing ISR on sensor DataId(initialdata={'visit': 9999, 'run': '9999', 'raft': 'R20', 'ccd': 'S21', 'snap': 0}, tag=set())\n",
      "WARN  2018-08-22T11:20:12.012 LsstCamMapper ()(lsstCamMapper.py:116)- amp.getRawBBox() != data.getBBox(); patching. ((minimum=(0, 0), maximum=(543, 2047)) v. (minimum=(0, 0), maximum=(521, 2009)))\n",
      "INFO  2018-08-22T11:20:16.016 bias ()(constructCalibs.py:617)- Processing DataId(initialdata={'visit': 9999, 'run': '9999', 'raft': 'R20', 'ccd': 'S22', 'snap': 0}, tag=set()) on cori19:63768\n",
      "INFO  2018-08-22T11:20:16.016 bias.isr ()(isrTask.py:641)- Performing ISR on sensor DataId(initialdata={'visit': 9999, 'run': '9999', 'raft': 'R20', 'ccd': 'S22', 'snap': 0}, tag=set())\n",
      "WARN  2018-08-22T11:20:17.017 LsstCamMapper ()(lsstCamMapper.py:116)- amp.getRawBBox() != data.getBBox(); patching. ((minimum=(0, 0), maximum=(543, 2047)) v. (minimum=(0, 0), maximum=(521, 2009)))\n",
      "INFO  2018-08-22T11:20:21.021 bias ()(constructCalibs.py:617)- Processing DataId(initialdata={'visit': 9999, 'run': '9999', 'raft': 'R21', 'ccd': 'S00', 'snap': 0}, tag=set()) on cori19:63768\n",
      "INFO  2018-08-22T11:20:21.021 bias.isr ()(isrTask.py:641)- Performing ISR on sensor DataId(initialdata={'visit': 9999, 'run': '9999', 'raft': 'R21', 'ccd': 'S00', 'snap': 0}, tag=set())\n",
      "WARN  2018-08-22T11:20:22.022 LsstCamMapper ()(lsstCamMapper.py:116)- amp.getRawBBox() != data.getBBox(); patching. ((minimum=(0, 0), maximum=(543, 2047)) v. (minimum=(0, 0), maximum=(521, 2009)))\n",
      "INFO  2018-08-22T11:20:25.025 bias ()(constructCalibs.py:617)- Processing DataId(initialdata={'visit': 9999, 'run': '9999', 'raft': 'R21', 'ccd': 'S01', 'snap': 0}, tag=set()) on cori19:63768\n",
      "INFO  2018-08-22T11:20:25.025 bias.isr ()(isrTask.py:641)- Performing ISR on sensor DataId(initialdata={'visit': 9999, 'run': '9999', 'raft': 'R21', 'ccd': 'S01', 'snap': 0}, tag=set())\n",
      "WARN  2018-08-22T11:20:27.027 LsstCamMapper ()(lsstCamMapper.py:116)- amp.getRawBBox() != data.getBBox(); patching. ((minimum=(0, 0), maximum=(543, 2047)) v. (minimum=(0, 0), maximum=(521, 2009)))\n",
      "INFO  2018-08-22T11:20:30.030 bias ()(constructCalibs.py:617)- Processing DataId(initialdata={'visit': 9999, 'run': '9999', 'raft': 'R21', 'ccd': 'S02', 'snap': 0}, tag=set()) on cori19:63768\n",
      "INFO  2018-08-22T11:20:30.030 bias.isr ()(isrTask.py:641)- Performing ISR on sensor DataId(initialdata={'visit': 9999, 'run': '9999', 'raft': 'R21', 'ccd': 'S02', 'snap': 0}, tag=set())\n",
      "WARN  2018-08-22T11:20:31.031 LsstCamMapper ()(lsstCamMapper.py:116)- amp.getRawBBox() != data.getBBox(); patching. ((minimum=(0, 0), maximum=(543, 2047)) v. (minimum=(0, 0), maximum=(521, 2009)))\n",
      "INFO  2018-08-22T11:20:35.035 bias ()(constructCalibs.py:617)- Processing DataId(initialdata={'visit': 9999, 'run': '9999', 'raft': 'R21', 'ccd': 'S10', 'snap': 0}, tag=set()) on cori19:63768\n",
      "INFO  2018-08-22T11:20:35.035 bias.isr ()(isrTask.py:641)- Performing ISR on sensor DataId(initialdata={'visit': 9999, 'run': '9999', 'raft': 'R21', 'ccd': 'S10', 'snap': 0}, tag=set())\n",
      "WARN  2018-08-22T11:20:36.036 LsstCamMapper ()(lsstCamMapper.py:116)- amp.getRawBBox() != data.getBBox(); patching. ((minimum=(0, 0), maximum=(543, 2047)) v. (minimum=(0, 0), maximum=(521, 2009)))\n",
      "INFO  2018-08-22T11:20:40.040 bias ()(constructCalibs.py:617)- Processing DataId(initialdata={'visit': 9999, 'run': '9999', 'raft': 'R21', 'ccd': 'S11', 'snap': 0}, tag=set()) on cori19:63768\n",
      "INFO  2018-08-22T11:20:40.040 bias.isr ()(isrTask.py:641)- Performing ISR on sensor DataId(initialdata={'visit': 9999, 'run': '9999', 'raft': 'R21', 'ccd': 'S11', 'snap': 0}, tag=set())\n",
      "WARN  2018-08-22T11:20:41.041 LsstCamMapper ()(lsstCamMapper.py:116)- amp.getRawBBox() != data.getBBox(); patching. ((minimum=(0, 0), maximum=(543, 2047)) v. (minimum=(0, 0), maximum=(521, 2009)))\n",
      "INFO  2018-08-22T11:20:45.045 bias ()(constructCalibs.py:617)- Processing DataId(initialdata={'visit': 9999, 'run': '9999', 'raft': 'R21', 'ccd': 'S12', 'snap': 0}, tag=set()) on cori19:63768\n",
      "INFO  2018-08-22T11:20:45.045 bias.isr ()(isrTask.py:641)- Performing ISR on sensor DataId(initialdata={'visit': 9999, 'run': '9999', 'raft': 'R21', 'ccd': 'S12', 'snap': 0}, tag=set())\n",
      "WARN  2018-08-22T11:20:46.046 LsstCamMapper ()(lsstCamMapper.py:116)- amp.getRawBBox() != data.getBBox(); patching. ((minimum=(0, 0), maximum=(543, 2047)) v. (minimum=(0, 0), maximum=(521, 2009)))\n",
      "INFO  2018-08-22T11:20:50.050 bias ()(constructCalibs.py:617)- Processing DataId(initialdata={'visit': 9999, 'run': '9999', 'raft': 'R21', 'ccd': 'S20', 'snap': 0}, tag=set()) on cori19:63768\n",
      "INFO  2018-08-22T11:20:50.050 bias.isr ()(isrTask.py:641)- Performing ISR on sensor DataId(initialdata={'visit': 9999, 'run': '9999', 'raft': 'R21', 'ccd': 'S20', 'snap': 0}, tag=set())\n",
      "WARN  2018-08-22T11:20:51.051 LsstCamMapper ()(lsstCamMapper.py:116)- amp.getRawBBox() != data.getBBox(); patching. ((minimum=(0, 0), maximum=(543, 2047)) v. (minimum=(0, 0), maximum=(521, 2009)))\n",
      "INFO  2018-08-22T11:20:55.055 bias ()(constructCalibs.py:617)- Processing DataId(initialdata={'visit': 9999, 'run': '9999', 'raft': 'R21', 'ccd': 'S21', 'snap': 0}, tag=set()) on cori19:63768\n",
      "INFO  2018-08-22T11:20:55.055 bias.isr ()(isrTask.py:641)- Performing ISR on sensor DataId(initialdata={'visit': 9999, 'run': '9999', 'raft': 'R21', 'ccd': 'S21', 'snap': 0}, tag=set())\n",
      "WARN  2018-08-22T11:21:07.007 LsstCamMapper ()(lsstCamMapper.py:116)- amp.getRawBBox() != data.getBBox(); patching. ((minimum=(0, 0), maximum=(543, 2047)) v. (minimum=(0, 0), maximum=(521, 2009)))\n",
      "INFO  2018-08-22T11:21:10.010 bias ()(constructCalibs.py:617)- Processing DataId(initialdata={'visit': 9999, 'run': '9999', 'raft': 'R21', 'ccd': 'S22', 'snap': 0}, tag=set()) on cori19:63768\n",
      "INFO  2018-08-22T11:21:10.010 bias.isr ()(isrTask.py:641)- Performing ISR on sensor DataId(initialdata={'visit': 9999, 'run': '9999', 'raft': 'R21', 'ccd': 'S22', 'snap': 0}, tag=set())\n",
      "WARN  2018-08-22T11:21:15.015 LsstCamMapper ()(lsstCamMapper.py:116)- amp.getRawBBox() != data.getBBox(); patching. ((minimum=(0, 0), maximum=(543, 2047)) v. (minimum=(0, 0), maximum=(521, 2009)))\n",
      "INFO  2018-08-22T11:21:19.019 bias ()(constructCalibs.py:617)- Processing DataId(initialdata={'visit': 9999, 'run': '9999', 'raft': 'R22', 'ccd': 'S00', 'snap': 0}, tag=set()) on cori19:63768\n",
      "INFO  2018-08-22T11:21:19.019 bias.isr ()(isrTask.py:641)- Performing ISR on sensor DataId(initialdata={'visit': 9999, 'run': '9999', 'raft': 'R22', 'ccd': 'S00', 'snap': 0}, tag=set())\n",
      "WARN  2018-08-22T11:21:20.020 LsstCamMapper ()(lsstCamMapper.py:116)- amp.getRawBBox() != data.getBBox(); patching. ((minimum=(0, 0), maximum=(543, 2047)) v. (minimum=(0, 0), maximum=(521, 2009)))\n",
      "INFO  2018-08-22T11:21:24.024 bias ()(constructCalibs.py:617)- Processing DataId(initialdata={'visit': 9999, 'run': '9999', 'raft': 'R22', 'ccd': 'S01', 'snap': 0}, tag=set()) on cori19:63768\n",
      "INFO  2018-08-22T11:21:24.024 bias.isr ()(isrTask.py:641)- Performing ISR on sensor DataId(initialdata={'visit': 9999, 'run': '9999', 'raft': 'R22', 'ccd': 'S01', 'snap': 0}, tag=set())\n",
      "WARN  2018-08-22T11:21:25.025 LsstCamMapper ()(lsstCamMapper.py:116)- amp.getRawBBox() != data.getBBox(); patching. ((minimum=(0, 0), maximum=(543, 2047)) v. (minimum=(0, 0), maximum=(521, 2009)))\n",
      "INFO  2018-08-22T11:21:28.028 bias ()(constructCalibs.py:617)- Processing DataId(initialdata={'visit': 9999, 'run': '9999', 'raft': 'R22', 'ccd': 'S02', 'snap': 0}, tag=set()) on cori19:63768\n",
      "INFO  2018-08-22T11:21:28.028 bias.isr ()(isrTask.py:641)- Performing ISR on sensor DataId(initialdata={'visit': 9999, 'run': '9999', 'raft': 'R22', 'ccd': 'S02', 'snap': 0}, tag=set())\n",
      "WARN  2018-08-22T11:21:29.029 LsstCamMapper ()(lsstCamMapper.py:116)- amp.getRawBBox() != data.getBBox(); patching. ((minimum=(0, 0), maximum=(543, 2047)) v. (minimum=(0, 0), maximum=(521, 2009)))\n",
      "INFO  2018-08-22T11:21:33.033 bias ()(constructCalibs.py:617)- Processing DataId(initialdata={'visit': 9999, 'run': '9999', 'raft': 'R22', 'ccd': 'S10', 'snap': 0}, tag=set()) on cori19:63768\n",
      "INFO  2018-08-22T11:21:33.033 bias.isr ()(isrTask.py:641)- Performing ISR on sensor DataId(initialdata={'visit': 9999, 'run': '9999', 'raft': 'R22', 'ccd': 'S10', 'snap': 0}, tag=set())\n",
      "WARN  2018-08-22T11:21:34.034 LsstCamMapper ()(lsstCamMapper.py:116)- amp.getRawBBox() != data.getBBox(); patching. ((minimum=(0, 0), maximum=(543, 2047)) v. (minimum=(0, 0), maximum=(521, 2009)))\n",
      "INFO  2018-08-22T11:21:38.038 bias ()(constructCalibs.py:617)- Processing DataId(initialdata={'visit': 9999, 'run': '9999', 'raft': 'R22', 'ccd': 'S11', 'snap': 0}, tag=set()) on cori19:63768\n",
      "INFO  2018-08-22T11:21:38.038 bias.isr ()(isrTask.py:641)- Performing ISR on sensor DataId(initialdata={'visit': 9999, 'run': '9999', 'raft': 'R22', 'ccd': 'S11', 'snap': 0}, tag=set())\n",
      "WARN  2018-08-22T11:21:39.039 LsstCamMapper ()(lsstCamMapper.py:116)- amp.getRawBBox() != data.getBBox(); patching. ((minimum=(0, 0), maximum=(543, 2047)) v. (minimum=(0, 0), maximum=(521, 2009)))\n",
      "INFO  2018-08-22T11:21:43.043 bias ()(constructCalibs.py:617)- Processing DataId(initialdata={'visit': 9999, 'run': '9999', 'raft': 'R22', 'ccd': 'S12', 'snap': 0}, tag=set()) on cori19:63768\n",
      "INFO  2018-08-22T11:21:43.043 bias.isr ()(isrTask.py:641)- Performing ISR on sensor DataId(initialdata={'visit': 9999, 'run': '9999', 'raft': 'R22', 'ccd': 'S12', 'snap': 0}, tag=set())\n",
      "WARN  2018-08-22T11:21:44.044 LsstCamMapper ()(lsstCamMapper.py:116)- amp.getRawBBox() != data.getBBox(); patching. ((minimum=(0, 0), maximum=(543, 2047)) v. (minimum=(0, 0), maximum=(521, 2009)))\n",
      "INFO  2018-08-22T11:21:47.047 bias ()(constructCalibs.py:617)- Processing DataId(initialdata={'visit': 9999, 'run': '9999', 'raft': 'R22', 'ccd': 'S20', 'snap': 0}, tag=set()) on cori19:63768\n",
      "INFO  2018-08-22T11:21:47.047 bias.isr ()(isrTask.py:641)- Performing ISR on sensor DataId(initialdata={'visit': 9999, 'run': '9999', 'raft': 'R22', 'ccd': 'S20', 'snap': 0}, tag=set())\n",
      "WARN  2018-08-22T11:21:48.048 LsstCamMapper ()(lsstCamMapper.py:116)- amp.getRawBBox() != data.getBBox(); patching. ((minimum=(0, 0), maximum=(543, 2047)) v. (minimum=(0, 0), maximum=(521, 2009)))\n",
      "INFO  2018-08-22T11:21:52.052 bias ()(constructCalibs.py:617)- Processing DataId(initialdata={'visit': 9999, 'run': '9999', 'raft': 'R22', 'ccd': 'S21', 'snap': 0}, tag=set()) on cori19:63768\n",
      "INFO  2018-08-22T11:21:52.052 bias.isr ()(isrTask.py:641)- Performing ISR on sensor DataId(initialdata={'visit': 9999, 'run': '9999', 'raft': 'R22', 'ccd': 'S21', 'snap': 0}, tag=set())\n",
      "WARN  2018-08-22T11:21:53.053 LsstCamMapper ()(lsstCamMapper.py:116)- amp.getRawBBox() != data.getBBox(); patching. ((minimum=(0, 0), maximum=(543, 2047)) v. (minimum=(0, 0), maximum=(521, 2009)))\n",
      "INFO  2018-08-22T11:21:57.057 bias ()(constructCalibs.py:617)- Processing DataId(initialdata={'visit': 9999, 'run': '9999', 'raft': 'R22', 'ccd': 'S22', 'snap': 0}, tag=set()) on cori19:63768\n",
      "INFO  2018-08-22T11:21:57.057 bias.isr ()(isrTask.py:641)- Performing ISR on sensor DataId(initialdata={'visit': 9999, 'run': '9999', 'raft': 'R22', 'ccd': 'S22', 'snap': 0}, tag=set())\n",
      "WARN  2018-08-22T11:21:58.058 LsstCamMapper ()(lsstCamMapper.py:116)- amp.getRawBBox() != data.getBBox(); patching. ((minimum=(0, 0), maximum=(543, 2047)) v. (minimum=(0, 0), maximum=(521, 2009)))\n",
      "INFO  2018-08-22T11:22:02.002 bias ()(constructCalibs.py:617)- Processing DataId(initialdata={'visit': 9999, 'run': '9999', 'raft': 'R23', 'ccd': 'S00', 'snap': 0}, tag=set()) on cori19:63768\n",
      "INFO  2018-08-22T11:22:02.002 bias.isr ()(isrTask.py:641)- Performing ISR on sensor DataId(initialdata={'visit': 9999, 'run': '9999', 'raft': 'R23', 'ccd': 'S00', 'snap': 0}, tag=set())\n",
      "WARN  2018-08-22T11:22:03.003 LsstCamMapper ()(lsstCamMapper.py:116)- amp.getRawBBox() != data.getBBox(); patching. ((minimum=(0, 0), maximum=(543, 2047)) v. (minimum=(0, 0), maximum=(521, 2009)))\n",
      "INFO  2018-08-22T11:22:07.007 bias ()(constructCalibs.py:617)- Processing DataId(initialdata={'visit': 9999, 'run': '9999', 'raft': 'R23', 'ccd': 'S01', 'snap': 0}, tag=set()) on cori19:63768\n",
      "INFO  2018-08-22T11:22:07.007 bias.isr ()(isrTask.py:641)- Performing ISR on sensor DataId(initialdata={'visit': 9999, 'run': '9999', 'raft': 'R23', 'ccd': 'S01', 'snap': 0}, tag=set())\n",
      "WARN  2018-08-22T11:22:08.008 LsstCamMapper ()(lsstCamMapper.py:116)- amp.getRawBBox() != data.getBBox(); patching. ((minimum=(0, 0), maximum=(543, 2047)) v. (minimum=(0, 0), maximum=(521, 2009)))\n",
      "INFO  2018-08-22T11:22:13.013 bias ()(constructCalibs.py:617)- Processing DataId(initialdata={'visit': 9999, 'run': '9999', 'raft': 'R23', 'ccd': 'S02', 'snap': 0}, tag=set()) on cori19:63768\n",
      "INFO  2018-08-22T11:22:13.013 bias.isr ()(isrTask.py:641)- Performing ISR on sensor DataId(initialdata={'visit': 9999, 'run': '9999', 'raft': 'R23', 'ccd': 'S02', 'snap': 0}, tag=set())\n",
      "WARN  2018-08-22T11:22:14.014 LsstCamMapper ()(lsstCamMapper.py:116)- amp.getRawBBox() != data.getBBox(); patching. ((minimum=(0, 0), maximum=(543, 2047)) v. (minimum=(0, 0), maximum=(521, 2009)))\n",
      "INFO  2018-08-22T11:22:17.017 bias ()(constructCalibs.py:617)- Processing DataId(initialdata={'visit': 9999, 'run': '9999', 'raft': 'R23', 'ccd': 'S10', 'snap': 0}, tag=set()) on cori19:63768\n",
      "INFO  2018-08-22T11:22:17.017 bias.isr ()(isrTask.py:641)- Performing ISR on sensor DataId(initialdata={'visit': 9999, 'run': '9999', 'raft': 'R23', 'ccd': 'S10', 'snap': 0}, tag=set())\n",
      "WARN  2018-08-22T11:22:19.019 LsstCamMapper ()(lsstCamMapper.py:116)- amp.getRawBBox() != data.getBBox(); patching. ((minimum=(0, 0), maximum=(543, 2047)) v. (minimum=(0, 0), maximum=(521, 2009)))\n",
      "INFO  2018-08-22T11:22:23.023 bias ()(constructCalibs.py:617)- Processing DataId(initialdata={'visit': 9999, 'run': '9999', 'raft': 'R23', 'ccd': 'S11', 'snap': 0}, tag=set()) on cori19:63768\n",
      "INFO  2018-08-22T11:22:23.023 bias.isr ()(isrTask.py:641)- Performing ISR on sensor DataId(initialdata={'visit': 9999, 'run': '9999', 'raft': 'R23', 'ccd': 'S11', 'snap': 0}, tag=set())\n",
      "WARN  2018-08-22T11:22:24.024 LsstCamMapper ()(lsstCamMapper.py:116)- amp.getRawBBox() != data.getBBox(); patching. ((minimum=(0, 0), maximum=(543, 2047)) v. (minimum=(0, 0), maximum=(521, 2009)))\n",
      "INFO  2018-08-22T11:22:28.028 bias ()(constructCalibs.py:617)- Processing DataId(initialdata={'visit': 9999, 'run': '9999', 'raft': 'R23', 'ccd': 'S12', 'snap': 0}, tag=set()) on cori19:63768\n",
      "INFO  2018-08-22T11:22:28.028 bias.isr ()(isrTask.py:641)- Performing ISR on sensor DataId(initialdata={'visit': 9999, 'run': '9999', 'raft': 'R23', 'ccd': 'S12', 'snap': 0}, tag=set())\n",
      "WARN  2018-08-22T11:22:29.029 LsstCamMapper ()(lsstCamMapper.py:116)- amp.getRawBBox() != data.getBBox(); patching. ((minimum=(0, 0), maximum=(543, 2047)) v. (minimum=(0, 0), maximum=(521, 2009)))\n",
      "INFO  2018-08-22T11:22:32.032 bias ()(constructCalibs.py:617)- Processing DataId(initialdata={'visit': 9999, 'run': '9999', 'raft': 'R23', 'ccd': 'S20', 'snap': 0}, tag=set()) on cori19:63768\n",
      "INFO  2018-08-22T11:22:32.032 bias.isr ()(isrTask.py:641)- Performing ISR on sensor DataId(initialdata={'visit': 9999, 'run': '9999', 'raft': 'R23', 'ccd': 'S20', 'snap': 0}, tag=set())\n",
      "WARN  2018-08-22T11:22:34.034 LsstCamMapper ()(lsstCamMapper.py:116)- amp.getRawBBox() != data.getBBox(); patching. ((minimum=(0, 0), maximum=(543, 2047)) v. (minimum=(0, 0), maximum=(521, 2009)))\n",
      "INFO  2018-08-22T11:22:37.037 bias ()(constructCalibs.py:617)- Processing DataId(initialdata={'visit': 9999, 'run': '9999', 'raft': 'R23', 'ccd': 'S21', 'snap': 0}, tag=set()) on cori19:63768\n",
      "INFO  2018-08-22T11:22:37.037 bias.isr ()(isrTask.py:641)- Performing ISR on sensor DataId(initialdata={'visit': 9999, 'run': '9999', 'raft': 'R23', 'ccd': 'S21', 'snap': 0}, tag=set())\n",
      "WARN  2018-08-22T11:22:39.039 LsstCamMapper ()(lsstCamMapper.py:116)- amp.getRawBBox() != data.getBBox(); patching. ((minimum=(0, 0), maximum=(543, 2047)) v. (minimum=(0, 0), maximum=(521, 2009)))\n",
      "INFO  2018-08-22T11:22:42.042 bias ()(constructCalibs.py:617)- Processing DataId(initialdata={'visit': 9999, 'run': '9999', 'raft': 'R23', 'ccd': 'S22', 'snap': 0}, tag=set()) on cori19:63768\n",
      "INFO  2018-08-22T11:22:42.042 bias.isr ()(isrTask.py:641)- Performing ISR on sensor DataId(initialdata={'visit': 9999, 'run': '9999', 'raft': 'R23', 'ccd': 'S22', 'snap': 0}, tag=set())\n",
      "WARN  2018-08-22T11:22:43.043 LsstCamMapper ()(lsstCamMapper.py:116)- amp.getRawBBox() != data.getBBox(); patching. ((minimum=(0, 0), maximum=(543, 2047)) v. (minimum=(0, 0), maximum=(521, 2009)))\n",
      "INFO  2018-08-22T11:22:47.047 bias ()(constructCalibs.py:617)- Processing DataId(initialdata={'visit': 9999, 'run': '9999', 'raft': 'R24', 'ccd': 'S00', 'snap': 0}, tag=set()) on cori19:63768\n",
      "INFO  2018-08-22T11:22:47.047 bias.isr ()(isrTask.py:641)- Performing ISR on sensor DataId(initialdata={'visit': 9999, 'run': '9999', 'raft': 'R24', 'ccd': 'S00', 'snap': 0}, tag=set())\n",
      "WARN  2018-08-22T11:22:48.048 LsstCamMapper ()(lsstCamMapper.py:116)- amp.getRawBBox() != data.getBBox(); patching. ((minimum=(0, 0), maximum=(543, 2047)) v. (minimum=(0, 0), maximum=(521, 2009)))\n",
      "INFO  2018-08-22T11:22:52.052 bias ()(constructCalibs.py:617)- Processing DataId(initialdata={'visit': 9999, 'run': '9999', 'raft': 'R24', 'ccd': 'S01', 'snap': 0}, tag=set()) on cori19:63768\n",
      "INFO  2018-08-22T11:22:52.052 bias.isr ()(isrTask.py:641)- Performing ISR on sensor DataId(initialdata={'visit': 9999, 'run': '9999', 'raft': 'R24', 'ccd': 'S01', 'snap': 0}, tag=set())\n",
      "WARN  2018-08-22T11:22:53.053 LsstCamMapper ()(lsstCamMapper.py:116)- amp.getRawBBox() != data.getBBox(); patching. ((minimum=(0, 0), maximum=(543, 2047)) v. (minimum=(0, 0), maximum=(521, 2009)))\n",
      "INFO  2018-08-22T11:22:57.057 bias ()(constructCalibs.py:617)- Processing DataId(initialdata={'visit': 9999, 'run': '9999', 'raft': 'R24', 'ccd': 'S02', 'snap': 0}, tag=set()) on cori19:63768\n",
      "INFO  2018-08-22T11:22:57.057 bias.isr ()(isrTask.py:641)- Performing ISR on sensor DataId(initialdata={'visit': 9999, 'run': '9999', 'raft': 'R24', 'ccd': 'S02', 'snap': 0}, tag=set())\n",
      "WARN  2018-08-22T11:22:58.058 LsstCamMapper ()(lsstCamMapper.py:116)- amp.getRawBBox() != data.getBBox(); patching. ((minimum=(0, 0), maximum=(543, 2047)) v. (minimum=(0, 0), maximum=(521, 2009)))\n",
      "INFO  2018-08-22T11:23:02.002 bias ()(constructCalibs.py:617)- Processing DataId(initialdata={'visit': 9999, 'run': '9999', 'raft': 'R24', 'ccd': 'S10', 'snap': 0}, tag=set()) on cori19:63768\n",
      "INFO  2018-08-22T11:23:02.002 bias.isr ()(isrTask.py:641)- Performing ISR on sensor DataId(initialdata={'visit': 9999, 'run': '9999', 'raft': 'R24', 'ccd': 'S10', 'snap': 0}, tag=set())\n",
      "WARN  2018-08-22T11:23:03.003 LsstCamMapper ()(lsstCamMapper.py:116)- amp.getRawBBox() != data.getBBox(); patching. ((minimum=(0, 0), maximum=(543, 2047)) v. (minimum=(0, 0), maximum=(521, 2009)))\n",
      "INFO  2018-08-22T11:23:07.007 bias ()(constructCalibs.py:617)- Processing DataId(initialdata={'visit': 9999, 'run': '9999', 'raft': 'R24', 'ccd': 'S11', 'snap': 0}, tag=set()) on cori19:63768\n",
      "INFO  2018-08-22T11:23:07.007 bias.isr ()(isrTask.py:641)- Performing ISR on sensor DataId(initialdata={'visit': 9999, 'run': '9999', 'raft': 'R24', 'ccd': 'S11', 'snap': 0}, tag=set())\n",
      "WARN  2018-08-22T11:23:08.008 LsstCamMapper ()(lsstCamMapper.py:116)- amp.getRawBBox() != data.getBBox(); patching. ((minimum=(0, 0), maximum=(543, 2047)) v. (minimum=(0, 0), maximum=(521, 2009)))\n",
      "INFO  2018-08-22T11:23:12.012 bias ()(constructCalibs.py:617)- Processing DataId(initialdata={'visit': 9999, 'run': '9999', 'raft': 'R24', 'ccd': 'S12', 'snap': 0}, tag=set()) on cori19:63768\n",
      "INFO  2018-08-22T11:23:12.012 bias.isr ()(isrTask.py:641)- Performing ISR on sensor DataId(initialdata={'visit': 9999, 'run': '9999', 'raft': 'R24', 'ccd': 'S12', 'snap': 0}, tag=set())\n",
      "WARN  2018-08-22T11:23:13.013 LsstCamMapper ()(lsstCamMapper.py:116)- amp.getRawBBox() != data.getBBox(); patching. ((minimum=(0, 0), maximum=(543, 2047)) v. (minimum=(0, 0), maximum=(521, 2009)))\n",
      "INFO  2018-08-22T11:23:17.017 bias ()(constructCalibs.py:617)- Processing DataId(initialdata={'visit': 9999, 'run': '9999', 'raft': 'R24', 'ccd': 'S20', 'snap': 0}, tag=set()) on cori19:63768\n",
      "INFO  2018-08-22T11:23:17.017 bias.isr ()(isrTask.py:641)- Performing ISR on sensor DataId(initialdata={'visit': 9999, 'run': '9999', 'raft': 'R24', 'ccd': 'S20', 'snap': 0}, tag=set())\n",
      "WARN  2018-08-22T11:23:19.019 LsstCamMapper ()(lsstCamMapper.py:116)- amp.getRawBBox() != data.getBBox(); patching. ((minimum=(0, 0), maximum=(543, 2047)) v. (minimum=(0, 0), maximum=(521, 2009)))\n",
      "INFO  2018-08-22T11:23:23.023 bias ()(constructCalibs.py:617)- Processing DataId(initialdata={'visit': 9999, 'run': '9999', 'raft': 'R24', 'ccd': 'S21', 'snap': 0}, tag=set()) on cori19:63768\n",
      "INFO  2018-08-22T11:23:23.023 bias.isr ()(isrTask.py:641)- Performing ISR on sensor DataId(initialdata={'visit': 9999, 'run': '9999', 'raft': 'R24', 'ccd': 'S21', 'snap': 0}, tag=set())\n",
      "WARN  2018-08-22T11:23:24.024 LsstCamMapper ()(lsstCamMapper.py:116)- amp.getRawBBox() != data.getBBox(); patching. ((minimum=(0, 0), maximum=(543, 2047)) v. (minimum=(0, 0), maximum=(521, 2009)))\n",
      "INFO  2018-08-22T11:23:28.028 bias ()(constructCalibs.py:617)- Processing DataId(initialdata={'visit': 9999, 'run': '9999', 'raft': 'R24', 'ccd': 'S22', 'snap': 0}, tag=set()) on cori19:63768\n",
      "INFO  2018-08-22T11:23:28.028 bias.isr ()(isrTask.py:641)- Performing ISR on sensor DataId(initialdata={'visit': 9999, 'run': '9999', 'raft': 'R24', 'ccd': 'S22', 'snap': 0}, tag=set())\n",
      "WARN  2018-08-22T11:23:30.030 LsstCamMapper ()(lsstCamMapper.py:116)- amp.getRawBBox() != data.getBBox(); patching. ((minimum=(0, 0), maximum=(543, 2047)) v. (minimum=(0, 0), maximum=(521, 2009)))\n",
      "INFO  2018-08-22T11:23:34.034 bias ()(constructCalibs.py:617)- Processing DataId(initialdata={'visit': 9999, 'run': '9999', 'raft': 'R30', 'ccd': 'S00', 'snap': 0}, tag=set()) on cori19:63768\n",
      "INFO  2018-08-22T11:23:34.034 bias.isr ()(isrTask.py:641)- Performing ISR on sensor DataId(initialdata={'visit': 9999, 'run': '9999', 'raft': 'R30', 'ccd': 'S00', 'snap': 0}, tag=set())\n",
      "WARN  2018-08-22T11:23:35.035 LsstCamMapper ()(lsstCamMapper.py:116)- amp.getRawBBox() != data.getBBox(); patching. ((minimum=(0, 0), maximum=(543, 2047)) v. (minimum=(0, 0), maximum=(521, 2009)))\n",
      "INFO  2018-08-22T11:23:39.039 bias ()(constructCalibs.py:617)- Processing DataId(initialdata={'visit': 9999, 'run': '9999', 'raft': 'R30', 'ccd': 'S01', 'snap': 0}, tag=set()) on cori19:63768\n",
      "INFO  2018-08-22T11:23:39.039 bias.isr ()(isrTask.py:641)- Performing ISR on sensor DataId(initialdata={'visit': 9999, 'run': '9999', 'raft': 'R30', 'ccd': 'S01', 'snap': 0}, tag=set())\n",
      "WARN  2018-08-22T11:23:40.040 LsstCamMapper ()(lsstCamMapper.py:116)- amp.getRawBBox() != data.getBBox(); patching. ((minimum=(0, 0), maximum=(543, 2047)) v. (minimum=(0, 0), maximum=(521, 2009)))\n",
      "INFO  2018-08-22T11:23:44.044 bias ()(constructCalibs.py:617)- Processing DataId(initialdata={'visit': 9999, 'run': '9999', 'raft': 'R30', 'ccd': 'S02', 'snap': 0}, tag=set()) on cori19:63768\n",
      "INFO  2018-08-22T11:23:44.044 bias.isr ()(isrTask.py:641)- Performing ISR on sensor DataId(initialdata={'visit': 9999, 'run': '9999', 'raft': 'R30', 'ccd': 'S02', 'snap': 0}, tag=set())\n",
      "WARN  2018-08-22T11:23:45.045 LsstCamMapper ()(lsstCamMapper.py:116)- amp.getRawBBox() != data.getBBox(); patching. ((minimum=(0, 0), maximum=(543, 2047)) v. (minimum=(0, 0), maximum=(521, 2009)))\n",
      "INFO  2018-08-22T11:23:49.049 bias ()(constructCalibs.py:617)- Processing DataId(initialdata={'visit': 9999, 'run': '9999', 'raft': 'R30', 'ccd': 'S10', 'snap': 0}, tag=set()) on cori19:63768\n",
      "INFO  2018-08-22T11:23:49.049 bias.isr ()(isrTask.py:641)- Performing ISR on sensor DataId(initialdata={'visit': 9999, 'run': '9999', 'raft': 'R30', 'ccd': 'S10', 'snap': 0}, tag=set())\n",
      "WARN  2018-08-22T11:23:50.050 LsstCamMapper ()(lsstCamMapper.py:116)- amp.getRawBBox() != data.getBBox(); patching. ((minimum=(0, 0), maximum=(543, 2047)) v. (minimum=(0, 0), maximum=(521, 2009)))\n",
      "INFO  2018-08-22T11:23:55.055 bias ()(constructCalibs.py:617)- Processing DataId(initialdata={'visit': 9999, 'run': '9999', 'raft': 'R30', 'ccd': 'S11', 'snap': 0}, tag=set()) on cori19:63768\n",
      "INFO  2018-08-22T11:23:55.055 bias.isr ()(isrTask.py:641)- Performing ISR on sensor DataId(initialdata={'visit': 9999, 'run': '9999', 'raft': 'R30', 'ccd': 'S11', 'snap': 0}, tag=set())\n",
      "WARN  2018-08-22T11:23:56.056 LsstCamMapper ()(lsstCamMapper.py:116)- amp.getRawBBox() != data.getBBox(); patching. ((minimum=(0, 0), maximum=(543, 2047)) v. (minimum=(0, 0), maximum=(521, 2009)))\n",
      "INFO  2018-08-22T11:24:00.000 bias ()(constructCalibs.py:617)- Processing DataId(initialdata={'visit': 9999, 'run': '9999', 'raft': 'R30', 'ccd': 'S12', 'snap': 0}, tag=set()) on cori19:63768\n",
      "INFO  2018-08-22T11:24:00.000 bias.isr ()(isrTask.py:641)- Performing ISR on sensor DataId(initialdata={'visit': 9999, 'run': '9999', 'raft': 'R30', 'ccd': 'S12', 'snap': 0}, tag=set())\n",
      "WARN  2018-08-22T11:24:01.001 LsstCamMapper ()(lsstCamMapper.py:116)- amp.getRawBBox() != data.getBBox(); patching. ((minimum=(0, 0), maximum=(543, 2047)) v. (minimum=(0, 0), maximum=(521, 2009)))\n",
      "INFO  2018-08-22T11:24:05.005 bias ()(constructCalibs.py:617)- Processing DataId(initialdata={'visit': 9999, 'run': '9999', 'raft': 'R30', 'ccd': 'S20', 'snap': 0}, tag=set()) on cori19:63768\n",
      "INFO  2018-08-22T11:24:05.005 bias.isr ()(isrTask.py:641)- Performing ISR on sensor DataId(initialdata={'visit': 9999, 'run': '9999', 'raft': 'R30', 'ccd': 'S20', 'snap': 0}, tag=set())\n",
      "WARN  2018-08-22T11:24:06.006 LsstCamMapper ()(lsstCamMapper.py:116)- amp.getRawBBox() != data.getBBox(); patching. ((minimum=(0, 0), maximum=(543, 2047)) v. (minimum=(0, 0), maximum=(521, 2009)))\n",
      "INFO  2018-08-22T11:24:11.011 bias ()(constructCalibs.py:617)- Processing DataId(initialdata={'visit': 9999, 'run': '9999', 'raft': 'R30', 'ccd': 'S21', 'snap': 0}, tag=set()) on cori19:63768\n",
      "INFO  2018-08-22T11:24:11.011 bias.isr ()(isrTask.py:641)- Performing ISR on sensor DataId(initialdata={'visit': 9999, 'run': '9999', 'raft': 'R30', 'ccd': 'S21', 'snap': 0}, tag=set())\n",
      "WARN  2018-08-22T11:24:12.012 LsstCamMapper ()(lsstCamMapper.py:116)- amp.getRawBBox() != data.getBBox(); patching. ((minimum=(0, 0), maximum=(543, 2047)) v. (minimum=(0, 0), maximum=(521, 2009)))\n",
      "INFO  2018-08-22T11:24:17.017 bias ()(constructCalibs.py:617)- Processing DataId(initialdata={'visit': 9999, 'run': '9999', 'raft': 'R30', 'ccd': 'S22', 'snap': 0}, tag=set()) on cori19:63768\n",
      "INFO  2018-08-22T11:24:17.017 bias.isr ()(isrTask.py:641)- Performing ISR on sensor DataId(initialdata={'visit': 9999, 'run': '9999', 'raft': 'R30', 'ccd': 'S22', 'snap': 0}, tag=set())\n",
      "WARN  2018-08-22T11:24:18.018 LsstCamMapper ()(lsstCamMapper.py:116)- amp.getRawBBox() != data.getBBox(); patching. ((minimum=(0, 0), maximum=(543, 2047)) v. (minimum=(0, 0), maximum=(521, 2009)))\n",
      "INFO  2018-08-22T11:24:22.022 bias ()(constructCalibs.py:617)- Processing DataId(initialdata={'visit': 9999, 'run': '9999', 'raft': 'R31', 'ccd': 'S00', 'snap': 0}, tag=set()) on cori19:63768\n",
      "INFO  2018-08-22T11:24:22.022 bias.isr ()(isrTask.py:641)- Performing ISR on sensor DataId(initialdata={'visit': 9999, 'run': '9999', 'raft': 'R31', 'ccd': 'S00', 'snap': 0}, tag=set())\n",
      "WARN  2018-08-22T11:24:23.023 LsstCamMapper ()(lsstCamMapper.py:116)- amp.getRawBBox() != data.getBBox(); patching. ((minimum=(0, 0), maximum=(543, 2047)) v. (minimum=(0, 0), maximum=(521, 2009)))\n",
      "INFO  2018-08-22T11:24:28.028 bias ()(constructCalibs.py:617)- Processing DataId(initialdata={'visit': 9999, 'run': '9999', 'raft': 'R31', 'ccd': 'S01', 'snap': 0}, tag=set()) on cori19:63768\n",
      "INFO  2018-08-22T11:24:28.028 bias.isr ()(isrTask.py:641)- Performing ISR on sensor DataId(initialdata={'visit': 9999, 'run': '9999', 'raft': 'R31', 'ccd': 'S01', 'snap': 0}, tag=set())\n",
      "WARN  2018-08-22T11:24:29.029 LsstCamMapper ()(lsstCamMapper.py:116)- amp.getRawBBox() != data.getBBox(); patching. ((minimum=(0, 0), maximum=(543, 2047)) v. (minimum=(0, 0), maximum=(521, 2009)))\n",
      "INFO  2018-08-22T11:24:34.034 bias ()(constructCalibs.py:617)- Processing DataId(initialdata={'visit': 9999, 'run': '9999', 'raft': 'R31', 'ccd': 'S02', 'snap': 0}, tag=set()) on cori19:63768\n",
      "INFO  2018-08-22T11:24:34.034 bias.isr ()(isrTask.py:641)- Performing ISR on sensor DataId(initialdata={'visit': 9999, 'run': '9999', 'raft': 'R31', 'ccd': 'S02', 'snap': 0}, tag=set())\n",
      "WARN  2018-08-22T11:24:35.035 LsstCamMapper ()(lsstCamMapper.py:116)- amp.getRawBBox() != data.getBBox(); patching. ((minimum=(0, 0), maximum=(543, 2047)) v. (minimum=(0, 0), maximum=(521, 2009)))\n",
      "INFO  2018-08-22T11:24:40.040 bias ()(constructCalibs.py:617)- Processing DataId(initialdata={'visit': 9999, 'run': '9999', 'raft': 'R31', 'ccd': 'S10', 'snap': 0}, tag=set()) on cori19:63768\n",
      "INFO  2018-08-22T11:24:40.040 bias.isr ()(isrTask.py:641)- Performing ISR on sensor DataId(initialdata={'visit': 9999, 'run': '9999', 'raft': 'R31', 'ccd': 'S10', 'snap': 0}, tag=set())\n",
      "WARN  2018-08-22T11:24:41.041 LsstCamMapper ()(lsstCamMapper.py:116)- amp.getRawBBox() != data.getBBox(); patching. ((minimum=(0, 0), maximum=(543, 2047)) v. (minimum=(0, 0), maximum=(521, 2009)))\n",
      "INFO  2018-08-22T11:24:45.045 bias ()(constructCalibs.py:617)- Processing DataId(initialdata={'visit': 9999, 'run': '9999', 'raft': 'R31', 'ccd': 'S11', 'snap': 0}, tag=set()) on cori19:63768\n",
      "INFO  2018-08-22T11:24:45.045 bias.isr ()(isrTask.py:641)- Performing ISR on sensor DataId(initialdata={'visit': 9999, 'run': '9999', 'raft': 'R31', 'ccd': 'S11', 'snap': 0}, tag=set())\n",
      "WARN  2018-08-22T11:24:46.046 LsstCamMapper ()(lsstCamMapper.py:116)- amp.getRawBBox() != data.getBBox(); patching. ((minimum=(0, 0), maximum=(543, 2047)) v. (minimum=(0, 0), maximum=(521, 2009)))\n",
      "INFO  2018-08-22T11:24:50.050 bias ()(constructCalibs.py:617)- Processing DataId(initialdata={'visit': 9999, 'run': '9999', 'raft': 'R31', 'ccd': 'S12', 'snap': 0}, tag=set()) on cori19:63768\n",
      "INFO  2018-08-22T11:24:50.050 bias.isr ()(isrTask.py:641)- Performing ISR on sensor DataId(initialdata={'visit': 9999, 'run': '9999', 'raft': 'R31', 'ccd': 'S12', 'snap': 0}, tag=set())\n",
      "WARN  2018-08-22T11:24:52.052 LsstCamMapper ()(lsstCamMapper.py:116)- amp.getRawBBox() != data.getBBox(); patching. ((minimum=(0, 0), maximum=(543, 2047)) v. (minimum=(0, 0), maximum=(521, 2009)))\n",
      "INFO  2018-08-22T11:24:56.056 bias ()(constructCalibs.py:617)- Processing DataId(initialdata={'visit': 9999, 'run': '9999', 'raft': 'R31', 'ccd': 'S20', 'snap': 0}, tag=set()) on cori19:63768\n",
      "INFO  2018-08-22T11:24:56.056 bias.isr ()(isrTask.py:641)- Performing ISR on sensor DataId(initialdata={'visit': 9999, 'run': '9999', 'raft': 'R31', 'ccd': 'S20', 'snap': 0}, tag=set())\n",
      "WARN  2018-08-22T11:24:57.057 LsstCamMapper ()(lsstCamMapper.py:116)- amp.getRawBBox() != data.getBBox(); patching. ((minimum=(0, 0), maximum=(543, 2047)) v. (minimum=(0, 0), maximum=(521, 2009)))\n",
      "INFO  2018-08-22T11:25:01.001 bias ()(constructCalibs.py:617)- Processing DataId(initialdata={'visit': 9999, 'run': '9999', 'raft': 'R31', 'ccd': 'S21', 'snap': 0}, tag=set()) on cori19:63768\n",
      "INFO  2018-08-22T11:25:01.001 bias.isr ()(isrTask.py:641)- Performing ISR on sensor DataId(initialdata={'visit': 9999, 'run': '9999', 'raft': 'R31', 'ccd': 'S21', 'snap': 0}, tag=set())\n",
      "WARN  2018-08-22T11:25:05.005 LsstCamMapper ()(lsstCamMapper.py:116)- amp.getRawBBox() != data.getBBox(); patching. ((minimum=(0, 0), maximum=(543, 2047)) v. (minimum=(0, 0), maximum=(521, 2009)))\n",
      "INFO  2018-08-22T11:25:10.010 bias ()(constructCalibs.py:617)- Processing DataId(initialdata={'visit': 9999, 'run': '9999', 'raft': 'R31', 'ccd': 'S22', 'snap': 0}, tag=set()) on cori19:63768\n",
      "INFO  2018-08-22T11:25:10.010 bias.isr ()(isrTask.py:641)- Performing ISR on sensor DataId(initialdata={'visit': 9999, 'run': '9999', 'raft': 'R31', 'ccd': 'S22', 'snap': 0}, tag=set())\n",
      "WARN  2018-08-22T11:25:11.011 LsstCamMapper ()(lsstCamMapper.py:116)- amp.getRawBBox() != data.getBBox(); patching. ((minimum=(0, 0), maximum=(543, 2047)) v. (minimum=(0, 0), maximum=(521, 2009)))\n",
      "INFO  2018-08-22T11:25:15.015 bias ()(constructCalibs.py:617)- Processing DataId(initialdata={'visit': 9999, 'run': '9999', 'raft': 'R32', 'ccd': 'S00', 'snap': 0}, tag=set()) on cori19:63768\n",
      "INFO  2018-08-22T11:25:15.015 bias.isr ()(isrTask.py:641)- Performing ISR on sensor DataId(initialdata={'visit': 9999, 'run': '9999', 'raft': 'R32', 'ccd': 'S00', 'snap': 0}, tag=set())\n",
      "WARN  2018-08-22T11:25:16.016 LsstCamMapper ()(lsstCamMapper.py:116)- amp.getRawBBox() != data.getBBox(); patching. ((minimum=(0, 0), maximum=(543, 2047)) v. (minimum=(0, 0), maximum=(521, 2009)))\n",
      "INFO  2018-08-22T11:25:20.020 bias ()(constructCalibs.py:617)- Processing DataId(initialdata={'visit': 9999, 'run': '9999', 'raft': 'R32', 'ccd': 'S01', 'snap': 0}, tag=set()) on cori19:63768\n",
      "INFO  2018-08-22T11:25:20.020 bias.isr ()(isrTask.py:641)- Performing ISR on sensor DataId(initialdata={'visit': 9999, 'run': '9999', 'raft': 'R32', 'ccd': 'S01', 'snap': 0}, tag=set())\n",
      "WARN  2018-08-22T11:25:22.022 LsstCamMapper ()(lsstCamMapper.py:116)- amp.getRawBBox() != data.getBBox(); patching. ((minimum=(0, 0), maximum=(543, 2047)) v. (minimum=(0, 0), maximum=(521, 2009)))\n",
      "INFO  2018-08-22T11:25:26.026 bias ()(constructCalibs.py:617)- Processing DataId(initialdata={'visit': 9999, 'run': '9999', 'raft': 'R32', 'ccd': 'S02', 'snap': 0}, tag=set()) on cori19:63768\n",
      "INFO  2018-08-22T11:25:26.026 bias.isr ()(isrTask.py:641)- Performing ISR on sensor DataId(initialdata={'visit': 9999, 'run': '9999', 'raft': 'R32', 'ccd': 'S02', 'snap': 0}, tag=set())\n",
      "WARN  2018-08-22T11:25:27.027 LsstCamMapper ()(lsstCamMapper.py:116)- amp.getRawBBox() != data.getBBox(); patching. ((minimum=(0, 0), maximum=(543, 2047)) v. (minimum=(0, 0), maximum=(521, 2009)))\n",
      "INFO  2018-08-22T11:25:31.031 bias ()(constructCalibs.py:617)- Processing DataId(initialdata={'visit': 9999, 'run': '9999', 'raft': 'R32', 'ccd': 'S10', 'snap': 0}, tag=set()) on cori19:63768\n",
      "INFO  2018-08-22T11:25:31.031 bias.isr ()(isrTask.py:641)- Performing ISR on sensor DataId(initialdata={'visit': 9999, 'run': '9999', 'raft': 'R32', 'ccd': 'S10', 'snap': 0}, tag=set())\n",
      "WARN  2018-08-22T11:25:33.033 LsstCamMapper ()(lsstCamMapper.py:116)- amp.getRawBBox() != data.getBBox(); patching. ((minimum=(0, 0), maximum=(543, 2047)) v. (minimum=(0, 0), maximum=(521, 2009)))\n",
      "INFO  2018-08-22T11:25:37.037 bias ()(constructCalibs.py:617)- Processing DataId(initialdata={'visit': 9999, 'run': '9999', 'raft': 'R32', 'ccd': 'S11', 'snap': 0}, tag=set()) on cori19:63768\n",
      "INFO  2018-08-22T11:25:37.037 bias.isr ()(isrTask.py:641)- Performing ISR on sensor DataId(initialdata={'visit': 9999, 'run': '9999', 'raft': 'R32', 'ccd': 'S11', 'snap': 0}, tag=set())\n",
      "WARN  2018-08-22T11:25:38.038 LsstCamMapper ()(lsstCamMapper.py:116)- amp.getRawBBox() != data.getBBox(); patching. ((minimum=(0, 0), maximum=(543, 2047)) v. (minimum=(0, 0), maximum=(521, 2009)))\n",
      "INFO  2018-08-22T11:25:42.042 bias ()(constructCalibs.py:617)- Processing DataId(initialdata={'visit': 9999, 'run': '9999', 'raft': 'R32', 'ccd': 'S12', 'snap': 0}, tag=set()) on cori19:63768\n",
      "INFO  2018-08-22T11:25:42.042 bias.isr ()(isrTask.py:641)- Performing ISR on sensor DataId(initialdata={'visit': 9999, 'run': '9999', 'raft': 'R32', 'ccd': 'S12', 'snap': 0}, tag=set())\n",
      "WARN  2018-08-22T11:25:43.043 LsstCamMapper ()(lsstCamMapper.py:116)- amp.getRawBBox() != data.getBBox(); patching. ((minimum=(0, 0), maximum=(543, 2047)) v. (minimum=(0, 0), maximum=(521, 2009)))\n",
      "INFO  2018-08-22T11:25:48.048 bias ()(constructCalibs.py:617)- Processing DataId(initialdata={'visit': 9999, 'run': '9999', 'raft': 'R32', 'ccd': 'S20', 'snap': 0}, tag=set()) on cori19:63768\n",
      "INFO  2018-08-22T11:25:48.048 bias.isr ()(isrTask.py:641)- Performing ISR on sensor DataId(initialdata={'visit': 9999, 'run': '9999', 'raft': 'R32', 'ccd': 'S20', 'snap': 0}, tag=set())\n",
      "WARN  2018-08-22T11:25:49.049 LsstCamMapper ()(lsstCamMapper.py:116)- amp.getRawBBox() != data.getBBox(); patching. ((minimum=(0, 0), maximum=(543, 2047)) v. (minimum=(0, 0), maximum=(521, 2009)))\n",
      "INFO  2018-08-22T11:25:53.053 bias ()(constructCalibs.py:617)- Processing DataId(initialdata={'visit': 9999, 'run': '9999', 'raft': 'R32', 'ccd': 'S21', 'snap': 0}, tag=set()) on cori19:63768\n",
      "INFO  2018-08-22T11:25:53.053 bias.isr ()(isrTask.py:641)- Performing ISR on sensor DataId(initialdata={'visit': 9999, 'run': '9999', 'raft': 'R32', 'ccd': 'S21', 'snap': 0}, tag=set())\n",
      "WARN  2018-08-22T11:25:54.054 LsstCamMapper ()(lsstCamMapper.py:116)- amp.getRawBBox() != data.getBBox(); patching. ((minimum=(0, 0), maximum=(543, 2047)) v. (minimum=(0, 0), maximum=(521, 2009)))\n",
      "INFO  2018-08-22T11:25:58.058 bias ()(constructCalibs.py:617)- Processing DataId(initialdata={'visit': 9999, 'run': '9999', 'raft': 'R32', 'ccd': 'S22', 'snap': 0}, tag=set()) on cori19:63768\n",
      "INFO  2018-08-22T11:25:58.058 bias.isr ()(isrTask.py:641)- Performing ISR on sensor DataId(initialdata={'visit': 9999, 'run': '9999', 'raft': 'R32', 'ccd': 'S22', 'snap': 0}, tag=set())\n",
      "WARN  2018-08-22T11:25:59.059 LsstCamMapper ()(lsstCamMapper.py:116)- amp.getRawBBox() != data.getBBox(); patching. ((minimum=(0, 0), maximum=(543, 2047)) v. (minimum=(0, 0), maximum=(521, 2009)))\n",
      "INFO  2018-08-22T11:26:03.003 bias ()(constructCalibs.py:617)- Processing DataId(initialdata={'visit': 9999, 'run': '9999', 'raft': 'R33', 'ccd': 'S00', 'snap': 0}, tag=set()) on cori19:63768\n",
      "INFO  2018-08-22T11:26:03.003 bias.isr ()(isrTask.py:641)- Performing ISR on sensor DataId(initialdata={'visit': 9999, 'run': '9999', 'raft': 'R33', 'ccd': 'S00', 'snap': 0}, tag=set())\n",
      "WARN  2018-08-22T11:26:04.004 LsstCamMapper ()(lsstCamMapper.py:116)- amp.getRawBBox() != data.getBBox(); patching. ((minimum=(0, 0), maximum=(543, 2047)) v. (minimum=(0, 0), maximum=(521, 2009)))\n",
      "INFO  2018-08-22T11:26:08.008 bias ()(constructCalibs.py:617)- Processing DataId(initialdata={'visit': 9999, 'run': '9999', 'raft': 'R33', 'ccd': 'S01', 'snap': 0}, tag=set()) on cori19:63768\n",
      "INFO  2018-08-22T11:26:08.008 bias.isr ()(isrTask.py:641)- Performing ISR on sensor DataId(initialdata={'visit': 9999, 'run': '9999', 'raft': 'R33', 'ccd': 'S01', 'snap': 0}, tag=set())\n",
      "WARN  2018-08-22T11:26:10.010 LsstCamMapper ()(lsstCamMapper.py:116)- amp.getRawBBox() != data.getBBox(); patching. ((minimum=(0, 0), maximum=(543, 2047)) v. (minimum=(0, 0), maximum=(521, 2009)))\n",
      "INFO  2018-08-22T11:26:13.013 bias ()(constructCalibs.py:617)- Processing DataId(initialdata={'visit': 9999, 'run': '9999', 'raft': 'R33', 'ccd': 'S02', 'snap': 0}, tag=set()) on cori19:63768\n",
      "INFO  2018-08-22T11:26:13.013 bias.isr ()(isrTask.py:641)- Performing ISR on sensor DataId(initialdata={'visit': 9999, 'run': '9999', 'raft': 'R33', 'ccd': 'S02', 'snap': 0}, tag=set())\n",
      "WARN  2018-08-22T11:26:15.015 LsstCamMapper ()(lsstCamMapper.py:116)- amp.getRawBBox() != data.getBBox(); patching. ((minimum=(0, 0), maximum=(543, 2047)) v. (minimum=(0, 0), maximum=(521, 2009)))\n",
      "INFO  2018-08-22T11:26:18.018 bias ()(constructCalibs.py:617)- Processing DataId(initialdata={'visit': 9999, 'run': '9999', 'raft': 'R33', 'ccd': 'S10', 'snap': 0}, tag=set()) on cori19:63768\n",
      "INFO  2018-08-22T11:26:18.018 bias.isr ()(isrTask.py:641)- Performing ISR on sensor DataId(initialdata={'visit': 9999, 'run': '9999', 'raft': 'R33', 'ccd': 'S10', 'snap': 0}, tag=set())\n",
      "WARN  2018-08-22T11:26:19.019 LsstCamMapper ()(lsstCamMapper.py:116)- amp.getRawBBox() != data.getBBox(); patching. ((minimum=(0, 0), maximum=(543, 2047)) v. (minimum=(0, 0), maximum=(521, 2009)))\n",
      "INFO  2018-08-22T11:26:23.023 bias ()(constructCalibs.py:617)- Processing DataId(initialdata={'visit': 9999, 'run': '9999', 'raft': 'R33', 'ccd': 'S11', 'snap': 0}, tag=set()) on cori19:63768\n",
      "INFO  2018-08-22T11:26:23.023 bias.isr ()(isrTask.py:641)- Performing ISR on sensor DataId(initialdata={'visit': 9999, 'run': '9999', 'raft': 'R33', 'ccd': 'S11', 'snap': 0}, tag=set())\n",
      "WARN  2018-08-22T11:26:24.024 LsstCamMapper ()(lsstCamMapper.py:116)- amp.getRawBBox() != data.getBBox(); patching. ((minimum=(0, 0), maximum=(543, 2047)) v. (minimum=(0, 0), maximum=(521, 2009)))\n",
      "INFO  2018-08-22T11:26:28.028 bias ()(constructCalibs.py:617)- Processing DataId(initialdata={'visit': 9999, 'run': '9999', 'raft': 'R33', 'ccd': 'S12', 'snap': 0}, tag=set()) on cori19:63768\n",
      "INFO  2018-08-22T11:26:28.028 bias.isr ()(isrTask.py:641)- Performing ISR on sensor DataId(initialdata={'visit': 9999, 'run': '9999', 'raft': 'R33', 'ccd': 'S12', 'snap': 0}, tag=set())\n",
      "WARN  2018-08-22T11:26:29.029 LsstCamMapper ()(lsstCamMapper.py:116)- amp.getRawBBox() != data.getBBox(); patching. ((minimum=(0, 0), maximum=(543, 2047)) v. (minimum=(0, 0), maximum=(521, 2009)))\n",
      "INFO  2018-08-22T11:26:33.033 bias ()(constructCalibs.py:617)- Processing DataId(initialdata={'visit': 9999, 'run': '9999', 'raft': 'R33', 'ccd': 'S20', 'snap': 0}, tag=set()) on cori19:63768\n",
      "INFO  2018-08-22T11:26:33.033 bias.isr ()(isrTask.py:641)- Performing ISR on sensor DataId(initialdata={'visit': 9999, 'run': '9999', 'raft': 'R33', 'ccd': 'S20', 'snap': 0}, tag=set())\n",
      "WARN  2018-08-22T11:26:34.034 LsstCamMapper ()(lsstCamMapper.py:116)- amp.getRawBBox() != data.getBBox(); patching. ((minimum=(0, 0), maximum=(543, 2047)) v. (minimum=(0, 0), maximum=(521, 2009)))\n",
      "INFO  2018-08-22T11:26:37.037 bias ()(constructCalibs.py:617)- Processing DataId(initialdata={'visit': 9999, 'run': '9999', 'raft': 'R33', 'ccd': 'S21', 'snap': 0}, tag=set()) on cori19:63768\n",
      "INFO  2018-08-22T11:26:37.037 bias.isr ()(isrTask.py:641)- Performing ISR on sensor DataId(initialdata={'visit': 9999, 'run': '9999', 'raft': 'R33', 'ccd': 'S21', 'snap': 0}, tag=set())\n",
      "WARN  2018-08-22T11:26:39.039 LsstCamMapper ()(lsstCamMapper.py:116)- amp.getRawBBox() != data.getBBox(); patching. ((minimum=(0, 0), maximum=(543, 2047)) v. (minimum=(0, 0), maximum=(521, 2009)))\n",
      "INFO  2018-08-22T11:26:42.042 bias ()(constructCalibs.py:617)- Processing DataId(initialdata={'visit': 9999, 'run': '9999', 'raft': 'R33', 'ccd': 'S22', 'snap': 0}, tag=set()) on cori19:63768\n",
      "INFO  2018-08-22T11:26:42.042 bias.isr ()(isrTask.py:641)- Performing ISR on sensor DataId(initialdata={'visit': 9999, 'run': '9999', 'raft': 'R33', 'ccd': 'S22', 'snap': 0}, tag=set())\n",
      "WARN  2018-08-22T11:26:44.044 LsstCamMapper ()(lsstCamMapper.py:116)- amp.getRawBBox() != data.getBBox(); patching. ((minimum=(0, 0), maximum=(543, 2047)) v. (minimum=(0, 0), maximum=(521, 2009)))\n",
      "INFO  2018-08-22T11:26:47.047 bias ()(constructCalibs.py:617)- Processing DataId(initialdata={'visit': 9999, 'run': '9999', 'raft': 'R34', 'ccd': 'S00', 'snap': 0}, tag=set()) on cori19:63768\n",
      "INFO  2018-08-22T11:26:47.047 bias.isr ()(isrTask.py:641)- Performing ISR on sensor DataId(initialdata={'visit': 9999, 'run': '9999', 'raft': 'R34', 'ccd': 'S00', 'snap': 0}, tag=set())\n",
      "WARN  2018-08-22T11:26:48.048 LsstCamMapper ()(lsstCamMapper.py:116)- amp.getRawBBox() != data.getBBox(); patching. ((minimum=(0, 0), maximum=(543, 2047)) v. (minimum=(0, 0), maximum=(521, 2009)))\n",
      "INFO  2018-08-22T11:26:52.052 bias ()(constructCalibs.py:617)- Processing DataId(initialdata={'visit': 9999, 'run': '9999', 'raft': 'R34', 'ccd': 'S01', 'snap': 0}, tag=set()) on cori19:63768\n",
      "INFO  2018-08-22T11:26:52.052 bias.isr ()(isrTask.py:641)- Performing ISR on sensor DataId(initialdata={'visit': 9999, 'run': '9999', 'raft': 'R34', 'ccd': 'S01', 'snap': 0}, tag=set())\n",
      "WARN  2018-08-22T11:26:53.053 LsstCamMapper ()(lsstCamMapper.py:116)- amp.getRawBBox() != data.getBBox(); patching. ((minimum=(0, 0), maximum=(543, 2047)) v. (minimum=(0, 0), maximum=(521, 2009)))\n",
      "INFO  2018-08-22T11:26:57.057 bias ()(constructCalibs.py:617)- Processing DataId(initialdata={'visit': 9999, 'run': '9999', 'raft': 'R34', 'ccd': 'S02', 'snap': 0}, tag=set()) on cori19:63768\n",
      "INFO  2018-08-22T11:26:57.057 bias.isr ()(isrTask.py:641)- Performing ISR on sensor DataId(initialdata={'visit': 9999, 'run': '9999', 'raft': 'R34', 'ccd': 'S02', 'snap': 0}, tag=set())\n",
      "WARN  2018-08-22T11:26:58.058 LsstCamMapper ()(lsstCamMapper.py:116)- amp.getRawBBox() != data.getBBox(); patching. ((minimum=(0, 0), maximum=(543, 2047)) v. (minimum=(0, 0), maximum=(521, 2009)))\n",
      "INFO  2018-08-22T11:27:02.002 bias ()(constructCalibs.py:617)- Processing DataId(initialdata={'visit': 9999, 'run': '9999', 'raft': 'R34', 'ccd': 'S10', 'snap': 0}, tag=set()) on cori19:63768\n",
      "INFO  2018-08-22T11:27:02.002 bias.isr ()(isrTask.py:641)- Performing ISR on sensor DataId(initialdata={'visit': 9999, 'run': '9999', 'raft': 'R34', 'ccd': 'S10', 'snap': 0}, tag=set())\n",
      "WARN  2018-08-22T11:27:03.003 LsstCamMapper ()(lsstCamMapper.py:116)- amp.getRawBBox() != data.getBBox(); patching. ((minimum=(0, 0), maximum=(543, 2047)) v. (minimum=(0, 0), maximum=(521, 2009)))\n",
      "INFO  2018-08-22T11:27:07.007 bias ()(constructCalibs.py:617)- Processing DataId(initialdata={'visit': 9999, 'run': '9999', 'raft': 'R34', 'ccd': 'S11', 'snap': 0}, tag=set()) on cori19:63768\n",
      "INFO  2018-08-22T11:27:07.007 bias.isr ()(isrTask.py:641)- Performing ISR on sensor DataId(initialdata={'visit': 9999, 'run': '9999', 'raft': 'R34', 'ccd': 'S11', 'snap': 0}, tag=set())\n",
      "WARN  2018-08-22T11:27:08.008 LsstCamMapper ()(lsstCamMapper.py:116)- amp.getRawBBox() != data.getBBox(); patching. ((minimum=(0, 0), maximum=(543, 2047)) v. (minimum=(0, 0), maximum=(521, 2009)))\n",
      "INFO  2018-08-22T11:27:11.011 bias ()(constructCalibs.py:617)- Processing DataId(initialdata={'visit': 9999, 'run': '9999', 'raft': 'R34', 'ccd': 'S12', 'snap': 0}, tag=set()) on cori19:63768\n",
      "INFO  2018-08-22T11:27:11.011 bias.isr ()(isrTask.py:641)- Performing ISR on sensor DataId(initialdata={'visit': 9999, 'run': '9999', 'raft': 'R34', 'ccd': 'S12', 'snap': 0}, tag=set())\n",
      "WARN  2018-08-22T11:27:12.012 LsstCamMapper ()(lsstCamMapper.py:116)- amp.getRawBBox() != data.getBBox(); patching. ((minimum=(0, 0), maximum=(543, 2047)) v. (minimum=(0, 0), maximum=(521, 2009)))\n",
      "INFO  2018-08-22T11:27:16.016 bias ()(constructCalibs.py:617)- Processing DataId(initialdata={'visit': 9999, 'run': '9999', 'raft': 'R34', 'ccd': 'S20', 'snap': 0}, tag=set()) on cori19:63768\n",
      "INFO  2018-08-22T11:27:16.016 bias.isr ()(isrTask.py:641)- Performing ISR on sensor DataId(initialdata={'visit': 9999, 'run': '9999', 'raft': 'R34', 'ccd': 'S20', 'snap': 0}, tag=set())\n",
      "WARN  2018-08-22T11:27:17.017 LsstCamMapper ()(lsstCamMapper.py:116)- amp.getRawBBox() != data.getBBox(); patching. ((minimum=(0, 0), maximum=(543, 2047)) v. (minimum=(0, 0), maximum=(521, 2009)))\n",
      "INFO  2018-08-22T11:27:21.021 bias ()(constructCalibs.py:617)- Processing DataId(initialdata={'visit': 9999, 'run': '9999', 'raft': 'R34', 'ccd': 'S21', 'snap': 0}, tag=set()) on cori19:63768\n",
      "INFO  2018-08-22T11:27:21.021 bias.isr ()(isrTask.py:641)- Performing ISR on sensor DataId(initialdata={'visit': 9999, 'run': '9999', 'raft': 'R34', 'ccd': 'S21', 'snap': 0}, tag=set())\n",
      "WARN  2018-08-22T11:27:22.022 LsstCamMapper ()(lsstCamMapper.py:116)- amp.getRawBBox() != data.getBBox(); patching. ((minimum=(0, 0), maximum=(543, 2047)) v. (minimum=(0, 0), maximum=(521, 2009)))\n",
      "INFO  2018-08-22T11:27:26.026 bias ()(constructCalibs.py:617)- Processing DataId(initialdata={'visit': 9999, 'run': '9999', 'raft': 'R34', 'ccd': 'S22', 'snap': 0}, tag=set()) on cori19:63768\n",
      "INFO  2018-08-22T11:27:26.026 bias.isr ()(isrTask.py:641)- Performing ISR on sensor DataId(initialdata={'visit': 9999, 'run': '9999', 'raft': 'R34', 'ccd': 'S22', 'snap': 0}, tag=set())\n",
      "WARN  2018-08-22T11:27:27.027 LsstCamMapper ()(lsstCamMapper.py:116)- amp.getRawBBox() != data.getBBox(); patching. ((minimum=(0, 0), maximum=(543, 2047)) v. (minimum=(0, 0), maximum=(521, 2009)))\n",
      "INFO  2018-08-22T11:27:31.031 bias ()(constructCalibs.py:617)- Processing DataId(initialdata={'visit': 9999, 'run': '9999', 'raft': 'R41', 'ccd': 'S00', 'snap': 0}, tag=set()) on cori19:63768\n",
      "INFO  2018-08-22T11:27:31.031 bias.isr ()(isrTask.py:641)- Performing ISR on sensor DataId(initialdata={'visit': 9999, 'run': '9999', 'raft': 'R41', 'ccd': 'S00', 'snap': 0}, tag=set())\n",
      "WARN  2018-08-22T11:27:32.032 LsstCamMapper ()(lsstCamMapper.py:116)- amp.getRawBBox() != data.getBBox(); patching. ((minimum=(0, 0), maximum=(543, 2047)) v. (minimum=(0, 0), maximum=(521, 2009)))\n",
      "INFO  2018-08-22T11:27:36.036 bias ()(constructCalibs.py:617)- Processing DataId(initialdata={'visit': 9999, 'run': '9999', 'raft': 'R41', 'ccd': 'S01', 'snap': 0}, tag=set()) on cori19:63768\n",
      "INFO  2018-08-22T11:27:36.036 bias.isr ()(isrTask.py:641)- Performing ISR on sensor DataId(initialdata={'visit': 9999, 'run': '9999', 'raft': 'R41', 'ccd': 'S01', 'snap': 0}, tag=set())\n",
      "WARN  2018-08-22T11:27:37.037 LsstCamMapper ()(lsstCamMapper.py:116)- amp.getRawBBox() != data.getBBox(); patching. ((minimum=(0, 0), maximum=(543, 2047)) v. (minimum=(0, 0), maximum=(521, 2009)))\n",
      "INFO  2018-08-22T11:27:40.040 bias ()(constructCalibs.py:617)- Processing DataId(initialdata={'visit': 9999, 'run': '9999', 'raft': 'R41', 'ccd': 'S02', 'snap': 0}, tag=set()) on cori19:63768\n",
      "INFO  2018-08-22T11:27:40.040 bias.isr ()(isrTask.py:641)- Performing ISR on sensor DataId(initialdata={'visit': 9999, 'run': '9999', 'raft': 'R41', 'ccd': 'S02', 'snap': 0}, tag=set())\n",
      "WARN  2018-08-22T11:27:41.041 LsstCamMapper ()(lsstCamMapper.py:116)- amp.getRawBBox() != data.getBBox(); patching. ((minimum=(0, 0), maximum=(543, 2047)) v. (minimum=(0, 0), maximum=(521, 2009)))\n",
      "INFO  2018-08-22T11:27:45.045 bias ()(constructCalibs.py:617)- Processing DataId(initialdata={'visit': 9999, 'run': '9999', 'raft': 'R41', 'ccd': 'S10', 'snap': 0}, tag=set()) on cori19:63768\n",
      "INFO  2018-08-22T11:27:45.045 bias.isr ()(isrTask.py:641)- Performing ISR on sensor DataId(initialdata={'visit': 9999, 'run': '9999', 'raft': 'R41', 'ccd': 'S10', 'snap': 0}, tag=set())\n",
      "WARN  2018-08-22T11:27:46.046 LsstCamMapper ()(lsstCamMapper.py:116)- amp.getRawBBox() != data.getBBox(); patching. ((minimum=(0, 0), maximum=(543, 2047)) v. (minimum=(0, 0), maximum=(521, 2009)))\n",
      "INFO  2018-08-22T11:27:50.050 bias ()(constructCalibs.py:617)- Processing DataId(initialdata={'visit': 9999, 'run': '9999', 'raft': 'R41', 'ccd': 'S11', 'snap': 0}, tag=set()) on cori19:63768\n",
      "INFO  2018-08-22T11:27:50.050 bias.isr ()(isrTask.py:641)- Performing ISR on sensor DataId(initialdata={'visit': 9999, 'run': '9999', 'raft': 'R41', 'ccd': 'S11', 'snap': 0}, tag=set())\n",
      "WARN  2018-08-22T11:27:51.051 LsstCamMapper ()(lsstCamMapper.py:116)- amp.getRawBBox() != data.getBBox(); patching. ((minimum=(0, 0), maximum=(543, 2047)) v. (minimum=(0, 0), maximum=(521, 2009)))\n",
      "INFO  2018-08-22T11:27:55.055 bias ()(constructCalibs.py:617)- Processing DataId(initialdata={'visit': 9999, 'run': '9999', 'raft': 'R41', 'ccd': 'S12', 'snap': 0}, tag=set()) on cori19:63768\n",
      "INFO  2018-08-22T11:27:55.055 bias.isr ()(isrTask.py:641)- Performing ISR on sensor DataId(initialdata={'visit': 9999, 'run': '9999', 'raft': 'R41', 'ccd': 'S12', 'snap': 0}, tag=set())\n",
      "WARN  2018-08-22T11:27:56.056 LsstCamMapper ()(lsstCamMapper.py:116)- amp.getRawBBox() != data.getBBox(); patching. ((minimum=(0, 0), maximum=(543, 2047)) v. (minimum=(0, 0), maximum=(521, 2009)))\n",
      "INFO  2018-08-22T11:27:59.059 bias ()(constructCalibs.py:617)- Processing DataId(initialdata={'visit': 9999, 'run': '9999', 'raft': 'R41', 'ccd': 'S20', 'snap': 0}, tag=set()) on cori19:63768\n",
      "INFO  2018-08-22T11:27:59.059 bias.isr ()(isrTask.py:641)- Performing ISR on sensor DataId(initialdata={'visit': 9999, 'run': '9999', 'raft': 'R41', 'ccd': 'S20', 'snap': 0}, tag=set())\n",
      "WARN  2018-08-22T11:28:01.001 LsstCamMapper ()(lsstCamMapper.py:116)- amp.getRawBBox() != data.getBBox(); patching. ((minimum=(0, 0), maximum=(543, 2047)) v. (minimum=(0, 0), maximum=(521, 2009)))\n",
      "INFO  2018-08-22T11:28:05.005 bias ()(constructCalibs.py:617)- Processing DataId(initialdata={'visit': 9999, 'run': '9999', 'raft': 'R41', 'ccd': 'S21', 'snap': 0}, tag=set()) on cori19:63768\n",
      "INFO  2018-08-22T11:28:05.005 bias.isr ()(isrTask.py:641)- Performing ISR on sensor DataId(initialdata={'visit': 9999, 'run': '9999', 'raft': 'R41', 'ccd': 'S21', 'snap': 0}, tag=set())\n",
      "WARN  2018-08-22T11:28:06.006 LsstCamMapper ()(lsstCamMapper.py:116)- amp.getRawBBox() != data.getBBox(); patching. ((minimum=(0, 0), maximum=(543, 2047)) v. (minimum=(0, 0), maximum=(521, 2009)))\n",
      "INFO  2018-08-22T11:28:09.009 bias ()(constructCalibs.py:617)- Processing DataId(initialdata={'visit': 9999, 'run': '9999', 'raft': 'R41', 'ccd': 'S22', 'snap': 0}, tag=set()) on cori19:63768\n",
      "INFO  2018-08-22T11:28:09.009 bias.isr ()(isrTask.py:641)- Performing ISR on sensor DataId(initialdata={'visit': 9999, 'run': '9999', 'raft': 'R41', 'ccd': 'S22', 'snap': 0}, tag=set())\n",
      "WARN  2018-08-22T11:28:11.011 LsstCamMapper ()(lsstCamMapper.py:116)- amp.getRawBBox() != data.getBBox(); patching. ((minimum=(0, 0), maximum=(543, 2047)) v. (minimum=(0, 0), maximum=(521, 2009)))\n",
      "INFO  2018-08-22T11:28:14.014 bias ()(constructCalibs.py:617)- Processing DataId(initialdata={'visit': 9999, 'run': '9999', 'raft': 'R42', 'ccd': 'S00', 'snap': 0}, tag=set()) on cori19:63768\n",
      "INFO  2018-08-22T11:28:14.014 bias.isr ()(isrTask.py:641)- Performing ISR on sensor DataId(initialdata={'visit': 9999, 'run': '9999', 'raft': 'R42', 'ccd': 'S00', 'snap': 0}, tag=set())\n",
      "WARN  2018-08-22T11:28:16.016 LsstCamMapper ()(lsstCamMapper.py:116)- amp.getRawBBox() != data.getBBox(); patching. ((minimum=(0, 0), maximum=(543, 2047)) v. (minimum=(0, 0), maximum=(521, 2009)))\n",
      "INFO  2018-08-22T11:28:19.019 bias ()(constructCalibs.py:617)- Processing DataId(initialdata={'visit': 9999, 'run': '9999', 'raft': 'R42', 'ccd': 'S01', 'snap': 0}, tag=set()) on cori19:63768\n",
      "INFO  2018-08-22T11:28:19.019 bias.isr ()(isrTask.py:641)- Performing ISR on sensor DataId(initialdata={'visit': 9999, 'run': '9999', 'raft': 'R42', 'ccd': 'S01', 'snap': 0}, tag=set())\n",
      "WARN  2018-08-22T11:28:24.024 LsstCamMapper ()(lsstCamMapper.py:116)- amp.getRawBBox() != data.getBBox(); patching. ((minimum=(0, 0), maximum=(543, 2047)) v. (minimum=(0, 0), maximum=(521, 2009)))\n",
      "INFO  2018-08-22T11:28:27.027 bias ()(constructCalibs.py:617)- Processing DataId(initialdata={'visit': 9999, 'run': '9999', 'raft': 'R42', 'ccd': 'S02', 'snap': 0}, tag=set()) on cori19:63768\n",
      "INFO  2018-08-22T11:28:27.027 bias.isr ()(isrTask.py:641)- Performing ISR on sensor DataId(initialdata={'visit': 9999, 'run': '9999', 'raft': 'R42', 'ccd': 'S02', 'snap': 0}, tag=set())\n",
      "WARN  2018-08-22T11:28:29.029 LsstCamMapper ()(lsstCamMapper.py:116)- amp.getRawBBox() != data.getBBox(); patching. ((minimum=(0, 0), maximum=(543, 2047)) v. (minimum=(0, 0), maximum=(521, 2009)))\n",
      "INFO  2018-08-22T11:28:33.033 bias ()(constructCalibs.py:617)- Processing DataId(initialdata={'visit': 9999, 'run': '9999', 'raft': 'R42', 'ccd': 'S10', 'snap': 0}, tag=set()) on cori19:63768\n",
      "INFO  2018-08-22T11:28:33.033 bias.isr ()(isrTask.py:641)- Performing ISR on sensor DataId(initialdata={'visit': 9999, 'run': '9999', 'raft': 'R42', 'ccd': 'S10', 'snap': 0}, tag=set())\n",
      "WARN  2018-08-22T11:28:34.034 LsstCamMapper ()(lsstCamMapper.py:116)- amp.getRawBBox() != data.getBBox(); patching. ((minimum=(0, 0), maximum=(543, 2047)) v. (minimum=(0, 0), maximum=(521, 2009)))\n",
      "INFO  2018-08-22T11:28:38.038 bias ()(constructCalibs.py:617)- Processing DataId(initialdata={'visit': 9999, 'run': '9999', 'raft': 'R42', 'ccd': 'S11', 'snap': 0}, tag=set()) on cori19:63768\n",
      "INFO  2018-08-22T11:28:38.038 bias.isr ()(isrTask.py:641)- Performing ISR on sensor DataId(initialdata={'visit': 9999, 'run': '9999', 'raft': 'R42', 'ccd': 'S11', 'snap': 0}, tag=set())\n",
      "WARN  2018-08-22T11:28:39.039 LsstCamMapper ()(lsstCamMapper.py:116)- amp.getRawBBox() != data.getBBox(); patching. ((minimum=(0, 0), maximum=(543, 2047)) v. (minimum=(0, 0), maximum=(521, 2009)))\n",
      "INFO  2018-08-22T11:28:43.043 bias ()(constructCalibs.py:617)- Processing DataId(initialdata={'visit': 9999, 'run': '9999', 'raft': 'R42', 'ccd': 'S12', 'snap': 0}, tag=set()) on cori19:63768\n",
      "INFO  2018-08-22T11:28:43.043 bias.isr ()(isrTask.py:641)- Performing ISR on sensor DataId(initialdata={'visit': 9999, 'run': '9999', 'raft': 'R42', 'ccd': 'S12', 'snap': 0}, tag=set())\n",
      "WARN  2018-08-22T11:28:44.044 LsstCamMapper ()(lsstCamMapper.py:116)- amp.getRawBBox() != data.getBBox(); patching. ((minimum=(0, 0), maximum=(543, 2047)) v. (minimum=(0, 0), maximum=(521, 2009)))\n",
      "INFO  2018-08-22T11:28:48.048 bias ()(constructCalibs.py:617)- Processing DataId(initialdata={'visit': 9999, 'run': '9999', 'raft': 'R42', 'ccd': 'S20', 'snap': 0}, tag=set()) on cori19:63768\n",
      "INFO  2018-08-22T11:28:48.048 bias.isr ()(isrTask.py:641)- Performing ISR on sensor DataId(initialdata={'visit': 9999, 'run': '9999', 'raft': 'R42', 'ccd': 'S20', 'snap': 0}, tag=set())\n",
      "WARN  2018-08-22T11:28:49.049 LsstCamMapper ()(lsstCamMapper.py:116)- amp.getRawBBox() != data.getBBox(); patching. ((minimum=(0, 0), maximum=(543, 2047)) v. (minimum=(0, 0), maximum=(521, 2009)))\n",
      "INFO  2018-08-22T11:28:54.054 bias ()(constructCalibs.py:617)- Processing DataId(initialdata={'visit': 9999, 'run': '9999', 'raft': 'R42', 'ccd': 'S21', 'snap': 0}, tag=set()) on cori19:63768\n",
      "INFO  2018-08-22T11:28:54.054 bias.isr ()(isrTask.py:641)- Performing ISR on sensor DataId(initialdata={'visit': 9999, 'run': '9999', 'raft': 'R42', 'ccd': 'S21', 'snap': 0}, tag=set())\n",
      "WARN  2018-08-22T11:28:55.055 LsstCamMapper ()(lsstCamMapper.py:116)- amp.getRawBBox() != data.getBBox(); patching. ((minimum=(0, 0), maximum=(543, 2047)) v. (minimum=(0, 0), maximum=(521, 2009)))\n",
      "INFO  2018-08-22T11:28:59.059 bias ()(constructCalibs.py:617)- Processing DataId(initialdata={'visit': 9999, 'run': '9999', 'raft': 'R42', 'ccd': 'S22', 'snap': 0}, tag=set()) on cori19:63768\n",
      "INFO  2018-08-22T11:28:59.059 bias.isr ()(isrTask.py:641)- Performing ISR on sensor DataId(initialdata={'visit': 9999, 'run': '9999', 'raft': 'R42', 'ccd': 'S22', 'snap': 0}, tag=set())\n",
      "WARN  2018-08-22T11:29:00.000 LsstCamMapper ()(lsstCamMapper.py:116)- amp.getRawBBox() != data.getBBox(); patching. ((minimum=(0, 0), maximum=(543, 2047)) v. (minimum=(0, 0), maximum=(521, 2009)))\n",
      "INFO  2018-08-22T11:29:04.004 bias ()(constructCalibs.py:617)- Processing DataId(initialdata={'visit': 9999, 'run': '9999', 'raft': 'R43', 'ccd': 'S00', 'snap': 0}, tag=set()) on cori19:63768\n",
      "INFO  2018-08-22T11:29:04.004 bias.isr ()(isrTask.py:641)- Performing ISR on sensor DataId(initialdata={'visit': 9999, 'run': '9999', 'raft': 'R43', 'ccd': 'S00', 'snap': 0}, tag=set())\n",
      "WARN  2018-08-22T11:29:05.005 LsstCamMapper ()(lsstCamMapper.py:116)- amp.getRawBBox() != data.getBBox(); patching. ((minimum=(0, 0), maximum=(543, 2047)) v. (minimum=(0, 0), maximum=(521, 2009)))\n",
      "INFO  2018-08-22T11:29:09.009 bias ()(constructCalibs.py:617)- Processing DataId(initialdata={'visit': 9999, 'run': '9999', 'raft': 'R43', 'ccd': 'S01', 'snap': 0}, tag=set()) on cori19:63768\n",
      "INFO  2018-08-22T11:29:09.009 bias.isr ()(isrTask.py:641)- Performing ISR on sensor DataId(initialdata={'visit': 9999, 'run': '9999', 'raft': 'R43', 'ccd': 'S01', 'snap': 0}, tag=set())\n",
      "WARN  2018-08-22T11:29:10.010 LsstCamMapper ()(lsstCamMapper.py:116)- amp.getRawBBox() != data.getBBox(); patching. ((minimum=(0, 0), maximum=(543, 2047)) v. (minimum=(0, 0), maximum=(521, 2009)))\n",
      "INFO  2018-08-22T11:29:14.014 bias ()(constructCalibs.py:617)- Processing DataId(initialdata={'visit': 9999, 'run': '9999', 'raft': 'R43', 'ccd': 'S02', 'snap': 0}, tag=set()) on cori19:63768\n",
      "INFO  2018-08-22T11:29:14.014 bias.isr ()(isrTask.py:641)- Performing ISR on sensor DataId(initialdata={'visit': 9999, 'run': '9999', 'raft': 'R43', 'ccd': 'S02', 'snap': 0}, tag=set())\n",
      "WARN  2018-08-22T11:29:15.015 LsstCamMapper ()(lsstCamMapper.py:116)- amp.getRawBBox() != data.getBBox(); patching. ((minimum=(0, 0), maximum=(543, 2047)) v. (minimum=(0, 0), maximum=(521, 2009)))\n",
      "INFO  2018-08-22T11:29:19.019 bias ()(constructCalibs.py:617)- Processing DataId(initialdata={'visit': 9999, 'run': '9999', 'raft': 'R43', 'ccd': 'S10', 'snap': 0}, tag=set()) on cori19:63768\n",
      "INFO  2018-08-22T11:29:19.019 bias.isr ()(isrTask.py:641)- Performing ISR on sensor DataId(initialdata={'visit': 9999, 'run': '9999', 'raft': 'R43', 'ccd': 'S10', 'snap': 0}, tag=set())\n",
      "WARN  2018-08-22T11:29:20.020 LsstCamMapper ()(lsstCamMapper.py:116)- amp.getRawBBox() != data.getBBox(); patching. ((minimum=(0, 0), maximum=(543, 2047)) v. (minimum=(0, 0), maximum=(521, 2009)))\n",
      "INFO  2018-08-22T11:29:24.024 bias ()(constructCalibs.py:617)- Processing DataId(initialdata={'visit': 9999, 'run': '9999', 'raft': 'R43', 'ccd': 'S11', 'snap': 0}, tag=set()) on cori19:63768\n",
      "INFO  2018-08-22T11:29:24.024 bias.isr ()(isrTask.py:641)- Performing ISR on sensor DataId(initialdata={'visit': 9999, 'run': '9999', 'raft': 'R43', 'ccd': 'S11', 'snap': 0}, tag=set())\n",
      "WARN  2018-08-22T11:29:25.025 LsstCamMapper ()(lsstCamMapper.py:116)- amp.getRawBBox() != data.getBBox(); patching. ((minimum=(0, 0), maximum=(543, 2047)) v. (minimum=(0, 0), maximum=(521, 2009)))\n",
      "INFO  2018-08-22T11:29:29.029 bias ()(constructCalibs.py:617)- Processing DataId(initialdata={'visit': 9999, 'run': '9999', 'raft': 'R43', 'ccd': 'S12', 'snap': 0}, tag=set()) on cori19:63768\n",
      "INFO  2018-08-22T11:29:29.029 bias.isr ()(isrTask.py:641)- Performing ISR on sensor DataId(initialdata={'visit': 9999, 'run': '9999', 'raft': 'R43', 'ccd': 'S12', 'snap': 0}, tag=set())\n",
      "WARN  2018-08-22T11:29:30.030 LsstCamMapper ()(lsstCamMapper.py:116)- amp.getRawBBox() != data.getBBox(); patching. ((minimum=(0, 0), maximum=(543, 2047)) v. (minimum=(0, 0), maximum=(521, 2009)))\n",
      "INFO  2018-08-22T11:29:34.034 bias ()(constructCalibs.py:617)- Processing DataId(initialdata={'visit': 9999, 'run': '9999', 'raft': 'R43', 'ccd': 'S20', 'snap': 0}, tag=set()) on cori19:63768\n",
      "INFO  2018-08-22T11:29:34.034 bias.isr ()(isrTask.py:641)- Performing ISR on sensor DataId(initialdata={'visit': 9999, 'run': '9999', 'raft': 'R43', 'ccd': 'S20', 'snap': 0}, tag=set())\n",
      "WARN  2018-08-22T11:29:35.035 LsstCamMapper ()(lsstCamMapper.py:116)- amp.getRawBBox() != data.getBBox(); patching. ((minimum=(0, 0), maximum=(543, 2047)) v. (minimum=(0, 0), maximum=(521, 2009)))\n",
      "INFO  2018-08-22T11:29:39.039 bias ()(constructCalibs.py:617)- Processing DataId(initialdata={'visit': 9999, 'run': '9999', 'raft': 'R43', 'ccd': 'S21', 'snap': 0}, tag=set()) on cori19:63768\n",
      "INFO  2018-08-22T11:29:39.039 bias.isr ()(isrTask.py:641)- Performing ISR on sensor DataId(initialdata={'visit': 9999, 'run': '9999', 'raft': 'R43', 'ccd': 'S21', 'snap': 0}, tag=set())\n",
      "WARN  2018-08-22T11:29:41.041 LsstCamMapper ()(lsstCamMapper.py:116)- amp.getRawBBox() != data.getBBox(); patching. ((minimum=(0, 0), maximum=(543, 2047)) v. (minimum=(0, 0), maximum=(521, 2009)))\n",
      "INFO  2018-08-22T11:29:44.044 bias ()(constructCalibs.py:617)- Processing DataId(initialdata={'visit': 9999, 'run': '9999', 'raft': 'R43', 'ccd': 'S22', 'snap': 0}, tag=set()) on cori19:63768\n",
      "INFO  2018-08-22T11:29:44.044 bias.isr ()(isrTask.py:641)- Performing ISR on sensor DataId(initialdata={'visit': 9999, 'run': '9999', 'raft': 'R43', 'ccd': 'S22', 'snap': 0}, tag=set())\n",
      "WARN  2018-08-22T11:29:46.046 LsstCamMapper ()(lsstCamMapper.py:116)- amp.getRawBBox() != data.getBBox(); patching. ((minimum=(0, 0), maximum=(543, 2047)) v. (minimum=(0, 0), maximum=(521, 2009)))\n",
      "INFO  2018-08-22T11:29:49.049 bias ()(constructCalibs.py:680)- Scale on cori19:63768\n",
      "WARN  2018-08-22T11:29:49.049 LsstCamMapper ()(lsstCamMapper.py:274)- Unable to find calib root directory\n",
      "INFO  2018-08-22T11:29:49.049 CameraMapper ()(cameraMapper.py:900)- Loading exposure registry from /global/u1/w/wmwv/local/lsst/DC2-production/Notebooks/calib_repo/registry.sqlite3\n",
      "WARN  2018-08-22T11:29:53.053 LsstCamMapper ()(lsstCamMapper.py:274)- Unable to find calib root directory\n",
      "INFO  2018-08-22T11:29:56.056 bias ()(constructCalibs.py:698)- Scatter combination\n",
      "INFO  2018-08-22T11:29:56.056 bias ()(constructCalibs.py:737)- Combining {'raft': 'R01', 'ccd': 'S00', 'snap': 0, 'filter': 'NONE', 'calibDate': '1994-07-19'} on cori19:63768\n",
      "INFO  2018-08-22T11:30:07.007 bias ()(constructCalibs.py:812)- Writing {'raft': 'R01', 'ccd': 'S00', 'snap': 0, 'filter': 'NONE', 'calibDate': '1994-07-19'} on cori19:63768\n",
      "INFO  2018-08-22T11:30:09.009 bias ()(constructCalibs.py:737)- Combining {'raft': 'R01', 'ccd': 'S01', 'snap': 0, 'filter': 'NONE', 'calibDate': '1994-07-19'} on cori19:63768\n",
      "INFO  2018-08-22T11:30:20.020 bias ()(constructCalibs.py:812)- Writing {'raft': 'R01', 'ccd': 'S01', 'snap': 0, 'filter': 'NONE', 'calibDate': '1994-07-19'} on cori19:63768\n",
      "INFO  2018-08-22T11:30:23.023 bias ()(constructCalibs.py:737)- Combining {'raft': 'R01', 'ccd': 'S02', 'snap': 0, 'filter': 'NONE', 'calibDate': '1994-07-19'} on cori19:63768\n",
      "INFO  2018-08-22T11:30:33.033 bias ()(constructCalibs.py:812)- Writing {'raft': 'R01', 'ccd': 'S02', 'snap': 0, 'filter': 'NONE', 'calibDate': '1994-07-19'} on cori19:63768\n",
      "INFO  2018-08-22T11:30:35.035 bias ()(constructCalibs.py:737)- Combining {'raft': 'R01', 'ccd': 'S10', 'snap': 0, 'filter': 'NONE', 'calibDate': '1994-07-19'} on cori19:63768\n",
      "INFO  2018-08-22T11:30:45.045 bias ()(constructCalibs.py:812)- Writing {'raft': 'R01', 'ccd': 'S10', 'snap': 0, 'filter': 'NONE', 'calibDate': '1994-07-19'} on cori19:63768\n",
      "INFO  2018-08-22T11:30:48.048 bias ()(constructCalibs.py:737)- Combining {'raft': 'R01', 'ccd': 'S11', 'snap': 0, 'filter': 'NONE', 'calibDate': '1994-07-19'} on cori19:63768\n",
      "INFO  2018-08-22T11:30:58.058 bias ()(constructCalibs.py:812)- Writing {'raft': 'R01', 'ccd': 'S11', 'snap': 0, 'filter': 'NONE', 'calibDate': '1994-07-19'} on cori19:63768\n",
      "INFO  2018-08-22T11:31:00.000 bias ()(constructCalibs.py:737)- Combining {'raft': 'R01', 'ccd': 'S12', 'snap': 0, 'filter': 'NONE', 'calibDate': '1994-07-19'} on cori19:63768\n",
      "INFO  2018-08-22T11:31:11.011 bias ()(constructCalibs.py:812)- Writing {'raft': 'R01', 'ccd': 'S12', 'snap': 0, 'filter': 'NONE', 'calibDate': '1994-07-19'} on cori19:63768\n",
      "INFO  2018-08-22T11:31:14.014 bias ()(constructCalibs.py:737)- Combining {'raft': 'R01', 'ccd': 'S20', 'snap': 0, 'filter': 'NONE', 'calibDate': '1994-07-19'} on cori19:63768\n",
      "INFO  2018-08-22T11:31:24.024 bias ()(constructCalibs.py:812)- Writing {'raft': 'R01', 'ccd': 'S20', 'snap': 0, 'filter': 'NONE', 'calibDate': '1994-07-19'} on cori19:63768\n",
      "INFO  2018-08-22T11:31:27.027 bias ()(constructCalibs.py:737)- Combining {'raft': 'R01', 'ccd': 'S21', 'snap': 0, 'filter': 'NONE', 'calibDate': '1994-07-19'} on cori19:63768\n",
      "INFO  2018-08-22T11:31:38.038 bias ()(constructCalibs.py:812)- Writing {'raft': 'R01', 'ccd': 'S21', 'snap': 0, 'filter': 'NONE', 'calibDate': '1994-07-19'} on cori19:63768\n",
      "INFO  2018-08-22T11:31:40.040 bias ()(constructCalibs.py:737)- Combining {'raft': 'R01', 'ccd': 'S22', 'snap': 0, 'filter': 'NONE', 'calibDate': '1994-07-19'} on cori19:63768\n",
      "INFO  2018-08-22T11:31:52.052 bias ()(constructCalibs.py:812)- Writing {'raft': 'R01', 'ccd': 'S22', 'snap': 0, 'filter': 'NONE', 'calibDate': '1994-07-19'} on cori19:63768\n",
      "INFO  2018-08-22T11:31:55.055 bias ()(constructCalibs.py:737)- Combining {'raft': 'R02', 'ccd': 'S00', 'snap': 0, 'filter': 'NONE', 'calibDate': '1994-07-19'} on cori19:63768\n",
      "INFO  2018-08-22T11:32:07.007 bias ()(constructCalibs.py:812)- Writing {'raft': 'R02', 'ccd': 'S00', 'snap': 0, 'filter': 'NONE', 'calibDate': '1994-07-19'} on cori19:63768\n",
      "INFO  2018-08-22T11:32:09.009 bias ()(constructCalibs.py:737)- Combining {'raft': 'R02', 'ccd': 'S01', 'snap': 0, 'filter': 'NONE', 'calibDate': '1994-07-19'} on cori19:63768\n",
      "INFO  2018-08-22T11:32:22.022 bias ()(constructCalibs.py:812)- Writing {'raft': 'R02', 'ccd': 'S01', 'snap': 0, 'filter': 'NONE', 'calibDate': '1994-07-19'} on cori19:63768\n",
      "INFO  2018-08-22T11:32:24.024 bias ()(constructCalibs.py:737)- Combining {'raft': 'R02', 'ccd': 'S02', 'snap': 0, 'filter': 'NONE', 'calibDate': '1994-07-19'} on cori19:63768\n",
      "INFO  2018-08-22T11:32:36.036 bias ()(constructCalibs.py:812)- Writing {'raft': 'R02', 'ccd': 'S02', 'snap': 0, 'filter': 'NONE', 'calibDate': '1994-07-19'} on cori19:63768\n",
      "INFO  2018-08-22T11:32:39.039 bias ()(constructCalibs.py:737)- Combining {'raft': 'R02', 'ccd': 'S10', 'snap': 0, 'filter': 'NONE', 'calibDate': '1994-07-19'} on cori19:63768\n",
      "INFO  2018-08-22T11:32:50.050 bias ()(constructCalibs.py:812)- Writing {'raft': 'R02', 'ccd': 'S10', 'snap': 0, 'filter': 'NONE', 'calibDate': '1994-07-19'} on cori19:63768\n",
      "INFO  2018-08-22T11:32:52.052 bias ()(constructCalibs.py:737)- Combining {'raft': 'R02', 'ccd': 'S11', 'snap': 0, 'filter': 'NONE', 'calibDate': '1994-07-19'} on cori19:63768\n",
      "INFO  2018-08-22T11:33:03.003 bias ()(constructCalibs.py:812)- Writing {'raft': 'R02', 'ccd': 'S11', 'snap': 0, 'filter': 'NONE', 'calibDate': '1994-07-19'} on cori19:63768\n",
      "INFO  2018-08-22T11:33:05.005 bias ()(constructCalibs.py:737)- Combining {'raft': 'R02', 'ccd': 'S12', 'snap': 0, 'filter': 'NONE', 'calibDate': '1994-07-19'} on cori19:63768\n"
     ]
    }
   ],
   "source": [
    "# ! constructBias.py calib_repo --rerun wmwv/calib --longlog --id visit=9999 --batch-type none --cores 4"
   ]
  },
  {
   "cell_type": "code",
   "execution_count": null,
   "metadata": {},
   "outputs": [],
   "source": [
    "\n",
    "## We don't have any master calibration images yet.\n",
    "# ingestCalibs.py calib_repo --output calib_repo/CALIB --validity 13000 calib_repo/rerun/wmwv/calib/bias/2022-01-01/*.fits\n",
    "\n",
    "# Darks next, before flats.\n",
    "! ingestImages.py calib_repo dark_files/*.fits --mode link\n",
    "\n",
    "# Make a master dark\n",
    "! constructDark.py calib_repo --rerun wmwv/calib_dark --longlog --id visit=4000000 --batch-type none --cores 4\n",
    "\n",
    "# Take the master dark we just created and load it into the CALIB_ROOT.\n",
    "! ingestCalibs.py calib_repo --output calib_repo/CALIB --validity 13000 calib_repo/rerun/wmwv/calib_dark/dark/1994-07-19/*.fits\n",
    "\n",
    "# Make a master flat.\n",
    "! constructFlat.py calib_repo --rerun wmwv/calib_flat --longlog --id visit=219976 raft=R34 ccd=S02 --batch-type none"
   ]
  },
  {
   "cell_type": "code",
   "execution_count": null,
   "metadata": {},
   "outputs": [],
   "source": [
    "imsim_raw_glob = '/global/cscratch1/sd/jchiang8/desc/imsim_tests/bf_flats/lsst_a_*r.fits'\n",
    "phosim_raw_glob = '/global/cscratch1/sd/jchiang8/desc/calibration_products/bf_flats/lsst_a*.fits'\n",
    "\n",
    "mapper_str = 'lsst.obs.lsstCam.ImsimMapper'"
   ]
  },
  {
   "cell_type": "markdown",
   "metadata": {},
   "source": [
    "Ingest the calibration files."
   ]
  },
  {
   "cell_type": "code",
   "execution_count": 4,
   "metadata": {},
   "outputs": [],
   "source": [
    "from lsst.pipe.tasks.ingest import IngestTask\n",
    "\n",
    "# Do biases first since constructDark.py expects them.\n",
    "arg_string = 'calib_repo /global/cscratch1/sd/jchiang8/desc/calibration_products/bias_files/*.fits --mode link'\n",
    "args = ' '.split(arg_string)\n",
    "\n",
    "# But this doesn't actually work because IngestImages only uses sys.argv.\n",
    "# It doesn't accept an args passthrough to the `parseAndRun` method.\n",
    "# IngestTask.parseAndRun(args=args)"
   ]
  },
  {
   "cell_type": "code",
   "execution_count": 5,
   "metadata": {},
   "outputs": [
    {
     "name": "stdout",
     "output_type": "stream",
     "text": [
      "root INFO: Loading config overrride file '/global/homes/w/wmwv/local/lsst/obs_lsstCam/config/ingest.py'\n",
      "LsstCamMapper WARN: Unable to find calib root directory\n",
      "CameraMapper INFO: Loading Posix exposure registry from /global/u1/w/wmwv/local/lsst/DC2-production/Notebooks/calib_repo\n",
      "ingest INFO: /global/cscratch1/sd/jchiang8/desc/calibration_products/bf_flats/lsst_a_000000_R22_S11.fits --<link>--> /global/u1/w/wmwv/local/lsst/DC2-production/Notebooks/calib_repo/raw/0/R22/00000000-R22-S11-det094-000.fits\n",
      "ingest INFO: /global/cscratch1/sd/jchiang8/desc/calibration_products/bf_flats/lsst_a_000001_R22_S11.fits --<link>--> /global/u1/w/wmwv/local/lsst/DC2-production/Notebooks/calib_repo/raw/1/R22/00000001-R22-S11-det094-000.fits\n",
      "ingest INFO: /global/cscratch1/sd/jchiang8/desc/calibration_products/bf_flats/lsst_a_000002_R22_S11.fits --<link>--> /global/u1/w/wmwv/local/lsst/DC2-production/Notebooks/calib_repo/raw/2/R22/00000002-R22-S11-det094-000.fits\n",
      "ingest INFO: /global/cscratch1/sd/jchiang8/desc/calibration_products/bf_flats/lsst_a_000003_R22_S11.fits --<link>--> /global/u1/w/wmwv/local/lsst/DC2-production/Notebooks/calib_repo/raw/3/R22/00000003-R22-S11-det094-000.fits\n",
      "ingest INFO: /global/cscratch1/sd/jchiang8/desc/calibration_products/bf_flats/lsst_a_000004_R22_S11.fits --<link>--> /global/u1/w/wmwv/local/lsst/DC2-production/Notebooks/calib_repo/raw/4/R22/00000004-R22-S11-det094-000.fits\n",
      "ingest INFO: /global/cscratch1/sd/jchiang8/desc/calibration_products/bf_flats/lsst_a_000005_R22_S11.fits --<link>--> /global/u1/w/wmwv/local/lsst/DC2-production/Notebooks/calib_repo/raw/5/R22/00000005-R22-S11-det094-000.fits\n",
      "ingest INFO: /global/cscratch1/sd/jchiang8/desc/calibration_products/bf_flats/lsst_a_000006_R22_S11.fits --<link>--> /global/u1/w/wmwv/local/lsst/DC2-production/Notebooks/calib_repo/raw/6/R22/00000006-R22-S11-det094-000.fits\n",
      "ingest INFO: /global/cscratch1/sd/jchiang8/desc/calibration_products/bf_flats/lsst_a_000007_R22_S11.fits --<link>--> /global/u1/w/wmwv/local/lsst/DC2-production/Notebooks/calib_repo/raw/7/R22/00000007-R22-S11-det094-000.fits\n",
      "ingest INFO: /global/cscratch1/sd/jchiang8/desc/calibration_products/bf_flats/lsst_a_000008_R22_S11.fits --<link>--> /global/u1/w/wmwv/local/lsst/DC2-production/Notebooks/calib_repo/raw/8/R22/00000008-R22-S11-det094-000.fits\n",
      "ingest INFO: /global/cscratch1/sd/jchiang8/desc/calibration_products/bf_flats/lsst_a_000009_R22_S11.fits --<link>--> /global/u1/w/wmwv/local/lsst/DC2-production/Notebooks/calib_repo/raw/9/R22/00000009-R22-S11-det094-000.fits\n",
      "ingest INFO: /global/cscratch1/sd/jchiang8/desc/calibration_products/bf_flats/lsst_a_000010_R22_S11.fits --<link>--> /global/u1/w/wmwv/local/lsst/DC2-production/Notebooks/calib_repo/raw/10/R22/00000010-R22-S11-det094-000.fits\n",
      "ingest INFO: /global/cscratch1/sd/jchiang8/desc/calibration_products/bf_flats/lsst_a_000011_R22_S11.fits --<link>--> /global/u1/w/wmwv/local/lsst/DC2-production/Notebooks/calib_repo/raw/11/R22/00000011-R22-S11-det094-000.fits\n"
     ]
    }
   ],
   "source": [
    "# So we call out to the shell with a !\n",
    "### we don't even need bias or dark just to test out generation of the BF kernel.\n",
    "# ! ingestImages.py calib_repo /global/cscratch1/sd/jchiang8/desc/calibration_products/bias_files/*.fits --mode link\n",
    "# ! ingestImages.py calib_repo /global/cscratch1/sd/jchiang8/desc/calibration_products/dark_files/*.fits --mode link\n",
    "! ingestImages.py calib_repo /global/cscratch1/sd/jchiang8/desc/calibration_products/bf_flats/lsst_a*.fits --mode link"
   ]
  }
 ],
 "metadata": {
  "kernelspec": {
   "display_name": "desc-stack-obs-lsstCam",
   "language": "python",
   "name": "desc-stack-obs-lsstcam"
  },
  "language_info": {
   "codemirror_mode": {
    "name": "ipython",
    "version": 3
   },
   "file_extension": ".py",
   "mimetype": "text/x-python",
   "name": "python",
   "nbconvert_exporter": "python",
   "pygments_lexer": "ipython3",
   "version": "3.6.2"
  }
 },
 "nbformat": 4,
 "nbformat_minor": 2
}
