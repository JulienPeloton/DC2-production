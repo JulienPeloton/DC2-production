{
 "cells": [
  {
   "cell_type": "markdown",
   "metadata": {},
   "source": [
    "## Make a brighter-fatter kernel from a set of high-intensity flats for DC2.\n",
    "Michael Wood-Vasey  (2018-09-29)\n",
    "\n",
    "1. Set up a basic repo with the raw flats\n",
    "2. Use `cp_pipe` `MakeBrighterFatterKernelTask` to construct a BF kernel\n",
    "3. Visualize the kernels and compare PhoSim, ImSim, HSC, and lab-based ITL.\n",
    "\n",
    "With substantial help from Merlin Fisher-Levine."
   ]
  },
  {
   "cell_type": "markdown",
   "metadata": {},
   "source": [
    "Jim Chiang kindly created a set of Phosim and ImSim flats at NERSC:\n",
    "\n",
    "* ImSim flat pairs are `/global/cscratch1/sd/jchiang8/desc/imsim_tests/bf_flats/lsst_a_*r.fits`\n",
    "  - ImSim visits are 161899, 161900\n",
    "  - Gains are set to 1.7\n",
    "* PhoSim flat pairs are `/global/cscratch1/sd/jchiang8/desc/calibration_products/bf_flats/lsst_a*.fits`.  \n",
    "  - The visit numbers for these PhoSim flat pairs are 0..11.\n",
    "  - Gains are set to 1.0.\n",
    "  - There are three pairs in u at 70k, 80k, and 90k e-/pixel, and three pairs in i for the same signal levels.   Note that these are in the _ImSim_ `raw` format since the original PhoSim runs didn't generate the amplifier files, so it's not trivially easy to make PhoSim `raw` format images.  \n",
    "\n",
    "Use `lsst.obs.lsstCam.ImsimMapper` for both on ingest.\n",
    "\n",
    "Jim also made a set of ImSim flat pairs for R22_S11 for a sequence of signal levels, from 10k to 80k e-/pixel, in steps of 10k.  One might use these in the future to look at the full photon transfer curve (\"non-linearity\").  \n",
    "`/global/cscratch1/sd/jchiang8/desc/imsim_tests/bf_flats/ptc_dataset/lsst_a*.fits`  \n",
    "These pairs can be identified by looking for the shorter `EXPTIME` values."
   ]
  },
  {
   "cell_type": "markdown",
   "metadata": {},
   "source": [
    "### Logistics\n",
    "\n",
    "* Versions  \n",
    "This was run through the JupyterLab environment at NERSC (https://jupyter-dev.nersc.gov) based on `w_2018_38`\n",
    "but with a custom kernelspec that loaded a set of local checkouts of\n",
    "\n",
    "```\n",
    "obs_base tickets/DM-13293\n",
    "obs_lsstCam tickets/DM-15509\n",
    "cp_pipe tickets/DM-13293\n",
    "```\n",
    "\n",
    "file:///global/homes/w/wmwv/.local/share/jupyter/kernels/shifter-stack-obs-lsstCam  \n",
    "file:/global/homes/w/wmwv/.local/share/jupyter/kernels/shifter-stack-obs-lsstCam/kernel.json  \n",
    "file:/global/homes/w/wmwv/.local/share/jupyter/kernels/shifter-stack-obs-lsstCam/desc-stack-obs-lsstCam.sh\n",
    "\n",
    "\n",
    "## References\n",
    "* For an introduction to the brighter-fatter effect, see \n",
    "  - http://adsabs.harvard.edu/abs/2014JInst...9C3048A  Antilogous, Astier, Guyonnet, Regnault. 2014. JInst, 9, C3048.\n",
    "* For a starting place for DESC thinking about brighter-fatter, see \n",
    "  - https://confluence.slac.stanford.edu/display/LSSTDESC/Brighter+Fatter+Effect   (DESC private page)\n",
    "* See Andrew Bradshaw's [StackClub](https://github.com/LSSTScienceCollaborations/StackClub) notebook studying the brighter-fatter effect on stars and galaxies projected from the lab-based beam simulator.\n",
    "  - [Rendered] http://nbviewer.jupyter.org/url/andrewnomy.com/sync/BrighterFatterCorrection.ipynb?flush_cache=true\n",
    "  - [Raw] https://github.com/LSSTScienceCollaborations/StackClub/blob/project/beamsim/andrewkbradshaw/ImageProcessing/BrighterFatterCorrection.ipynb\n",
    "* Analysis of Brighter-Fatter in DECam\n",
    "  - http://adsabs.harvard.edu/abs/2015JInst..10C5032G  Gruen, Berstein, JArvis, Rowe, Vikram, Plazas, Seitz.  2015.  JInst, 10, C5032."
   ]
  },
  {
   "cell_type": "markdown",
   "metadata": {},
   "source": [
    "### DM-Free Inspection of BF kernels\n",
    "If you just want to look at these without loading any DM environment, I've saved copies here in the DC2-production repo.  The stack-generated BF kernels are just 2D arrays as the value of a simple single-element dictionary where the key is the amp name.  You can just load them directly as:\n",
    "\n",
    "* PhoSim  \n",
    "```\n",
    "bf_kernels/PhoSim/bfKernel-R22-S11-det094.pkl\n",
    "```\n",
    "* ImSim  \n",
    "```\n",
    "bf_kernels/ImSim/bfKernel-R01-S00-det000.pkl\n",
    "bf_kernels/ImSim/bfKernel-R01-S01-det001.pkl\n",
    "bf_kernels/ImSim/bfKernel-R01-S02-det002.pkl\n",
    "bf_kernels/ImSim/bfKernel-R01-S10-det003.pkl\n",
    "```\n",
    "* HSC  \n",
    "`bf_kernels/HSC/hsc_brighter_fatter_kernel.pkl`\n",
    "* ITL (lab-based)  \n",
    "`bf_kernels/Lab/BF_kernel-ITL_3800C_002.fits`  \n",
    "The lab-based (ITL) BF kernel is a FITS file.  No dictionary, just a 2D array stored as a FITS image."
   ]
  },
  {
   "cell_type": "code",
   "execution_count": 1,
   "metadata": {},
   "outputs": [],
   "source": [
    "import os\n",
    "\n",
    "import numpy as np\n",
    "\n",
    "%matplotlib inline\n",
    "\n",
    "import matplotlib.pyplot as plt"
   ]
  },
  {
   "cell_type": "code",
   "execution_count": 2,
   "metadata": {},
   "outputs": [],
   "source": [
    "# Test to make sure that we can import obs_lsstCam\n",
    "import lsst.obs.base\n",
    "import lsst.obs.lsstCam"
   ]
  },
  {
   "cell_type": "code",
   "execution_count": 3,
   "metadata": {},
   "outputs": [],
   "source": [
    "from lsst.cp.pipe.makeBrighterFatterKernel import MakeBrighterFatterKernelTask\n",
    "from lsst.daf.persistence import Butler\n",
    "from lsst.pipe.tasks.ingest import IngestTask"
   ]
  },
  {
   "cell_type": "code",
   "execution_count": 4,
   "metadata": {},
   "outputs": [],
   "source": [
    "# Declare this explicitly just so we can use the cached versions of the output repos\n",
    "# If you have trouble with permissions acessing this directory, please bug me (wmwv)\n",
    "base_dir = '/global/u1/w/wmwv/local/lsst/DC2-production/Notebooks'"
   ]
  },
  {
   "cell_type": "markdown",
   "metadata": {},
   "source": [
    "## Make PhoSim Brighter-Fatter Kernel"
   ]
  },
  {
   "cell_type": "code",
   "execution_count": 5,
   "metadata": {},
   "outputs": [
    {
     "name": "stdout",
     "output_type": "stream",
     "text": [
      "root INFO: Loading config overrride file '/global/homes/w/wmwv/local/lsst/obs_lsstCam/config/ingest.py'\n",
      "LsstCamMapper WARN: Unable to find calib root directory\n",
      "CameraMapper INFO: Loading Posix exposure registry from /global/u1/w/wmwv/local/lsst/DC2-production/Notebooks/phosim_repo\n",
      "ingest INFO: /global/cscratch1/sd/jchiang8/desc/calibration_products/phosim/bf_flats/lsst_a_000000_R22_S11.fits --<link>--> /global/u1/w/wmwv/local/lsst/DC2-production/Notebooks/phosim_repo/raw/0/R22/00000000-R22-S11-det094-000.fits\n",
      "ingest INFO: /global/cscratch1/sd/jchiang8/desc/calibration_products/phosim/bf_flats/lsst_a_000001_R22_S11.fits --<link>--> /global/u1/w/wmwv/local/lsst/DC2-production/Notebooks/phosim_repo/raw/1/R22/00000001-R22-S11-det094-000.fits\n",
      "ingest INFO: /global/cscratch1/sd/jchiang8/desc/calibration_products/phosim/bf_flats/lsst_a_000002_R22_S11.fits --<link>--> /global/u1/w/wmwv/local/lsst/DC2-production/Notebooks/phosim_repo/raw/2/R22/00000002-R22-S11-det094-000.fits\n",
      "ingest INFO: /global/cscratch1/sd/jchiang8/desc/calibration_products/phosim/bf_flats/lsst_a_000003_R22_S11.fits --<link>--> /global/u1/w/wmwv/local/lsst/DC2-production/Notebooks/phosim_repo/raw/3/R22/00000003-R22-S11-det094-000.fits\n",
      "ingest INFO: /global/cscratch1/sd/jchiang8/desc/calibration_products/phosim/bf_flats/lsst_a_000004_R22_S11.fits --<link>--> /global/u1/w/wmwv/local/lsst/DC2-production/Notebooks/phosim_repo/raw/4/R22/00000004-R22-S11-det094-000.fits\n",
      "ingest INFO: /global/cscratch1/sd/jchiang8/desc/calibration_products/phosim/bf_flats/lsst_a_000005_R22_S11.fits --<link>--> /global/u1/w/wmwv/local/lsst/DC2-production/Notebooks/phosim_repo/raw/5/R22/00000005-R22-S11-det094-000.fits\n",
      "ingest INFO: /global/cscratch1/sd/jchiang8/desc/calibration_products/phosim/bf_flats/lsst_a_000006_R22_S11.fits --<link>--> /global/u1/w/wmwv/local/lsst/DC2-production/Notebooks/phosim_repo/raw/6/R22/00000006-R22-S11-det094-000.fits\n",
      "ingest INFO: /global/cscratch1/sd/jchiang8/desc/calibration_products/phosim/bf_flats/lsst_a_000007_R22_S11.fits --<link>--> /global/u1/w/wmwv/local/lsst/DC2-production/Notebooks/phosim_repo/raw/7/R22/00000007-R22-S11-det094-000.fits\n",
      "ingest INFO: /global/cscratch1/sd/jchiang8/desc/calibration_products/phosim/bf_flats/lsst_a_000008_R22_S11.fits --<link>--> /global/u1/w/wmwv/local/lsst/DC2-production/Notebooks/phosim_repo/raw/8/R22/00000008-R22-S11-det094-000.fits\n",
      "ingest INFO: /global/cscratch1/sd/jchiang8/desc/calibration_products/phosim/bf_flats/lsst_a_000009_R22_S11.fits --<link>--> /global/u1/w/wmwv/local/lsst/DC2-production/Notebooks/phosim_repo/raw/9/R22/00000009-R22-S11-det094-000.fits\n",
      "ingest INFO: /global/cscratch1/sd/jchiang8/desc/calibration_products/phosim/bf_flats/lsst_a_000010_R22_S11.fits --<link>--> /global/u1/w/wmwv/local/lsst/DC2-production/Notebooks/phosim_repo/raw/10/R22/00000010-R22-S11-det094-000.fits\n",
      "ingest INFO: /global/cscratch1/sd/jchiang8/desc/calibration_products/phosim/bf_flats/lsst_a_000011_R22_S11.fits --<link>--> /global/u1/w/wmwv/local/lsst/DC2-production/Notebooks/phosim_repo/raw/11/R22/00000011-R22-S11-det094-000.fits\n"
     ]
    }
   ],
   "source": [
    "# Uncomment this `rm` command when you really mean to reingest, reprocess, and delete repo\n",
    "! rm -rf phosim_repo\n",
    "\n",
    "! mkdir phosim_repo\n",
    "! echo \"lsst.obs.lsstCam.LsstCamMapper\" > phosim_repo/_mapper\n",
    "\n",
    "# Ingest the PhoSim flats\n",
    "! ingestImages.py phosim_repo /global/cscratch1/sd/jchiang8/desc/calibration_products/phosim/bf_flats/lsst_a*.fits --mode link"
   ]
  },
  {
   "cell_type": "code",
   "execution_count": 6,
   "metadata": {},
   "outputs": [],
   "source": [
    "# Set the gain values.\n",
    "amp_names = ['C{:02d}'.format(i) for i in range(18)]\n",
    "phosim_gain = 1.0\n",
    "nominalGain = {a: phosim_gain for a in amp_names}"
   ]
  },
  {
   "cell_type": "code",
   "execution_count": 7,
   "metadata": {},
   "outputs": [],
   "source": [
    "phosim_repo = os.path.join(base_dir, 'phosim_repo')\n",
    "phosim_detector = 94\n",
    "butler = Butler(phosim_repo)"
   ]
  },
  {
   "cell_type": "code",
   "execution_count": 8,
   "metadata": {},
   "outputs": [],
   "source": [
    "gain = nominalGain\n",
    "dataRef = butler.dataRef('brighterFatterGain', dataId={'detector': phosim_detector}) \n",
    "dataRef.put(gain, 'brighterFatterGain')   "
   ]
  },
  {
   "cell_type": "markdown",
   "metadata": {},
   "source": [
    "Calculate the brighter-fatter kernel using `MakeBrighterFatterKernelTask`.  This will take ~10 minutes."
   ]
  },
  {
   "cell_type": "code",
   "execution_count": 9,
   "metadata": {},
   "outputs": [
    {
     "name": "stdout",
     "output_type": "stream",
     "text": [
      "makeBrighterFatterKernel.py phosim_repo --rerun test --id detector=94 --visit-pairs 3,9 4,8 6,7 -c xcorrCheckRejectLevel=2 doCalcGains=False --clobber-config --clobber-versions\n"
     ]
    },
    {
     "name": "stderr",
     "output_type": "stream",
     "text": [
      "Unable to find ip_isr 16.0-9-gcc4efb7+15 although it is seen in the environment\n",
      "Unable to find astshim 16.0-2-g0febb12+11 although it is seen in the environment\n",
      "Unable to find pytest_forked 0.2.lsst4+2 although it is seen in the environment\n",
      "Unable to find pex_policy 16.0-3-g404ea43+3 although it is seen in the environment\n",
      "Unable to find jointcal 16.0-16-g925333c+3 although it is seen in the environment\n",
      "Unable to find lsst_distrib 16.0+63 although it is seen in the environment\n",
      "Unable to find ctrl_platform_lsstvc 15.0+43 although it is seen in the environment\n",
      "Unable to find ctrl_orca 16.0-2-g2315192+2 although it is seen in the environment\n",
      "Unable to find meas_extensions_photometryKron 16.0-5-g1991253+3 although it is seen in the environment\n",
      "Unable to find display_ds9 16.0-2-g9d5294e+30 although it is seen in the environment\n",
      "Unable to find meas_extensions_simpleShape 16.0-5-gb3f8a4b+35 although it is seen in the environment\n",
      "Unable to find meas_algorithms 16.0-17-g6a7bfb3b+3 although it is seen in the environment\n",
      "Unable to find obs_comCam 16.0-3-ga6da207+18 although it is seen in the environment\n",
      "Unable to find lsst_apps 14.0+199 although it is seen in the environment\n",
      "Unable to find obs_ctio0m9 16.0-2-g915e3cf+16 although it is seen in the environment\n",
      "Unable to find meas_extensions_psfex 16.0-10-gc1446dd+3 although it is seen in the environment\n",
      "Unable to find pytest_cov 2.5.1+1 although it is seen in the environment\n",
      "Unable to find meas_deblender 16.0-8-g4dec96c+16 although it is seen in the environment\n",
      "Unable to find daf_butler master-g25d10f15b7+3 although it is seen in the environment\n",
      "Unable to find psfex 16.0+8 although it is seen in the environment\n",
      "Unable to find pytest_xdist 1.20.1.lsst4+2 although it is seen in the environment\n",
      "Unable to find display_matplotlib 16.0-3-gcfd6c53+28 although it is seen in the environment\n",
      "Unable to find meas_modelfit 16.0-13-g4c33ca5+3 although it is seen in the environment\n",
      "Unable to find obs_test 16.0-6-g0a6c279+4 although it is seen in the environment\n",
      "Unable to find obs_cfht 16.0-3-gb881f70+18 although it is seen in the environment\n",
      "Unable to find python_mccabe 0.6.1+10 although it is seen in the environment\n",
      "Unable to find ctrl_pool 16.0-3-gbc759ec+1 although it is seen in the environment\n",
      "Unable to find geom 16.0-10-g230e10e+5 although it is seen in the environment\n",
      "Unable to find shapelet 16.0-6-gf0acd13+22 although it is seen in the environment\n",
      "Unable to find meas_mosaic 16.0-12-gf08ec21+3 although it is seen in the environment\n",
      "Unable to find astrometry_net_data 8.0.0.0+44 although it is seen in the environment\n",
      "Unable to find meas_extensions_convolved 16.0-4-gae18638+3 although it is seen in the environment\n",
      "Unable to find meas_extensions_shapeHSM 16.0-6-gfda48a7+15 although it is seen in the environment\n",
      "Unable to find utils 16.0-8-gb99f628 although it is seen in the environment\n",
      "Unable to find pex_config 16.0-5-gd0f1235 although it is seen in the environment\n",
      "Unable to find validate_drp 16.0-10-gbad356f+3 although it is seen in the environment\n",
      "Unable to find jointcal_cholmod master-g48cb81d145+48 although it is seen in the environment\n",
      "Unable to find obs_monocam 16.0-3-g8f08cb2+16 although it is seen in the environment\n",
      "Unable to find flake8 3.5.0.lsst1 although it is seen in the environment\n",
      "Unable to find pytest 3.6.2.lsst1 although it is seen in the environment\n",
      "Unable to find log 16.0-1-gce273f5+12 although it is seen in the environment\n",
      "Unable to find ctrl_execute 15.0+43 although it is seen in the environment\n",
      "Unable to find sphgeom 16.0-4-g5f3a788+10 although it is seen in the environment\n",
      "Unable to find display_firefly 16.0-4-g03cf288+19 although it is seen in the environment\n",
      "Unable to find synpipe 16.0-5-g865efd9+3 although it is seen in the environment\n",
      "Unable to find base 16.0-4-g2cc461c+2 although it is seen in the environment\n",
      "Unable to find obs_decam 16.0-7-ge48b378+3 although it is seen in the environment\n",
      "Unable to find daf_persistence 16.0-7-g88875c5 although it is seen in the environment\n",
      "Unable to find meas_base 16.0-13-gd9b1b71+3 although it is seen in the environment\n",
      "Unable to find coadd_chisquared 16.0-2-g839ba83+41 although it is seen in the environment\n",
      "Unable to find sconsUtils 16.0-9-g681d1af although it is seen in the environment\n",
      "Unable to find pipe_base 16.0-12-g726f8f3+1 although it is seen in the environment\n",
      "Unable to find afw 16.0-42-gaa8aebfeb+1 although it is seen in the environment\n",
      "Unable to find obs_subaru 16.0-23-gd64ac79c+3 although it is seen in the environment\n",
      "Unable to find obs_sdss 16.0-4-g0a86d6a+18 although it is seen in the environment\n",
      "Unable to find pep8_naming 0.7.0.lsst1 although it is seen in the environment\n",
      "Unable to find ndarray 1.5.2 although it is seen in the environment\n",
      "Unable to find skymap 16.0-4-g13a27c5+5 although it is seen in the environment\n",
      "Unable to find meas_astrom 16.0-13-g5f6c0b1+3 although it is seen in the environment\n",
      "Unable to find daf_base 16.0-7-gc370964+2 although it is seen in the environment\n",
      "Unable to find lsst_obs 15.0+120 although it is seen in the environment\n",
      "Unable to find meas_extensions_astrometryNet 16.0-6-g316b399+3 although it is seen in the environment\n",
      "Unable to find obs_lsstSim 16.0-5-gc32b17b+20 although it is seen in the environment\n",
      "Unable to find pex_exceptions 16.0-4-ga3eb747 although it is seen in the environment\n",
      "Unable to find coadd_utils 16.0-4-g8a0f11a+25 although it is seen in the environment\n",
      "Unable to find verify 16.0-1-g0ee5b77+12 although it is seen in the environment\n",
      "Unable to find pipe_tasks 16.0-17-gd75be2c9 although it is seen in the environment\n",
      "Unable to find pipe_drivers 16.0-6-gf9cb114+4 although it is seen in the environment\n",
      "Unable to find pytest_session2file 0.1.9+10 although it is seen in the environment\n",
      "Unable to find verify_metrics 16.0-2-g16e3d1c+7 although it is seen in the environment\n",
      "Unable to find ip_diffim 16.0-10-g90ce0e4+3 although it is seen in the environment\n",
      "Unable to find pytest_flake8 1.0.1.lsst1 although it is seen in the environment\n"
     ]
    }
   ],
   "source": [
    "args = ['phosim_repo', '--rerun', 'test',\n",
    "        '--id', 'detector={}'.format(phosim_detector),\n",
    "        '--visit-pairs', '3,9', '4,8', '6,7',\n",
    "        '-c',\n",
    "        'xcorrCheckRejectLevel=2', 'doCalcGains=False',\n",
    "        '--clobber-config', '--clobber-versions'\n",
    "       ]\n",
    "\n",
    "# In case you want to compare with running in terminal.\n",
    "# Or perhaps you have access more easily to the stack version in a terminal than in a Jupyter kernel:\n",
    "command_line = 'makeBrighterFatterKernel.py ' + ' '.join(args)\n",
    "print(command_line)\n",
    "\n",
    "phosim_pb_struct = MakeBrighterFatterKernelTask.parseAndRun(args=args)"
   ]
  },
  {
   "cell_type": "markdown",
   "metadata": {},
   "source": [
    "Ignore warnings."
   ]
  },
  {
   "cell_type": "markdown",
   "metadata": {},
   "source": [
    "### Look at the PhoSim BF Kernel\n",
    "It worked.  let's load in the kernel and look at it!"
   ]
  },
  {
   "cell_type": "code",
   "execution_count": 18,
   "metadata": {},
   "outputs": [],
   "source": [
    "test_phosim_repo = os.path.join(phosim_repo, 'rerun', 'test')\n",
    "test_butler = Butler(test_phosim_repo)\n",
    "phosim_bf_object = test_butler.get('brighterFatterKernel', dataId={'raftName': 'R22', 'detectorName': 'S11', 'detector': phosim_detector})\n",
    "phosim_bf_kernel = phosim_bf_object.kernel"
   ]
  },
  {
   "cell_type": "code",
   "execution_count": 19,
   "metadata": {},
   "outputs": [
    {
     "data": {
      "text/plain": [
       "<matplotlib.image.AxesImage at 0x2b2fc4bc1a20>"
      ]
     },
     "execution_count": 19,
     "metadata": {},
     "output_type": "execute_result"
    }
   ],
   "source": [
    "plt.imshow(phosim_bf_kernel[phosim_detector])"
   ]
  },
  {
   "cell_type": "code",
   "execution_count": 20,
   "metadata": {},
   "outputs": [
    {
     "data": {
      "image/png": "[encoded data removed]",
      "text/plain": [
       "<Figure size 432x288 with 1 Axes>"
      ]
     },
     "metadata": {
      "needs_background": "light"
     },
     "output_type": "display_data"
    }
   ],
   "source": [
    "plt.show()"
   ]
  },
  {
   "cell_type": "code",
   "execution_count": 21,
   "metadata": {},
   "outputs": [
    {
     "data": {
      "text/plain": [
       "[<matplotlib.lines.Line2D at 0x2b2fc3babba8>]"
      ]
     },
     "execution_count": 21,
     "metadata": {},
     "output_type": "execute_result"
    }
   ],
   "source": [
    "plt.plot(phosim_bf_kernel[phosim_detector][:,8], color='blue', drawstyle='steps-mid')\n",
    "plt.plot(phosim_bf_kernel[phosim_detector][8,:], linestyle='--', color='red', drawstyle='steps-mid')"
   ]
  },
  {
   "cell_type": "code",
   "execution_count": 22,
   "metadata": {},
   "outputs": [
    {
     "data": {
      "image/png": "[encoded data removed]",
      "text/plain": [
       "<Figure size 432x288 with 1 Axes>"
      ]
     },
     "metadata": {
      "needs_background": "light"
     },
     "output_type": "display_data"
    }
   ],
   "source": [
    "plt.show()"
   ]
  },
  {
   "cell_type": "markdown",
   "metadata": {},
   "source": [
    "## Make ImSim Brighter-Fatter Kernel"
   ]
  },
  {
   "cell_type": "code",
   "execution_count": 23,
   "metadata": {},
   "outputs": [
    {
     "name": "stdout",
     "output_type": "stream",
     "text": [
      "root INFO: Loading config overrride file '/global/homes/w/wmwv/local/lsst/obs_lsstCam/config/ingest.py'\n",
      "LsstCamMapper WARN: Unable to find calib root directory\n",
      "CameraMapper INFO: Loading Posix exposure registry from /global/u1/w/wmwv/local/lsst/DC2-production/Notebooks/imsim_repo\n",
      "ingest INFO: /global/cscratch1/sd/jchiang8/desc/imsim_tests/bf_flats/lsst_a_161899_R01_S00_r.fits --<link>--> /global/u1/w/wmwv/local/lsst/DC2-production/Notebooks/imsim_repo/raw/161899/R01/00161899-R01-S00-det000-000.fits\n",
      "ingest INFO: /global/cscratch1/sd/jchiang8/desc/imsim_tests/bf_flats/lsst_a_161899_R01_S01_r.fits --<link>--> /global/u1/w/wmwv/local/lsst/DC2-production/Notebooks/imsim_repo/raw/161899/R01/00161899-R01-S01-det001-000.fits\n",
      "ingest INFO: /global/cscratch1/sd/jchiang8/desc/imsim_tests/bf_flats/lsst_a_161899_R01_S02_r.fits --<link>--> /global/u1/w/wmwv/local/lsst/DC2-production/Notebooks/imsim_repo/raw/161899/R01/00161899-R01-S02-det002-000.fits\n",
      "ingest INFO: /global/cscratch1/sd/jchiang8/desc/imsim_tests/bf_flats/lsst_a_161899_R01_S10_r.fits --<link>--> /global/u1/w/wmwv/local/lsst/DC2-production/Notebooks/imsim_repo/raw/161899/R01/00161899-R01-S10-det003-000.fits\n",
      "ingest INFO: /global/cscratch1/sd/jchiang8/desc/imsim_tests/bf_flats/lsst_a_161900_R01_S00_r.fits --<link>--> /global/u1/w/wmwv/local/lsst/DC2-production/Notebooks/imsim_repo/raw/161900/R01/00161900-R01-S00-det000-000.fits\n",
      "ingest INFO: /global/cscratch1/sd/jchiang8/desc/imsim_tests/bf_flats/lsst_a_161900_R01_S01_r.fits --<link>--> /global/u1/w/wmwv/local/lsst/DC2-production/Notebooks/imsim_repo/raw/161900/R01/00161900-R01-S01-det001-000.fits\n",
      "ingest INFO: /global/cscratch1/sd/jchiang8/desc/imsim_tests/bf_flats/lsst_a_161900_R01_S02_r.fits --<link>--> /global/u1/w/wmwv/local/lsst/DC2-production/Notebooks/imsim_repo/raw/161900/R01/00161900-R01-S02-det002-000.fits\n",
      "ingest INFO: /global/cscratch1/sd/jchiang8/desc/imsim_tests/bf_flats/lsst_a_161900_R01_S10_r.fits --<link>--> /global/u1/w/wmwv/local/lsst/DC2-production/Notebooks/imsim_repo/raw/161900/R01/00161900-R01-S10-det003-000.fits\n"
     ]
    }
   ],
   "source": [
    "# Uncomment this `rm` command when you really mean to reingest, reprocess, and delete repo\n",
    "! rm -rf imsim_repo\n",
    "\n",
    "! mkdir imsim_repo\n",
    "! echo \"lsst.obs.lsstCam.LsstCamMapper\" > imsim_repo/_mapper\n",
    "\n",
    "# Ingest the PhoSim flats\n",
    "! ingestImages.py imsim_repo /global/cscratch1/sd/jchiang8/desc/imsim_tests/bf_flats/lsst_a_*r.fits --mode link"
   ]
  },
  {
   "cell_type": "code",
   "execution_count": 24,
   "metadata": {},
   "outputs": [],
   "source": [
    "# Explicitly set the gain values.\n",
    "amp_names = ['C{:02d}'.format(i) for i in range(18)]\n",
    "imsim_gain = 1.7\n",
    "nominalGain = {a: imsim_gain for a in amp_names}"
   ]
  },
  {
   "cell_type": "code",
   "execution_count": 25,
   "metadata": {},
   "outputs": [],
   "source": [
    "imsim_repo = os.path.join(base_dir, 'imsim_repo')\n",
    "butler = Butler('imsim_repo')\n",
    "\n",
    "imsim_detectors = (0, 1, 2, 3)\n",
    "\n",
    "gain = nominalGain\n",
    "for det in imsim_detectors:\n",
    "    dataRef = butler.dataRef('brighterFatterGain', dataId={'detector': det}) \n",
    "    dataRef.put(gain, 'brighterFatterGain')   "
   ]
  },
  {
   "cell_type": "code",
   "execution_count": 26,
   "metadata": {},
   "outputs": [
    {
     "name": "stdout",
     "output_type": "stream",
     "text": [
      "makeBrighterFatterKernel.py imsim_repo --rerun test --id detector=0..3 --visit-pairs 161899,161900 -c xcorrCheckRejectLevel=2 doCalcGains=False --clobber-config --clobber-versions\n"
     ]
    },
    {
     "name": "stderr",
     "output_type": "stream",
     "text": [
      "Unable to find ip_isr 16.0-9-gcc4efb7+15 although it is seen in the environment\n",
      "Unable to find astshim 16.0-2-g0febb12+11 although it is seen in the environment\n",
      "Unable to find pytest_forked 0.2.lsst4+2 although it is seen in the environment\n",
      "Unable to find pex_policy 16.0-3-g404ea43+3 although it is seen in the environment\n",
      "Unable to find jointcal 16.0-16-g925333c+3 although it is seen in the environment\n",
      "Unable to find lsst_distrib 16.0+63 although it is seen in the environment\n",
      "Unable to find ctrl_platform_lsstvc 15.0+43 although it is seen in the environment\n",
      "Unable to find ctrl_orca 16.0-2-g2315192+2 although it is seen in the environment\n",
      "Unable to find meas_extensions_photometryKron 16.0-5-g1991253+3 although it is seen in the environment\n",
      "Unable to find display_ds9 16.0-2-g9d5294e+30 although it is seen in the environment\n",
      "Unable to find meas_extensions_simpleShape 16.0-5-gb3f8a4b+35 although it is seen in the environment\n",
      "Unable to find meas_algorithms 16.0-17-g6a7bfb3b+3 although it is seen in the environment\n",
      "Unable to find obs_comCam 16.0-3-ga6da207+18 although it is seen in the environment\n",
      "Unable to find lsst_apps 14.0+199 although it is seen in the environment\n",
      "Unable to find obs_ctio0m9 16.0-2-g915e3cf+16 although it is seen in the environment\n",
      "Unable to find meas_extensions_psfex 16.0-10-gc1446dd+3 although it is seen in the environment\n",
      "Unable to find pytest_cov 2.5.1+1 although it is seen in the environment\n",
      "Unable to find meas_deblender 16.0-8-g4dec96c+16 although it is seen in the environment\n",
      "Unable to find daf_butler master-g25d10f15b7+3 although it is seen in the environment\n",
      "Unable to find psfex 16.0+8 although it is seen in the environment\n",
      "Unable to find pytest_xdist 1.20.1.lsst4+2 although it is seen in the environment\n",
      "Unable to find display_matplotlib 16.0-3-gcfd6c53+28 although it is seen in the environment\n",
      "Unable to find meas_modelfit 16.0-13-g4c33ca5+3 although it is seen in the environment\n",
      "Unable to find obs_test 16.0-6-g0a6c279+4 although it is seen in the environment\n",
      "Unable to find obs_cfht 16.0-3-gb881f70+18 although it is seen in the environment\n",
      "Unable to find python_mccabe 0.6.1+10 although it is seen in the environment\n",
      "Unable to find ctrl_pool 16.0-3-gbc759ec+1 although it is seen in the environment\n",
      "Unable to find geom 16.0-10-g230e10e+5 although it is seen in the environment\n",
      "Unable to find shapelet 16.0-6-gf0acd13+22 although it is seen in the environment\n",
      "Unable to find meas_mosaic 16.0-12-gf08ec21+3 although it is seen in the environment\n",
      "Unable to find astrometry_net_data 8.0.0.0+44 although it is seen in the environment\n",
      "Unable to find meas_extensions_convolved 16.0-4-gae18638+3 although it is seen in the environment\n",
      "Unable to find meas_extensions_shapeHSM 16.0-6-gfda48a7+15 although it is seen in the environment\n",
      "Unable to find utils 16.0-8-gb99f628 although it is seen in the environment\n",
      "Unable to find pex_config 16.0-5-gd0f1235 although it is seen in the environment\n",
      "Unable to find validate_drp 16.0-10-gbad356f+3 although it is seen in the environment\n",
      "Unable to find jointcal_cholmod master-g48cb81d145+48 although it is seen in the environment\n",
      "Unable to find obs_monocam 16.0-3-g8f08cb2+16 although it is seen in the environment\n",
      "Unable to find flake8 3.5.0.lsst1 although it is seen in the environment\n",
      "Unable to find pytest 3.6.2.lsst1 although it is seen in the environment\n",
      "Unable to find log 16.0-1-gce273f5+12 although it is seen in the environment\n",
      "Unable to find ctrl_execute 15.0+43 although it is seen in the environment\n",
      "Unable to find sphgeom 16.0-4-g5f3a788+10 although it is seen in the environment\n",
      "Unable to find display_firefly 16.0-4-g03cf288+19 although it is seen in the environment\n",
      "Unable to find synpipe 16.0-5-g865efd9+3 although it is seen in the environment\n",
      "Unable to find base 16.0-4-g2cc461c+2 although it is seen in the environment\n",
      "Unable to find obs_decam 16.0-7-ge48b378+3 although it is seen in the environment\n",
      "Unable to find daf_persistence 16.0-7-g88875c5 although it is seen in the environment\n",
      "Unable to find meas_base 16.0-13-gd9b1b71+3 although it is seen in the environment\n",
      "Unable to find coadd_chisquared 16.0-2-g839ba83+41 although it is seen in the environment\n",
      "Unable to find sconsUtils 16.0-9-g681d1af although it is seen in the environment\n",
      "Unable to find pipe_base 16.0-12-g726f8f3+1 although it is seen in the environment\n",
      "Unable to find afw 16.0-42-gaa8aebfeb+1 although it is seen in the environment\n",
      "Unable to find obs_subaru 16.0-23-gd64ac79c+3 although it is seen in the environment\n",
      "Unable to find obs_sdss 16.0-4-g0a86d6a+18 although it is seen in the environment\n",
      "Unable to find pep8_naming 0.7.0.lsst1 although it is seen in the environment\n",
      "Unable to find ndarray 1.5.2 although it is seen in the environment\n",
      "Unable to find skymap 16.0-4-g13a27c5+5 although it is seen in the environment\n",
      "Unable to find meas_astrom 16.0-13-g5f6c0b1+3 although it is seen in the environment\n",
      "Unable to find daf_base 16.0-7-gc370964+2 although it is seen in the environment\n",
      "Unable to find lsst_obs 15.0+120 although it is seen in the environment\n",
      "Unable to find meas_extensions_astrometryNet 16.0-6-g316b399+3 although it is seen in the environment\n",
      "Unable to find obs_lsstSim 16.0-5-gc32b17b+20 although it is seen in the environment\n",
      "Unable to find pex_exceptions 16.0-4-ga3eb747 although it is seen in the environment\n",
      "Unable to find coadd_utils 16.0-4-g8a0f11a+25 although it is seen in the environment\n",
      "Unable to find verify 16.0-1-g0ee5b77+12 although it is seen in the environment\n",
      "Unable to find pipe_tasks 16.0-17-gd75be2c9 although it is seen in the environment\n",
      "Unable to find pipe_drivers 16.0-6-gf9cb114+4 although it is seen in the environment\n",
      "Unable to find pytest_session2file 0.1.9+10 although it is seen in the environment\n",
      "Unable to find verify_metrics 16.0-2-g16e3d1c+7 although it is seen in the environment\n",
      "Unable to find ip_diffim 16.0-10-g90ce0e4+3 although it is seen in the environment\n",
      "Unable to find pytest_flake8 1.0.1.lsst1 although it is seen in the environment\n",
      "WARNING: ErfaWarning: ERFA function \"dtf2d\" yielded 1 of \"dubious year (Note 6)\" [astropy._erfa.core]\n",
      "WARNING: ErfaWarning: ERFA function \"utctai\" yielded 1 of \"dubious year (Note 3)\" [astropy._erfa.core]\n"
     ]
    }
   ],
   "source": [
    "args = ['imsim_repo', '--rerun', 'test',\n",
    "        '--id', 'detector=0..3',\n",
    "        '--visit-pairs', '161899,161900',\n",
    "        '-c',\n",
    "        'xcorrCheckRejectLevel=2', 'doCalcGains=False',\n",
    "        '--clobber-config', '--clobber-versions'\n",
    "       ]\n",
    "\n",
    "# In case you want to compare with running in terminal.\n",
    "# Or perhaps you have access more easily to the stack version in a terminal than in a Jupyter kernel:\n",
    "command_line = 'makeBrighterFatterKernel.py ' + ' '.join(args)\n",
    "print(command_line)\n",
    "\n",
    "imsim_pb_struct = MakeBrighterFatterKernelTask.parseAndRun(args=args)"
   ]
  },
  {
   "cell_type": "markdown",
   "metadata": {},
   "source": [
    "### Look at the ImSim BF Kernel\n",
    "It worked.  let's load in the kernel and look at it!"
   ]
  },
  {
   "cell_type": "code",
   "execution_count": 27,
   "metadata": {},
   "outputs": [],
   "source": [
    "test_imsim_repo = os.path.join(base_dir, 'imsim_repo', 'rerun', 'test')\n",
    "\n",
    "test_butler = Butler(test_imsim_repo)\n",
    "imsim_detectors = (0, 1, 2, 3)"
   ]
  },
  {
   "cell_type": "code",
   "execution_count": 29,
   "metadata": {},
   "outputs": [],
   "source": [
    "imsim_bf_kernel = {}\n",
    "for det in imsim_detectors:\n",
    "    this_bf_object = test_butler.get('brighterFatterKernel', dataId={'detector': det})\n",
    "    imsim_bf_kernel.update(this_bf_object.kernel)"
   ]
  },
  {
   "cell_type": "code",
   "execution_count": 30,
   "metadata": {},
   "outputs": [
    {
     "name": "stdout",
     "output_type": "stream",
     "text": [
      "dict_keys([0, 1, 2, 3])\n"
     ]
    }
   ],
   "source": [
    "print(imsim_bf_kernel.keys())"
   ]
  },
  {
   "cell_type": "code",
   "execution_count": 32,
   "metadata": {},
   "outputs": [],
   "source": [
    "plt.imshow(imsim_bf_kernel[0])\n",
    "plt.imshow(imsim_bf_kernel[1])\n",
    "plt.imshow(imsim_bf_kernel[2])\n",
    "plt.imshow(imsim_bf_kernel[3])"
   ]
  },
  {
   "cell_type": "code",
   "execution_count": 32,
   "metadata": {},
   "outputs": [
    {
     "data": {
      "image/png": "[encoded data removed]",
      "text/plain": [
       "<Figure size 432x288 with 1 Axes>"
      ]
     },
     "metadata": {
      "needs_background": "light"
     },
     "output_type": "display_data"
    }
   ],
   "source": [
    "plt.show()"
   ]
  },
  {
   "cell_type": "code",
   "execution_count": 35,
   "metadata": {},
   "outputs": [
    {
     "data": {
      "image/png": "[encoded data removed]",
      "text/plain": [
       "<Figure size 432x288 with 1 Axes>"
      ]
     },
     "metadata": {
      "needs_background": "light"
     },
     "output_type": "display_data"
    }
   ],
   "source": [
    "plt.plot(imsim_bf_kernel[0][:,8], color='green', drawstyle='steps-mid')\n",
    "plt.plot(imsim_bf_kernel[0][8,:], color='green', linestyle='--', drawstyle='steps-mid')\n",
    "\n",
    "plt.plot(imsim_bf_kernel[1][:,8], color='red', drawstyle='steps-mid')\n",
    "plt.plot(imsim_bf_kernel[1][8,:], color='red', linestyle='--', drawstyle='steps-mid')\n",
    "\n",
    "plt.plot(imsim_bf_kernel[2][:,8], color='orange', drawstyle='steps-mid')\n",
    "plt.plot(imsim_bf_kernel[2][8,:], color='orange', linestyle='--', drawstyle='steps-mid')\n",
    "\n",
    "plt.plot(imsim_bf_kernel[3][:,8], color='blue', drawstyle='steps-mid')\n",
    "plt.plot(imsim_bf_kernel[3][8,:], color='blue', linestyle='--', drawstyle='steps-mid')\n",
    "\n",
    "plt.show()"
   ]
  },
  {
   "cell_type": "code",
   "execution_count": 37,
   "metadata": {},
   "outputs": [
    {
     "data": {
      "image/png": "[encoded data removed]",
      "text/plain": [
       "<Figure size 432x288 with 1 Axes>"
      ]
     },
     "metadata": {
      "needs_background": "light"
     },
     "output_type": "display_data"
    }
   ],
   "source": [
    "plt.plot(imsim_bf_kernel[0][:,8], color='green', drawstyle='steps-mid')\n",
    "plt.plot(imsim_bf_kernel[0][8,:], color='green', linestyle='--', drawstyle='steps-mid')\n",
    "\n",
    "plt.plot(imsim_bf_kernel[1][:,8], color='red', drawstyle='steps-mid')\n",
    "plt.plot(imsim_bf_kernel[1][8,:], color='red', linestyle='--', drawstyle='steps-mid')\n",
    "\n",
    "plt.plot(imsim_bf_kernel[2][:,8], color='orange', drawstyle='steps-mid')\n",
    "plt.plot(imsim_bf_kernel[2][8,:], color='orange', linestyle='--', drawstyle='steps-mid')\n",
    "\n",
    "plt.plot(imsim_bf_kernel[3][:,8], color='blue', drawstyle='steps-mid')\n",
    "plt.plot(imsim_bf_kernel[3][8,:], color='blue', linestyle='--', drawstyle='steps-mid')\n",
    "\n",
    "plt.show()"
   ]
  },
  {
   "cell_type": "code",
   "execution_count": 38,
   "metadata": {},
   "outputs": [],
   "source": [
    "imsim_detector = 0  # We have 4.  Let's use this one when comparing below."
   ]
  },
  {
   "cell_type": "markdown",
   "metadata": {},
   "source": [
    "## HSC Brighter-Fatter Kernel\n",
    "Calculated by Will Coulton  \n",
    "Merlin Fisher-Levine has also calculated version.\n",
    "\n",
    "This is the brighter-fatter kernel for CCD 41.  The HSC BF corrections were done based purely on the results from this CCD."
   ]
  },
  {
   "cell_type": "code",
   "execution_count": 39,
   "metadata": {},
   "outputs": [],
   "source": [
    "hsc_detector = 41\n",
    "# hsc_bf_kernel_file = 'hsc_bfKernel-{:03d}.pkl'.format(hsc_detector)\n",
    "hsc_bf_kernel_file = 'bf_kernels/HSC/hsc_brighter_fatter_kernel.pkl'\n",
    "import pickle\n",
    "with open(hsc_bf_kernel_file, 'rb') as f:\n",
    "    hsc_bf_kernel = pickle.load(f, encoding='bytes')\n",
    "\n",
    "# For the generic HSC BF kernel, stuff it into a dictionary so it looks like the other ones\n",
    "hsc_bf_kernel = {hsc_detector: hsc_bf_kernel}"
   ]
  },
  {
   "cell_type": "code",
   "execution_count": 40,
   "metadata": {},
   "outputs": [
    {
     "data": {
      "text/plain": [
       "Text(0,0.5,'Brighter-Fatter Kernel')"
      ]
     },
     "execution_count": 40,
     "metadata": {},
     "output_type": "execute_result"
    }
   ],
   "source": [
    "hsc_bf_radius = len(hsc_bf_kernel[hsc_detector])//2\n",
    "r = np.arange(-hsc_bf_radius, +hsc_bf_radius+1)\n",
    "plt.plot(r, hsc_bf_kernel[hsc_detector][:,hsc_bf_radius], color='red', drawstyle='steps-mid', label='HSC CCD 41 x')\n",
    "plt.plot(r, hsc_bf_kernel[hsc_detector][hsc_bf_radius,:], color='red', linestyle='--', drawstyle='steps-mid', label='HSC CCD 41 y')\n",
    "plt.xlabel('Distance from pixel')\n",
    "plt.ylabel('Brighter-Fatter Kernel')"
   ]
  },
  {
   "cell_type": "code",
   "execution_count": 41,
   "metadata": {},
   "outputs": [
    {
     "data": {
      "image/png": "[encoded data removed]",
      "text/plain": [
       "<Figure size 432x288 with 1 Axes>"
      ]
     },
     "metadata": {
      "needs_background": "light"
     },
     "output_type": "display_data"
    }
   ],
   "source": [
    "plt.show()"
   ]
  },
  {
   "cell_type": "markdown",
   "metadata": {},
   "source": [
    "## Lab-based BF measurements"
   ]
  },
  {
   "cell_type": "markdown",
   "metadata": {},
   "source": [
    "Let's compare this to lab-based ITL data from Craige Lage and Andrew Bradshaw.  I've taken the liberty of copying into this `DC2-production` repo the BF kernel they calculated from flats in the lab."
   ]
  },
  {
   "cell_type": "code",
   "execution_count": 49,
   "metadata": {},
   "outputs": [],
   "source": [
    "from astropy.io import fits\n",
    "lab_bf_kernel = fits.getdata('bf_kernels/Lab/BF_kernel-ITL_3800C_002.fits')\n",
    "# Make it look like the other ones\n",
    "lab_detector = 2\n",
    "lab_bf_kernel = {lab_detector: lab_bf_kernel}"
   ]
  },
  {
   "cell_type": "code",
   "execution_count": 50,
   "metadata": {},
   "outputs": [],
   "source": [
    "# Create some dicts to simplify code below\n",
    "ref_detectors = {'PhoSim': phosim_detector, 'ImSim': imsim_detector, 'HSC': hsc_detector, 'ITL': lab_detector}\n",
    "bf_kernels = {'PhoSim': phosim_bf_kernel, 'ImSim': imsim_bf_kernel, 'HSC': hsc_bf_kernel, 'ITL': lab_bf_kernel}\n",
    "colors = {'PhoSim': 'blue', 'ImSim': 'green', 'HSC': 'red', 'ITL': 'orange'}"
   ]
  },
  {
   "cell_type": "code",
   "execution_count": 51,
   "metadata": {},
   "outputs": [],
   "source": [
    "bf_centers = {k: len(bf_kernels[k][ref_detectors[k]])//2 for k in bf_kernels}"
   ]
  },
  {
   "cell_type": "code",
   "execution_count": 52,
   "metadata": {},
   "outputs": [
    {
     "data": {
      "text/plain": [
       "<matplotlib.legend.Legend at 0x2b2fc52b2240>"
      ]
     },
     "execution_count": 52,
     "metadata": {},
     "output_type": "execute_result"
    }
   ],
   "source": [
    "for k, bf in bf_kernels.items():\n",
    "    r = np.arange(-bf_centers[k], +bf_centers[k]+1)\n",
    "    kernel_row = bf_kernels[k][ref_detectors[k]][:, bf_centers[k]]\n",
    "    plt.plot(r, kernel_row,\n",
    "             drawstyle='steps-mid', color=colors[k], label='{}'.format(k))\n",
    "\n",
    "plt.legend()"
   ]
  },
  {
   "cell_type": "code",
   "execution_count": 53,
   "metadata": {},
   "outputs": [
    {
     "data": {
      "image/png": "[encoded data removed]",
      "text/plain": [
       "<Figure size 432x288 with 1 Axes>"
      ]
     },
     "metadata": {
      "needs_background": "light"
     },
     "output_type": "display_data"
    }
   ],
   "source": [
    "plt.show()"
   ]
  },
  {
   "cell_type": "markdown",
   "metadata": {},
   "source": [
    "Hmmmm... are these just multiplicatively scaled versions?\n",
    "\n",
    "Let's normalize to the central pixel."
   ]
  },
  {
   "cell_type": "code",
   "execution_count": 54,
   "metadata": {},
   "outputs": [],
   "source": [
    "central_values = {k: bf_kernels[k][ref_detectors[k]][bf_centers[k], bf_centers[k]] for k in bf_kernels}\n",
    "ref_scale = 'ITL'\n",
    "scale = {k: central_values[ref_scale]/central_values[k] for k in central_values}\n",
    "\n",
    "# phosim_scale, imsim_scale, hsc_scale, lab_scale = 0.055, 1.6, 0.92, 1"
   ]
  },
  {
   "cell_type": "code",
   "execution_count": 55,
   "metadata": {},
   "outputs": [
    {
     "name": "stdout",
     "output_type": "stream",
     "text": [
      "{'PhoSim': -7.809084644848518e-06, 'ImSim': -2.646821829757764e-07, 'HSC': -4.653174233407682e-07, 'ITL': -4.239152833351231e-07}\n",
      "{'PhoSim': 0.05428488774478463, 'ImSim': 1.6016011299631743, 'HSC': 0.9110238776180001, 'ITL': 1.0}\n"
     ]
    }
   ],
   "source": [
    "print(central_values)\n",
    "print(scale)"
   ]
  },
  {
   "cell_type": "code",
   "execution_count": 56,
   "metadata": {},
   "outputs": [
    {
     "data": {
      "text/plain": [
       "<matplotlib.legend.Legend at 0x2b2fc4e69f60>"
      ]
     },
     "execution_count": 56,
     "metadata": {},
     "output_type": "execute_result"
    }
   ],
   "source": [
    "for k, bf in bf_kernels.items():\n",
    "    r = np.arange(-bf_centers[k], +bf_centers[k]+1)\n",
    "    kernel_row = bf_kernels[k][ref_detectors[k]][:, bf_centers[k]]\n",
    "    plt.plot(r, scale[k] * kernel_row,\n",
    "             drawstyle='steps-mid', color=colors[k], label='{}'.format(k))\n",
    "\n",
    "plt.legend()"
   ]
  },
  {
   "cell_type": "code",
   "execution_count": 57,
   "metadata": {},
   "outputs": [
    {
     "data": {
      "image/png": "[encoded data removed]",
      "text/plain": [
       "<Figure size 432x288 with 1 Axes>"
      ]
     },
     "metadata": {
      "needs_background": "light"
     },
     "output_type": "display_data"
    }
   ],
   "source": [
    "plt.show()"
   ]
  },
  {
   "cell_type": "code",
   "execution_count": 58,
   "metadata": {},
   "outputs": [
    {
     "data": {
      "text/plain": [
       "<matplotlib.legend.Legend at 0x2b2fc538abe0>"
      ]
     },
     "execution_count": 58,
     "metadata": {},
     "output_type": "execute_result"
    }
   ],
   "source": [
    "for k, bf in bf_kernels.items():\n",
    "    r = np.arange(-bf_centers[k], +bf_centers[k]+1)\n",
    "    kernel_row = bf_kernels[k][ref_detectors[k]][:, bf_centers[k]]\n",
    "    plt.plot(r, - scale[k] * kernel_row,\n",
    "             drawstyle='steps-mid', color=colors[k], label='{}'.format(k))\n",
    "\n",
    "A = -central_values[ref_scale]\n",
    "r0 = {'PhoSim': -6.5, 'ImSim': -1.8, 'HSC': -2.8, 'ITL': -2.8}\n",
    "distance = np.linspace(-bf_centers[ref_scale], +bf_centers[ref_scale], 100)\n",
    "for k, r in r0.items():\n",
    "    plt.plot(distance, A*10**(-np.abs(distance/r)),\n",
    "             color=colors[k], linestyle=':',\n",
    "             label='{} r0={:.1f}'.format(k, r))\n",
    "\n",
    "plt.ylim(1e-8, 1e-6)\n",
    "plt.yscale('log')\n",
    "\n",
    "plt.xlabel('Distance from pixel')\n",
    "plt.ylabel('BF kernel value')\n",
    "\n",
    "plt.legend()"
   ]
  },
  {
   "cell_type": "code",
   "execution_count": 59,
   "metadata": {},
   "outputs": [
    {
     "data": {
      "image/png": "[encoded data removed]",
      "text/plain": [
       "<Figure size 432x288 with 1 Axes>"
      ]
     },
     "metadata": {
      "needs_background": "light"
     },
     "output_type": "display_data"
    }
   ],
   "source": [
    "plt.show()"
   ]
  },
  {
   "cell_type": "markdown",
   "metadata": {},
   "source": [
    "------\n",
    "### Things to think about running sometime in the future"
   ]
  },
  {
   "cell_type": "code",
   "execution_count": 32,
   "metadata": {},
   "outputs": [
    {
     "name": "stdout",
     "output_type": "stream",
     "text": [
      "['phosim_repo', '--rerun', 'wmwv/calib', '--longlog', '--id', 'visit=9999', '--batch-type', 'none', '--cores', '4']\n"
     ]
    }
   ],
   "source": [
    "from lsst.pipe.drivers.constructCalibs import BiasTask\n",
    "args_line = 'phosim_repo --rerun wmwv/calib --longlog --id visit=9999 --batch-type none --cores 4'\n",
    "args = args_line.split(' ')\n",
    "print(args)\n",
    "\n",
    "### We're not actually going ton construct master bias or darks yet.\n",
    "# BiasTask.parseAndSubmit(args=args)"
   ]
  },
  {
   "cell_type": "code",
   "execution_count": 33,
   "metadata": {},
   "outputs": [],
   "source": [
    "# ! constructBias.py calib_repo --rerun wmwv/calib --longlog --id visit=9999 --batch-type none --cores 4"
   ]
  },
  {
   "cell_type": "code",
   "execution_count": null,
   "metadata": {},
   "outputs": [],
   "source": [
    "\n",
    "## We don't have any master calibration images yet.\n",
    "# ingestCalibs.py calib_repo --output calib_repo/CALIB --validity 13000 calib_repo/rerun/wmwv/calib/bias/2022-01-01/*.fits\n",
    "\n",
    "# Darks next, before flats.\n",
    "! ingestImages.py calib_repo dark_files/*.fits --mode link\n",
    "\n",
    "# Make a master dark\n",
    "! constructDark.py calib_repo --rerun wmwv/calib_dark --longlog --id visit=4000000 --batch-type none --cores 4\n",
    "\n",
    "# Take the master dark we just created and load it into the CALIB_ROOT.\n",
    "! ingestCalibs.py calib_repo --output calib_repo/CALIB --validity 13000 calib_repo/rerun/wmwv/calib_dark/dark/1994-07-19/*.fits\n",
    "\n",
    "# Make a master flat.\n",
    "! constructFlat.py calib_repo --rerun wmwv/calib_flat --longlog --id visit=219976 raft=R34 ccd=S02 --batch-type none"
   ]
  },
  {
   "cell_type": "code",
   "execution_count": 35,
   "metadata": {},
   "outputs": [],
   "source": [
    "imsim_raw_glob = '/global/cscratch1/sd/jchiang8/desc/imsim_tests/bf_flats/lsst_a_*r.fits'\n",
    "phosim_raw_glob = '/global/cscratch1/sd/jchiang8/desc/calibration_products/bf_flats/lsst_a*.fits'\n",
    "\n",
    "mapper_str = 'lsst.obs.lsstCam.ImsimMapper'"
   ]
  },
  {
   "cell_type": "markdown",
   "metadata": {},
   "source": [
    "Ingest the calibration files."
   ]
  },
  {
   "cell_type": "code",
   "execution_count": 36,
   "metadata": {},
   "outputs": [],
   "source": [
    "from lsst.pipe.tasks.ingest import IngestTask\n",
    "\n",
    "# Do biases first since constructDark.py expects them.\n",
    "arg_string = 'calib_repo /global/cscratch1/sd/jchiang8/desc/calibration_products/bias_files/*.fits --mode link'\n",
    "args = ' '.split(arg_string)\n",
    "\n",
    "# But this doesn't actually work because IngestImages only uses sys.argv.\n",
    "# It doesn't accept an args passthrough to the `parseAndRun` method.\n",
    "# IngestTask.parseAndRun(args=args)"
   ]
  },
  {
   "cell_type": "code",
   "execution_count": null,
   "metadata": {},
   "outputs": [],
   "source": [
    "# So we call out to the shell with a !\n",
    "### we don't even need bias or dark just to test out generation of the BF kernel.\n",
    "# ! ingestImages.py calib_repo /global/cscratch1/sd/jchiang8/desc/calibration_products/bias_files/*.fits --mode link\n",
    "# ! ingestImages.py calib_repo /global/cscratch1/sd/jchiang8/desc/calibration_products/dark_files/*.fits --mode link\n",
    "! ingestImages.py calib_repo /global/cscratch1/sd/jchiang8/desc/calibration_products/bf_flats/lsst_a*.fits --mode link"
   ]
  }
 ],
 "metadata": {
  "kernelspec": {
   "display_name": "shifter-stack-obs-lsstCam",
   "language": "python",
   "name": "shifter-stack-obs-lsstcam"
  },
  "language_info": {
   "codemirror_mode": {
    "name": "ipython",
    "version": 3
   },
   "file_extension": ".py",
   "mimetype": "text/x-python",
   "name": "python",
   "nbconvert_exporter": "python",
   "pygments_lexer": "ipython3",
   "version": "3.6.6"
  }
 },
 "nbformat": 4,
 "nbformat_minor": 2
}
