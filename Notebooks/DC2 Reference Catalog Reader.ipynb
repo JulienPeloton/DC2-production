{
 "cells": [
  {
   "cell_type": "code",
   "execution_count": 1,
   "metadata": {},
   "outputs": [],
   "source": [
    "#import sys\n",
    "#sys.path.insert(0, '/global/common/software/lsst/common/miniconda/current/lib/python3.6/site-packages')\n",
    "#sys.path.insert(0, '/path/to/your/cloned/gcr-catalogs')"
   ]
  },
  {
   "cell_type": "code",
   "execution_count": 2,
   "metadata": {},
   "outputs": [],
   "source": [
    "import numpy as np\n",
    "from GCR import GCRQuery\n",
    "import GCRCatalogs"
   ]
  },
  {
   "cell_type": "code",
   "execution_count": 3,
   "metadata": {},
   "outputs": [],
   "source": [
    "c = GCRCatalogs.load_catalog('dc2_reference_run1.2p')"
   ]
  },
  {
   "cell_type": "code",
   "execution_count": 4,
   "metadata": {},
   "outputs": [
    {
     "data": {
      "text/plain": [
       "['dec',\n",
       " 'dec_smeared',\n",
       " 'is_agn',\n",
       " 'is_resolved',\n",
       " 'mag_g_lsst',\n",
       " 'mag_g_lsst_smeared',\n",
       " 'mag_i_lsst',\n",
       " 'mag_i_lsst_smeared',\n",
       " 'mag_r_lsst',\n",
       " 'mag_r_lsst_smeared',\n",
       " 'mag_u_lsst',\n",
       " 'mag_u_lsst_smeared',\n",
       " 'mag_y_lsst',\n",
       " 'mag_y_lsst_smeared',\n",
       " 'mag_z_lsst',\n",
       " 'mag_z_lsst_smeared',\n",
       " 'object_id',\n",
       " 'ra',\n",
       " 'ra_smeared',\n",
       " 'sigma_dec',\n",
       " 'sigma_ra']"
      ]
     },
     "execution_count": 4,
     "metadata": {},
     "output_type": "execute_result"
    }
   ],
   "source": [
    "sorted(c.list_all_quantities())"
   ]
  },
  {
   "cell_type": "code",
   "execution_count": 5,
   "metadata": {},
   "outputs": [
    {
     "name": "stdout",
     "output_type": "stream",
     "text": [
      "{'ra': array([ 54.9608715,  54.9540407,  54.969202 , ...,  56.3869934,\n",
      "        56.391732 ,  56.4020143]), 'dec': array([-25.8317476, -25.8349314, -25.8155658, ..., -27.5871559,\n",
      "       -27.5658308, -27.5728141])}\n"
     ]
    }
   ],
   "source": [
    "#will return the first batch of values, depending on nlines\n",
    "print(next(c.get_quantities(['ra', 'dec'], return_iterator=True)))"
   ]
  },
  {
   "cell_type": "code",
   "execution_count": null,
   "metadata": {},
   "outputs": [],
   "source": [
    "# will return all values, but will take some time to read (unless you set only_first_chunk=True):\n",
    "data = c.get_quantities(['ra', 'dec'])"
   ]
  },
  {
   "cell_type": "code",
   "execution_count": null,
   "metadata": {},
   "outputs": [],
   "source": []
  }
 ],
 "metadata": {
  "kernelspec": {
   "display_name": "desc-python",
   "language": "python",
   "name": "desc-python"
  },
  "language_info": {
   "codemirror_mode": {
    "name": "ipython",
    "version": 3
   },
   "file_extension": ".py",
   "mimetype": "text/x-python",
   "name": "python",
   "nbconvert_exporter": "python",
   "pygments_lexer": "ipython3",
   "version": "3.6.2"
  }
 },
 "nbformat": 4,
 "nbformat_minor": 2
}
