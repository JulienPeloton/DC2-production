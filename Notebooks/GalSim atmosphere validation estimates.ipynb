{
 "cells": [
  {
   "cell_type": "code",
   "execution_count": 5,
   "metadata": {
    "collapsed": true
   },
   "outputs": [],
   "source": [
    "KNL_time = 230 # seconds per star on a single core\n",
    "Haswell_time = 37 # seconds per star on a single core\n",
    "KNL_cores_per_node = 68\n",
    "Haswell_cores_per_node = 32"
   ]
  },
  {
   "cell_type": "code",
   "execution_count": 16,
   "metadata": {},
   "outputs": [
    {
     "name": "stdout",
     "output_type": "stream",
     "text": [
      "fiducial stars per ccd = 185 per arcmin^2\n"
     ]
    }
   ],
   "source": [
    "fiducial_stellar_density = 1.0 # PSFs per arcmin^2\n",
    "ccd_area = 13.6**2 # arcmin^2\n",
    "fiducial_stars_per_ccd = fiducial_stellar_density * ccd_area\n",
    "print(\"fiducial stars per ccd = {:3.0f} per arcmin^2\".format(fiducial_stars_per_ccd))"
   ]
  },
  {
   "cell_type": "code",
   "execution_count": 20,
   "metadata": {},
   "outputs": [
    {
     "name": "stdout",
     "output_type": "stream",
     "text": [
      "KNL fiducial time per ccd = 626 node sec\n",
      "Haswell fiducial time per ccd = 214 node sec\n"
     ]
    }
   ],
   "source": [
    "KNL_fiducial_node_time_per_ccd = KNL_time * fiducial_stars_per_ccd / KNL_cores_per_node\n",
    "print(\"KNL fiducial time per ccd = {:3.0f} node sec\".format(KNL_fiducial_node_time_per_ccd))\n",
    "Haswell_fiducial_node_time_per_ccd = Haswell_time * fiducial_stars_per_ccd / Haswell_cores_per_node\n",
    "print(\"Haswell fiducial time per ccd = {:3.0f} node sec\".format(Haswell_fiducial_node_time_per_ccd))"
   ]
  },
  {
   "cell_type": "code",
   "execution_count": 26,
   "metadata": {},
   "outputs": [
    {
     "name": "stdout",
     "output_type": "stream",
     "text": [
      "KNL dt study time = 15843946 node sec\n",
      "                  = 4401 node hour\n",
      "                  = 422505 NERSC hour\n",
      "Haswell dt study time = 5416218 node sec\n",
      "                  = 1505 node hour\n",
      "                  = 120360 NERSC hour\n"
     ]
    }
   ],
   "source": [
    "# Time step study.  vary time step by factors of\n",
    "# 0.1, 0.3, 3.0, 10.0\n",
    "# Will cost sum(0.1, 0.3, 3.0, 10.0) x more than fiducial\n",
    "# Also use 10x fiducial stellar density to more finely probe PSF field.\n",
    "# Finally, use 189 CCDs worth of area.\n",
    "\n",
    "dt_study_factor = sum([0.1, 0.3, 3.0, 10.0])\n",
    "density_factor = 10\n",
    "area_factor = 189\n",
    "dt_study_factor *= density_factor * area_factor\n",
    "KNL_dt_time = KNL_fiducial_node_time_per_ccd * dt_study_factor\n",
    "print(\"KNL dt study time = {:3.0f} node sec\".format(KNL_dt_time))\n",
    "print(\"                  = {:3.0f} node hour\".format(KNL_dt_time/3600))\n",
    "print(\"                  = {:3.0f} NERSC hour\".format(KNL_dt_time/3600*96))\n",
    "\n",
    "Haswell_dt_time = Haswell_fiducial_node_time_per_ccd * dt_study_factor\n",
    "print(\"Haswell dt study time = {:3.0f} node sec\".format(Haswell_dt_time))\n",
    "print(\"                  = {:3.0f} node hour\".format(Haswell_dt_time/3600))\n",
    "print(\"                  = {:3.0f} NERSC hour\".format(Haswell_dt_time/3600*80))"
   ]
  },
  {
   "cell_type": "code",
   "execution_count": 28,
   "metadata": {},
   "outputs": [
    {
     "name": "stdout",
     "output_type": "stream",
     "text": [
      "KNL sampling study time = 48034350 node sec\n",
      "                        = 13343 node hour\n",
      "                        = 1280916 NERSC hour\n",
      "Haswell sampling study time = 16420438 node sec\n",
      "                            = 4561 node hour\n",
      "                            = 364899 NERSC hour\n"
     ]
    }
   ],
   "source": [
    "# Oversampling/pad_factor study.  Vary oversampling/pad_factor by factors of\n",
    "# 0.25, 0.5, 2.0, 4.0  # will cost the square of this in compute time so\n",
    "# also include factor of 2 for doing both oversampling and pad_factor\n",
    "\n",
    "sampling_study_factor = sum([2*s**2 for s in [0.25, 0.5, 2.0, 4.0]])\n",
    "sampling_study_factor *= density_factor * area_factor\n",
    "KNL_sampling_time = KNL_fiducial_node_time_per_ccd * sampling_study_factor\n",
    "print(\"KNL sampling study time = {:3.0f} node sec\".format(KNL_sampling_time))\n",
    "print(\"                        = {:3.0f} node hour\".format(KNL_sampling_time/3600))\n",
    "print(\"                        = {:3.0f} NERSC hour\".format(KNL_sampling_time/3600*96))\n",
    "\n",
    "Haswell_sampling_time = Haswell_fiducial_node_time_per_ccd * sampling_study_factor\n",
    "print(\"Haswell sampling study time = {:3.0f} node sec\".format(Haswell_sampling_time))\n",
    "print(\"                            = {:3.0f} node hour\".format(Haswell_sampling_time/3600))\n",
    "print(\"                            = {:3.0f} NERSC hour\".format(Haswell_sampling_time/3600*80))"
   ]
  },
  {
   "cell_type": "code",
   "execution_count": 31,
   "metadata": {},
   "outputs": [
    {
     "name": "stdout",
     "output_type": "stream",
     "text": [
      "KNL screen study time = 5911920 node sec\n",
      "                      = 1642 node hour\n",
      "                      = 157651 NERSC hour\n",
      "Haswell screen study time = 2020977 node sec\n",
      "                          = 561 node hour\n",
      "                          = 44911 NERSC hour\n"
     ]
    }
   ],
   "source": [
    "# screen size study is close to constant in time, so just a 5x here.\n",
    "screen_study_factor = 5\n",
    "screen_study_factor *= density_factor * area_factor\n",
    "KNL_screen_time = KNL_fiducial_node_time_per_ccd * screen_study_factor\n",
    "print(\"KNL screen study time = {:3.0f} node sec\".format(KNL_screen_time))\n",
    "print(\"                      = {:3.0f} node hour\".format(KNL_screen_time/3600))\n",
    "print(\"                      = {:3.0f} NERSC hour\".format(KNL_screen_time/3600*96))\n",
    "\n",
    "Haswell_screen_time = Haswell_fiducial_node_time_per_ccd * screen_study_factor\n",
    "print(\"Haswell screen study time = {:3.0f} node sec\".format(Haswell_screen_time))\n",
    "print(\"                          = {:3.0f} node hour\".format(Haswell_screen_time/3600))\n",
    "print(\"                          = {:3.0f} NERSC hour\".format(Haswell_screen_time/3600*80))"
   ]
  },
  {
   "cell_type": "code",
   "execution_count": 32,
   "metadata": {},
   "outputs": [
    {
     "name": "stdout",
     "output_type": "stream",
     "text": [
      "KNL DFT vs shoot time = 11823840 node sec\n",
      "                      = 3284 node hour\n",
      "                      = 315302 NERSC hour\n",
      "Haswell DFT vs shoot time = 4041954 node sec\n",
      "                          = 1123 node hour\n",
      "                          = 89821 NERSC hour\n"
     ]
    }
   ],
   "source": [
    "# for DFT vs photon-shooting, we probably want 10 random realizations\n",
    "# assume that fiducial settings are good enough.  So this is then\n",
    "# just 2x the screen_study times.\n",
    "KNL_dft_vs_shoot_time = 2*KNL_screen_time\n",
    "print(\"KNL DFT vs shoot time = {:3.0f} node sec\".format(KNL_dft_vs_shoot_time))\n",
    "print(\"                      = {:3.0f} node hour\".format(KNL_dft_vs_shoot_time/3600))\n",
    "print(\"                      = {:3.0f} NERSC hour\".format(KNL_dft_vs_shoot_time/3600*96))\n",
    "\n",
    "Haswell_dft_vs_shoot_time = 2*Haswell_screen_time\n",
    "print(\"Haswell DFT vs shoot time = {:3.0f} node sec\".format(Haswell_dft_vs_shoot_time))\n",
    "print(\"                          = {:3.0f} node hour\".format(Haswell_dft_vs_shoot_time/3600))\n",
    "print(\"                          = {:3.0f} NERSC hour\".format(Haswell_dft_vs_shoot_time/3600*80))"
   ]
  },
  {
   "cell_type": "code",
   "execution_count": 36,
   "metadata": {},
   "outputs": [
    {
     "name": "stdout",
     "output_type": "stream",
     "text": [
      "KNL total time = 81614056 node sec\n",
      "               = 22671 node hour\n",
      "               = 2176375 NERSC hour\n",
      "Haswell total time = 27899587 node sec\n",
      "                   = 7750 node hour\n",
      "                   = 619991 NERSC hour\n"
     ]
    }
   ],
   "source": [
    "#Totals\n",
    "KNL_total_time = KNL_dt_time + KNL_sampling_time + KNL_screen_time + KNL_dft_vs_shoot_time\n",
    "print(\"KNL total time = {:3.0f} node sec\".format(KNL_total_time))\n",
    "print(\"               = {:3.0f} node hour\".format(KNL_total_time/3600))\n",
    "print(\"               = {:3.0f} NERSC hour\".format(KNL_total_time/3600*96))\n",
    "\n",
    "Haswell_total_time = Haswell_dt_time + Haswell_sampling_time + Haswell_screen_time + Haswell_dft_vs_shoot_time\n",
    "print(\"Haswell total time = {:3.0f} node sec\".format(Haswell_total_time))\n",
    "print(\"                   = {:3.0f} node hour\".format(Haswell_total_time/3600))\n",
    "print(\"                   = {:3.0f} NERSC hour\".format(Haswell_total_time/3600*80))"
   ]
  },
  {
   "cell_type": "code",
   "execution_count": 43,
   "metadata": {},
   "outputs": [
    {
     "name": "stdout",
     "output_type": "stream",
     "text": [
      "nstars = 9438508\n",
      "nbytes = 82152773632 B\n",
      "       = 76 GiB\n"
     ]
    }
   ],
   "source": [
    "nstudy = 17+10\n",
    "nstar = int(fiducial_stars_per_ccd * nstudy * density_factor * area_factor)\n",
    "print(\"nstars = {}\".format(nstar))\n",
    "nbytes = int(nstar*8.5*1024)\n",
    "print(\"nbytes = {} B\".format(nbytes))\n",
    "print(\"       = {} GiB\".format(int(nbytes / 2**30)))"
   ]
  },
  {
   "cell_type": "code",
   "execution_count": null,
   "metadata": {
    "collapsed": true
   },
   "outputs": [],
   "source": []
  }
 ],
 "metadata": {
  "kernelspec": {
   "display_name": "Python 3",
   "language": "python",
   "name": "python3"
  },
  "language_info": {
   "codemirror_mode": {
    "name": "ipython",
    "version": 3
   },
   "file_extension": ".py",
   "mimetype": "text/x-python",
   "name": "python",
   "nbconvert_exporter": "python",
   "pygments_lexer": "ipython3",
   "version": "3.5.2"
  }
 },
 "nbformat": 4,
 "nbformat_minor": 2
}
