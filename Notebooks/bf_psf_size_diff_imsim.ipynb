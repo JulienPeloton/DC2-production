{
 "cells": [
  {
   "cell_type": "markdown",
   "metadata": {},
   "source": [
    "## How Much Does Brighter-Fatter Affect Object Shapes\n",
    "### Plot shape difference between XX, YY measured moments and PSF XX, YY moments\n",
    "\n",
    "Adapted by Michael Wood-Vasey on 2018-08-21  \n",
    "from code from Merlin Fisher-Levine  \n",
    "from code from Lauren MacArthur.\n",
    "\n",
    "Runs on a pair of re-runs.  One with brighter-fatter correction applied.  The other without.\n"
   ]
  },
  {
   "cell_type": "code",
   "execution_count": null,
   "metadata": {
    "collapsed": true
   },
   "outputs": [],
   "source": [
    "import os\n",
    "import sys\n",
    "\n",
    "import numpy as np\n",
    "import matplotlib.pyplot as plt\n",
    "\n",
    "import lsst.daf.persistence as dafPersist\n",
    "import lsst.afw.image as afwImage\n",
    "%matplotlib inline"
   ]
  },
  {
   "cell_type": "code",
   "execution_count": null,
   "metadata": {},
   "outputs": [],
   "source": [
    "def plot(mags, diffs, title='', saveFilename=''):\n",
    "    maxDiff = 12\n",
    "    nStdev = 3.0\n",
    "\n",
    "    ptSize = 25\n",
    "    fontsize = 20\n",
    "    color = 'b'\n",
    "\n",
    "    left, width = 0.12, 0.62\n",
    "    bottom, height = 0.10, 0.85 # had to change height to make it save correctly\n",
    "    left_h = left + width + 0.03\n",
    "    bottom_h = bottom + width + 0.02\n",
    "    rect_scatter = [left, bottom, width, height]\n",
    "    rect_histy = [left_h, bottom, 0.20, height]\n",
    "\n",
    "    deltaMin = 0.0\n",
    "\n",
    "    fig = plt.figure(figsize=(15,10))\n",
    "    axScatter = plt.axes(rect_scatter)\n",
    "    if title: plt.title(title, fontsize=25)\n",
    "    axHisty = plt.axes(rect_histy)\n",
    "\n",
    "    _ = axScatter.scatter(mags, diffs, s=1.3*ptSize, marker=\"o\", facecolors=\"b\", edgecolors=color, alpha = 0.15)\n",
    "    _ = axScatter.axhline(0, ls='--', color=\"0.4\")\n",
    "\n",
    "    axScatterY1 = axScatter.get_ylim()[0]\n",
    "    axScatterY2 = axScatter.get_ylim()[1]\n",
    "    nyDecimal = int(-1.0*np.around(np.log10(0.05*abs(axScatterY2 - (axScatterY1 - deltaMin))) - 0.5))\n",
    "    yBinwidth = max(0.5/10**nyDecimal, np.around(0.02*abs(axScatterY2 - (axScatterY1 - deltaMin)), nyDecimal))\n",
    "\n",
    "    yBins = np.arange((axScatterY1 - deltaMin) - 0.5*yBinwidth, axScatterY2 + 0.55*yBinwidth, yBinwidth)\n",
    "    _ = axHisty.hist(diffs, bins=yBins, color='b', alpha=0.6, orientation=\"horizontal\", label='test')\n",
    "\n",
    "    _ = axScatter.set_ylim(-1.*maxDiff,maxDiff)\n",
    "    _ = axHisty.set_ylim(-1.*maxDiff,maxDiff)\n",
    "    axHisty.set_xscale(\"log\", nonposy=\"clip\")\n",
    "    \n",
    "    axScatter.set_xlabel('mag')\n",
    "    axScatter.set_ylabel('Percentage difference star - model size: (sqrt(<xx+yy>/2)')\n",
    "    \n",
    "    mean = np.mean(diffs)\n",
    "    std = np.std(diffs)\n",
    "    std_clip = np.std( np.clip(diffs, mean-nStdev*std, mean+nStdev*std))\n",
    "    mean_clip = np.mean ( np.clip(diffs, mean-nStdev*std, mean+nStdev*std))\n",
    "    \n",
    "    spc = 0.04\n",
    "    _ = plt.text(0.05, 0.95-0*spc, \"Star N       = %s\"  %len(diffs), ha=\"left\", va=\"center\", fontsize=fontsize, transform=axScatter.transAxes, color='k')\n",
    "    _ = plt.text(0.05, 0.95-1*spc, \"stddev      = %.4f\" %std,        ha=\"left\", va=\"center\", fontsize=fontsize, transform=axScatter.transAxes, color='k')\n",
    "    _ = plt.text(0.05, 0.95-2*spc, \"std_clip     = %.4f\"%std_clip,   ha=\"left\", va=\"center\", fontsize=fontsize, transform=axScatter.transAxes, color='k')\n",
    "    _ = plt.text(0.05, 0.95-3*spc, \"mean        = %.4f\" %mean,       ha=\"left\", va=\"center\", fontsize=fontsize, transform=axScatter.transAxes, color='k')\n",
    "    _ = plt.text(0.05, 0.95-4*spc, \"mean_clip = %.4f\"   %mean_clip,  ha=\"left\", va=\"center\", fontsize=fontsize, transform=axScatter.transAxes, color='k')\n",
    "\n",
    "    if saveFilename:\n",
    "        plt.savefig(saveFilename)\n"
   ]
  },
  {
   "cell_type": "code",
   "execution_count": null,
   "metadata": {},
   "outputs": [],
   "source": [
    "# repo = '/global/projecta/projectdirs/lsst/global/in2p3/Run1.1/output'\n",
    "# repo = '/global/homes/w/wmwv/DC2-production/Notebooks/bf_kernel/imsim_repo/rerun/no_bf_correction'\n",
    "repo = '/global/homes/w/wmwv/DC2-production/Notebooks/bf_kernel/imsim_repo/rerun/with_bf_correction'\n",
    "\n",
    "outdir = './plots'\n",
    "\n",
    "\n",
    "try:\n",
    "    os.makedirs(outdir)\n",
    "except:\n",
    "    pass"
   ]
  },
  {
   "cell_type": "code",
   "execution_count": null,
   "metadata": {},
   "outputs": [],
   "source": [
    "run = os.path.basename(repo)\n",
    "print(run)"
   ]
  },
  {
   "cell_type": "code",
   "execution_count": null,
   "metadata": {},
   "outputs": [],
   "source": [
    "butler = dafPersist.Butler(repo)"
   ]
  },
  {
   "cell_type": "code",
   "execution_count": null,
   "metadata": {
    "collapsed": true
   },
   "outputs": [],
   "source": [
    "visits = [204595]\n",
    "detectors = [0]"
   ]
  },
  {
   "cell_type": "code",
   "execution_count": null,
   "metadata": {},
   "outputs": [],
   "source": [
    "from copy import copy\n",
    "\n",
    "def get_shape_mag_diff(visits, partial_data_id):\n",
    "    star_sizes = []\n",
    "    model_sizes = []\n",
    "    mags = []\n",
    "    for visit in visits:\n",
    "        data_id = copy(partial_data_id)\n",
    "        data_id['visit'] = visit\n",
    "        try:\n",
    "            cat = butler.get('src', dataId=data_id)  \n",
    "            calib = butler.get('calexp_calib', dataId=data_id)\n",
    "        except dafPersist.NoResults as e:\n",
    "            print(e)\n",
    "            continue\n",
    "\n",
    "        calib.setThrowOnNegativeFlux(False)\n",
    "\n",
    "        mask = (cat['calib_psfUsed'] == 1) #& (cat['base_PixelFlags_flag_interpolated'] == 0)\n",
    "        cat = cat[mask]\n",
    "        star_sizes.extend([_ for _ in np.sqrt( 0.5*(cat['base_SdssShape_xx'] + cat['base_SdssShape_yy']))])\n",
    "        model_sizes.extend([_ for _ in np.sqrt( 0.5*(cat['base_SdssShape_psf_xx'] + cat['base_SdssShape_psf_yy']))])\n",
    "        mags.extend([_ for _ in calib.getMagnitude(cat['base_PsfFlux_flux'])])\n",
    "        \n",
    "    diffs = [100*(a - b)/b for a,b in zip(star_sizes, model_sizes)]\n",
    "    diffs = np.asarray(diffs)\n",
    "\n",
    "    return mags, diffs\n",
    "\n"
   ]
  },
  {
   "cell_type": "code",
   "execution_count": null,
   "metadata": {
    "scrolled": false
   },
   "outputs": [],
   "source": [
    "for detector in detectors:\n",
    "    partial_data_id = {'detector': detector}\n",
    "    mags, diffs = get_shape_mag_diff(visits, partial_data_id)\n",
    "\n",
    "    if len(mags) < 1:\n",
    "        print('No results for {}'.format(partial_data_id))\n",
    "        continue\n",
    "\n",
    "    title = '{}_detector_{}'.format(run, detector)\n",
    "    saveName = os.path.join(outdir, title + '.png')\n",
    "    plot(mags, diffs, title, saveName)  \n",
    "    print('Finished detector: {}'.format(detector))\n",
    "    sys.stdout.flush()    "
   ]
  },
  {
   "cell_type": "code",
   "execution_count": null,
   "metadata": {
    "collapsed": true
   },
   "outputs": [],
   "source": [
    "fails = []\n",
    "for detector in detectors:\n",
    "    for visit in visits:\n",
    "        try:\n",
    "            cat = butler.get('src', dataId={'detector': detector, 'visit': visit})\n",
    "        except:\n",
    "            fails.append((detector, visit))"
   ]
  },
  {
   "cell_type": "code",
   "execution_count": null,
   "metadata": {},
   "outputs": [],
   "source": [
    "fails"
   ]
  }
 ],
 "metadata": {
  "kernelspec": {
   "display_name": "desc-stack-obs-lsstCam",
   "language": "python",
   "name": "desc-stack-obs-lsstcam"
  },
  "language_info": {
   "codemirror_mode": {
    "name": "ipython",
    "version": 3
   },
   "file_extension": ".py",
   "mimetype": "text/x-python",
   "name": "python",
   "nbconvert_exporter": "python",
   "pygments_lexer": "ipython3",
   "version": "3.6.2"
  }
 },
 "nbformat": 4,
 "nbformat_minor": 2
}
