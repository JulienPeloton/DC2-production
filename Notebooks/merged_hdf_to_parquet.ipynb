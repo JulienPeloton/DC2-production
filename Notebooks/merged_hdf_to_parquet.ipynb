{
 "cells": [
  {
   "cell_type": "markdown",
   "metadata": {},
   "source": [
    "Convert HDF5 merged-tract file to Parquet.\n",
    "\n",
    "Requires `fastparquet` or `pyarrow`"
   ]
  },
  {
   "cell_type": "code",
   "execution_count": 35,
   "metadata": {},
   "outputs": [],
   "source": [
    "import os\n",
    "\n",
    "import pandas as pd\n",
    "import fastparquet as fp"
   ]
  },
  {
   "cell_type": "code",
   "execution_count": 36,
   "metadata": {},
   "outputs": [],
   "source": [
    "object_table_dir = '/global/projecta/projectdirs/lsst/global/in2p3/Run1.1/object_catalog/'"
   ]
  },
  {
   "cell_type": "code",
   "execution_count": 37,
   "metadata": {},
   "outputs": [],
   "source": [
    "prefix = 'trim_'\n",
    "tract = 4848"
   ]
  },
  {
   "cell_type": "code",
   "execution_count": 38,
   "metadata": {},
   "outputs": [],
   "source": [
    "object_table_basename = '{}merged_tract_{}'.format(prefix, tract)"
   ]
  },
  {
   "cell_type": "code",
   "execution_count": 39,
   "metadata": {},
   "outputs": [],
   "source": [
    "hdf5_filepath = os.path.join(object_table_dir, object_table_basename+'.hdf5')\n",
    "parquet_filepath = os.path.join(object_table_dir, object_table_basename+'.parquet')"
   ]
  },
  {
   "cell_type": "code",
   "execution_count": 40,
   "metadata": {},
   "outputs": [],
   "source": [
    "nx, ny = 8, 8\n",
    "patches = ['{:1d}{:1d}'.format(x, y) for x in range(nx) for y in range(ny)]"
   ]
  },
  {
   "cell_type": "code",
   "execution_count": 43,
   "metadata": {},
   "outputs": [
    {
     "name": "stdout",
     "output_type": "stream",
     "text": [
      "'No object named coadd_4848_50 in the file'\n",
      "'No object named coadd_4848_51 in the file'\n",
      "'No object named coadd_4848_52 in the file'\n",
      "'No object named coadd_4848_53 in the file'\n",
      "'No object named coadd_4848_54 in the file'\n",
      "'No object named coadd_4848_55 in the file'\n",
      "'No object named coadd_4848_56 in the file'\n",
      "'No object named coadd_4848_57 in the file'\n",
      "'No object named coadd_4848_60 in the file'\n",
      "'No object named coadd_4848_61 in the file'\n",
      "'No object named coadd_4848_62 in the file'\n",
      "'No object named coadd_4848_63 in the file'\n",
      "'No object named coadd_4848_64 in the file'\n",
      "'No object named coadd_4848_65 in the file'\n",
      "'No object named coadd_4848_66 in the file'\n",
      "'No object named coadd_4848_67 in the file'\n",
      "'No object named coadd_4848_70 in the file'\n",
      "'No object named coadd_4848_71 in the file'\n",
      "'No object named coadd_4848_72 in the file'\n",
      "'No object named coadd_4848_73 in the file'\n",
      "'No object named coadd_4848_74 in the file'\n",
      "'No object named coadd_4848_75 in the file'\n",
      "'No object named coadd_4848_76 in the file'\n",
      "'No object named coadd_4848_77 in the file'\n"
     ]
    }
   ],
   "source": [
    "verbose=True\n",
    "\n",
    "for patch in patches:\n",
    "    key = 'coadd_{}_{}'.format(tract, patch)\n",
    "    try:\n",
    "        df = pd.read_hdf(hdf5_filepath, key=key)\n",
    "    except KeyError as ke:\n",
    "        if verbose:\n",
    "            print(ke)\n",
    "        continue\n",
    "\n",
    "    parquet_filepath = os.path.join(object_table_dir, '{}_{}.parquet'.format(object_table_basename, patch))\n",
    "    fp.write(parquet_filepath, df)"
   ]
  },
  {
   "cell_type": "code",
   "execution_count": null,
   "metadata": {},
   "outputs": [],
   "source": []
  }
 ],
 "metadata": {
  "kernelspec": {
   "display_name": "desc-python-dask",
   "language": "python",
   "name": "desc-python-dask"
  },
  "language_info": {
   "codemirror_mode": {
    "name": "ipython",
    "version": 3
   },
   "file_extension": ".py",
   "mimetype": "text/x-python",
   "name": "python",
   "nbconvert_exporter": "python",
   "pygments_lexer": "ipython3",
   "version": "3.6.2"
  }
 },
 "nbformat": 4,
 "nbformat_minor": 2
}
