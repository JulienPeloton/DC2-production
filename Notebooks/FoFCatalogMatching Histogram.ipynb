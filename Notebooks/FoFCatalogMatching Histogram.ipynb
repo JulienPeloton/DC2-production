{
 "cells": [
  {
   "cell_type": "markdown",
   "metadata": {},
   "source": [
    "# Match truth and coadd catalogs for DC2 Run 1.1p\n",
    "Owner: Yao-Yuan Mao, Anže Slosar, Bhairav Valera;  \n",
    "Last Verified to Run: 2018-07-19\n",
    "\n",
    "**Notes:**\n",
    "- Follow this [step-by-step guide](https://confluence.slac.stanford.edu/x/Xgg4Dg) if you don't know how to run this notebook.\n",
    "- If you need more information about the Generic Catalog Reader (GCR), see [this diagram](https://github.com/yymao/generic-catalog-reader/blob/master/README.md#concept) and [more examples](https://github.com/LSSTDESC/gcr-catalogs/blob/master/examples/GCRCatalogs%20Demo.ipynb).\n",
    "\n",
    "## Learning objectives\n",
    "After completing and studying this Notebook, you should be able to:\n",
    "  1. Use GCR to load coadd catalog and truth catalog\n",
    "  2. Use `filters` and `native_filters` appropriately\n",
    "  3. Use `add_quantity_modifier` and `get_quantity_modifier`\n",
    "  4. Use `FoFCatalogMatching` to do Friends-of-friends catalog matching\n",
    "  5. Learn some cool Numpy tricks for binning, masking, and reshaping [Advanced]"
   ]
  },
  {
   "cell_type": "code",
   "execution_count": null,
   "metadata": {},
   "outputs": [],
   "source": [
    "import numpy as np\n",
    "import matplotlib.pyplot as plt\n",
    "%matplotlib inline"
   ]
  },
  {
   "cell_type": "code",
   "execution_count": null,
   "metadata": {},
   "outputs": [],
   "source": [
    "from astropy.coordinates import SkyCoord\n",
    "import FoFCatalogMatching\n",
    "import GCRCatalogs"
   ]
  },
  {
   "cell_type": "code",
   "execution_count": null,
   "metadata": {},
   "outputs": [],
   "source": [
    "# load coadd catalog (for a single tract)\n",
    "coadd_cat = GCRCatalogs.load_catalog('dc2_coadd_run1.1p_tract4850')"
   ]
  },
  {
   "cell_type": "code",
   "execution_count": null,
   "metadata": {},
   "outputs": [],
   "source": [
    "# Let's first visually inspect the footprint of one tract of the coadd catalog.\n",
    "# When `return_iterator` is turned on, the method `get_quantities` will return an \n",
    "# iterator, and each element in the iterator will be the quantities we requested in \n",
    "# different chunks of the dataset. \n",
    "\n",
    "# For coadd catalogs, the different chunks happen to be different patches, \n",
    "# resulting in a different color for each patch in the scatter plot below.\n",
    "\n",
    "for coadd_coord in coadd_cat.get_quantities(['ra', 'dec'], return_iterator=True):\n",
    "    plt.scatter(coadd_coord['ra'], coadd_coord['dec'], s=1, rasterized=True);\n",
    "\n",
    "plt.xlabel('RA');\n",
    "plt.ylabel('Dec');"
   ]
  },
  {
   "cell_type": "code",
   "execution_count": null,
   "metadata": {
    "scrolled": true
   },
   "outputs": [],
   "source": [
    "# Let's choose a small RA and Dec range to do the matching so that it won't take too long!\n",
    "ra_min, ra_max = 55.5, 56.0\n",
    "dec_min, dec_max = -29.0, -28.5\n",
    "\n",
    "coord_filters = [\n",
    "    'ra >= {}'.format(ra_min),\n",
    "    'ra < {}'.format(ra_max),\n",
    "    'dec >= {}'.format(dec_min),\n",
    "    'dec < {}'.format(dec_max),\n",
    "]"
   ]
  },
  {
   "cell_type": "code",
   "execution_count": null,
   "metadata": {},
   "outputs": [],
   "source": [
    "# Let's also define a magnitude cut\n",
    "mag_filters = [\n",
    "    (np.isfinite, 'mag_i'),\n",
    "    'mag_i < 24.5',\n",
    "]"
   ]
  },
  {
   "cell_type": "code",
   "execution_count": null,
   "metadata": {},
   "outputs": [],
   "source": [
    "# Load ra and dec from coadd, using both of the filters we just defined\n",
    "coadd_coord = coadd_cat.get_quantities(['ra', 'dec'], filters=(coord_filters + mag_filters))"
   ]
  },
  {
   "cell_type": "code",
   "execution_count": null,
   "metadata": {
    "scrolled": true
   },
   "outputs": [],
   "source": [
    "# Let's now turn to the truth catalog, turn of md5 sum check to save time\n",
    "truth_cat = GCRCatalogs.load_catalog('dc2_truth_run1.1', {'md5': None})"
   ]
  },
  {
   "cell_type": "code",
   "execution_count": null,
   "metadata": {},
   "outputs": [],
   "source": [
    "# for a reason that we will soon see, let's inspect the quantities in truth catalog\n",
    "\n",
    "print(sorted(truth_cat.list_all_quantities()))\n",
    "print('---')\n",
    "print(sorted(truth_cat.list_all_native_quantities()))"
   ]
  },
  {
   "cell_type": "code",
   "execution_count": null,
   "metadata": {},
   "outputs": [],
   "source": [
    "# so we see there is not mag_i, but only mag_true_i (i.e., magnitude before lensing), and it maps to `i`\n",
    "truth_cat.get_quantity_modifier('mag_true_i')"
   ]
  },
  {
   "cell_type": "code",
   "execution_count": null,
   "metadata": {},
   "outputs": [],
   "source": [
    "# to make our `mag_filters` work, let's define mag_i for the truth catalog\n",
    "truth_cat.add_quantity_modifier('mag_i', 'i')"
   ]
  },
  {
   "cell_type": "code",
   "execution_count": null,
   "metadata": {
    "scrolled": true
   },
   "outputs": [],
   "source": [
    "# get ra and dec from truth catalog\n",
    "# note that we add i < 24.5 to the native filter to speed up load time\n",
    "truth_native_filters = (coord_filters + ['i < 24.5'])\n",
    "truth_coord = truth_cat.get_quantities(['ra','dec','object_id','star','sprinkled'], filters=mag_filters, native_filters=truth_native_filters)\n",
    "\n",
    "# We will use the object_id, star, and sprinkled columns when cross-referencing truth information with the extragalactic catalog."
   ]
  },
  {
   "cell_type": "code",
   "execution_count": null,
   "metadata": {},
   "outputs": [],
   "source": [
    "# now we can really do the matching!\n",
    "# FoFCatalogMatching.match takes a dictionary of catalogs to match, a friends-of-friends linking length. \n",
    "# Because our \"catalog\" is not an astropy table or pandas dataframe, \n",
    "# `len(truth_coord)` won't give the actual length of the table\n",
    "# so we need to specify `catalog_len_getter` so that the code knows how to get the length of the catalog.\n",
    "\n",
    "results = FoFCatalogMatching.match(\n",
    "    catalog_dict={'truth': truth_coord, 'coadd': coadd_coord},\n",
    "    linking_lengths=1.0,\n",
    "    catalog_len_getter=lambda x: len(x['ra']),\n",
    ")"
   ]
  },
  {
   "cell_type": "code",
   "execution_count": null,
   "metadata": {},
   "outputs": [],
   "source": [
    "# return of FoFCatalogMatching.match is an astropy table\n",
    "results"
   ]
  },
  {
   "cell_type": "code",
   "execution_count": null,
   "metadata": {},
   "outputs": [],
   "source": [
    "# now we want to count the number of truth and coadd objects *for each group*\n",
    "# but instead of looping over groups, we can do this in a smart (and very fast) way\n",
    "\n",
    "# first we need to know which rows are from the truth catalog and which are from the coadd\n",
    "truth_mask = results['catalog_key'] == 'truth'\n",
    "coadd_mask = ~truth_mask\n",
    "\n",
    "# then np.bincount will give up the number of id occurrences (like historgram but with integer input)\n",
    "n_groups = results['group_id'].max() + 1\n",
    "n_truth = np.bincount(results['group_id'][truth_mask], minlength=n_groups)\n",
    "n_coadd = np.bincount(results['group_id'][coadd_mask], minlength=n_groups)\n",
    "\n",
    "# now n_truth and n_coadd are the number of truth/coadd objects in each group\n",
    "# we want to make a 2d histrogram of (n_truth, n_coadd). \n",
    "n_max = max(n_truth.max(), n_coadd.max()) + 1\n",
    "hist_2d = np.bincount(n_coadd * n_max + n_truth, minlength=n_max*n_max).reshape(n_max, n_max)\n",
    "\n",
    "plt.imshow(np.log10(hist_2d+1), extent=(-0.5, n_max-0.5, -0.5, n_max-0.5), origin='lower');\n",
    "plt.xlabel('Number of truth objects');\n",
    "plt.ylabel('Number of coadd objects');\n",
    "plt.colorbar(label=r'$\\log(N_{\\rm groups} \\, + \\, 1)$');"
   ]
  },
  {
   "cell_type": "code",
   "execution_count": null,
   "metadata": {},
   "outputs": [],
   "source": [
    "# Let's further inspect the objects in the groups that have 1-to-1 truth/coadd match.\n",
    "\n",
    "# first, let's find our the IDs of the groups that have 1-to-1 truth/coadd match:\n",
    "one_to_one_group_mask = np.in1d(results['group_id'], np.flatnonzero((n_truth == 1) & (n_coadd == 1)))\n",
    "\n",
    "# and then we can find the row indices in the *original* truth/coadd catalogs for those 1-to-1 groups\n",
    "truth_idx = results['row_index'][one_to_one_group_mask & truth_mask]\n",
    "coadd_idx = results['row_index'][one_to_one_group_mask & coadd_mask]"
   ]
  },
  {
   "cell_type": "code",
   "execution_count": null,
   "metadata": {},
   "outputs": [],
   "source": [
    "truth_sc = SkyCoord(truth_coord['ra'][truth_idx], truth_coord['dec'][truth_idx], unit=\"deg\")\n",
    "coadd_sc = SkyCoord(coadd_coord['ra'][coadd_idx], coadd_coord['dec'][coadd_idx], unit=\"deg\")\n",
    "\n",
    "delta_ra = (coadd_sc.ra.arcsec - truth_sc.ra.arcsec) * np.cos(np.deg2rad(0.5*(truth_sc.dec.deg + coadd_sc.dec.deg)))\n",
    "delta_dec = coadd_sc.dec.arcsec - truth_sc.dec.arcsec\n",
    "delta_arcsec = coadd_sc.separation(truth_sc).arcsec"
   ]
  },
  {
   "cell_type": "code",
   "execution_count": null,
   "metadata": {},
   "outputs": [],
   "source": [
    "plt.figure(figsize=(7.3, 6))  # Pick a figuresize that will result in a square equal-axis plus colorbar\n",
    "plt.hist2d(delta_ra, delta_dec, bins=40, range=((-0.5, +0.5), (-0.5, +0.5)));\n",
    "plt.xlabel(r'$\\Delta$ RA [arcsec]');\n",
    "plt.ylabel(r'$\\Delta$ Dec [arcsec]');\n",
    "plt.colorbar();\n",
    "plt.xlim(-0.5, +0.5)\n",
    "plt.ylim(-0.5, +0.5)\n",
    "plt.axis('equal');"
   ]
  },
  {
   "cell_type": "code",
   "execution_count": null,
   "metadata": {},
   "outputs": [],
   "source": [
    "#Plotting Delta angle for the outputs\n",
    "plt.hist(delta_arcsec, bins=80);\n",
    "plt.xlim(0, 0.4);\n",
    "plt.xlabel(r'$\\Delta$ angle [arcsec]');"
   ]
  },
  {
   "cell_type": "markdown",
   "metadata": {},
   "source": [
    "Most of the astrophysical truth information about the objects in DC2 is actually stored in the extragalactic catalog.  The truth catalog only contains the positions and magnitudes that we believe should have been produced by the image simulators.  To access further truth information (redshift, shape parameters, mass), we must cross-reference the truth catalog with the extragalactic catalog.  This can be done via the column `object_id` in the truth catalog, which maps directly to `galaxy_id` in the extragalactic catalog."
   ]
  },
  {
   "cell_type": "code",
   "execution_count": null,
   "metadata": {},
   "outputs": [],
   "source": [
    "# First, load the extragalactic catalog that was used for this simulation\n",
    "extragalactic_cat = GCRCatalogs.load_catalog('proto-dc2_v2.1.2')"
   ]
  },
  {
   "cell_type": "code",
   "execution_count": null,
   "metadata": {},
   "outputs": [],
   "source": [
    "# load redshift and shear parameters from the extragalactic catalog\n",
    "extragalactic_qties = extragalactic_cat.get_quantities(['galaxy_id', 'redshift', 'shear_1', 'shear_2', 'magnification'])\n",
    "\n",
    "# make sure the extragalactic quantities are sorted by galaxy_id so that we can use np.searchsorted to match to the truth quantities\n",
    "sorted_dex = np.argsort(extragalactic_qties['galaxy_id'])\n",
    "for name in extragalactic_qties:\n",
    "    extragalactic_qties[name] = extragalactic_qties[name][sorted_dex]"
   ]
  },
  {
   "cell_type": "code",
   "execution_count": null,
   "metadata": {},
   "outputs": [],
   "source": [
    "# Select only those truth objects that are galaxies which were not sprinkled\n",
    "# (stars and sprinkled objects do not occur in the extragalactic catalog)\n",
    "valid_truth = np.where(np.logical_and(truth_coord['star'][truth_idx]==0,\n",
    "                                      truth_coord['sprinkled'][truth_idx]==0))\n",
    "\n",
    "truth_gal_idx = truth_idx[valid_truth]"
   ]
  },
  {
   "cell_type": "code",
   "execution_count": null,
   "metadata": {},
   "outputs": [],
   "source": [
    "# use np.searchsorted to associate truth catalog objects with extragalactic_catalog objects\n",
    "extragalactic_truth_idx = np.searchsorted(extragalactic_qties['galaxy_id'],\n",
    "                                           truth_coord['object_id'][truth_gal_idx])\n",
    "\n",
    "# extra_galactic_truth_idx will now give the indices of objects in extragalactic_qties that map to truth_coord objects"
   ]
  },
  {
   "cell_type": "code",
   "execution_count": null,
   "metadata": {},
   "outputs": [],
   "source": [
    "print(len(extragalactic_truth_idx))\n",
    "print(len(truth_coord['object_id'][truth_gal_idx]))\n",
    "print(extragalactic_qties['galaxy_id'])"
   ]
  },
  {
   "cell_type": "code",
   "execution_count": null,
   "metadata": {},
   "outputs": [],
   "source": [
    "np.testing.assert_array_equal(extragalactic_qties['galaxy_id'][extragalactic_truth_idx],\n",
    "                              truth_coord['object_id'][truth_gal_idx])"
   ]
  },
  {
   "cell_type": "code",
   "execution_count": null,
   "metadata": {},
   "outputs": [],
   "source": [
    "# What is the redshift distribution of objects that were matched 1-to-1?\n",
    "plt.hist(extragalactic_qties['redshift'][extragalactic_truth_idx], bins=100);\n",
    "plt.xlabel('redshift')"
   ]
  }
 ],
 "metadata": {
  "kernelspec": {
   "display_name": "desc-python",
   "language": "python",
   "name": "desc-python"
  },
  "language_info": {
   "codemirror_mode": {
    "name": "ipython",
    "version": 3
   },
   "file_extension": ".py",
   "mimetype": "text/x-python",
   "name": "python",
   "nbconvert_exporter": "python",
   "pygments_lexer": "ipython3",
   "version": "3.6.2"
  }
 },
 "nbformat": 4,
 "nbformat_minor": 2
}
