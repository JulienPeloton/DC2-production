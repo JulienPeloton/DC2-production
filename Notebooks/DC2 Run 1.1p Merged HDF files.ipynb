{
 "cells": [
  {
   "cell_type": "markdown",
   "metadata": {},
   "source": [
    "# Looking at merged tract-patch catalogs in Run 1.1p leading up to DC2\n",
    "Michael Wood-Vasey"
   ]
  },
  {
   "cell_type": "code",
   "execution_count": null,
   "metadata": {},
   "outputs": [],
   "source": [
    "import os\n",
    "\n",
    "%matplotlib notebook\n",
    "import matplotlib.pyplot as plt\n",
    "plt.rcParams['figure.figsize'] = (10, 8)\n",
    "\n",
    "import pandas as pd"
   ]
  },
  {
   "cell_type": "code",
   "execution_count": null,
   "metadata": {},
   "outputs": [],
   "source": [
    "merged_tract_data_dir = '/global/projecta/projectdirs/lsst/global/in2p3/Run1.1-test2/summary/'"
   ]
  },
  {
   "cell_type": "code",
   "execution_count": null,
   "metadata": {},
   "outputs": [],
   "source": [
    "tract, patch = 4848, 16\n",
    "basename = 'merged_tract_%d.hdf5' % tract\n",
    "merged_tract_file = os.path.join(merged_tract_data_dir, basename)"
   ]
  },
  {
   "cell_type": "code",
   "execution_count": null,
   "metadata": {},
   "outputs": [],
   "source": [
    "key = 'coadd_%d_%2d' % (tract, patch)\n",
    "df = pd.read_hdf(merged_tract_file, key=key)"
   ]
  },
  {
   "cell_type": "code",
   "execution_count": null,
   "metadata": {},
   "outputs": [],
   "source": [
    "plt.scatter(df['g_mag'] - df['r_mag'], df['r_mag'] - df['i_mag'])\n",
    "plt.xlim(-2, +3)\n",
    "plt.ylim(-2, +3)\n",
    "plt.xlabel('g-r')\n",
    "plt.ylabel('r-i')"
   ]
  },
  {
   "cell_type": "code",
   "execution_count": null,
   "metadata": {
    "scrolled": false
   },
   "outputs": [],
   "source": [
    "plt.hist2d(df['g_mag']-df['r_mag'], df['r_mag']-df['i_mag'],\n",
    "           range=((-2, +3), (-2, +3)), bins=40)\n",
    "plt.colorbar()\n",
    "plt.xlabel('g-r')\n",
    "plt.ylabel('r-i')\n"
   ]
  },
  {
   "cell_type": "code",
   "execution_count": null,
   "metadata": {},
   "outputs": [],
   "source": [
    "safe_max_extended = 1.0\n",
    "stars = df[df.base_ClassificationExtendedness_value < safe_max_extended]\n",
    "galaxies = df[df.base_ClassificationExtendedness_value >= safe_max_extended]"
   ]
  },
  {
   "cell_type": "code",
   "execution_count": null,
   "metadata": {},
   "outputs": [],
   "source": [
    "plt.hist(df['g_mag'] - df['r_mag'], range=(-2, +3), label='all')\n",
    "plt.hist(galaxies['g_mag'] - galaxies['r_mag'], range=(-2, +3), label='galaxies')\n",
    "plt.hist(stars['g_mag'] - stars['r_mag'], range=(-2, +3), label='stars')\n",
    "plt.xlabel('g-r')\n",
    "plt.ylabel('# / 0.5 mag bin')\n",
    "plt.legend()"
   ]
  },
  {
   "cell_type": "code",
   "execution_count": null,
   "metadata": {},
   "outputs": [],
   "source": [
    "plt.scatter(stars['g_mag'] - stars['r_mag'], stars['r_mag'] - stars['i_mag'])\n",
    "plt.xlim(-2, +3)\n",
    "plt.ylim(-2, +3)\n",
    "plt.xlabel('g-r')\n",
    "plt.ylabel('r-i')"
   ]
  },
  {
   "cell_type": "code",
   "execution_count": null,
   "metadata": {},
   "outputs": [],
   "source": [
    "plt.hist2d(stars['g_mag']-stars['r_mag'], stars['r_mag']-stars['i_mag'],\n",
    "           range=((-2, +3), (-2, +3)), bins=20)\n",
    "plt.colorbar()\n",
    "plt.xlabel('g-r')\n",
    "plt.ylabel('r-i')"
   ]
  },
  {
   "cell_type": "markdown",
   "metadata": {},
   "source": [
    "## Generic Catalog Reader (GCR)\n",
    "\n",
    "After a little bit you'll find yourself wanting to ask interesting questions, like how well does the DC2 analysis recover the input sources?  A convenient framework for generalizing analyses of DESC-DC related catalogs is the the Generic Catalog Reader:\n",
    "\n",
    "* GCR is a general utility\n",
    "https://github.com/yymao/generic-catalog-reader\n",
    "* The catalogs supporting DC2 are in:\n",
    "https://github.com/LSSTDESC/gcr-catalogs\n",
    "\n",
    "See 'DC2_Static_Coadd_CAtalog_reader.ipynb' notebook by Yao-Yuan Mao\n",
    "\n",
    "https://github.com/LSSTDESC/DC2_Repo/blob/u/yymao/GCRforDC2Coadd/Notebooks/DC2%20Static%20Coadd%20Catalog%20reader.ipynb\n",
    "\n",
    "We don't have a package management set up for our DESC+DC2 products, so that notebook starts with a bit of explicit insertion of DC2 scripts into the path."
   ]
  },
  {
   "cell_type": "code",
   "execution_count": null,
   "metadata": {},
   "outputs": [],
   "source": []
  }
 ],
 "metadata": {
  "kernelspec": {
   "display_name": "Python 3",
   "language": "python",
   "name": "debug180313"
  },
  "language_info": {
   "codemirror_mode": {
    "name": "ipython",
    "version": 3
   },
   "file_extension": ".py",
   "mimetype": "text/x-python",
   "name": "python",
   "nbconvert_exporter": "python",
   "pygments_lexer": "ipython3",
   "version": "3.6.1"
  }
 },
 "nbformat": 4,
 "nbformat_minor": 2
}
