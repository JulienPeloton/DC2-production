{
 "cells": [
  {
   "cell_type": "code",
   "execution_count": 1,
   "metadata": {},
   "outputs": [],
   "source": [
    "import sys\n",
    "sys.path.insert(0, '/global/common/software/lsst/common/miniconda/current/lib/python3.6/site-packages')\n",
    "sys.path.insert(0, '../scripts')\n",
    "\n",
    "import numpy as np\n",
    "from GCR import GCRQuery\n",
    "from reader import InputCatalogReader"
   ]
  },
  {
   "cell_type": "code",
   "execution_count": 2,
   "metadata": {},
   "outputs": [],
   "source": [
    "c=InputCatalogReader(only_fisrt_chunk=False)"
   ]
  },
  {
   "cell_type": "code",
   "execution_count": 3,
   "metadata": {},
   "outputs": [
    {
     "data": {
      "text/plain": [
       "['dec',\n",
       " 'properMotionDec',\n",
       " 'sigma_lsst_i',\n",
       " 'lsst_i',\n",
       " 'lsst_i_smeared',\n",
       " 'lsst_y_smeared',\n",
       " 'lsst_g',\n",
       " 'sigma_dec',\n",
       " 'lsst_y',\n",
       " 'lsst_z_smeared',\n",
       " 'ra_smeared',\n",
       " 'lsst_r',\n",
       " 'properMotionRa',\n",
       " 'lsst_u_smeared',\n",
       " 'lsst_g_smeared',\n",
       " 'isagn',\n",
       " 'sigma_ra',\n",
       " 'uniqueId',\n",
       " 'radialVelocity',\n",
       " 'lsst_u']"
      ]
     },
     "execution_count": 3,
     "metadata": {},
     "output_type": "execute_result"
    }
   ],
   "source": [
    "c.list_all_quantities(True)[:20]"
   ]
  },
  {
   "cell_type": "code",
   "execution_count": 4,
   "metadata": {},
   "outputs": [
    {
     "name": "stdout",
     "output_type": "stream",
     "text": [
      "{'ra': array([ 54.9608715,  54.9540407,  54.969202 , ...,  56.3869934,\n",
      "        56.391732 ,  56.4020143]), 'dec': array([-25.8317476, -25.8349314, -25.8155658, ..., -27.5871559,\n",
      "       -27.5658308, -27.5728141])}\n"
     ]
    }
   ],
   "source": [
    "#will return the first batch of values, depending on nlines\n",
    "print(next(c.get_quantities(['ra', 'dec'],return_iterator=True)))"
   ]
  },
  {
   "cell_type": "code",
   "execution_count": null,
   "metadata": {},
   "outputs": [],
   "source": [
    "# will return all values, but will take some time to read (unless you set only_fisrt_chunk=True):\n",
    "_=c.get_quantities(['ra', 'dec'])"
   ]
  },
  {
   "cell_type": "code",
   "execution_count": null,
   "metadata": {},
   "outputs": [],
   "source": []
  }
 ],
 "metadata": {
  "kernelspec": {
   "display_name": "Python [conda env:3.6-anaconda-4.4]",
   "language": "python",
   "name": "conda-env-3.6-anaconda-4.4-py"
  },
  "language_info": {
   "codemirror_mode": {
    "name": "ipython",
    "version": 3
   },
   "file_extension": ".py",
   "mimetype": "text/x-python",
   "name": "python",
   "nbconvert_exporter": "python",
   "pygments_lexer": "ipython3",
   "version": "3.6.1"
  }
 },
 "nbformat": 4,
 "nbformat_minor": 2
}
