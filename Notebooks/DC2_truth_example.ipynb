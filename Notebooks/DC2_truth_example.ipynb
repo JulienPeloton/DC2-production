{
 "cells": [
  {
   "cell_type": "code",
   "execution_count": null,
   "metadata": {},
   "outputs": [],
   "source": [
    "# this cell just redirects GCR and GCRCatalogs to my own clones of master\n",
    "\n",
    "import sys\n",
    "import os\n",
    "home_dir = '/global/u1/d/danielsf/'\n",
    "gcr_dir = os.path.join(home_dir,'generic-catalog-reader-yymao')\n",
    "assert os.path.isdir(gcr_dir)\n",
    "gcr_cat_dir = os.path.join(home_dir, 'gcr-catalogs-desc')\n",
    "assert os.path.isdir(gcr_cat_dir)\n",
    "sys.path.insert(0,gcr_dir)\n",
    "sys.path.insert(0,gcr_cat_dir)"
   ]
  },
  {
   "cell_type": "code",
   "execution_count": null,
   "metadata": {},
   "outputs": [],
   "source": [
    "import healpy\n",
    "import numpy as np\n",
    "import GCRCatalogs\n",
    "from lsst.sims.utils import angularSeparation\n",
    "import matplotlib\n",
    "%matplotlib inline\n",
    "import matplotlib.pyplot as plt"
   ]
  },
  {
   "cell_type": "code",
   "execution_count": null,
   "metadata": {},
   "outputs": [],
   "source": [
    "truth_catalog = GCRCatalogs.load_catalog('dc2_truth_run1.1')"
   ]
  },
  {
   "cell_type": "code",
   "execution_count": null,
   "metadata": {},
   "outputs": [],
   "source": [
    "truth_catalog.list_all_quantities(include_native=True)"
   ]
  },
  {
   "cell_type": "code",
   "execution_count": null,
   "metadata": {},
   "outputs": [],
   "source": [
    "dir(truth_catalog)"
   ]
  },
  {
   "cell_type": "code",
   "execution_count": null,
   "metadata": {},
   "outputs": [],
   "source": [
    "for qty in ['ra', 'dec', 'redshift', 'healpix_2048',\n",
    "            'agn', 'star', 'sprinkled',\n",
    "            'u', 'g', 'r', 'i', 'z', 'y']:\n",
    "    info_dict = truth_catalog.get_quantity_info(qty)\n",
    "    print(qty,info_dict)"
   ]
  },
  {
   "cell_type": "code",
   "execution_count": null,
   "metadata": {},
   "outputs": [],
   "source": [
    "center_ra = 54.6\n",
    "center_dec = -28.0\n",
    "radius = 0.2\n",
    "\n",
    "center_ra_rad = np.radians(center_ra)\n",
    "center_dec_rad = np.radians(center_dec)\n",
    "\n",
    "center_vec = np.array([np.cos(center_dec_rad)*np.cos(center_ra_rad),\n",
    "                       np.cos(center_dec_rad)*np.sin(center_ra_rad),\n",
    "                       np.sin(center_dec_rad)])\n",
    "\n",
    "list_of_healpix = healpy.query_disc(2048, center_vec, np.radians(radius), nest=True, inclusive=True)\n",
    "\n",
    "def filter_on_healpix(hp):\n",
    "    return np.array([hh in list_of_healpix for hh in hp])\n",
    "\n",
    "def filter_on_dist(ra, dec):\n",
    "    return angularSeparation(ra, dec, center_ra, center_dec)<radius"
   ]
  },
  {
   "cell_type": "code",
   "execution_count": null,
   "metadata": {},
   "outputs": [],
   "source": [
    "bright_stars = truth_catalog.get_quantities(['ra', 'dec', 'mag_true_r'],\n",
    "                                            native_filters=['star=1',\n",
    "                                                            'r<17.0',\n",
    "                                                            'healpix_2048<=%d' % list_of_healpix.max(),\n",
    "                                                            'healpix_2048>=%d' % list_of_healpix.min()],\n",
    "                                            filters=[(filter_on_healpix, 'healpix_2048'),\n",
    "                                                     (filter_on_dist, 'ra', 'dec')])"
   ]
  },
  {
   "cell_type": "code",
   "execution_count": null,
   "metadata": {},
   "outputs": [],
   "source": [
    "plt.scatter(bright_stars['ra'], bright_stars['dec'])"
   ]
  },
  {
   "cell_type": "code",
   "execution_count": null,
   "metadata": {},
   "outputs": [],
   "source": [
    "bright_unsprinkled_galaxies = truth_catalog.get_quantities(['ra', 'dec', 'mag_true_r'],\n",
    "                                                           native_filters=['star=0', 'sprinkled=0',\n",
    "                                                                           'r<21.0',\n",
    "                                                                           'healpix_2048<=%d' % list_of_healpix.max(),\n",
    "                                                                           'healpix_2048>=%d' % list_of_healpix.min()],\n",
    "                                                           filters=[(filter_on_healpix, 'healpix_2048'),\n",
    "                                                                    (filter_on_dist, 'ra', 'dec')])"
   ]
  },
  {
   "cell_type": "code",
   "execution_count": null,
   "metadata": {},
   "outputs": [],
   "source": [
    "plt.scatter(bright_unsprinkled_galaxies['ra'], bright_unsprinkled_galaxies['dec'])"
   ]
  },
  {
   "cell_type": "code",
   "execution_count": null,
   "metadata": {},
   "outputs": [],
   "source": [
    "print(bright_unsprinkled_galaxies['mag_true_r'].min())"
   ]
  },
  {
   "cell_type": "code",
   "execution_count": null,
   "metadata": {},
   "outputs": [],
   "source": []
  }
 ],
 "metadata": {
  "kernelspec": {
   "display_name": "desc-stack",
   "language": "python",
   "name": "desc-stack"
  },
  "language_info": {
   "codemirror_mode": {
    "name": "ipython",
    "version": 3
   },
   "file_extension": ".py",
   "mimetype": "text/x-python",
   "name": "python",
   "nbconvert_exporter": "python",
   "pygments_lexer": "ipython3",
   "version": "3.6.2"
  }
 },
 "nbformat": 4,
 "nbformat_minor": 2
}
