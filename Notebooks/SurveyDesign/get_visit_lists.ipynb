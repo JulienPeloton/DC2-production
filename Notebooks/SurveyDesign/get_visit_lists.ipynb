{
 "cells": [
  {
   "cell_type": "markdown",
   "metadata": {},
   "source": [
    "# Visits for DC2 Run 1.1\n",
    "\n",
    "## What this notebook does: \n",
    "The Run 1.1 is supposed to have 750 WFD and 586 uDDF visits according to the google note. This is a selection of visits that overlap the region. For WFD this is simply the first 750, For uDDF we use the Twinkles cadence ie. get one visit per night per band subset of DDF, but at the lowest airmass.\n",
    "\n",
    "The `write_visitlists_wfd(wfdDC2_fname, opsimout)` and `write_visitlists_uddf(uddfDC2_fname, opsimout)` will write out the csv files with no headers and no index columns with a whitespace separator\n",
    "## To run this notebook, need :\n",
    "\n",
    "### Code\n",
    "- opsimsummary : https://github.com/rbiswas4/OpSimSummary\n",
    "\n",
    "### Data Products: (see Survey Design Tracking )\n",
    "- A list of WFD visits that overlap the protoDC2 region ('DC2VisitList_minion1016_v3_WFDvisits_nside512_WFDvisitsInuDD.csv')\n",
    "- A list of uDDF visits that overlap the uDDF region ('DC2VisitList_minion1016_v3_DDvisits_nside512_DDvisitsInuDD.csv')\n",
    "\n"
   ]
  },
  {
   "cell_type": "code",
   "execution_count": 1,
   "metadata": {
    "collapsed": true
   },
   "outputs": [],
   "source": [
    "import opsimsummary as oss\n",
    "import pandas as pd"
   ]
  },
  {
   "cell_type": "code",
   "execution_count": 2,
   "metadata": {
    "collapsed": false
   },
   "outputs": [
    {
     "name": "stdout",
     "output_type": "stream",
     "text": [
      "1.3.7\n"
     ]
    }
   ],
   "source": [
    "print(oss.__version__)"
   ]
  },
  {
   "cell_type": "code",
   "execution_count": 3,
   "metadata": {
    "collapsed": true
   },
   "outputs": [],
   "source": [
    "wfdDC2_fname = 'DC2VisitList_minion1016_v3_WFDvisits_nside512_WFDvisitsInuDD.csv'\n",
    "uddfDC2_fname = 'DC2VisitList_minion1016_v3_DDvisits_nside512_DDvisitsInuDD.csv'"
   ]
  },
  {
   "cell_type": "code",
   "execution_count": 4,
   "metadata": {
    "collapsed": true
   },
   "outputs": [],
   "source": [
    "NumVisitsWFD = 750 * 1.25 # Easy the first 750 visits . Padding for missing sensors due to small overlaps\n",
    "NumVistitsuDDF = 586 * 19 * 1.25 + 150 # Needed some experimentation to get 586 visits per night "
   ]
  },
  {
   "cell_type": "code",
   "execution_count": 5,
   "metadata": {
    "collapsed": true
   },
   "outputs": [],
   "source": [
    "opsimdb = '/Users/rbiswas/doc/projects/DESC/Notes/DC2_visits/minion_1016_desc_dithered_v4.db'"
   ]
  },
  {
   "cell_type": "code",
   "execution_count": 6,
   "metadata": {
    "collapsed": true
   },
   "outputs": [],
   "source": [
    "wfd = pd.read_csv(wfdDC2_fname, index_col='obsHistID')\n",
    "uddf = pd.read_csv(uddfDC2_fname, index_col='obsHistID')"
   ]
  },
  {
   "cell_type": "code",
   "execution_count": 7,
   "metadata": {
    "collapsed": false
   },
   "outputs": [
    {
     "name": "stdout",
     "output_type": "stream",
     "text": [
      " reading from database sqlite:////Users/rbiswas/doc/projects/DESC/Notes/DC2_visits/minion_1016_desc_dithered_v4.db\n",
      "SELECT * FROM Summary WHERE PROPID in (56, 54)\n"
     ]
    }
   ],
   "source": [
    "opsimout = oss.OpSimOutput.fromOpSimDB(opsimdb, subset='combined')"
   ]
  },
  {
   "cell_type": "code",
   "execution_count": 8,
   "metadata": {
    "collapsed": true
   },
   "outputs": [],
   "source": [
    "def write_visitlists_wfd(csvfname, opsimout, NumVisits=750, rootfname='../../scripts/protoDC2/protoDC2_visits_WFD',\n",
    "                         header=False):\n",
    "    wfd = pd.read_csv(csvfname, index_col='obsHistID')\n",
    "    df = wfd.join(opsimout.summary).sort_values(by='expMJD').iloc[:NumVisits]\n",
    "    groups = df.groupby('band')\n",
    "    for band in groups.groups.keys():\n",
    "        fname = rootfname + '_{}-band.txt'.format(band)\n",
    "        groups.get_group(band).reset_index()[['obsHistID', 'expMJD']].to_csv(fname, index=False, sep=' ', header=header)\n",
    "\n"
   ]
  },
  {
   "cell_type": "code",
   "execution_count": 21,
   "metadata": {
    "collapsed": false
   },
   "outputs": [],
   "source": [
    "def write_visitlists_uddf(csvfname, opsimout, NumVisits=745*19 + 170, rootfname='../../scripts/protoDC2/protoDC2_visits_uDDF',\n",
    "                         header=False):\n",
    "    wfd = pd.read_csv(csvfname, index_col='obsHistID')\n",
    "    df = wfd.join(opsimout.summary).sort_values(by='expMJD').iloc[:NumVisits]\n",
    "    groups = df.reset_index().groupby('band')\n",
    "    for band in groups.groups.keys():\n",
    "        fname = rootfname + '_{}-band.txt'.format(band)\n",
    "        x = groups.get_group(band).groupby('night')\n",
    "        y = x[['obsHistID', 'expMJD', 'airmass']].agg(dict(airmass=min)).airmass\n",
    "        #print(y.columns)\n",
    "        y[['obsHistID', 'expMJD']].to_csv(fname, index=False, sep=' ', header=header)\n"
   ]
  },
  {
   "cell_type": "code",
   "execution_count": 22,
   "metadata": {
    "collapsed": false
   },
   "outputs": [],
   "source": [
    "write_visitlists_wfd(wfdDC2_fname, opsimout)"
   ]
  },
  {
   "cell_type": "code",
   "execution_count": 23,
   "metadata": {
    "collapsed": false
   },
   "outputs": [],
   "source": [
    "write_visitlists_uddf(uddfDC2_fname, opsimout)"
   ]
  },
  {
   "cell_type": "code",
   "execution_count": 24,
   "metadata": {
    "collapsed": false
   },
   "outputs": [
    {
     "name": "stdout",
     "output_type": "stream",
     "text": [
      "     117 ../../scripts/protoDC2/protoDC2_visits_uDDF_g-band.txt\r\n",
      "     117 ../../scripts/protoDC2/protoDC2_visits_uDDF_i-band.txt\r\n",
      "     117 ../../scripts/protoDC2/protoDC2_visits_uDDF_r-band.txt\r\n",
      "     162 ../../scripts/protoDC2/protoDC2_visits_uDDF_u-band.txt\r\n",
      "     115 ../../scripts/protoDC2/protoDC2_visits_uDDF_y-band.txt\r\n",
      "     116 ../../scripts/protoDC2/protoDC2_visits_uDDF_z-band.txt\r\n",
      "     744 total\r\n"
     ]
    }
   ],
   "source": [
    "!wc -l ../../scripts/protoDC2/protoDC2_visits_uDDF_*.txt"
   ]
  },
  {
   "cell_type": "code",
   "execution_count": 25,
   "metadata": {
    "collapsed": false
   },
   "outputs": [
    {
     "name": "stdout",
     "output_type": "stream",
     "text": [
      "      81 ../../scripts/protoDC2/protoDC2_visits_WFD_g-band.txt\r\n",
      "     150 ../../scripts/protoDC2/protoDC2_visits_WFD_i-band.txt\r\n",
      "     164 ../../scripts/protoDC2/protoDC2_visits_WFD_r-band.txt\r\n",
      "      53 ../../scripts/protoDC2/protoDC2_visits_WFD_u-band.txt\r\n",
      "     158 ../../scripts/protoDC2/protoDC2_visits_WFD_y-band.txt\r\n",
      "     144 ../../scripts/protoDC2/protoDC2_visits_WFD_z-band.txt\r\n",
      "     750 total\r\n"
     ]
    }
   ],
   "source": [
    "!wc -l ../../scripts/protoDC2/protoDC2_visits_WFD_*-band.txt"
   ]
  },
  {
   "cell_type": "markdown",
   "metadata": {},
   "source": [
    "# Validate uDDF "
   ]
  },
  {
   "cell_type": "markdown",
   "metadata": {},
   "source": [
    "Since the number of uDDF visits is somewhat more difficult to see, let us validate it by a simpler selection where we take the first observation satisfying the constraints rather than looking for airmass to be the least. We can check that this gives the same numbers"
   ]
  },
  {
   "cell_type": "code",
   "execution_count": 10,
   "metadata": {
    "collapsed": true
   },
   "outputs": [],
   "source": [
    "df = uddf.join(opsimout.summary)"
   ]
  },
  {
   "cell_type": "code",
   "execution_count": 11,
   "metadata": {
    "collapsed": false
   },
   "outputs": [],
   "source": [
    "xx = df.query('propID==56').groupby(['night', 'band']).first().sort_values(by='expMJD').iloc[:745].groupby('filter').agg('count')"
   ]
  },
  {
   "cell_type": "code",
   "execution_count": 12,
   "metadata": {
    "collapsed": false
   },
   "outputs": [
    {
     "data": {
      "text/html": [
       "<div>\n",
       "<table border=\"1\" class=\"dataframe\">\n",
       "  <thead>\n",
       "    <tr style=\"text-align: right;\">\n",
       "      <th></th>\n",
       "      <th>fID</th>\n",
       "      <th>sessionID</th>\n",
       "      <th>propID</th>\n",
       "      <th>fieldID</th>\n",
       "      <th>fieldRA</th>\n",
       "      <th>fieldDec</th>\n",
       "      <th>expDate</th>\n",
       "      <th>expMJD</th>\n",
       "      <th>visitTime</th>\n",
       "      <th>visitExpTime</th>\n",
       "      <th>...</th>\n",
       "      <th>wind</th>\n",
       "      <th>humidity</th>\n",
       "      <th>slewDist</th>\n",
       "      <th>slewTime</th>\n",
       "      <th>fiveSigmaDepth</th>\n",
       "      <th>ditheredRA</th>\n",
       "      <th>ditheredDec</th>\n",
       "      <th>descDitheredDec</th>\n",
       "      <th>descDitheredRA</th>\n",
       "      <th>descDitheredRotTelPos</th>\n",
       "    </tr>\n",
       "    <tr>\n",
       "      <th>filter</th>\n",
       "      <th></th>\n",
       "      <th></th>\n",
       "      <th></th>\n",
       "      <th></th>\n",
       "      <th></th>\n",
       "      <th></th>\n",
       "      <th></th>\n",
       "      <th></th>\n",
       "      <th></th>\n",
       "      <th></th>\n",
       "      <th></th>\n",
       "      <th></th>\n",
       "      <th></th>\n",
       "      <th></th>\n",
       "      <th></th>\n",
       "      <th></th>\n",
       "      <th></th>\n",
       "      <th></th>\n",
       "      <th></th>\n",
       "      <th></th>\n",
       "      <th></th>\n",
       "    </tr>\n",
       "  </thead>\n",
       "  <tbody>\n",
       "    <tr>\n",
       "      <th>g</th>\n",
       "      <td>117</td>\n",
       "      <td>117</td>\n",
       "      <td>117</td>\n",
       "      <td>117</td>\n",
       "      <td>117</td>\n",
       "      <td>117</td>\n",
       "      <td>117</td>\n",
       "      <td>117</td>\n",
       "      <td>117</td>\n",
       "      <td>117</td>\n",
       "      <td>...</td>\n",
       "      <td>117</td>\n",
       "      <td>117</td>\n",
       "      <td>117</td>\n",
       "      <td>117</td>\n",
       "      <td>117</td>\n",
       "      <td>117</td>\n",
       "      <td>117</td>\n",
       "      <td>117</td>\n",
       "      <td>117</td>\n",
       "      <td>117</td>\n",
       "    </tr>\n",
       "    <tr>\n",
       "      <th>i</th>\n",
       "      <td>117</td>\n",
       "      <td>117</td>\n",
       "      <td>117</td>\n",
       "      <td>117</td>\n",
       "      <td>117</td>\n",
       "      <td>117</td>\n",
       "      <td>117</td>\n",
       "      <td>117</td>\n",
       "      <td>117</td>\n",
       "      <td>117</td>\n",
       "      <td>...</td>\n",
       "      <td>117</td>\n",
       "      <td>117</td>\n",
       "      <td>117</td>\n",
       "      <td>117</td>\n",
       "      <td>117</td>\n",
       "      <td>117</td>\n",
       "      <td>117</td>\n",
       "      <td>117</td>\n",
       "      <td>117</td>\n",
       "      <td>117</td>\n",
       "    </tr>\n",
       "    <tr>\n",
       "      <th>r</th>\n",
       "      <td>117</td>\n",
       "      <td>117</td>\n",
       "      <td>117</td>\n",
       "      <td>117</td>\n",
       "      <td>117</td>\n",
       "      <td>117</td>\n",
       "      <td>117</td>\n",
       "      <td>117</td>\n",
       "      <td>117</td>\n",
       "      <td>117</td>\n",
       "      <td>...</td>\n",
       "      <td>117</td>\n",
       "      <td>117</td>\n",
       "      <td>117</td>\n",
       "      <td>117</td>\n",
       "      <td>117</td>\n",
       "      <td>117</td>\n",
       "      <td>117</td>\n",
       "      <td>117</td>\n",
       "      <td>117</td>\n",
       "      <td>117</td>\n",
       "    </tr>\n",
       "    <tr>\n",
       "      <th>u</th>\n",
       "      <td>163</td>\n",
       "      <td>163</td>\n",
       "      <td>163</td>\n",
       "      <td>163</td>\n",
       "      <td>163</td>\n",
       "      <td>163</td>\n",
       "      <td>163</td>\n",
       "      <td>163</td>\n",
       "      <td>163</td>\n",
       "      <td>163</td>\n",
       "      <td>...</td>\n",
       "      <td>163</td>\n",
       "      <td>163</td>\n",
       "      <td>163</td>\n",
       "      <td>163</td>\n",
       "      <td>163</td>\n",
       "      <td>163</td>\n",
       "      <td>163</td>\n",
       "      <td>163</td>\n",
       "      <td>163</td>\n",
       "      <td>163</td>\n",
       "    </tr>\n",
       "    <tr>\n",
       "      <th>y</th>\n",
       "      <td>115</td>\n",
       "      <td>115</td>\n",
       "      <td>115</td>\n",
       "      <td>115</td>\n",
       "      <td>115</td>\n",
       "      <td>115</td>\n",
       "      <td>115</td>\n",
       "      <td>115</td>\n",
       "      <td>115</td>\n",
       "      <td>115</td>\n",
       "      <td>...</td>\n",
       "      <td>115</td>\n",
       "      <td>115</td>\n",
       "      <td>115</td>\n",
       "      <td>115</td>\n",
       "      <td>115</td>\n",
       "      <td>115</td>\n",
       "      <td>115</td>\n",
       "      <td>115</td>\n",
       "      <td>115</td>\n",
       "      <td>115</td>\n",
       "    </tr>\n",
       "    <tr>\n",
       "      <th>z</th>\n",
       "      <td>116</td>\n",
       "      <td>116</td>\n",
       "      <td>116</td>\n",
       "      <td>116</td>\n",
       "      <td>116</td>\n",
       "      <td>116</td>\n",
       "      <td>116</td>\n",
       "      <td>116</td>\n",
       "      <td>116</td>\n",
       "      <td>116</td>\n",
       "      <td>...</td>\n",
       "      <td>116</td>\n",
       "      <td>116</td>\n",
       "      <td>116</td>\n",
       "      <td>116</td>\n",
       "      <td>116</td>\n",
       "      <td>116</td>\n",
       "      <td>116</td>\n",
       "      <td>116</td>\n",
       "      <td>116</td>\n",
       "      <td>116</td>\n",
       "    </tr>\n",
       "  </tbody>\n",
       "</table>\n",
       "<p>6 rows × 48 columns</p>\n",
       "</div>"
      ],
      "text/plain": [
       "        fID  sessionID  propID  fieldID  fieldRA  fieldDec  expDate  expMJD  \\\n",
       "filter                                                                        \n",
       "g       117        117     117      117      117       117      117     117   \n",
       "i       117        117     117      117      117       117      117     117   \n",
       "r       117        117     117      117      117       117      117     117   \n",
       "u       163        163     163      163      163       163      163     163   \n",
       "y       115        115     115      115      115       115      115     115   \n",
       "z       116        116     116      116      116       116      116     116   \n",
       "\n",
       "        visitTime  visitExpTime          ...            wind  humidity  \\\n",
       "filter                                   ...                             \n",
       "g             117           117          ...             117       117   \n",
       "i             117           117          ...             117       117   \n",
       "r             117           117          ...             117       117   \n",
       "u             163           163          ...             163       163   \n",
       "y             115           115          ...             115       115   \n",
       "z             116           116          ...             116       116   \n",
       "\n",
       "        slewDist  slewTime  fiveSigmaDepth  ditheredRA  ditheredDec  \\\n",
       "filter                                                                \n",
       "g            117       117             117         117          117   \n",
       "i            117       117             117         117          117   \n",
       "r            117       117             117         117          117   \n",
       "u            163       163             163         163          163   \n",
       "y            115       115             115         115          115   \n",
       "z            116       116             116         116          116   \n",
       "\n",
       "        descDitheredDec  descDitheredRA  descDitheredRotTelPos  \n",
       "filter                                                          \n",
       "g                   117             117                    117  \n",
       "i                   117             117                    117  \n",
       "r                   117             117                    117  \n",
       "u                   163             163                    163  \n",
       "y                   115             115                    115  \n",
       "z                   116             116                    116  \n",
       "\n",
       "[6 rows x 48 columns]"
      ]
     },
     "execution_count": 12,
     "metadata": {},
     "output_type": "execute_result"
    }
   ],
   "source": [
    "xx"
   ]
  },
  {
   "cell_type": "code",
   "execution_count": null,
   "metadata": {
    "collapsed": true
   },
   "outputs": [],
   "source": []
  }
 ],
 "metadata": {
  "anaconda-cloud": {},
  "kernelspec": {
   "display_name": "Python [default]",
   "language": "python",
   "name": "python2"
  },
  "language_info": {
   "codemirror_mode": {
    "name": "ipython",
    "version": 2
   },
   "file_extension": ".py",
   "mimetype": "text/x-python",
   "name": "python",
   "nbconvert_exporter": "python",
   "pygments_lexer": "ipython2",
   "version": "2.7.12"
  }
 },
 "nbformat": 4,
 "nbformat_minor": 1
}
